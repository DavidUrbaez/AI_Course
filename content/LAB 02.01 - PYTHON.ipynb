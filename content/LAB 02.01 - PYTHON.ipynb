{
  "nbformat": 4,
  "nbformat_minor": 0,
  "metadata": {
    "kernelspec": {
      "display_name": "Python 3",
      "language": "python",
      "name": "python3"
    },
    "language_info": {
      "codemirror_mode": {
        "name": "ipython",
        "version": 3
      },
      "file_extension": ".py",
      "mimetype": "text/x-python",
      "name": "python",
      "nbconvert_exporter": "python",
      "pygments_lexer": "ipython3",
      "version": "3.7.3"
    },
    "colab": {
      "name": "LAB 02.01 - PYTHON.ipynb",
      "provenance": [],
      "include_colab_link": true
    },
    "widgets": {
      "application/vnd.jupyter.widget-state+json": {
        "6d32e4501883430c82514391489999da": {
          "model_module": "@jupyter-widgets/controls",
          "model_name": "HBoxModel",
          "state": {
            "_view_name": "HBoxView",
            "_dom_classes": [],
            "_model_name": "HBoxModel",
            "_view_module": "@jupyter-widgets/controls",
            "_model_module_version": "1.5.0",
            "_view_count": null,
            "_view_module_version": "1.5.0",
            "box_style": "",
            "layout": "IPY_MODEL_6945189fd7c54b738ddfcb3c97bc3ad9",
            "_model_module": "@jupyter-widgets/controls",
            "children": [
              "IPY_MODEL_4b0c82107bec4be59d18e47a23c28083",
              "IPY_MODEL_40fe05d58dfd43eeb00a63d3fac0d674",
              "IPY_MODEL_ede4fd282cf34203bc33febe05be6aa3",
              "IPY_MODEL_fcc8ec0344c24152a9c533a0a4dd6bd0"
            ]
          }
        },
        "6945189fd7c54b738ddfcb3c97bc3ad9": {
          "model_module": "@jupyter-widgets/base",
          "model_name": "LayoutModel",
          "state": {
            "_view_name": "LayoutView",
            "grid_template_rows": null,
            "right": null,
            "justify_content": null,
            "_view_module": "@jupyter-widgets/base",
            "overflow": null,
            "_model_module_version": "1.2.0",
            "_view_count": null,
            "flex_flow": null,
            "width": null,
            "min_width": null,
            "border": null,
            "align_items": null,
            "bottom": null,
            "_model_module": "@jupyter-widgets/base",
            "top": null,
            "grid_column": null,
            "overflow_y": null,
            "overflow_x": null,
            "grid_auto_flow": null,
            "grid_area": null,
            "grid_template_columns": null,
            "flex": null,
            "_model_name": "LayoutModel",
            "justify_items": null,
            "grid_row": null,
            "max_height": null,
            "align_content": null,
            "visibility": null,
            "align_self": null,
            "height": null,
            "min_height": null,
            "padding": null,
            "grid_auto_rows": null,
            "grid_gap": null,
            "max_width": null,
            "order": null,
            "_view_module_version": "1.2.0",
            "grid_template_areas": null,
            "object_position": null,
            "object_fit": null,
            "grid_auto_columns": null,
            "margin": null,
            "display": null,
            "left": null
          }
        },
        "4b0c82107bec4be59d18e47a23c28083": {
          "model_module": "@jupyter-widgets/controls",
          "model_name": "VBoxModel",
          "state": {
            "_view_name": "VBoxView",
            "_dom_classes": [],
            "_model_name": "VBoxModel",
            "_view_module": "@jupyter-widgets/controls",
            "_model_module_version": "1.5.0",
            "_view_count": null,
            "_view_module_version": "1.5.0",
            "box_style": "",
            "layout": "IPY_MODEL_dfb4700a2a9c4592adbd20ceec43151a",
            "_model_module": "@jupyter-widgets/controls",
            "children": [
              "IPY_MODEL_744fbecdf90a4bfb913917c1aefcb73a",
              "IPY_MODEL_ad8af9b6f5e6425f8ea072f15c20a491"
            ]
          }
        },
        "40fe05d58dfd43eeb00a63d3fac0d674": {
          "model_module": "@jupyter-widgets/controls",
          "model_name": "ButtonModel",
          "state": {
            "_view_name": "ButtonView",
            "style": "IPY_MODEL_d07f2f05f29c424699a547b588251714",
            "_dom_classes": [
              "login_button"
            ],
            "description": "Login with email",
            "_model_name": "ButtonModel",
            "button_style": "",
            "_view_module": "@jupyter-widgets/controls",
            "_model_module_version": "1.5.0",
            "tooltip": "",
            "_view_count": null,
            "disabled": false,
            "_view_module_version": "1.5.0",
            "layout": "IPY_MODEL_578d9ae2237c4330a8597b3b25cf55aa",
            "_model_module": "@jupyter-widgets/controls",
            "icon": ""
          }
        },
        "ede4fd282cf34203bc33febe05be6aa3": {
          "model_module": "@jupyter-widgets/controls",
          "model_name": "HTMLModel",
          "state": {
            "_view_name": "HTMLView",
            "style": "IPY_MODEL_4a6634fead2e4b0b8fe8deb2ac9c676f",
            "_dom_classes": [],
            "description": "",
            "_model_name": "HTMLModel",
            "placeholder": "​",
            "_view_module": "@jupyter-widgets/controls",
            "_model_module_version": "1.5.0",
            "value": "<center><big>or</big></center>",
            "_view_count": null,
            "_view_module_version": "1.5.0",
            "description_tooltip": null,
            "_model_module": "@jupyter-widgets/controls",
            "layout": "IPY_MODEL_7cfe7f6a76d840719915852dcdd03fa4"
          }
        },
        "fcc8ec0344c24152a9c533a0a4dd6bd0": {
          "model_module": "@jupyter-widgets/controls",
          "model_name": "ButtonModel",
          "state": {
            "_view_name": "ButtonView",
            "style": "IPY_MODEL_ef44e55486a043f58c67d08506cdda0e",
            "_dom_classes": [
              "google_button"
            ],
            "description": "Login with Google",
            "_model_name": "ButtonModel",
            "button_style": "",
            "_view_module": "@jupyter-widgets/controls",
            "_model_module_version": "1.5.0",
            "tooltip": "",
            "_view_count": null,
            "disabled": false,
            "_view_module_version": "1.5.0",
            "layout": "IPY_MODEL_b19f987d7a2c4887b506f0de8f5fc859",
            "_model_module": "@jupyter-widgets/controls",
            "icon": ""
          }
        },
        "dfb4700a2a9c4592adbd20ceec43151a": {
          "model_module": "@jupyter-widgets/base",
          "model_name": "LayoutModel",
          "state": {
            "_view_name": "LayoutView",
            "grid_template_rows": null,
            "right": null,
            "justify_content": null,
            "_view_module": "@jupyter-widgets/base",
            "overflow": null,
            "_model_module_version": "1.2.0",
            "_view_count": null,
            "flex_flow": null,
            "width": null,
            "min_width": null,
            "border": null,
            "align_items": null,
            "bottom": null,
            "_model_module": "@jupyter-widgets/base",
            "top": null,
            "grid_column": null,
            "overflow_y": null,
            "overflow_x": null,
            "grid_auto_flow": null,
            "grid_area": null,
            "grid_template_columns": null,
            "flex": null,
            "_model_name": "LayoutModel",
            "justify_items": null,
            "grid_row": null,
            "max_height": null,
            "align_content": null,
            "visibility": null,
            "align_self": null,
            "height": null,
            "min_height": null,
            "padding": null,
            "grid_auto_rows": null,
            "grid_gap": null,
            "max_width": null,
            "order": null,
            "_view_module_version": "1.2.0",
            "grid_template_areas": null,
            "object_position": null,
            "object_fit": null,
            "grid_auto_columns": null,
            "margin": null,
            "display": null,
            "left": null
          }
        },
        "744fbecdf90a4bfb913917c1aefcb73a": {
          "model_module": "@jupyter-widgets/controls",
          "model_name": "TextModel",
          "state": {
            "_view_name": "TextView",
            "style": "IPY_MODEL_2a4a7b7cdf824c1b96f55442bc4b5d4a",
            "_dom_classes": [],
            "description": "email",
            "_model_name": "TextModel",
            "placeholder": "​",
            "_view_module": "@jupyter-widgets/controls",
            "_model_module_version": "1.5.0",
            "value": "",
            "_view_count": null,
            "disabled": false,
            "_view_module_version": "1.5.0",
            "continuous_update": true,
            "description_tooltip": null,
            "_model_module": "@jupyter-widgets/controls",
            "layout": "IPY_MODEL_c219deaf64654f99b0d7d50690f5fe8b"
          }
        },
        "ad8af9b6f5e6425f8ea072f15c20a491": {
          "model_module": "@jupyter-widgets/controls",
          "model_name": "PasswordModel",
          "state": {
            "_view_name": "PasswordView",
            "style": "IPY_MODEL_42a8ebbf275a4f17b6909ae83dd35680",
            "_dom_classes": [],
            "description": "password",
            "_model_name": "PasswordModel",
            "placeholder": "​",
            "_view_module": "@jupyter-widgets/controls",
            "_model_module_version": "1.5.0",
            "value": "",
            "_view_count": null,
            "disabled": false,
            "_view_module_version": "1.5.0",
            "continuous_update": true,
            "description_tooltip": null,
            "_model_module": "@jupyter-widgets/controls",
            "layout": "IPY_MODEL_ea404ecb1d8d4f5a8f31010b23a9f5bb"
          }
        },
        "d07f2f05f29c424699a547b588251714": {
          "model_module": "@jupyter-widgets/controls",
          "model_name": "ButtonStyleModel",
          "state": {
            "_view_name": "StyleView",
            "_model_name": "ButtonStyleModel",
            "_view_module": "@jupyter-widgets/base",
            "_model_module_version": "1.5.0",
            "_view_count": null,
            "button_color": null,
            "font_weight": "",
            "_view_module_version": "1.2.0",
            "_model_module": "@jupyter-widgets/controls"
          }
        },
        "578d9ae2237c4330a8597b3b25cf55aa": {
          "model_module": "@jupyter-widgets/base",
          "model_name": "LayoutModel",
          "state": {
            "_view_name": "LayoutView",
            "grid_template_rows": null,
            "right": null,
            "justify_content": null,
            "_view_module": "@jupyter-widgets/base",
            "overflow": null,
            "_model_module_version": "1.2.0",
            "_view_count": null,
            "flex_flow": null,
            "width": "150px",
            "min_width": null,
            "border": null,
            "align_items": null,
            "bottom": null,
            "_model_module": "@jupyter-widgets/base",
            "top": null,
            "grid_column": null,
            "overflow_y": null,
            "overflow_x": null,
            "grid_auto_flow": null,
            "grid_area": null,
            "grid_template_columns": null,
            "flex": null,
            "_model_name": "LayoutModel",
            "justify_items": null,
            "grid_row": null,
            "max_height": null,
            "align_content": null,
            "visibility": null,
            "align_self": null,
            "height": "53px",
            "min_height": null,
            "padding": null,
            "grid_auto_rows": null,
            "grid_gap": null,
            "max_width": null,
            "order": null,
            "_view_module_version": "1.2.0",
            "grid_template_areas": null,
            "object_position": null,
            "object_fit": null,
            "grid_auto_columns": null,
            "margin": null,
            "display": null,
            "left": null
          }
        },
        "4a6634fead2e4b0b8fe8deb2ac9c676f": {
          "model_module": "@jupyter-widgets/controls",
          "model_name": "DescriptionStyleModel",
          "state": {
            "_view_name": "StyleView",
            "_model_name": "DescriptionStyleModel",
            "description_width": "",
            "_view_module": "@jupyter-widgets/base",
            "_model_module_version": "1.5.0",
            "_view_count": null,
            "_view_module_version": "1.2.0",
            "_model_module": "@jupyter-widgets/controls"
          }
        },
        "7cfe7f6a76d840719915852dcdd03fa4": {
          "model_module": "@jupyter-widgets/base",
          "model_name": "LayoutModel",
          "state": {
            "_view_name": "LayoutView",
            "grid_template_rows": null,
            "right": null,
            "justify_content": null,
            "_view_module": "@jupyter-widgets/base",
            "overflow": null,
            "_model_module_version": "1.2.0",
            "_view_count": null,
            "flex_flow": null,
            "width": "100px",
            "min_width": null,
            "border": null,
            "align_items": null,
            "bottom": null,
            "_model_module": "@jupyter-widgets/base",
            "top": null,
            "grid_column": null,
            "overflow_y": null,
            "overflow_x": null,
            "grid_auto_flow": null,
            "grid_area": null,
            "grid_template_columns": null,
            "flex": null,
            "_model_name": "LayoutModel",
            "justify_items": null,
            "grid_row": null,
            "max_height": null,
            "align_content": null,
            "visibility": null,
            "align_self": null,
            "height": null,
            "min_height": null,
            "padding": null,
            "grid_auto_rows": null,
            "grid_gap": null,
            "max_width": null,
            "order": null,
            "_view_module_version": "1.2.0",
            "grid_template_areas": null,
            "object_position": null,
            "object_fit": null,
            "grid_auto_columns": null,
            "margin": null,
            "display": null,
            "left": null
          }
        },
        "ef44e55486a043f58c67d08506cdda0e": {
          "model_module": "@jupyter-widgets/controls",
          "model_name": "ButtonStyleModel",
          "state": {
            "_view_name": "StyleView",
            "_model_name": "ButtonStyleModel",
            "_view_module": "@jupyter-widgets/base",
            "_model_module_version": "1.5.0",
            "_view_count": null,
            "button_color": null,
            "font_weight": "",
            "_view_module_version": "1.2.0",
            "_model_module": "@jupyter-widgets/controls"
          }
        },
        "b19f987d7a2c4887b506f0de8f5fc859": {
          "model_module": "@jupyter-widgets/base",
          "model_name": "LayoutModel",
          "state": {
            "_view_name": "LayoutView",
            "grid_template_rows": null,
            "right": null,
            "justify_content": null,
            "_view_module": "@jupyter-widgets/base",
            "overflow": null,
            "_model_module_version": "1.2.0",
            "_view_count": null,
            "flex_flow": null,
            "width": "200px",
            "min_width": null,
            "border": null,
            "align_items": null,
            "bottom": null,
            "_model_module": "@jupyter-widgets/base",
            "top": null,
            "grid_column": null,
            "overflow_y": null,
            "overflow_x": null,
            "grid_auto_flow": null,
            "grid_area": null,
            "grid_template_columns": null,
            "flex": null,
            "_model_name": "LayoutModel",
            "justify_items": null,
            "grid_row": null,
            "max_height": null,
            "align_content": null,
            "visibility": null,
            "align_self": null,
            "height": "53px",
            "min_height": null,
            "padding": null,
            "grid_auto_rows": null,
            "grid_gap": null,
            "max_width": null,
            "order": null,
            "_view_module_version": "1.2.0",
            "grid_template_areas": null,
            "object_position": null,
            "object_fit": null,
            "grid_auto_columns": null,
            "margin": null,
            "display": null,
            "left": null
          }
        },
        "2a4a7b7cdf824c1b96f55442bc4b5d4a": {
          "model_module": "@jupyter-widgets/controls",
          "model_name": "DescriptionStyleModel",
          "state": {
            "_view_name": "StyleView",
            "_model_name": "DescriptionStyleModel",
            "description_width": "",
            "_view_module": "@jupyter-widgets/base",
            "_model_module_version": "1.5.0",
            "_view_count": null,
            "_view_module_version": "1.2.0",
            "_model_module": "@jupyter-widgets/controls"
          }
        },
        "c219deaf64654f99b0d7d50690f5fe8b": {
          "model_module": "@jupyter-widgets/base",
          "model_name": "LayoutModel",
          "state": {
            "_view_name": "LayoutView",
            "grid_template_rows": null,
            "right": null,
            "justify_content": null,
            "_view_module": "@jupyter-widgets/base",
            "overflow": null,
            "_model_module_version": "1.2.0",
            "_view_count": null,
            "flex_flow": null,
            "width": "300px",
            "min_width": null,
            "border": null,
            "align_items": null,
            "bottom": null,
            "_model_module": "@jupyter-widgets/base",
            "top": null,
            "grid_column": null,
            "overflow_y": null,
            "overflow_x": null,
            "grid_auto_flow": null,
            "grid_area": null,
            "grid_template_columns": null,
            "flex": null,
            "_model_name": "LayoutModel",
            "justify_items": null,
            "grid_row": null,
            "max_height": null,
            "align_content": null,
            "visibility": null,
            "align_self": null,
            "height": "25px",
            "min_height": null,
            "padding": null,
            "grid_auto_rows": null,
            "grid_gap": null,
            "max_width": null,
            "order": null,
            "_view_module_version": "1.2.0",
            "grid_template_areas": null,
            "object_position": null,
            "object_fit": null,
            "grid_auto_columns": null,
            "margin": null,
            "display": null,
            "left": null
          }
        },
        "42a8ebbf275a4f17b6909ae83dd35680": {
          "model_module": "@jupyter-widgets/controls",
          "model_name": "DescriptionStyleModel",
          "state": {
            "_view_name": "StyleView",
            "_model_name": "DescriptionStyleModel",
            "description_width": "",
            "_view_module": "@jupyter-widgets/base",
            "_model_module_version": "1.5.0",
            "_view_count": null,
            "_view_module_version": "1.2.0",
            "_model_module": "@jupyter-widgets/controls"
          }
        },
        "ea404ecb1d8d4f5a8f31010b23a9f5bb": {
          "model_module": "@jupyter-widgets/base",
          "model_name": "LayoutModel",
          "state": {
            "_view_name": "LayoutView",
            "grid_template_rows": null,
            "right": null,
            "justify_content": null,
            "_view_module": "@jupyter-widgets/base",
            "overflow": null,
            "_model_module_version": "1.2.0",
            "_view_count": null,
            "flex_flow": null,
            "width": "300px",
            "min_width": null,
            "border": null,
            "align_items": null,
            "bottom": null,
            "_model_module": "@jupyter-widgets/base",
            "top": null,
            "grid_column": null,
            "overflow_y": null,
            "overflow_x": null,
            "grid_auto_flow": null,
            "grid_area": null,
            "grid_template_columns": null,
            "flex": null,
            "_model_name": "LayoutModel",
            "justify_items": null,
            "grid_row": null,
            "max_height": null,
            "align_content": null,
            "visibility": null,
            "align_self": null,
            "height": "24px",
            "min_height": null,
            "padding": null,
            "grid_auto_rows": null,
            "grid_gap": null,
            "max_width": null,
            "order": null,
            "_view_module_version": "1.2.0",
            "grid_template_areas": null,
            "object_position": null,
            "object_fit": null,
            "grid_auto_columns": null,
            "margin": null,
            "display": null,
            "left": null
          }
        }
      }
    }
  },
  "cells": [
    {
      "cell_type": "markdown",
      "metadata": {
        "id": "view-in-github",
        "colab_type": "text"
      },
      "source": [
        "<a href=\"https://colab.research.google.com/github/DavidUrbaez/AI_Course/blob/main/content/LAB%2002.01%20-%20PYTHON.ipynb\" target=\"_parent\"><img src=\"https://colab.research.google.com/assets/colab-badge.svg\" alt=\"Open In Colab\"/></a>"
      ]
    },
    {
      "cell_type": "markdown",
      "metadata": {
        "id": "CL28Udbq9hVN"
      },
      "source": [
        "# LAB 02.01 - Python"
      ]
    },
    {
      "cell_type": "code",
      "metadata": {
        "colab": {
          "base_uri": "https://localhost:8080/",
          "height": 57
        },
        "id": "Fh10fGiE9hVQ",
        "outputId": "efaee70e-3084-413e-ee22-7821402bf78a"
      },
      "source": [
        "!wget --no-cache -O init.py -q https://raw.githubusercontent.com/rramosp/ai4eng.v1/main/content/init.py\n",
        "import init; init.init(force_download=False); init.get_weblink()\n"
      ],
      "execution_count": 63,
      "outputs": [
        {
          "output_type": "display_data",
          "data": {
            "text/html": [
              "\n",
              "<meta name=\"google-signin-client_id\"\n",
              "      content=\"461673936472-kdjosv61up3ac1ajeuq6qqu72upilmls.apps.googleusercontent.com\"/>\n",
              "<script src=\"https://apis.google.com/js/client:platform.js?onload=google_button_start\"></script>\n",
              "    "
            ],
            "text/plain": [
              "<IPython.core.display.HTML object>"
            ]
          },
          "metadata": {
            "tags": []
          }
        },
        {
          "output_type": "execute_result",
          "data": {
            "text/html": [
              "<h3>See <a href='https://m5knaekxo6.execute-api.us-west-2.amazonaws.com/dev-v0001/rlxmooc/web/login' target='_blank'>my courses and progress</a></h2>"
            ],
            "text/plain": [
              "<IPython.core.display.HTML object>"
            ]
          },
          "metadata": {
            "tags": []
          },
          "execution_count": 63
        }
      ]
    },
    {
      "cell_type": "code",
      "metadata": {
        "colab": {
          "base_uri": "https://localhost:8080/",
          "height": 117,
          "referenced_widgets": [
            "6d32e4501883430c82514391489999da",
            "6945189fd7c54b738ddfcb3c97bc3ad9",
            "4b0c82107bec4be59d18e47a23c28083",
            "40fe05d58dfd43eeb00a63d3fac0d674",
            "ede4fd282cf34203bc33febe05be6aa3",
            "fcc8ec0344c24152a9c533a0a4dd6bd0",
            "dfb4700a2a9c4592adbd20ceec43151a",
            "744fbecdf90a4bfb913917c1aefcb73a",
            "ad8af9b6f5e6425f8ea072f15c20a491",
            "d07f2f05f29c424699a547b588251714",
            "578d9ae2237c4330a8597b3b25cf55aa",
            "4a6634fead2e4b0b8fe8deb2ac9c676f",
            "7cfe7f6a76d840719915852dcdd03fa4",
            "ef44e55486a043f58c67d08506cdda0e",
            "b19f987d7a2c4887b506f0de8f5fc859",
            "2a4a7b7cdf824c1b96f55442bc4b5d4a",
            "c219deaf64654f99b0d7d50690f5fe8b",
            "42a8ebbf275a4f17b6909ae83dd35680",
            "ea404ecb1d8d4f5a8f31010b23a9f5bb"
          ]
        },
        "id": "1l_kH3_49hVQ",
        "outputId": "b6792387-d900-4eb0-9bb0-8c1b7d61ad18"
      },
      "source": [
        "from local.lib.rlxmoocapi import submit, session\n",
        "session.LoginSequence(endpoint=init.endpoint, course_id=init.course_id, lab_id=\"L02.01\", varname=\"student\");"
      ],
      "execution_count": 64,
      "outputs": [
        {
          "output_type": "stream",
          "text": [
            "logging in as durbaezl@unal.edu.co... please wait\n",
            "using course session ai4eng.v1::open\n",
            "success!! you are logged in\n"
          ],
          "name": "stdout"
        }
      ]
    },
    {
      "cell_type": "code",
      "metadata": {
        "id": "Q3xzTVUW9hVR"
      },
      "source": [
        ""
      ],
      "execution_count": null,
      "outputs": []
    },
    {
      "cell_type": "code",
      "metadata": {
        "id": "q6Y7ercl9hVR"
      },
      "source": [
        "import numpy as np"
      ],
      "execution_count": 3,
      "outputs": []
    },
    {
      "cell_type": "markdown",
      "metadata": {
        "id": "RXMgtXmN9hVR"
      },
      "source": [
        "## Task 1: Palindrome\n",
        "\n",
        "Determine whether an integer number $n$ is a palindrome, this is, if it is the same number when read left to right and when read right to left. Return `True` if so, otherwise return `False`.\n",
        "\n",
        "**Execution example**\n",
        "\n",
        "```python\n",
        ">>> palindromo(n=3456543)\n",
        "True\n",
        "\n",
        ">>> palindromo(n=543)\n",
        "False\n",
        "```\n",
        "\n",
        "**hint**: transform it into string, reverse it and check equality\n",
        "\n",
        "**challenge**: use one single line of code"
      ]
    },
    {
      "cell_type": "code",
      "metadata": {
        "id": "t5NAAnby9hVS"
      },
      "source": [
        "def palindromo(n): # assume n is an integer\n",
        "    \n",
        "    # your code here\n",
        "    r = str(n)[::-1]==str(n)\n",
        "    return r # r must be boolean True/False"
      ],
      "execution_count": 13,
      "outputs": []
    },
    {
      "cell_type": "markdown",
      "metadata": {
        "id": "BnM_NTHu9hVS"
      },
      "source": [
        "check your code manually"
      ]
    },
    {
      "cell_type": "code",
      "metadata": {
        "colab": {
          "base_uri": "https://localhost:8080/"
        },
        "id": "-WrQrqs89hVS",
        "outputId": "41a865c7-12c0-4952-fc9d-a825154edb39"
      },
      "source": [
        "print(palindromo(12321))\n",
        "print(palindromo(12322))"
      ],
      "execution_count": 14,
      "outputs": [
        {
          "output_type": "stream",
          "text": [
            "True\n",
            "False\n"
          ],
          "name": "stdout"
        }
      ]
    },
    {
      "cell_type": "markdown",
      "metadata": {
        "id": "kCeui9819hVT"
      },
      "source": [
        "**submit your code**"
      ]
    },
    {
      "cell_type": "code",
      "metadata": {
        "scrolled": true,
        "colab": {
          "base_uri": "https://localhost:8080/",
          "height": 127
        },
        "id": "EuYz3P-s9hVT",
        "outputId": "3d84e734-d0b0-445e-e970-b582b6d6ae9c"
      },
      "source": [
        "student.submit_task(globals(), task_id=\"task_01\");"
      ],
      "execution_count": 15,
      "outputs": [
        {
          "output_type": "display_data",
          "data": {
            "text/html": [
              "\n",
              "                    <b>task_01 submitted.</b> <b><font color=\"blue\">your grade is 5</font></b> \n",
              "                    <p/><pre>----- grader message -------</pre>testing with 100 random calls<br/><b>correct</b><pre>----------------------------</pre>\n",
              "                    <p/><p/>\n",
              "                    <div style=\"font-size:10px\"><b>SUBMISSION CODE</b> 5vCXRwMiiZ+KNR9LdIwWcjfot5Ypgp/IfkNt89aXR47FJAWJ6l0+qwSfKcnhgzXGunHAlhLLEoK/pTWArAXdYjcTsMLmgDq1A0/v+M5rVr7u/wEZdczomCyn/UKYs/4Y5N2+X9Eh35Y+ywNod3dRSA==</div>\n",
              "                    "
            ],
            "text/plain": [
              "<IPython.core.display.HTML object>"
            ]
          },
          "metadata": {
            "tags": []
          }
        }
      ]
    },
    {
      "cell_type": "markdown",
      "metadata": {
        "id": "6EcbA5uc9hVT"
      },
      "source": [
        "## Task 2: Money Change\n",
        "\n",
        "En este ejercicio, su programa recibirá un monto entre 1 y 99 centavos de Dolar, Escriba un metodo que retorne en una lista, cuantas monedas son necesarias para devolverle a alguien dicho valor, si únicamente se cuenta con monedas de 1, 10 y 25 centavos. La lista debe entregarse de la siguiente manera:\n",
        "\n",
        "In this task your function will receive an amount between 1 and 99 cents and will have to return a list with three numbers [$n_1$, $n_{10}$, $n_{25}$], specifying how many coins of 1, 10 and 25 cents are required to obtain the given amonut. We only have coints of 1, 10 and 25 cents. There are no other kinds of coins.\n",
        "\n",
        "If the amount given is less than 1 or more than 99 you must return `None`.\n",
        "\n",
        "**Execution example**\n",
        "\n",
        "```python\n",
        ">>> change_money(n=55)\n",
        "[5,0,2]\n",
        "\n",
        ">>> change_money(n=200)\n",
        "None\n",
        "\n",
        ">>> change_money(n=47)\n",
        "[2,2,1]\n",
        "```\n",
        "\n",
        "**hint**: use `\\\\` for integer division\n"
      ]
    },
    {
      "cell_type": "code",
      "metadata": {
        "colab": {
          "base_uri": "https://localhost:8080/"
        },
        "id": "a8gaMGTL9hVU",
        "outputId": "56ac5456-af76-4243-e3eb-f7d8bd392b88"
      },
      "source": [
        "\n",
        "def change_money(n):\n",
        "    r=[0,0,0] #recall: r[0]== n_1, r[1]== n_10 y r[2]== n_25 \n",
        "    #if n>99 or n<1: use return None\n",
        "    if n>99 or n<1: return None\n",
        "\n",
        "    n_25=np.floor(n/25)\n",
        "    n_10=np.floor((n-n_25*25)/10)\n",
        "    n_1=np.maximum(n-n_10*10-n_25*25,0)\n",
        "    # print(71-3*25)\n",
        "    r=[n_1,n_10,n_25]\n",
        "\n",
        "    return r\n",
        "\n",
        "    ## tu codigo aquí\n",
        "x=change_money(71)\n",
        "x[0]+x[1]*10+x[2]*25"
      ],
      "execution_count": 53,
      "outputs": [
        {
          "output_type": "execute_result",
          "data": {
            "text/plain": [
              "71.0"
            ]
          },
          "metadata": {
            "tags": []
          },
          "execution_count": 53
        }
      ]
    },
    {
      "cell_type": "markdown",
      "metadata": {
        "id": "pxComSmc9hVU"
      },
      "source": [
        "**submit your code**"
      ]
    },
    {
      "cell_type": "code",
      "metadata": {
        "scrolled": true,
        "colab": {
          "base_uri": "https://localhost:8080/",
          "height": 127
        },
        "id": "tzgYoW879hVU",
        "outputId": "e484258e-26a4-4ad9-ab12-c5ddaf00e439"
      },
      "source": [
        "student.submit_task(globals(), task_id=\"task_02\");\n"
      ],
      "execution_count": 54,
      "outputs": [
        {
          "output_type": "display_data",
          "data": {
            "text/html": [
              "\n",
              "                    <b>task_02 submitted.</b> <b><font color=\"blue\">your grade is 5</font></b> \n",
              "                    <p/><pre>----- grader message -------</pre>testing with 100 random calls<br/><b>correct</b><pre>----------------------------</pre>\n",
              "                    <p/><p/>\n",
              "                    <div style=\"font-size:10px\"><b>SUBMISSION CODE</b> X6LC0ylVisn1GNXSbv6W5X5pRNE8dcVZeV6WbBnVru/q2cJYkdrBafZYEEgIsAZzwWhoBfgLIQDtk+rS7FvXZRgpdZEPGbkIGCLg/wApbB726ZieaHKcs7GDw0bj3u4lG93VSP+4r869kCTY/p8pCQ==</div>\n",
              "                    "
            ],
            "text/plain": [
              "<IPython.core.display.HTML object>"
            ]
          },
          "metadata": {
            "tags": []
          }
        }
      ]
    },
    {
      "cell_type": "markdown",
      "metadata": {
        "id": "FvLCMUdk9hVU"
      },
      "source": [
        "## Task 3: Fibonacci\n",
        "\n",
        "Complete the function below so that given an integer $n$ it computes the $n^{th}$ term of the Fibonacci series:\n",
        "\n",
        "$$ f_n = f_{n-1}+f_{n-2}$$ \n",
        "\n",
        "Where $$f_0=0 \\:\\:\\text{ y }\\:\\:f_1=1 $$ so that: $$f_2=1+0=1$$ $$f_3=1+1=2$$ $$f_4=2+1=3$$ and so on\n",
        "\n",
        "### Execution example \n",
        "```python\n",
        "\n",
        ">>> fibonacci(10)\n",
        "55\n",
        "\n",
        ">>> fibonacci(36)\n",
        "14930352\n",
        "```"
      ]
    },
    {
      "cell_type": "code",
      "metadata": {
        "colab": {
          "base_uri": "https://localhost:8080/"
        },
        "id": "8DBRBFJT9hVU",
        "outputId": "8df41dd9-4d1c-47e0-d0e6-3ed44e4c371d"
      },
      "source": [
        "def fibonacci(n):\n",
        "    f_prev2=1\n",
        "    f_prev1=1\n",
        "    suma=0\n",
        "    for i in range(n-2):\n",
        "      f_actual=f_prev2+f_prev1\n",
        "\n",
        "      f_prev2=f_prev1\n",
        "      f_prev1=f_actual\n",
        " \n",
        "    \n",
        "    return f_actual\n",
        "\n",
        "fibonacci(5)"
      ],
      "execution_count": 67,
      "outputs": [
        {
          "output_type": "execute_result",
          "data": {
            "text/plain": [
              "5"
            ]
          },
          "metadata": {
            "tags": []
          },
          "execution_count": 67
        }
      ]
    },
    {
      "cell_type": "markdown",
      "metadata": {
        "id": "bk3b2r5N9hVV"
      },
      "source": [
        "**check manually your code**"
      ]
    },
    {
      "cell_type": "code",
      "metadata": {
        "colab": {
          "base_uri": "https://localhost:8080/"
        },
        "id": "NPmMiTmo9hVV",
        "outputId": "875eac97-bd3b-4183-b0fe-6070a1f87486"
      },
      "source": [
        "fibonacci(9), fibonacci(36)"
      ],
      "execution_count": 68,
      "outputs": [
        {
          "output_type": "execute_result",
          "data": {
            "text/plain": [
              "(34, 14930352)"
            ]
          },
          "metadata": {
            "tags": []
          },
          "execution_count": 68
        }
      ]
    },
    {
      "cell_type": "markdown",
      "metadata": {
        "id": "piSqdGo29hVV"
      },
      "source": [
        "**submit your code**"
      ]
    },
    {
      "cell_type": "code",
      "metadata": {
        "scrolled": true,
        "colab": {
          "base_uri": "https://localhost:8080/",
          "height": 127
        },
        "id": "UuHohrON9hVV",
        "outputId": "50200fb8-43d5-45d9-f7f3-c811b0d6a0d7"
      },
      "source": [
        "student.submit_task(globals(), task_id=\"task_03\");"
      ],
      "execution_count": 69,
      "outputs": [
        {
          "output_type": "display_data",
          "data": {
            "text/html": [
              "\n",
              "                    <b>task_03 submitted.</b> <b><font color=\"blue\">your grade is 5</font></b> \n",
              "                    <p/><pre>----- grader message -------</pre>testing with 100 random calls<br/><b>correct</b><pre>----------------------------</pre>\n",
              "                    <p/><p/>\n",
              "                    <div style=\"font-size:10px\"><b>SUBMISSION CODE</b> pUIRewvIxk1LVt9pD/jpQdxfjTETWiqU8y+KCN6HnYk9B59MsKEuOTwOf4CM99HwU2VkK3quRNA7l1binTrZj71KfDrDoRyVx/+BVjBRqh7tvDiBtX+eckGKeChvG/P1tfMi87qE0SxyueXvFHk8BA==</div>\n",
              "                    "
            ],
            "text/plain": [
              "<IPython.core.display.HTML object>"
            ]
          },
          "metadata": {
            "tags": []
          }
        }
      ]
    },
    {
      "cell_type": "markdown",
      "metadata": {
        "id": "BDYc_nN39hVW"
      },
      "source": [
        "## Task 4: Perfect number\n",
        "\n",
        "complete the following function so that it accepts an integer $n$ and returns `True` if $n$ is a perfect number and `False` otherwise.\n",
        "\n",
        "A perfect number is a positive integer that is equal to the sum of its positive divisors, excluding the number itself. For instance $6=3+2+1$ \n",
        "\n",
        "See https://en.wikipedia.org/wiki/Perfect_number\n",
        "\n",
        "**Execution example**\n",
        "```python\n",
        ">>> perfecto(6)\n",
        "True\n",
        "\n",
        ">>> perfecto(51)\n",
        "False\n",
        "\n",
        ">>> perfecto(496)\n",
        "True\n",
        "```\n",
        "**hint**: make a loop of all numbers up to $n$ and use the modulus operator `%` to identify which are the divisors, then sum them up.\n",
        "\n"
      ]
    },
    {
      "cell_type": "code",
      "metadata": {
        "colab": {
          "base_uri": "https://localhost:8080/"
        },
        "id": "cYb5nSY_9hVW",
        "outputId": "44a84106-8c7e-4210-a1d6-2f8397bd54a4"
      },
      "source": [
        "n = 12\n",
        "n%2, n%3, n%4, n%5, n%6, n%7, n%8"
      ],
      "execution_count": 70,
      "outputs": [
        {
          "output_type": "execute_result",
          "data": {
            "text/plain": [
              "(0, 0, 0, 2, 0, 5, 4)"
            ]
          },
          "metadata": {
            "tags": []
          },
          "execution_count": 70
        }
      ]
    },
    {
      "cell_type": "code",
      "metadata": {
        "colab": {
          "base_uri": "https://localhost:8080/"
        },
        "id": "TqCEKkWi9hVW",
        "outputId": "8f0f5473-e800-4259-9200-af28e241e458"
      },
      "source": [
        "\n",
        "def perfecto(n):\n",
        "    #tu codigo aqui, pista:\n",
        "    # halle todos los divisores de n y sumelos en una variable auxiliar,\n",
        "    #compare este resultado con el valor original\n",
        "    # div=[]\n",
        "    # for i in range(1,n):\n",
        "    #   if n%i==0:\n",
        "    #     div.append(i)\n",
        "    div=[num for num in range(1,n) if n%num==0]\n",
        "    \n",
        "    return sum(div)==n\n",
        "\n",
        "perfecto(6)"
      ],
      "execution_count": 87,
      "outputs": [
        {
          "output_type": "execute_result",
          "data": {
            "text/plain": [
              "True"
            ]
          },
          "metadata": {
            "tags": []
          },
          "execution_count": 87
        }
      ]
    },
    {
      "cell_type": "markdown",
      "metadata": {
        "id": "VXxVs7O99hVW"
      },
      "source": [
        "**check your answer**"
      ]
    },
    {
      "cell_type": "code",
      "metadata": {
        "id": "pHwMkwo89hVX"
      },
      "source": [
        "perfecto(6), perfecto(51), perfecto(496)\n"
      ],
      "execution_count": null,
      "outputs": []
    },
    {
      "cell_type": "code",
      "metadata": {
        "id": "dnUxisvV9hVX"
      },
      "source": [
        ""
      ],
      "execution_count": null,
      "outputs": []
    },
    {
      "cell_type": "markdown",
      "metadata": {
        "id": "hZOFFXkj9hVX"
      },
      "source": [
        "**submit your code**"
      ]
    },
    {
      "cell_type": "code",
      "metadata": {
        "scrolled": true,
        "colab": {
          "base_uri": "https://localhost:8080/",
          "height": 127
        },
        "id": "1rq5XWFz9hVX",
        "outputId": "36b6e6b5-7a86-4b08-998b-d00c9d69b131"
      },
      "source": [
        "student.submit_task(globals(), task_id=\"task_04\");"
      ],
      "execution_count": 88,
      "outputs": [
        {
          "output_type": "display_data",
          "data": {
            "text/html": [
              "\n",
              "                    <b>task_04 submitted.</b> <b><font color=\"blue\">your grade is 5</font></b> \n",
              "                    <p/><pre>----- grader message -------</pre>testing with 100 random calls<br/><b>correct</b><pre>----------------------------</pre>\n",
              "                    <p/><p/>\n",
              "                    <div style=\"font-size:10px\"><b>SUBMISSION CODE</b> FbA0nwBo549GVj/zHol08xPPX7A0F7eFSR21+lFNche4LL8vbtfx+mZutn5s6Byt7qU78Aq6w/J1NbrTCMvvq05bwnyoVpUbsXCGgXuVhNzGzWFVhD0v5QzNsEuhpJhaF4HyQfGLZZfzAU5P/91omA==</div>\n",
              "                    "
            ],
            "text/plain": [
              "<IPython.core.display.HTML object>"
            ]
          },
          "metadata": {
            "tags": []
          }
        }
      ]
    },
    {
      "cell_type": "code",
      "metadata": {
        "id": "kCPyqoHl9hVX"
      },
      "source": [
        ""
      ],
      "execution_count": null,
      "outputs": []
    }
  ]
}