{
  "nbformat": 4,
  "nbformat_minor": 0,
  "metadata": {
    "kernelspec": {
      "display_name": "Python 3",
      "language": "python",
      "name": "python3"
    },
    "language_info": {
      "codemirror_mode": {
        "name": "ipython",
        "version": 3
      },
      "file_extension": ".py",
      "mimetype": "text/x-python",
      "name": "python",
      "nbconvert_exporter": "python",
      "pygments_lexer": "ipython3",
      "version": "3.7.3"
    },
    "colab": {
      "name": "LAB 04.02 - BUILDING DATASETS.ipynb",
      "provenance": [],
      "include_colab_link": true
    },
    "widgets": {
      "application/vnd.jupyter.widget-state+json": {
        "08c3fbf43e884943b7fd6d85f10f0a2b": {
          "model_module": "@jupyter-widgets/controls",
          "model_name": "HBoxModel",
          "model_module_version": "1.5.0",
          "state": {
            "_view_name": "HBoxView",
            "_dom_classes": [],
            "_model_name": "HBoxModel",
            "_view_module": "@jupyter-widgets/controls",
            "_model_module_version": "1.5.0",
            "_view_count": null,
            "_view_module_version": "1.5.0",
            "box_style": "",
            "layout": "IPY_MODEL_48e670c6629a4861a18adf42ca892d90",
            "_model_module": "@jupyter-widgets/controls",
            "children": [
              "IPY_MODEL_3aaf3b59279549f18ff671f3b3509ddf",
              "IPY_MODEL_a3fcdf0e90bf47d29ff6e6bf3888753b",
              "IPY_MODEL_db1d8b2b3f8f48988819d23087115474",
              "IPY_MODEL_2c30b45c5a514866a7ee919259912889"
            ]
          }
        },
        "48e670c6629a4861a18adf42ca892d90": {
          "model_module": "@jupyter-widgets/base",
          "model_name": "LayoutModel",
          "model_module_version": "1.2.0",
          "state": {
            "_view_name": "LayoutView",
            "grid_template_rows": null,
            "right": null,
            "justify_content": null,
            "_view_module": "@jupyter-widgets/base",
            "overflow": null,
            "_model_module_version": "1.2.0",
            "_view_count": null,
            "flex_flow": null,
            "width": null,
            "min_width": null,
            "border": null,
            "align_items": null,
            "bottom": null,
            "_model_module": "@jupyter-widgets/base",
            "top": null,
            "grid_column": null,
            "overflow_y": null,
            "overflow_x": null,
            "grid_auto_flow": null,
            "grid_area": null,
            "grid_template_columns": null,
            "flex": null,
            "_model_name": "LayoutModel",
            "justify_items": null,
            "grid_row": null,
            "max_height": null,
            "align_content": null,
            "visibility": null,
            "align_self": null,
            "height": null,
            "min_height": null,
            "padding": null,
            "grid_auto_rows": null,
            "grid_gap": null,
            "max_width": null,
            "order": null,
            "_view_module_version": "1.2.0",
            "grid_template_areas": null,
            "object_position": null,
            "object_fit": null,
            "grid_auto_columns": null,
            "margin": null,
            "display": null,
            "left": null
          }
        },
        "3aaf3b59279549f18ff671f3b3509ddf": {
          "model_module": "@jupyter-widgets/controls",
          "model_name": "VBoxModel",
          "model_module_version": "1.5.0",
          "state": {
            "_view_name": "VBoxView",
            "_dom_classes": [],
            "_model_name": "VBoxModel",
            "_view_module": "@jupyter-widgets/controls",
            "_model_module_version": "1.5.0",
            "_view_count": null,
            "_view_module_version": "1.5.0",
            "box_style": "",
            "layout": "IPY_MODEL_22e310f409a5412487ab97b45ce9fc94",
            "_model_module": "@jupyter-widgets/controls",
            "children": [
              "IPY_MODEL_1a4c89d5d1064b4f8ec3075d8d66ff30",
              "IPY_MODEL_b10593278c1640659530b180a64b82e3"
            ]
          }
        },
        "a3fcdf0e90bf47d29ff6e6bf3888753b": {
          "model_module": "@jupyter-widgets/controls",
          "model_name": "ButtonModel",
          "model_module_version": "1.5.0",
          "state": {
            "_view_name": "ButtonView",
            "style": "IPY_MODEL_3f95db8859b7425f9ba5447ccde72127",
            "_dom_classes": [
              "login_button"
            ],
            "description": "Login with email",
            "_model_name": "ButtonModel",
            "button_style": "",
            "_view_module": "@jupyter-widgets/controls",
            "_model_module_version": "1.5.0",
            "tooltip": "",
            "_view_count": null,
            "disabled": false,
            "_view_module_version": "1.5.0",
            "layout": "IPY_MODEL_5533347686794061b1e140b6d31ba511",
            "_model_module": "@jupyter-widgets/controls",
            "icon": ""
          }
        },
        "db1d8b2b3f8f48988819d23087115474": {
          "model_module": "@jupyter-widgets/controls",
          "model_name": "HTMLModel",
          "model_module_version": "1.5.0",
          "state": {
            "_view_name": "HTMLView",
            "style": "IPY_MODEL_a193c288a2cf4590b81c33e5ea54a9f1",
            "_dom_classes": [],
            "description": "",
            "_model_name": "HTMLModel",
            "placeholder": "​",
            "_view_module": "@jupyter-widgets/controls",
            "_model_module_version": "1.5.0",
            "value": "<center><big>or</big></center>",
            "_view_count": null,
            "_view_module_version": "1.5.0",
            "description_tooltip": null,
            "_model_module": "@jupyter-widgets/controls",
            "layout": "IPY_MODEL_8de60249ac144e13b84cd41d8b54316b"
          }
        },
        "2c30b45c5a514866a7ee919259912889": {
          "model_module": "@jupyter-widgets/controls",
          "model_name": "ButtonModel",
          "model_module_version": "1.5.0",
          "state": {
            "_view_name": "ButtonView",
            "style": "IPY_MODEL_45a4d23cd8424d02b9f2875b16fcbfc8",
            "_dom_classes": [
              "google_button"
            ],
            "description": "Login with Google",
            "_model_name": "ButtonModel",
            "button_style": "",
            "_view_module": "@jupyter-widgets/controls",
            "_model_module_version": "1.5.0",
            "tooltip": "",
            "_view_count": null,
            "disabled": false,
            "_view_module_version": "1.5.0",
            "layout": "IPY_MODEL_da582a91bab94e75a5e3a44a1485e44e",
            "_model_module": "@jupyter-widgets/controls",
            "icon": ""
          }
        },
        "22e310f409a5412487ab97b45ce9fc94": {
          "model_module": "@jupyter-widgets/base",
          "model_name": "LayoutModel",
          "model_module_version": "1.2.0",
          "state": {
            "_view_name": "LayoutView",
            "grid_template_rows": null,
            "right": null,
            "justify_content": null,
            "_view_module": "@jupyter-widgets/base",
            "overflow": null,
            "_model_module_version": "1.2.0",
            "_view_count": null,
            "flex_flow": null,
            "width": null,
            "min_width": null,
            "border": null,
            "align_items": null,
            "bottom": null,
            "_model_module": "@jupyter-widgets/base",
            "top": null,
            "grid_column": null,
            "overflow_y": null,
            "overflow_x": null,
            "grid_auto_flow": null,
            "grid_area": null,
            "grid_template_columns": null,
            "flex": null,
            "_model_name": "LayoutModel",
            "justify_items": null,
            "grid_row": null,
            "max_height": null,
            "align_content": null,
            "visibility": null,
            "align_self": null,
            "height": null,
            "min_height": null,
            "padding": null,
            "grid_auto_rows": null,
            "grid_gap": null,
            "max_width": null,
            "order": null,
            "_view_module_version": "1.2.0",
            "grid_template_areas": null,
            "object_position": null,
            "object_fit": null,
            "grid_auto_columns": null,
            "margin": null,
            "display": null,
            "left": null
          }
        },
        "1a4c89d5d1064b4f8ec3075d8d66ff30": {
          "model_module": "@jupyter-widgets/controls",
          "model_name": "TextModel",
          "model_module_version": "1.5.0",
          "state": {
            "_view_name": "TextView",
            "style": "IPY_MODEL_36c7517d5afd4341948fdcc446d59735",
            "_dom_classes": [],
            "description": "email",
            "_model_name": "TextModel",
            "placeholder": "​",
            "_view_module": "@jupyter-widgets/controls",
            "_model_module_version": "1.5.0",
            "value": "",
            "_view_count": null,
            "disabled": false,
            "_view_module_version": "1.5.0",
            "continuous_update": true,
            "description_tooltip": null,
            "_model_module": "@jupyter-widgets/controls",
            "layout": "IPY_MODEL_2f5b5966e6db49eeadfb55f93358020f"
          }
        },
        "b10593278c1640659530b180a64b82e3": {
          "model_module": "@jupyter-widgets/controls",
          "model_name": "PasswordModel",
          "model_module_version": "1.5.0",
          "state": {
            "_view_name": "PasswordView",
            "style": "IPY_MODEL_3cdfe930b9cf4a619f3de3d0b453e681",
            "_dom_classes": [],
            "description": "password",
            "_model_name": "PasswordModel",
            "placeholder": "​",
            "_view_module": "@jupyter-widgets/controls",
            "_model_module_version": "1.5.0",
            "value": "",
            "_view_count": null,
            "disabled": false,
            "_view_module_version": "1.5.0",
            "continuous_update": true,
            "description_tooltip": null,
            "_model_module": "@jupyter-widgets/controls",
            "layout": "IPY_MODEL_00e37a27f7324c6eb41b6f6476db94b5"
          }
        },
        "3f95db8859b7425f9ba5447ccde72127": {
          "model_module": "@jupyter-widgets/controls",
          "model_name": "ButtonStyleModel",
          "model_module_version": "1.5.0",
          "state": {
            "_view_name": "StyleView",
            "_model_name": "ButtonStyleModel",
            "_view_module": "@jupyter-widgets/base",
            "_model_module_version": "1.5.0",
            "_view_count": null,
            "button_color": null,
            "font_weight": "",
            "_view_module_version": "1.2.0",
            "_model_module": "@jupyter-widgets/controls"
          }
        },
        "5533347686794061b1e140b6d31ba511": {
          "model_module": "@jupyter-widgets/base",
          "model_name": "LayoutModel",
          "model_module_version": "1.2.0",
          "state": {
            "_view_name": "LayoutView",
            "grid_template_rows": null,
            "right": null,
            "justify_content": null,
            "_view_module": "@jupyter-widgets/base",
            "overflow": null,
            "_model_module_version": "1.2.0",
            "_view_count": null,
            "flex_flow": null,
            "width": "150px",
            "min_width": null,
            "border": null,
            "align_items": null,
            "bottom": null,
            "_model_module": "@jupyter-widgets/base",
            "top": null,
            "grid_column": null,
            "overflow_y": null,
            "overflow_x": null,
            "grid_auto_flow": null,
            "grid_area": null,
            "grid_template_columns": null,
            "flex": null,
            "_model_name": "LayoutModel",
            "justify_items": null,
            "grid_row": null,
            "max_height": null,
            "align_content": null,
            "visibility": null,
            "align_self": null,
            "height": "53px",
            "min_height": null,
            "padding": null,
            "grid_auto_rows": null,
            "grid_gap": null,
            "max_width": null,
            "order": null,
            "_view_module_version": "1.2.0",
            "grid_template_areas": null,
            "object_position": null,
            "object_fit": null,
            "grid_auto_columns": null,
            "margin": null,
            "display": null,
            "left": null
          }
        },
        "a193c288a2cf4590b81c33e5ea54a9f1": {
          "model_module": "@jupyter-widgets/controls",
          "model_name": "DescriptionStyleModel",
          "model_module_version": "1.5.0",
          "state": {
            "_view_name": "StyleView",
            "_model_name": "DescriptionStyleModel",
            "description_width": "",
            "_view_module": "@jupyter-widgets/base",
            "_model_module_version": "1.5.0",
            "_view_count": null,
            "_view_module_version": "1.2.0",
            "_model_module": "@jupyter-widgets/controls"
          }
        },
        "8de60249ac144e13b84cd41d8b54316b": {
          "model_module": "@jupyter-widgets/base",
          "model_name": "LayoutModel",
          "model_module_version": "1.2.0",
          "state": {
            "_view_name": "LayoutView",
            "grid_template_rows": null,
            "right": null,
            "justify_content": null,
            "_view_module": "@jupyter-widgets/base",
            "overflow": null,
            "_model_module_version": "1.2.0",
            "_view_count": null,
            "flex_flow": null,
            "width": "100px",
            "min_width": null,
            "border": null,
            "align_items": null,
            "bottom": null,
            "_model_module": "@jupyter-widgets/base",
            "top": null,
            "grid_column": null,
            "overflow_y": null,
            "overflow_x": null,
            "grid_auto_flow": null,
            "grid_area": null,
            "grid_template_columns": null,
            "flex": null,
            "_model_name": "LayoutModel",
            "justify_items": null,
            "grid_row": null,
            "max_height": null,
            "align_content": null,
            "visibility": null,
            "align_self": null,
            "height": null,
            "min_height": null,
            "padding": null,
            "grid_auto_rows": null,
            "grid_gap": null,
            "max_width": null,
            "order": null,
            "_view_module_version": "1.2.0",
            "grid_template_areas": null,
            "object_position": null,
            "object_fit": null,
            "grid_auto_columns": null,
            "margin": null,
            "display": null,
            "left": null
          }
        },
        "45a4d23cd8424d02b9f2875b16fcbfc8": {
          "model_module": "@jupyter-widgets/controls",
          "model_name": "ButtonStyleModel",
          "model_module_version": "1.5.0",
          "state": {
            "_view_name": "StyleView",
            "_model_name": "ButtonStyleModel",
            "_view_module": "@jupyter-widgets/base",
            "_model_module_version": "1.5.0",
            "_view_count": null,
            "button_color": null,
            "font_weight": "",
            "_view_module_version": "1.2.0",
            "_model_module": "@jupyter-widgets/controls"
          }
        },
        "da582a91bab94e75a5e3a44a1485e44e": {
          "model_module": "@jupyter-widgets/base",
          "model_name": "LayoutModel",
          "model_module_version": "1.2.0",
          "state": {
            "_view_name": "LayoutView",
            "grid_template_rows": null,
            "right": null,
            "justify_content": null,
            "_view_module": "@jupyter-widgets/base",
            "overflow": null,
            "_model_module_version": "1.2.0",
            "_view_count": null,
            "flex_flow": null,
            "width": "200px",
            "min_width": null,
            "border": null,
            "align_items": null,
            "bottom": null,
            "_model_module": "@jupyter-widgets/base",
            "top": null,
            "grid_column": null,
            "overflow_y": null,
            "overflow_x": null,
            "grid_auto_flow": null,
            "grid_area": null,
            "grid_template_columns": null,
            "flex": null,
            "_model_name": "LayoutModel",
            "justify_items": null,
            "grid_row": null,
            "max_height": null,
            "align_content": null,
            "visibility": null,
            "align_self": null,
            "height": "53px",
            "min_height": null,
            "padding": null,
            "grid_auto_rows": null,
            "grid_gap": null,
            "max_width": null,
            "order": null,
            "_view_module_version": "1.2.0",
            "grid_template_areas": null,
            "object_position": null,
            "object_fit": null,
            "grid_auto_columns": null,
            "margin": null,
            "display": null,
            "left": null
          }
        },
        "36c7517d5afd4341948fdcc446d59735": {
          "model_module": "@jupyter-widgets/controls",
          "model_name": "DescriptionStyleModel",
          "model_module_version": "1.5.0",
          "state": {
            "_view_name": "StyleView",
            "_model_name": "DescriptionStyleModel",
            "description_width": "",
            "_view_module": "@jupyter-widgets/base",
            "_model_module_version": "1.5.0",
            "_view_count": null,
            "_view_module_version": "1.2.0",
            "_model_module": "@jupyter-widgets/controls"
          }
        },
        "2f5b5966e6db49eeadfb55f93358020f": {
          "model_module": "@jupyter-widgets/base",
          "model_name": "LayoutModel",
          "model_module_version": "1.2.0",
          "state": {
            "_view_name": "LayoutView",
            "grid_template_rows": null,
            "right": null,
            "justify_content": null,
            "_view_module": "@jupyter-widgets/base",
            "overflow": null,
            "_model_module_version": "1.2.0",
            "_view_count": null,
            "flex_flow": null,
            "width": "300px",
            "min_width": null,
            "border": null,
            "align_items": null,
            "bottom": null,
            "_model_module": "@jupyter-widgets/base",
            "top": null,
            "grid_column": null,
            "overflow_y": null,
            "overflow_x": null,
            "grid_auto_flow": null,
            "grid_area": null,
            "grid_template_columns": null,
            "flex": null,
            "_model_name": "LayoutModel",
            "justify_items": null,
            "grid_row": null,
            "max_height": null,
            "align_content": null,
            "visibility": null,
            "align_self": null,
            "height": "25px",
            "min_height": null,
            "padding": null,
            "grid_auto_rows": null,
            "grid_gap": null,
            "max_width": null,
            "order": null,
            "_view_module_version": "1.2.0",
            "grid_template_areas": null,
            "object_position": null,
            "object_fit": null,
            "grid_auto_columns": null,
            "margin": null,
            "display": null,
            "left": null
          }
        },
        "3cdfe930b9cf4a619f3de3d0b453e681": {
          "model_module": "@jupyter-widgets/controls",
          "model_name": "DescriptionStyleModel",
          "model_module_version": "1.5.0",
          "state": {
            "_view_name": "StyleView",
            "_model_name": "DescriptionStyleModel",
            "description_width": "",
            "_view_module": "@jupyter-widgets/base",
            "_model_module_version": "1.5.0",
            "_view_count": null,
            "_view_module_version": "1.2.0",
            "_model_module": "@jupyter-widgets/controls"
          }
        },
        "00e37a27f7324c6eb41b6f6476db94b5": {
          "model_module": "@jupyter-widgets/base",
          "model_name": "LayoutModel",
          "model_module_version": "1.2.0",
          "state": {
            "_view_name": "LayoutView",
            "grid_template_rows": null,
            "right": null,
            "justify_content": null,
            "_view_module": "@jupyter-widgets/base",
            "overflow": null,
            "_model_module_version": "1.2.0",
            "_view_count": null,
            "flex_flow": null,
            "width": "300px",
            "min_width": null,
            "border": null,
            "align_items": null,
            "bottom": null,
            "_model_module": "@jupyter-widgets/base",
            "top": null,
            "grid_column": null,
            "overflow_y": null,
            "overflow_x": null,
            "grid_auto_flow": null,
            "grid_area": null,
            "grid_template_columns": null,
            "flex": null,
            "_model_name": "LayoutModel",
            "justify_items": null,
            "grid_row": null,
            "max_height": null,
            "align_content": null,
            "visibility": null,
            "align_self": null,
            "height": "24px",
            "min_height": null,
            "padding": null,
            "grid_auto_rows": null,
            "grid_gap": null,
            "max_width": null,
            "order": null,
            "_view_module_version": "1.2.0",
            "grid_template_areas": null,
            "object_position": null,
            "object_fit": null,
            "grid_auto_columns": null,
            "margin": null,
            "display": null,
            "left": null
          }
        }
      }
    }
  },
  "cells": [
    {
      "cell_type": "markdown",
      "metadata": {
        "id": "view-in-github",
        "colab_type": "text"
      },
      "source": [
        "<a href=\"https://colab.research.google.com/github/DavidUrbaez/AI_Course/blob/main/content/LAB%2004.02%20-%20BUILDING%20DATASETS.ipynb\" target=\"_parent\"><img src=\"https://colab.research.google.com/assets/colab-badge.svg\" alt=\"Open In Colab\"/></a>"
      ]
    },
    {
      "cell_type": "markdown",
      "metadata": {
        "id": "4D49H_UadhNX"
      },
      "source": [
        "# LAB 04.02 - Buiding Datasets"
      ]
    },
    {
      "cell_type": "code",
      "metadata": {
        "colab": {
          "base_uri": "https://localhost:8080/",
          "height": 53
        },
        "id": "Rr89NIJFdhNa",
        "outputId": "f65dc3dd-87eb-43aa-ef5e-7183c904dcdc"
      },
      "source": [
        "!wget --no-cache -O init.py -q https://raw.githubusercontent.com/rramosp/ai4eng.v1/main/content/init.py\n",
        "import init; init.init(force_download=False); init.get_weblink()\n",
        "init.endpoint"
      ],
      "execution_count": 1,
      "outputs": [
        {
          "output_type": "display_data",
          "data": {
            "text/html": [
              "\n",
              "<meta name=\"google-signin-client_id\"\n",
              "      content=\"461673936472-kdjosv61up3ac1ajeuq6qqu72upilmls.apps.googleusercontent.com\"/>\n",
              "<script src=\"https://apis.google.com/js/client:platform.js?onload=google_button_start\"></script>\n",
              "    "
            ],
            "text/plain": [
              "<IPython.core.display.HTML object>"
            ]
          },
          "metadata": {}
        },
        {
          "output_type": "stream",
          "name": "stdout",
          "text": [
            "replicating local resources\n"
          ]
        },
        {
          "output_type": "execute_result",
          "data": {
            "application/vnd.google.colaboratory.intrinsic+json": {
              "type": "string"
            },
            "text/plain": [
              "'https://m5knaekxo6.execute-api.us-west-2.amazonaws.com/dev-v0001/rlxmooc'"
            ]
          },
          "metadata": {},
          "execution_count": 1
        }
      ]
    },
    {
      "cell_type": "code",
      "metadata": {
        "colab": {
          "base_uri": "https://localhost:8080/",
          "height": 116,
          "referenced_widgets": [
            "08c3fbf43e884943b7fd6d85f10f0a2b",
            "48e670c6629a4861a18adf42ca892d90",
            "3aaf3b59279549f18ff671f3b3509ddf",
            "a3fcdf0e90bf47d29ff6e6bf3888753b",
            "db1d8b2b3f8f48988819d23087115474",
            "2c30b45c5a514866a7ee919259912889",
            "22e310f409a5412487ab97b45ce9fc94",
            "1a4c89d5d1064b4f8ec3075d8d66ff30",
            "b10593278c1640659530b180a64b82e3",
            "3f95db8859b7425f9ba5447ccde72127",
            "5533347686794061b1e140b6d31ba511",
            "a193c288a2cf4590b81c33e5ea54a9f1",
            "8de60249ac144e13b84cd41d8b54316b",
            "45a4d23cd8424d02b9f2875b16fcbfc8",
            "da582a91bab94e75a5e3a44a1485e44e",
            "36c7517d5afd4341948fdcc446d59735",
            "2f5b5966e6db49eeadfb55f93358020f",
            "3cdfe930b9cf4a619f3de3d0b453e681",
            "00e37a27f7324c6eb41b6f6476db94b5"
          ]
        },
        "id": "KcGK9aSqdhNc",
        "outputId": "d216c85b-d4cb-4464-80bc-906545b87072"
      },
      "source": [
        "from local.lib.rlxmoocapi import submit, session\n",
        "session.LoginSequence(endpoint=init.endpoint, course_id=init.course_id, lab_id=\"L04.02\", varname=\"student\");"
      ],
      "execution_count": 252,
      "outputs": [
        {
          "output_type": "stream",
          "name": "stdout",
          "text": [
            "logging in as durbaezl@unal.edu.co... please wait\n",
            "using course session ai4eng.v1::open\n",
            "success!! you are logged in\n"
          ]
        }
      ]
    },
    {
      "cell_type": "markdown",
      "metadata": {
        "id": "_tIOxsgEdhNc"
      },
      "source": [
        "## Understand the ASHRAE Energy Prediction in Kaggle\n",
        "\n",
        "Follow this link: [https://www.kaggle.com/c/ashrae-energy-prediction](https://www.kaggle.com/c/ashrae-energy-prediction), register for the task and download the data.\n",
        "\n",
        "In particular, understand:\n",
        "\n",
        "- The machine learning task they define (what they want to predict)\n",
        "- How the data is provided\n",
        "- The structure and relation between the files `train.csv`, `weather_train.csv` and `building_metadata.csv`"
      ]
    },
    {
      "cell_type": "markdown",
      "metadata": {
        "id": "kT0RkSNIdhNd"
      },
      "source": [
        "## Task 1: Build a training dataset\n",
        "\n",
        "Execute the cell below and you will be given a **building_id** and a **date**. You will have to:\n",
        "\n",
        "1. Build a table containing one row per hour and the following columns **only for that building_id and date**: \n",
        "       'meter_reading', 'site_id', 'air_temperature', 'cloud_coverage',\n",
        "       'dew_temperature', 'precip_depth_1_hr', 'sea_level_pressure',\n",
        "       'wind_direction', 'wind_speed', 'square_feet', 'year_built'\n",
        "   Note that you will have to gather this information from the different csv sources.\n",
        "   \n",
        "1. use only measures with `meter`=0\n",
        "1. Fill any missing values with zero.\n",
        "1. Extract the column of the target variable and sum all values.\n",
        "1. Sum all the values of the rest of the columns.\n",
        "1. Fill in those values in the variables below.\n",
        "1. Submit your answer.\n",
        "\n",
        "Observe that, with this dataset, we could train a model to make predictions of the target variable, taking the rest of the variables as input.\n",
        "\n",
        "For instance, for building number 900, on 2016-02-01:\n",
        "- there are 24 records\n",
        "- the sum of all values of the target variable is 4941 (cropping decimals)\n",
        "- the sum of all values of the rest of the variables is 2705422 (cropping decimals)"
      ]
    },
    {
      "cell_type": "code",
      "metadata": {
        "colab": {
          "base_uri": "https://localhost:8080/"
        },
        "id": "n9GJS1fGdhNd",
        "outputId": "5a6e321f-aeca-4599-f07d-da23cbd118f6"
      },
      "source": [
        "from IPython.display import Image\n",
        "from local.lib import labutils\n",
        "import numpy as np\n",
        "bid, date = labutils.biddate_for_student(student.user_id)\n",
        "print (\"your building_id\", bid)\n",
        "print (\"your date       \", date)"
      ],
      "execution_count": 4,
      "outputs": [
        {
          "output_type": "stream",
          "name": "stdout",
          "text": [
            "your building_id 967\n",
            "your date        2016-02-06\n"
          ]
        }
      ]
    },
    {
      "cell_type": "code",
      "metadata": {
        "colab": {
          "base_uri": "https://localhost:8080/",
          "height": 78
        },
        "id": "SN_zy16LdhNe",
        "outputId": "44fc3cdc-10ef-4f43-cb2b-12e4552f09c0"
      },
      "source": [
        "import pandas as pd\n",
        "building=pd.read_csv('building_metadata.csv')\n",
        "\n",
        "building_ = building.loc[building.building_id==bid]\n",
        "building_"
      ],
      "execution_count": 144,
      "outputs": [
        {
          "output_type": "execute_result",
          "data": {
            "text/html": [
              "<div>\n",
              "<style scoped>\n",
              "    .dataframe tbody tr th:only-of-type {\n",
              "        vertical-align: middle;\n",
              "    }\n",
              "\n",
              "    .dataframe tbody tr th {\n",
              "        vertical-align: top;\n",
              "    }\n",
              "\n",
              "    .dataframe thead th {\n",
              "        text-align: right;\n",
              "    }\n",
              "</style>\n",
              "<table border=\"1\" class=\"dataframe\">\n",
              "  <thead>\n",
              "    <tr style=\"text-align: right;\">\n",
              "      <th></th>\n",
              "      <th>site_id</th>\n",
              "      <th>building_id</th>\n",
              "      <th>primary_use</th>\n",
              "      <th>square_feet</th>\n",
              "      <th>year_built</th>\n",
              "      <th>floor_count</th>\n",
              "    </tr>\n",
              "  </thead>\n",
              "  <tbody>\n",
              "    <tr>\n",
              "      <th>967</th>\n",
              "      <td>9</td>\n",
              "      <td>967</td>\n",
              "      <td>Entertainment/public assembly</td>\n",
              "      <td>119262</td>\n",
              "      <td>NaN</td>\n",
              "      <td>NaN</td>\n",
              "    </tr>\n",
              "  </tbody>\n",
              "</table>\n",
              "</div>"
            ],
            "text/plain": [
              "     site_id  building_id  ... year_built  floor_count\n",
              "967        9          967  ...        NaN          NaN\n",
              "\n",
              "[1 rows x 6 columns]"
            ]
          },
          "metadata": {},
          "execution_count": 144
        }
      ]
    },
    {
      "cell_type": "code",
      "metadata": {
        "colab": {
          "base_uri": "https://localhost:8080/",
          "height": 414
        },
        "id": "g453JirJqqE0",
        "outputId": "ef49de2f-6722-47d4-e560-63efd1df6962"
      },
      "source": [
        "train=pd.read_csv('train.csv',parse_dates=['timestamp'])\n",
        "train"
      ],
      "execution_count": 108,
      "outputs": [
        {
          "output_type": "execute_result",
          "data": {
            "text/html": [
              "<div>\n",
              "<style scoped>\n",
              "    .dataframe tbody tr th:only-of-type {\n",
              "        vertical-align: middle;\n",
              "    }\n",
              "\n",
              "    .dataframe tbody tr th {\n",
              "        vertical-align: top;\n",
              "    }\n",
              "\n",
              "    .dataframe thead th {\n",
              "        text-align: right;\n",
              "    }\n",
              "</style>\n",
              "<table border=\"1\" class=\"dataframe\">\n",
              "  <thead>\n",
              "    <tr style=\"text-align: right;\">\n",
              "      <th></th>\n",
              "      <th>building_id</th>\n",
              "      <th>meter</th>\n",
              "      <th>timestamp</th>\n",
              "      <th>meter_reading</th>\n",
              "    </tr>\n",
              "  </thead>\n",
              "  <tbody>\n",
              "    <tr>\n",
              "      <th>0</th>\n",
              "      <td>0</td>\n",
              "      <td>0</td>\n",
              "      <td>2016-01-01 00:00:00</td>\n",
              "      <td>0.00</td>\n",
              "    </tr>\n",
              "    <tr>\n",
              "      <th>1</th>\n",
              "      <td>1</td>\n",
              "      <td>0</td>\n",
              "      <td>2016-01-01 00:00:00</td>\n",
              "      <td>0.00</td>\n",
              "    </tr>\n",
              "    <tr>\n",
              "      <th>2</th>\n",
              "      <td>2</td>\n",
              "      <td>0</td>\n",
              "      <td>2016-01-01 00:00:00</td>\n",
              "      <td>0.00</td>\n",
              "    </tr>\n",
              "    <tr>\n",
              "      <th>3</th>\n",
              "      <td>3</td>\n",
              "      <td>0</td>\n",
              "      <td>2016-01-01 00:00:00</td>\n",
              "      <td>0.00</td>\n",
              "    </tr>\n",
              "    <tr>\n",
              "      <th>4</th>\n",
              "      <td>4</td>\n",
              "      <td>0</td>\n",
              "      <td>2016-01-01 00:00:00</td>\n",
              "      <td>0.00</td>\n",
              "    </tr>\n",
              "    <tr>\n",
              "      <th>...</th>\n",
              "      <td>...</td>\n",
              "      <td>...</td>\n",
              "      <td>...</td>\n",
              "      <td>...</td>\n",
              "    </tr>\n",
              "    <tr>\n",
              "      <th>2927677</th>\n",
              "      <td>338</td>\n",
              "      <td>0</td>\n",
              "      <td>2016-02-24 11:00:00</td>\n",
              "      <td>108.25</td>\n",
              "    </tr>\n",
              "    <tr>\n",
              "      <th>2927678</th>\n",
              "      <td>339</td>\n",
              "      <td>0</td>\n",
              "      <td>2016-02-24 11:00:00</td>\n",
              "      <td>12.38</td>\n",
              "    </tr>\n",
              "    <tr>\n",
              "      <th>2927679</th>\n",
              "      <td>340</td>\n",
              "      <td>0</td>\n",
              "      <td>2016-02-24 11:00:00</td>\n",
              "      <td>18.48</td>\n",
              "    </tr>\n",
              "    <tr>\n",
              "      <th>2927680</th>\n",
              "      <td>341</td>\n",
              "      <td>0</td>\n",
              "      <td>2016-02-24 11:00:00</td>\n",
              "      <td>190.27</td>\n",
              "    </tr>\n",
              "    <tr>\n",
              "      <th>2927681</th>\n",
              "      <td>342</td>\n",
              "      <td>0</td>\n",
              "      <td>2016-02-24 11:00:00</td>\n",
              "      <td>3.00</td>\n",
              "    </tr>\n",
              "  </tbody>\n",
              "</table>\n",
              "<p>2927682 rows × 4 columns</p>\n",
              "</div>"
            ],
            "text/plain": [
              "         building_id  meter           timestamp  meter_reading\n",
              "0                  0      0 2016-01-01 00:00:00           0.00\n",
              "1                  1      0 2016-01-01 00:00:00           0.00\n",
              "2                  2      0 2016-01-01 00:00:00           0.00\n",
              "3                  3      0 2016-01-01 00:00:00           0.00\n",
              "4                  4      0 2016-01-01 00:00:00           0.00\n",
              "...              ...    ...                 ...            ...\n",
              "2927677          338      0 2016-02-24 11:00:00         108.25\n",
              "2927678          339      0 2016-02-24 11:00:00          12.38\n",
              "2927679          340      0 2016-02-24 11:00:00          18.48\n",
              "2927680          341      0 2016-02-24 11:00:00         190.27\n",
              "2927681          342      0 2016-02-24 11:00:00           3.00\n",
              "\n",
              "[2927682 rows x 4 columns]"
            ]
          },
          "metadata": {},
          "execution_count": 108
        }
      ]
    },
    {
      "cell_type": "code",
      "metadata": {
        "colab": {
          "base_uri": "https://localhost:8080/"
        },
        "id": "jbF1M-gQuUdd",
        "outputId": "c7ad8549-9572-4a2b-c139-c1ee2198ca89"
      },
      "source": [
        "train.dtypes"
      ],
      "execution_count": 109,
      "outputs": [
        {
          "output_type": "execute_result",
          "data": {
            "text/plain": [
              "building_id               int64\n",
              "meter                     int64\n",
              "timestamp        datetime64[ns]\n",
              "meter_reading           float64\n",
              "dtype: object"
            ]
          },
          "metadata": {},
          "execution_count": 109
        }
      ]
    },
    {
      "cell_type": "code",
      "metadata": {
        "colab": {
          "base_uri": "https://localhost:8080/",
          "height": 414
        },
        "id": "t1p0ZcsZuXbO",
        "outputId": "1dad5016-ff1b-460a-f100-e2a3478a302d"
      },
      "source": [
        "train.loc[(train.building_id==bid) & (train.meter==0)]\n"
      ],
      "execution_count": 110,
      "outputs": [
        {
          "output_type": "execute_result",
          "data": {
            "text/html": [
              "<div>\n",
              "<style scoped>\n",
              "    .dataframe tbody tr th:only-of-type {\n",
              "        vertical-align: middle;\n",
              "    }\n",
              "\n",
              "    .dataframe tbody tr th {\n",
              "        vertical-align: top;\n",
              "    }\n",
              "\n",
              "    .dataframe thead th {\n",
              "        text-align: right;\n",
              "    }\n",
              "</style>\n",
              "<table border=\"1\" class=\"dataframe\">\n",
              "  <thead>\n",
              "    <tr style=\"text-align: right;\">\n",
              "      <th></th>\n",
              "      <th>building_id</th>\n",
              "      <th>meter</th>\n",
              "      <th>timestamp</th>\n",
              "      <th>meter_reading</th>\n",
              "    </tr>\n",
              "  </thead>\n",
              "  <tbody>\n",
              "    <tr>\n",
              "      <th>1298</th>\n",
              "      <td>967</td>\n",
              "      <td>0</td>\n",
              "      <td>2016-01-01 00:00:00</td>\n",
              "      <td>0.0</td>\n",
              "    </tr>\n",
              "    <tr>\n",
              "      <th>3594</th>\n",
              "      <td>967</td>\n",
              "      <td>0</td>\n",
              "      <td>2016-01-01 01:00:00</td>\n",
              "      <td>70.0</td>\n",
              "    </tr>\n",
              "    <tr>\n",
              "      <th>5890</th>\n",
              "      <td>967</td>\n",
              "      <td>0</td>\n",
              "      <td>2016-01-01 02:00:00</td>\n",
              "      <td>70.0</td>\n",
              "    </tr>\n",
              "    <tr>\n",
              "      <th>8188</th>\n",
              "      <td>967</td>\n",
              "      <td>0</td>\n",
              "      <td>2016-01-01 03:00:00</td>\n",
              "      <td>71.0</td>\n",
              "    </tr>\n",
              "    <tr>\n",
              "      <th>10483</th>\n",
              "      <td>967</td>\n",
              "      <td>0</td>\n",
              "      <td>2016-01-01 04:00:00</td>\n",
              "      <td>71.0</td>\n",
              "    </tr>\n",
              "    <tr>\n",
              "      <th>...</th>\n",
              "      <td>...</td>\n",
              "      <td>...</td>\n",
              "      <td>...</td>\n",
              "      <td>...</td>\n",
              "    </tr>\n",
              "    <tr>\n",
              "      <th>2918080</th>\n",
              "      <td>967</td>\n",
              "      <td>0</td>\n",
              "      <td>2016-02-24 06:00:00</td>\n",
              "      <td>0.0</td>\n",
              "    </tr>\n",
              "    <tr>\n",
              "      <th>2920161</th>\n",
              "      <td>967</td>\n",
              "      <td>0</td>\n",
              "      <td>2016-02-24 07:00:00</td>\n",
              "      <td>0.0</td>\n",
              "    </tr>\n",
              "    <tr>\n",
              "      <th>2922246</th>\n",
              "      <td>967</td>\n",
              "      <td>0</td>\n",
              "      <td>2016-02-24 08:00:00</td>\n",
              "      <td>0.0</td>\n",
              "    </tr>\n",
              "    <tr>\n",
              "      <th>2924328</th>\n",
              "      <td>967</td>\n",
              "      <td>0</td>\n",
              "      <td>2016-02-24 09:00:00</td>\n",
              "      <td>0.0</td>\n",
              "    </tr>\n",
              "    <tr>\n",
              "      <th>2926407</th>\n",
              "      <td>967</td>\n",
              "      <td>0</td>\n",
              "      <td>2016-02-24 10:00:00</td>\n",
              "      <td>0.0</td>\n",
              "    </tr>\n",
              "  </tbody>\n",
              "</table>\n",
              "<p>1302 rows × 4 columns</p>\n",
              "</div>"
            ],
            "text/plain": [
              "         building_id  meter           timestamp  meter_reading\n",
              "1298             967      0 2016-01-01 00:00:00            0.0\n",
              "3594             967      0 2016-01-01 01:00:00           70.0\n",
              "5890             967      0 2016-01-01 02:00:00           70.0\n",
              "8188             967      0 2016-01-01 03:00:00           71.0\n",
              "10483            967      0 2016-01-01 04:00:00           71.0\n",
              "...              ...    ...                 ...            ...\n",
              "2918080          967      0 2016-02-24 06:00:00            0.0\n",
              "2920161          967      0 2016-02-24 07:00:00            0.0\n",
              "2922246          967      0 2016-02-24 08:00:00            0.0\n",
              "2924328          967      0 2016-02-24 09:00:00            0.0\n",
              "2926407          967      0 2016-02-24 10:00:00            0.0\n",
              "\n",
              "[1302 rows x 4 columns]"
            ]
          },
          "metadata": {},
          "execution_count": 110
        }
      ]
    },
    {
      "cell_type": "code",
      "metadata": {
        "colab": {
          "base_uri": "https://localhost:8080/",
          "height": 784
        },
        "id": "APFD2jSBq7uU",
        "outputId": "20d6a1b8-3438-47b5-e35d-94be424b4190"
      },
      "source": [
        "train.loc[   ( train.building_id==bid ) \n",
        "          &  ( train.meter==0 )\n",
        "          &  ( train.timestamp.dt.date==pd.to_datetime(date)) ]"
      ],
      "execution_count": 113,
      "outputs": [
        {
          "output_type": "execute_result",
          "data": {
            "text/html": [
              "<div>\n",
              "<style scoped>\n",
              "    .dataframe tbody tr th:only-of-type {\n",
              "        vertical-align: middle;\n",
              "    }\n",
              "\n",
              "    .dataframe tbody tr th {\n",
              "        vertical-align: top;\n",
              "    }\n",
              "\n",
              "    .dataframe thead th {\n",
              "        text-align: right;\n",
              "    }\n",
              "</style>\n",
              "<table border=\"1\" class=\"dataframe\">\n",
              "  <thead>\n",
              "    <tr style=\"text-align: right;\">\n",
              "      <th></th>\n",
              "      <th>building_id</th>\n",
              "      <th>meter</th>\n",
              "      <th>timestamp</th>\n",
              "      <th>meter_reading</th>\n",
              "    </tr>\n",
              "  </thead>\n",
              "  <tbody>\n",
              "    <tr>\n",
              "      <th>1986522</th>\n",
              "      <td>967</td>\n",
              "      <td>0</td>\n",
              "      <td>2016-02-06 00:00:00</td>\n",
              "      <td>101.0</td>\n",
              "    </tr>\n",
              "    <tr>\n",
              "      <th>1988826</th>\n",
              "      <td>967</td>\n",
              "      <td>0</td>\n",
              "      <td>2016-02-06 01:00:00</td>\n",
              "      <td>90.0</td>\n",
              "    </tr>\n",
              "    <tr>\n",
              "      <th>1991132</th>\n",
              "      <td>967</td>\n",
              "      <td>0</td>\n",
              "      <td>2016-02-06 02:00:00</td>\n",
              "      <td>78.0</td>\n",
              "    </tr>\n",
              "    <tr>\n",
              "      <th>1993438</th>\n",
              "      <td>967</td>\n",
              "      <td>0</td>\n",
              "      <td>2016-02-06 03:00:00</td>\n",
              "      <td>76.0</td>\n",
              "    </tr>\n",
              "    <tr>\n",
              "      <th>1995744</th>\n",
              "      <td>967</td>\n",
              "      <td>0</td>\n",
              "      <td>2016-02-06 04:00:00</td>\n",
              "      <td>79.0</td>\n",
              "    </tr>\n",
              "    <tr>\n",
              "      <th>1998049</th>\n",
              "      <td>967</td>\n",
              "      <td>0</td>\n",
              "      <td>2016-02-06 05:00:00</td>\n",
              "      <td>76.0</td>\n",
              "    </tr>\n",
              "    <tr>\n",
              "      <th>2000351</th>\n",
              "      <td>967</td>\n",
              "      <td>0</td>\n",
              "      <td>2016-02-06 06:00:00</td>\n",
              "      <td>76.0</td>\n",
              "    </tr>\n",
              "    <tr>\n",
              "      <th>2002656</th>\n",
              "      <td>967</td>\n",
              "      <td>0</td>\n",
              "      <td>2016-02-06 07:00:00</td>\n",
              "      <td>76.0</td>\n",
              "    </tr>\n",
              "    <tr>\n",
              "      <th>2004962</th>\n",
              "      <td>967</td>\n",
              "      <td>0</td>\n",
              "      <td>2016-02-06 08:00:00</td>\n",
              "      <td>105.0</td>\n",
              "    </tr>\n",
              "    <tr>\n",
              "      <th>2007268</th>\n",
              "      <td>967</td>\n",
              "      <td>0</td>\n",
              "      <td>2016-02-06 09:00:00</td>\n",
              "      <td>176.0</td>\n",
              "    </tr>\n",
              "    <tr>\n",
              "      <th>2009571</th>\n",
              "      <td>967</td>\n",
              "      <td>0</td>\n",
              "      <td>2016-02-06 10:00:00</td>\n",
              "      <td>180.0</td>\n",
              "    </tr>\n",
              "    <tr>\n",
              "      <th>2011876</th>\n",
              "      <td>967</td>\n",
              "      <td>0</td>\n",
              "      <td>2016-02-06 11:00:00</td>\n",
              "      <td>185.0</td>\n",
              "    </tr>\n",
              "    <tr>\n",
              "      <th>2014182</th>\n",
              "      <td>967</td>\n",
              "      <td>0</td>\n",
              "      <td>2016-02-06 12:00:00</td>\n",
              "      <td>186.0</td>\n",
              "    </tr>\n",
              "    <tr>\n",
              "      <th>2016490</th>\n",
              "      <td>967</td>\n",
              "      <td>0</td>\n",
              "      <td>2016-02-06 13:00:00</td>\n",
              "      <td>187.0</td>\n",
              "    </tr>\n",
              "    <tr>\n",
              "      <th>2018796</th>\n",
              "      <td>967</td>\n",
              "      <td>0</td>\n",
              "      <td>2016-02-06 14:00:00</td>\n",
              "      <td>190.0</td>\n",
              "    </tr>\n",
              "    <tr>\n",
              "      <th>2021103</th>\n",
              "      <td>967</td>\n",
              "      <td>0</td>\n",
              "      <td>2016-02-06 15:00:00</td>\n",
              "      <td>183.0</td>\n",
              "    </tr>\n",
              "    <tr>\n",
              "      <th>2023410</th>\n",
              "      <td>967</td>\n",
              "      <td>0</td>\n",
              "      <td>2016-02-06 16:00:00</td>\n",
              "      <td>186.0</td>\n",
              "    </tr>\n",
              "    <tr>\n",
              "      <th>2025711</th>\n",
              "      <td>967</td>\n",
              "      <td>0</td>\n",
              "      <td>2016-02-06 17:00:00</td>\n",
              "      <td>189.0</td>\n",
              "    </tr>\n",
              "    <tr>\n",
              "      <th>2028018</th>\n",
              "      <td>967</td>\n",
              "      <td>0</td>\n",
              "      <td>2016-02-06 18:00:00</td>\n",
              "      <td>189.0</td>\n",
              "    </tr>\n",
              "    <tr>\n",
              "      <th>2030324</th>\n",
              "      <td>967</td>\n",
              "      <td>0</td>\n",
              "      <td>2016-02-06 19:00:00</td>\n",
              "      <td>190.0</td>\n",
              "    </tr>\n",
              "    <tr>\n",
              "      <th>2032633</th>\n",
              "      <td>967</td>\n",
              "      <td>0</td>\n",
              "      <td>2016-02-06 20:00:00</td>\n",
              "      <td>199.0</td>\n",
              "    </tr>\n",
              "    <tr>\n",
              "      <th>2034943</th>\n",
              "      <td>967</td>\n",
              "      <td>0</td>\n",
              "      <td>2016-02-06 21:00:00</td>\n",
              "      <td>91.0</td>\n",
              "    </tr>\n",
              "    <tr>\n",
              "      <th>2037253</th>\n",
              "      <td>967</td>\n",
              "      <td>0</td>\n",
              "      <td>2016-02-06 22:00:00</td>\n",
              "      <td>85.0</td>\n",
              "    </tr>\n",
              "    <tr>\n",
              "      <th>2039561</th>\n",
              "      <td>967</td>\n",
              "      <td>0</td>\n",
              "      <td>2016-02-06 23:00:00</td>\n",
              "      <td>83.0</td>\n",
              "    </tr>\n",
              "  </tbody>\n",
              "</table>\n",
              "</div>"
            ],
            "text/plain": [
              "         building_id  meter           timestamp  meter_reading\n",
              "1986522          967      0 2016-02-06 00:00:00          101.0\n",
              "1988826          967      0 2016-02-06 01:00:00           90.0\n",
              "1991132          967      0 2016-02-06 02:00:00           78.0\n",
              "1993438          967      0 2016-02-06 03:00:00           76.0\n",
              "1995744          967      0 2016-02-06 04:00:00           79.0\n",
              "1998049          967      0 2016-02-06 05:00:00           76.0\n",
              "2000351          967      0 2016-02-06 06:00:00           76.0\n",
              "2002656          967      0 2016-02-06 07:00:00           76.0\n",
              "2004962          967      0 2016-02-06 08:00:00          105.0\n",
              "2007268          967      0 2016-02-06 09:00:00          176.0\n",
              "2009571          967      0 2016-02-06 10:00:00          180.0\n",
              "2011876          967      0 2016-02-06 11:00:00          185.0\n",
              "2014182          967      0 2016-02-06 12:00:00          186.0\n",
              "2016490          967      0 2016-02-06 13:00:00          187.0\n",
              "2018796          967      0 2016-02-06 14:00:00          190.0\n",
              "2021103          967      0 2016-02-06 15:00:00          183.0\n",
              "2023410          967      0 2016-02-06 16:00:00          186.0\n",
              "2025711          967      0 2016-02-06 17:00:00          189.0\n",
              "2028018          967      0 2016-02-06 18:00:00          189.0\n",
              "2030324          967      0 2016-02-06 19:00:00          190.0\n",
              "2032633          967      0 2016-02-06 20:00:00          199.0\n",
              "2034943          967      0 2016-02-06 21:00:00           91.0\n",
              "2037253          967      0 2016-02-06 22:00:00           85.0\n",
              "2039561          967      0 2016-02-06 23:00:00           83.0"
            ]
          },
          "metadata": {},
          "execution_count": 113
        }
      ]
    },
    {
      "cell_type": "code",
      "metadata": {
        "id": "3kxNPl-bwNkW"
      },
      "source": [
        ""
      ],
      "execution_count": null,
      "outputs": []
    },
    {
      "cell_type": "code",
      "metadata": {
        "colab": {
          "base_uri": "https://localhost:8080/"
        },
        "id": "QZ7V9RxEwNm8",
        "outputId": "05ae01a9-b075-4993-bad6-45ec9779e225"
      },
      "source": [
        "site_id = building.loc[building.building_id==bid].iloc[0,0]\n",
        "sq_feet = building.loc[building.building_id==bid].iloc[0,3]\n",
        "\"Site id: \",site_id,\"- Square feet: \", sq_feet"
      ],
      "execution_count": 129,
      "outputs": [
        {
          "output_type": "execute_result",
          "data": {
            "text/plain": [
              "('Site id: ', 9, '- Square feet: ', 119262)"
            ]
          },
          "metadata": {},
          "execution_count": 129
        }
      ]
    },
    {
      "cell_type": "code",
      "metadata": {
        "id": "DNIf5WInwfzv"
      },
      "source": [
        ""
      ],
      "execution_count": null,
      "outputs": []
    },
    {
      "cell_type": "code",
      "metadata": {
        "colab": {
          "base_uri": "https://localhost:8080/",
          "height": 414
        },
        "id": "ahlP5sRywf6f",
        "outputId": "d9adde2e-9cd1-470e-ec9c-cadb7522119e"
      },
      "source": [
        "weather = pd.read_csv('weather_train.csv',parse_dates=['timestamp'])\n",
        "weather[weather.site_id == site_id]"
      ],
      "execution_count": 148,
      "outputs": [
        {
          "output_type": "execute_result",
          "data": {
            "text/html": [
              "<div>\n",
              "<style scoped>\n",
              "    .dataframe tbody tr th:only-of-type {\n",
              "        vertical-align: middle;\n",
              "    }\n",
              "\n",
              "    .dataframe tbody tr th {\n",
              "        vertical-align: top;\n",
              "    }\n",
              "\n",
              "    .dataframe thead th {\n",
              "        text-align: right;\n",
              "    }\n",
              "</style>\n",
              "<table border=\"1\" class=\"dataframe\">\n",
              "  <thead>\n",
              "    <tr style=\"text-align: right;\">\n",
              "      <th></th>\n",
              "      <th>site_id</th>\n",
              "      <th>timestamp</th>\n",
              "      <th>air_temperature</th>\n",
              "      <th>cloud_coverage</th>\n",
              "      <th>dew_temperature</th>\n",
              "      <th>precip_depth_1_hr</th>\n",
              "      <th>sea_level_pressure</th>\n",
              "      <th>wind_direction</th>\n",
              "      <th>wind_speed</th>\n",
              "    </tr>\n",
              "  </thead>\n",
              "  <tbody>\n",
              "    <tr>\n",
              "      <th>78828</th>\n",
              "      <td>9</td>\n",
              "      <td>2016-01-01 01:00:00</td>\n",
              "      <td>10.0</td>\n",
              "      <td>NaN</td>\n",
              "      <td>3.9</td>\n",
              "      <td>0.0</td>\n",
              "      <td>1027.7</td>\n",
              "      <td>20.0</td>\n",
              "      <td>3.1</td>\n",
              "    </tr>\n",
              "    <tr>\n",
              "      <th>78829</th>\n",
              "      <td>9</td>\n",
              "      <td>2016-01-01 02:00:00</td>\n",
              "      <td>10.0</td>\n",
              "      <td>NaN</td>\n",
              "      <td>3.9</td>\n",
              "      <td>0.0</td>\n",
              "      <td>1028.0</td>\n",
              "      <td>NaN</td>\n",
              "      <td>2.1</td>\n",
              "    </tr>\n",
              "    <tr>\n",
              "      <th>78830</th>\n",
              "      <td>9</td>\n",
              "      <td>2016-01-01 03:00:00</td>\n",
              "      <td>10.0</td>\n",
              "      <td>NaN</td>\n",
              "      <td>3.9</td>\n",
              "      <td>0.0</td>\n",
              "      <td>1028.9</td>\n",
              "      <td>30.0</td>\n",
              "      <td>3.6</td>\n",
              "    </tr>\n",
              "    <tr>\n",
              "      <th>78831</th>\n",
              "      <td>9</td>\n",
              "      <td>2016-01-01 04:00:00</td>\n",
              "      <td>10.0</td>\n",
              "      <td>NaN</td>\n",
              "      <td>3.9</td>\n",
              "      <td>0.0</td>\n",
              "      <td>1029.1</td>\n",
              "      <td>10.0</td>\n",
              "      <td>3.6</td>\n",
              "    </tr>\n",
              "    <tr>\n",
              "      <th>78832</th>\n",
              "      <td>9</td>\n",
              "      <td>2016-01-01 05:00:00</td>\n",
              "      <td>9.4</td>\n",
              "      <td>NaN</td>\n",
              "      <td>3.9</td>\n",
              "      <td>0.0</td>\n",
              "      <td>1029.5</td>\n",
              "      <td>10.0</td>\n",
              "      <td>4.6</td>\n",
              "    </tr>\n",
              "    <tr>\n",
              "      <th>...</th>\n",
              "      <td>...</td>\n",
              "      <td>...</td>\n",
              "      <td>...</td>\n",
              "      <td>...</td>\n",
              "      <td>...</td>\n",
              "      <td>...</td>\n",
              "      <td>...</td>\n",
              "      <td>...</td>\n",
              "      <td>...</td>\n",
              "    </tr>\n",
              "    <tr>\n",
              "      <th>87603</th>\n",
              "      <td>9</td>\n",
              "      <td>2016-12-31 19:00:00</td>\n",
              "      <td>21.7</td>\n",
              "      <td>NaN</td>\n",
              "      <td>15.6</td>\n",
              "      <td>0.0</td>\n",
              "      <td>1009.7</td>\n",
              "      <td>210.0</td>\n",
              "      <td>2.6</td>\n",
              "    </tr>\n",
              "    <tr>\n",
              "      <th>87604</th>\n",
              "      <td>9</td>\n",
              "      <td>2016-12-31 20:00:00</td>\n",
              "      <td>21.7</td>\n",
              "      <td>2.0</td>\n",
              "      <td>15.6</td>\n",
              "      <td>0.0</td>\n",
              "      <td>1008.7</td>\n",
              "      <td>NaN</td>\n",
              "      <td>3.1</td>\n",
              "    </tr>\n",
              "    <tr>\n",
              "      <th>87605</th>\n",
              "      <td>9</td>\n",
              "      <td>2016-12-31 21:00:00</td>\n",
              "      <td>23.9</td>\n",
              "      <td>4.0</td>\n",
              "      <td>16.1</td>\n",
              "      <td>0.0</td>\n",
              "      <td>1008.0</td>\n",
              "      <td>230.0</td>\n",
              "      <td>3.6</td>\n",
              "    </tr>\n",
              "    <tr>\n",
              "      <th>87606</th>\n",
              "      <td>9</td>\n",
              "      <td>2016-12-31 22:00:00</td>\n",
              "      <td>25.0</td>\n",
              "      <td>0.0</td>\n",
              "      <td>15.6</td>\n",
              "      <td>0.0</td>\n",
              "      <td>1007.6</td>\n",
              "      <td>220.0</td>\n",
              "      <td>3.1</td>\n",
              "    </tr>\n",
              "    <tr>\n",
              "      <th>87607</th>\n",
              "      <td>9</td>\n",
              "      <td>2016-12-31 23:00:00</td>\n",
              "      <td>24.4</td>\n",
              "      <td>0.0</td>\n",
              "      <td>16.1</td>\n",
              "      <td>0.0</td>\n",
              "      <td>1007.9</td>\n",
              "      <td>NaN</td>\n",
              "      <td>1.5</td>\n",
              "    </tr>\n",
              "  </tbody>\n",
              "</table>\n",
              "<p>8780 rows × 9 columns</p>\n",
              "</div>"
            ],
            "text/plain": [
              "       site_id           timestamp  ...  wind_direction  wind_speed\n",
              "78828        9 2016-01-01 01:00:00  ...            20.0         3.1\n",
              "78829        9 2016-01-01 02:00:00  ...             NaN         2.1\n",
              "78830        9 2016-01-01 03:00:00  ...            30.0         3.6\n",
              "78831        9 2016-01-01 04:00:00  ...            10.0         3.6\n",
              "78832        9 2016-01-01 05:00:00  ...            10.0         4.6\n",
              "...        ...                 ...  ...             ...         ...\n",
              "87603        9 2016-12-31 19:00:00  ...           210.0         2.6\n",
              "87604        9 2016-12-31 20:00:00  ...             NaN         3.1\n",
              "87605        9 2016-12-31 21:00:00  ...           230.0         3.6\n",
              "87606        9 2016-12-31 22:00:00  ...           220.0         3.1\n",
              "87607        9 2016-12-31 23:00:00  ...             NaN         1.5\n",
              "\n",
              "[8780 rows x 9 columns]"
            ]
          },
          "metadata": {},
          "execution_count": 148
        }
      ]
    },
    {
      "cell_type": "code",
      "metadata": {
        "id": "r75hPe9bxW7G"
      },
      "source": [
        ""
      ],
      "execution_count": null,
      "outputs": []
    },
    {
      "cell_type": "code",
      "metadata": {
        "id": "doC9COAwxssC"
      },
      "source": [
        ""
      ],
      "execution_count": null,
      "outputs": []
    },
    {
      "cell_type": "code",
      "metadata": {
        "id": "eksbVwwJxsvs"
      },
      "source": [
        ""
      ],
      "execution_count": null,
      "outputs": []
    },
    {
      "cell_type": "code",
      "metadata": {
        "colab": {
          "base_uri": "https://localhost:8080/",
          "height": 784
        },
        "id": "1Wbm-iPxxW-N",
        "outputId": "d3892d4b-eb54-4e28-a4e3-bc44e12ee129"
      },
      "source": [
        "weather2 = weather[weather.site_id == site_id].loc[:,['timestamp','site_id', 'air_temperature', 'cloud_coverage',\n",
        "                                                      'dew_temperature', 'precip_depth_1_hr', 'sea_level_pressure',\n",
        "                                                      'wind_direction', 'wind_speed']]\n",
        "                                                      \n",
        "weather2.loc[weather2.timestamp.dt.date==pd.to_datetime(date)]"
      ],
      "execution_count": 151,
      "outputs": [
        {
          "output_type": "execute_result",
          "data": {
            "text/html": [
              "<div>\n",
              "<style scoped>\n",
              "    .dataframe tbody tr th:only-of-type {\n",
              "        vertical-align: middle;\n",
              "    }\n",
              "\n",
              "    .dataframe tbody tr th {\n",
              "        vertical-align: top;\n",
              "    }\n",
              "\n",
              "    .dataframe thead th {\n",
              "        text-align: right;\n",
              "    }\n",
              "</style>\n",
              "<table border=\"1\" class=\"dataframe\">\n",
              "  <thead>\n",
              "    <tr style=\"text-align: right;\">\n",
              "      <th></th>\n",
              "      <th>timestamp</th>\n",
              "      <th>site_id</th>\n",
              "      <th>air_temperature</th>\n",
              "      <th>cloud_coverage</th>\n",
              "      <th>dew_temperature</th>\n",
              "      <th>precip_depth_1_hr</th>\n",
              "      <th>sea_level_pressure</th>\n",
              "      <th>wind_direction</th>\n",
              "      <th>wind_speed</th>\n",
              "    </tr>\n",
              "  </thead>\n",
              "  <tbody>\n",
              "    <tr>\n",
              "      <th>79691</th>\n",
              "      <td>2016-02-06 00:00:00</td>\n",
              "      <td>9</td>\n",
              "      <td>13.9</td>\n",
              "      <td>NaN</td>\n",
              "      <td>-1.1</td>\n",
              "      <td>0.0</td>\n",
              "      <td>1025.9</td>\n",
              "      <td>NaN</td>\n",
              "      <td>2.6</td>\n",
              "    </tr>\n",
              "    <tr>\n",
              "      <th>79692</th>\n",
              "      <td>2016-02-06 01:00:00</td>\n",
              "      <td>9</td>\n",
              "      <td>13.9</td>\n",
              "      <td>NaN</td>\n",
              "      <td>-0.6</td>\n",
              "      <td>0.0</td>\n",
              "      <td>1026.0</td>\n",
              "      <td>160.0</td>\n",
              "      <td>2.6</td>\n",
              "    </tr>\n",
              "    <tr>\n",
              "      <th>79693</th>\n",
              "      <td>2016-02-06 02:00:00</td>\n",
              "      <td>9</td>\n",
              "      <td>13.3</td>\n",
              "      <td>NaN</td>\n",
              "      <td>0.6</td>\n",
              "      <td>0.0</td>\n",
              "      <td>1026.4</td>\n",
              "      <td>150.0</td>\n",
              "      <td>3.6</td>\n",
              "    </tr>\n",
              "    <tr>\n",
              "      <th>79694</th>\n",
              "      <td>2016-02-06 03:00:00</td>\n",
              "      <td>9</td>\n",
              "      <td>12.8</td>\n",
              "      <td>NaN</td>\n",
              "      <td>2.2</td>\n",
              "      <td>0.0</td>\n",
              "      <td>1026.9</td>\n",
              "      <td>180.0</td>\n",
              "      <td>2.6</td>\n",
              "    </tr>\n",
              "    <tr>\n",
              "      <th>79695</th>\n",
              "      <td>2016-02-06 04:00:00</td>\n",
              "      <td>9</td>\n",
              "      <td>12.2</td>\n",
              "      <td>NaN</td>\n",
              "      <td>3.3</td>\n",
              "      <td>0.0</td>\n",
              "      <td>1027.1</td>\n",
              "      <td>NaN</td>\n",
              "      <td>2.6</td>\n",
              "    </tr>\n",
              "    <tr>\n",
              "      <th>79696</th>\n",
              "      <td>2016-02-06 05:00:00</td>\n",
              "      <td>9</td>\n",
              "      <td>11.7</td>\n",
              "      <td>NaN</td>\n",
              "      <td>3.9</td>\n",
              "      <td>0.0</td>\n",
              "      <td>1027.1</td>\n",
              "      <td>NaN</td>\n",
              "      <td>2.1</td>\n",
              "    </tr>\n",
              "    <tr>\n",
              "      <th>79697</th>\n",
              "      <td>2016-02-06 06:00:00</td>\n",
              "      <td>9</td>\n",
              "      <td>9.4</td>\n",
              "      <td>NaN</td>\n",
              "      <td>3.9</td>\n",
              "      <td>0.0</td>\n",
              "      <td>1026.7</td>\n",
              "      <td>NaN</td>\n",
              "      <td>2.1</td>\n",
              "    </tr>\n",
              "    <tr>\n",
              "      <th>79698</th>\n",
              "      <td>2016-02-06 07:00:00</td>\n",
              "      <td>9</td>\n",
              "      <td>10.6</td>\n",
              "      <td>NaN</td>\n",
              "      <td>3.9</td>\n",
              "      <td>-1.0</td>\n",
              "      <td>1026.7</td>\n",
              "      <td>200.0</td>\n",
              "      <td>2.6</td>\n",
              "    </tr>\n",
              "    <tr>\n",
              "      <th>79699</th>\n",
              "      <td>2016-02-06 08:00:00</td>\n",
              "      <td>9</td>\n",
              "      <td>10.0</td>\n",
              "      <td>NaN</td>\n",
              "      <td>5.0</td>\n",
              "      <td>-1.0</td>\n",
              "      <td>NaN</td>\n",
              "      <td>290.0</td>\n",
              "      <td>4.1</td>\n",
              "    </tr>\n",
              "    <tr>\n",
              "      <th>79700</th>\n",
              "      <td>2016-02-06 09:00:00</td>\n",
              "      <td>9</td>\n",
              "      <td>9.4</td>\n",
              "      <td>0.0</td>\n",
              "      <td>4.4</td>\n",
              "      <td>-1.0</td>\n",
              "      <td>1026.6</td>\n",
              "      <td>0.0</td>\n",
              "      <td>0.0</td>\n",
              "    </tr>\n",
              "    <tr>\n",
              "      <th>79701</th>\n",
              "      <td>2016-02-06 10:00:00</td>\n",
              "      <td>9</td>\n",
              "      <td>8.3</td>\n",
              "      <td>0.0</td>\n",
              "      <td>3.3</td>\n",
              "      <td>0.0</td>\n",
              "      <td>1026.5</td>\n",
              "      <td>NaN</td>\n",
              "      <td>2.1</td>\n",
              "    </tr>\n",
              "    <tr>\n",
              "      <th>79702</th>\n",
              "      <td>2016-02-06 11:00:00</td>\n",
              "      <td>9</td>\n",
              "      <td>7.8</td>\n",
              "      <td>0.0</td>\n",
              "      <td>0.6</td>\n",
              "      <td>0.0</td>\n",
              "      <td>1026.4</td>\n",
              "      <td>280.0</td>\n",
              "      <td>2.1</td>\n",
              "    </tr>\n",
              "    <tr>\n",
              "      <th>79703</th>\n",
              "      <td>2016-02-06 12:00:00</td>\n",
              "      <td>9</td>\n",
              "      <td>7.8</td>\n",
              "      <td>0.0</td>\n",
              "      <td>-3.3</td>\n",
              "      <td>0.0</td>\n",
              "      <td>1026.3</td>\n",
              "      <td>290.0</td>\n",
              "      <td>3.1</td>\n",
              "    </tr>\n",
              "    <tr>\n",
              "      <th>79704</th>\n",
              "      <td>2016-02-06 13:00:00</td>\n",
              "      <td>9</td>\n",
              "      <td>7.2</td>\n",
              "      <td>0.0</td>\n",
              "      <td>-3.9</td>\n",
              "      <td>0.0</td>\n",
              "      <td>1026.4</td>\n",
              "      <td>300.0</td>\n",
              "      <td>2.1</td>\n",
              "    </tr>\n",
              "    <tr>\n",
              "      <th>79705</th>\n",
              "      <td>2016-02-06 14:00:00</td>\n",
              "      <td>9</td>\n",
              "      <td>7.8</td>\n",
              "      <td>0.0</td>\n",
              "      <td>-3.3</td>\n",
              "      <td>0.0</td>\n",
              "      <td>1027.4</td>\n",
              "      <td>310.0</td>\n",
              "      <td>5.7</td>\n",
              "    </tr>\n",
              "    <tr>\n",
              "      <th>79706</th>\n",
              "      <td>2016-02-06 15:00:00</td>\n",
              "      <td>9</td>\n",
              "      <td>8.9</td>\n",
              "      <td>0.0</td>\n",
              "      <td>-2.8</td>\n",
              "      <td>0.0</td>\n",
              "      <td>1028.4</td>\n",
              "      <td>300.0</td>\n",
              "      <td>3.6</td>\n",
              "    </tr>\n",
              "    <tr>\n",
              "      <th>79707</th>\n",
              "      <td>2016-02-06 16:00:00</td>\n",
              "      <td>9</td>\n",
              "      <td>10.0</td>\n",
              "      <td>0.0</td>\n",
              "      <td>-1.7</td>\n",
              "      <td>0.0</td>\n",
              "      <td>1029.0</td>\n",
              "      <td>300.0</td>\n",
              "      <td>4.6</td>\n",
              "    </tr>\n",
              "    <tr>\n",
              "      <th>79708</th>\n",
              "      <td>2016-02-06 17:00:00</td>\n",
              "      <td>9</td>\n",
              "      <td>12.2</td>\n",
              "      <td>0.0</td>\n",
              "      <td>-3.9</td>\n",
              "      <td>0.0</td>\n",
              "      <td>1029.4</td>\n",
              "      <td>320.0</td>\n",
              "      <td>6.2</td>\n",
              "    </tr>\n",
              "    <tr>\n",
              "      <th>79709</th>\n",
              "      <td>2016-02-06 18:00:00</td>\n",
              "      <td>9</td>\n",
              "      <td>13.3</td>\n",
              "      <td>0.0</td>\n",
              "      <td>-3.9</td>\n",
              "      <td>0.0</td>\n",
              "      <td>1029.3</td>\n",
              "      <td>340.0</td>\n",
              "      <td>4.1</td>\n",
              "    </tr>\n",
              "    <tr>\n",
              "      <th>79710</th>\n",
              "      <td>2016-02-06 19:00:00</td>\n",
              "      <td>9</td>\n",
              "      <td>14.4</td>\n",
              "      <td>0.0</td>\n",
              "      <td>-3.9</td>\n",
              "      <td>0.0</td>\n",
              "      <td>1028.4</td>\n",
              "      <td>340.0</td>\n",
              "      <td>4.6</td>\n",
              "    </tr>\n",
              "    <tr>\n",
              "      <th>79711</th>\n",
              "      <td>2016-02-06 20:00:00</td>\n",
              "      <td>9</td>\n",
              "      <td>15.0</td>\n",
              "      <td>0.0</td>\n",
              "      <td>-2.8</td>\n",
              "      <td>0.0</td>\n",
              "      <td>1027.8</td>\n",
              "      <td>350.0</td>\n",
              "      <td>6.7</td>\n",
              "    </tr>\n",
              "    <tr>\n",
              "      <th>79712</th>\n",
              "      <td>2016-02-06 21:00:00</td>\n",
              "      <td>9</td>\n",
              "      <td>15.0</td>\n",
              "      <td>0.0</td>\n",
              "      <td>-3.3</td>\n",
              "      <td>0.0</td>\n",
              "      <td>1027.8</td>\n",
              "      <td>330.0</td>\n",
              "      <td>6.2</td>\n",
              "    </tr>\n",
              "    <tr>\n",
              "      <th>79713</th>\n",
              "      <td>2016-02-06 22:00:00</td>\n",
              "      <td>9</td>\n",
              "      <td>15.6</td>\n",
              "      <td>0.0</td>\n",
              "      <td>-2.8</td>\n",
              "      <td>0.0</td>\n",
              "      <td>1027.4</td>\n",
              "      <td>360.0</td>\n",
              "      <td>3.6</td>\n",
              "    </tr>\n",
              "    <tr>\n",
              "      <th>79714</th>\n",
              "      <td>2016-02-06 23:00:00</td>\n",
              "      <td>9</td>\n",
              "      <td>14.4</td>\n",
              "      <td>0.0</td>\n",
              "      <td>-2.8</td>\n",
              "      <td>0.0</td>\n",
              "      <td>1027.8</td>\n",
              "      <td>340.0</td>\n",
              "      <td>3.6</td>\n",
              "    </tr>\n",
              "  </tbody>\n",
              "</table>\n",
              "</div>"
            ],
            "text/plain": [
              "                timestamp  site_id  ...  wind_direction  wind_speed\n",
              "79691 2016-02-06 00:00:00        9  ...             NaN         2.6\n",
              "79692 2016-02-06 01:00:00        9  ...           160.0         2.6\n",
              "79693 2016-02-06 02:00:00        9  ...           150.0         3.6\n",
              "79694 2016-02-06 03:00:00        9  ...           180.0         2.6\n",
              "79695 2016-02-06 04:00:00        9  ...             NaN         2.6\n",
              "79696 2016-02-06 05:00:00        9  ...             NaN         2.1\n",
              "79697 2016-02-06 06:00:00        9  ...             NaN         2.1\n",
              "79698 2016-02-06 07:00:00        9  ...           200.0         2.6\n",
              "79699 2016-02-06 08:00:00        9  ...           290.0         4.1\n",
              "79700 2016-02-06 09:00:00        9  ...             0.0         0.0\n",
              "79701 2016-02-06 10:00:00        9  ...             NaN         2.1\n",
              "79702 2016-02-06 11:00:00        9  ...           280.0         2.1\n",
              "79703 2016-02-06 12:00:00        9  ...           290.0         3.1\n",
              "79704 2016-02-06 13:00:00        9  ...           300.0         2.1\n",
              "79705 2016-02-06 14:00:00        9  ...           310.0         5.7\n",
              "79706 2016-02-06 15:00:00        9  ...           300.0         3.6\n",
              "79707 2016-02-06 16:00:00        9  ...           300.0         4.6\n",
              "79708 2016-02-06 17:00:00        9  ...           320.0         6.2\n",
              "79709 2016-02-06 18:00:00        9  ...           340.0         4.1\n",
              "79710 2016-02-06 19:00:00        9  ...           340.0         4.6\n",
              "79711 2016-02-06 20:00:00        9  ...           350.0         6.7\n",
              "79712 2016-02-06 21:00:00        9  ...           330.0         6.2\n",
              "79713 2016-02-06 22:00:00        9  ...           360.0         3.6\n",
              "79714 2016-02-06 23:00:00        9  ...           340.0         3.6\n",
              "\n",
              "[24 rows x 9 columns]"
            ]
          },
          "metadata": {},
          "execution_count": 151
        }
      ]
    },
    {
      "cell_type": "code",
      "metadata": {
        "id": "tHgftCgWxs50"
      },
      "source": [
        "final = train.loc[   ( train.building_id==bid ) \n",
        "          &  ( train.meter==0 )\n",
        "          &  ( train.timestamp.dt.date==pd.to_datetime(date)) ]\n",
        "\n",
        "\n",
        "final2 = final.merge(building_,how='left',on='building_id').merge(weather2,how='left',on='timestamp')\n"
      ],
      "execution_count": 166,
      "outputs": []
    },
    {
      "cell_type": "code",
      "metadata": {
        "colab": {
          "base_uri": "https://localhost:8080/",
          "height": 815
        },
        "id": "RKSioVyo0CLm",
        "outputId": "2e43d0ef-d8c7-49a6-f521-3264a31ec186"
      },
      "source": [
        "final3=(\n",
        "              final2.loc[:,['meter_reading','site_id_x', 'air_temperature', 'cloud_coverage',\n",
        "                              'dew_temperature', 'precip_depth_1_hr', 'sea_level_pressure',\n",
        "                              'wind_direction', 'wind_speed', 'square_feet', 'year_built','timestamp']]\n",
        "                  \n",
        "                      .set_index('timestamp')\n",
        "\n",
        "                      .rename(columns={'site_id_x': 'site_id'}).fillna(0)\n",
        "            )\n",
        "\n",
        "final3"
      ],
      "execution_count": 170,
      "outputs": [
        {
          "output_type": "execute_result",
          "data": {
            "text/html": [
              "<div>\n",
              "<style scoped>\n",
              "    .dataframe tbody tr th:only-of-type {\n",
              "        vertical-align: middle;\n",
              "    }\n",
              "\n",
              "    .dataframe tbody tr th {\n",
              "        vertical-align: top;\n",
              "    }\n",
              "\n",
              "    .dataframe thead th {\n",
              "        text-align: right;\n",
              "    }\n",
              "</style>\n",
              "<table border=\"1\" class=\"dataframe\">\n",
              "  <thead>\n",
              "    <tr style=\"text-align: right;\">\n",
              "      <th></th>\n",
              "      <th>meter_reading</th>\n",
              "      <th>site_id</th>\n",
              "      <th>air_temperature</th>\n",
              "      <th>cloud_coverage</th>\n",
              "      <th>dew_temperature</th>\n",
              "      <th>precip_depth_1_hr</th>\n",
              "      <th>sea_level_pressure</th>\n",
              "      <th>wind_direction</th>\n",
              "      <th>wind_speed</th>\n",
              "      <th>square_feet</th>\n",
              "      <th>year_built</th>\n",
              "    </tr>\n",
              "    <tr>\n",
              "      <th>timestamp</th>\n",
              "      <th></th>\n",
              "      <th></th>\n",
              "      <th></th>\n",
              "      <th></th>\n",
              "      <th></th>\n",
              "      <th></th>\n",
              "      <th></th>\n",
              "      <th></th>\n",
              "      <th></th>\n",
              "      <th></th>\n",
              "      <th></th>\n",
              "    </tr>\n",
              "  </thead>\n",
              "  <tbody>\n",
              "    <tr>\n",
              "      <th>2016-02-06 00:00:00</th>\n",
              "      <td>101.0</td>\n",
              "      <td>9</td>\n",
              "      <td>13.9</td>\n",
              "      <td>0.0</td>\n",
              "      <td>-1.1</td>\n",
              "      <td>0.0</td>\n",
              "      <td>1025.9</td>\n",
              "      <td>0.0</td>\n",
              "      <td>2.6</td>\n",
              "      <td>119262</td>\n",
              "      <td>0.0</td>\n",
              "    </tr>\n",
              "    <tr>\n",
              "      <th>2016-02-06 01:00:00</th>\n",
              "      <td>90.0</td>\n",
              "      <td>9</td>\n",
              "      <td>13.9</td>\n",
              "      <td>0.0</td>\n",
              "      <td>-0.6</td>\n",
              "      <td>0.0</td>\n",
              "      <td>1026.0</td>\n",
              "      <td>160.0</td>\n",
              "      <td>2.6</td>\n",
              "      <td>119262</td>\n",
              "      <td>0.0</td>\n",
              "    </tr>\n",
              "    <tr>\n",
              "      <th>2016-02-06 02:00:00</th>\n",
              "      <td>78.0</td>\n",
              "      <td>9</td>\n",
              "      <td>13.3</td>\n",
              "      <td>0.0</td>\n",
              "      <td>0.6</td>\n",
              "      <td>0.0</td>\n",
              "      <td>1026.4</td>\n",
              "      <td>150.0</td>\n",
              "      <td>3.6</td>\n",
              "      <td>119262</td>\n",
              "      <td>0.0</td>\n",
              "    </tr>\n",
              "    <tr>\n",
              "      <th>2016-02-06 03:00:00</th>\n",
              "      <td>76.0</td>\n",
              "      <td>9</td>\n",
              "      <td>12.8</td>\n",
              "      <td>0.0</td>\n",
              "      <td>2.2</td>\n",
              "      <td>0.0</td>\n",
              "      <td>1026.9</td>\n",
              "      <td>180.0</td>\n",
              "      <td>2.6</td>\n",
              "      <td>119262</td>\n",
              "      <td>0.0</td>\n",
              "    </tr>\n",
              "    <tr>\n",
              "      <th>2016-02-06 04:00:00</th>\n",
              "      <td>79.0</td>\n",
              "      <td>9</td>\n",
              "      <td>12.2</td>\n",
              "      <td>0.0</td>\n",
              "      <td>3.3</td>\n",
              "      <td>0.0</td>\n",
              "      <td>1027.1</td>\n",
              "      <td>0.0</td>\n",
              "      <td>2.6</td>\n",
              "      <td>119262</td>\n",
              "      <td>0.0</td>\n",
              "    </tr>\n",
              "    <tr>\n",
              "      <th>2016-02-06 05:00:00</th>\n",
              "      <td>76.0</td>\n",
              "      <td>9</td>\n",
              "      <td>11.7</td>\n",
              "      <td>0.0</td>\n",
              "      <td>3.9</td>\n",
              "      <td>0.0</td>\n",
              "      <td>1027.1</td>\n",
              "      <td>0.0</td>\n",
              "      <td>2.1</td>\n",
              "      <td>119262</td>\n",
              "      <td>0.0</td>\n",
              "    </tr>\n",
              "    <tr>\n",
              "      <th>2016-02-06 06:00:00</th>\n",
              "      <td>76.0</td>\n",
              "      <td>9</td>\n",
              "      <td>9.4</td>\n",
              "      <td>0.0</td>\n",
              "      <td>3.9</td>\n",
              "      <td>0.0</td>\n",
              "      <td>1026.7</td>\n",
              "      <td>0.0</td>\n",
              "      <td>2.1</td>\n",
              "      <td>119262</td>\n",
              "      <td>0.0</td>\n",
              "    </tr>\n",
              "    <tr>\n",
              "      <th>2016-02-06 07:00:00</th>\n",
              "      <td>76.0</td>\n",
              "      <td>9</td>\n",
              "      <td>10.6</td>\n",
              "      <td>0.0</td>\n",
              "      <td>3.9</td>\n",
              "      <td>-1.0</td>\n",
              "      <td>1026.7</td>\n",
              "      <td>200.0</td>\n",
              "      <td>2.6</td>\n",
              "      <td>119262</td>\n",
              "      <td>0.0</td>\n",
              "    </tr>\n",
              "    <tr>\n",
              "      <th>2016-02-06 08:00:00</th>\n",
              "      <td>105.0</td>\n",
              "      <td>9</td>\n",
              "      <td>10.0</td>\n",
              "      <td>0.0</td>\n",
              "      <td>5.0</td>\n",
              "      <td>-1.0</td>\n",
              "      <td>0.0</td>\n",
              "      <td>290.0</td>\n",
              "      <td>4.1</td>\n",
              "      <td>119262</td>\n",
              "      <td>0.0</td>\n",
              "    </tr>\n",
              "    <tr>\n",
              "      <th>2016-02-06 09:00:00</th>\n",
              "      <td>176.0</td>\n",
              "      <td>9</td>\n",
              "      <td>9.4</td>\n",
              "      <td>0.0</td>\n",
              "      <td>4.4</td>\n",
              "      <td>-1.0</td>\n",
              "      <td>1026.6</td>\n",
              "      <td>0.0</td>\n",
              "      <td>0.0</td>\n",
              "      <td>119262</td>\n",
              "      <td>0.0</td>\n",
              "    </tr>\n",
              "    <tr>\n",
              "      <th>2016-02-06 10:00:00</th>\n",
              "      <td>180.0</td>\n",
              "      <td>9</td>\n",
              "      <td>8.3</td>\n",
              "      <td>0.0</td>\n",
              "      <td>3.3</td>\n",
              "      <td>0.0</td>\n",
              "      <td>1026.5</td>\n",
              "      <td>0.0</td>\n",
              "      <td>2.1</td>\n",
              "      <td>119262</td>\n",
              "      <td>0.0</td>\n",
              "    </tr>\n",
              "    <tr>\n",
              "      <th>2016-02-06 11:00:00</th>\n",
              "      <td>185.0</td>\n",
              "      <td>9</td>\n",
              "      <td>7.8</td>\n",
              "      <td>0.0</td>\n",
              "      <td>0.6</td>\n",
              "      <td>0.0</td>\n",
              "      <td>1026.4</td>\n",
              "      <td>280.0</td>\n",
              "      <td>2.1</td>\n",
              "      <td>119262</td>\n",
              "      <td>0.0</td>\n",
              "    </tr>\n",
              "    <tr>\n",
              "      <th>2016-02-06 12:00:00</th>\n",
              "      <td>186.0</td>\n",
              "      <td>9</td>\n",
              "      <td>7.8</td>\n",
              "      <td>0.0</td>\n",
              "      <td>-3.3</td>\n",
              "      <td>0.0</td>\n",
              "      <td>1026.3</td>\n",
              "      <td>290.0</td>\n",
              "      <td>3.1</td>\n",
              "      <td>119262</td>\n",
              "      <td>0.0</td>\n",
              "    </tr>\n",
              "    <tr>\n",
              "      <th>2016-02-06 13:00:00</th>\n",
              "      <td>187.0</td>\n",
              "      <td>9</td>\n",
              "      <td>7.2</td>\n",
              "      <td>0.0</td>\n",
              "      <td>-3.9</td>\n",
              "      <td>0.0</td>\n",
              "      <td>1026.4</td>\n",
              "      <td>300.0</td>\n",
              "      <td>2.1</td>\n",
              "      <td>119262</td>\n",
              "      <td>0.0</td>\n",
              "    </tr>\n",
              "    <tr>\n",
              "      <th>2016-02-06 14:00:00</th>\n",
              "      <td>190.0</td>\n",
              "      <td>9</td>\n",
              "      <td>7.8</td>\n",
              "      <td>0.0</td>\n",
              "      <td>-3.3</td>\n",
              "      <td>0.0</td>\n",
              "      <td>1027.4</td>\n",
              "      <td>310.0</td>\n",
              "      <td>5.7</td>\n",
              "      <td>119262</td>\n",
              "      <td>0.0</td>\n",
              "    </tr>\n",
              "    <tr>\n",
              "      <th>2016-02-06 15:00:00</th>\n",
              "      <td>183.0</td>\n",
              "      <td>9</td>\n",
              "      <td>8.9</td>\n",
              "      <td>0.0</td>\n",
              "      <td>-2.8</td>\n",
              "      <td>0.0</td>\n",
              "      <td>1028.4</td>\n",
              "      <td>300.0</td>\n",
              "      <td>3.6</td>\n",
              "      <td>119262</td>\n",
              "      <td>0.0</td>\n",
              "    </tr>\n",
              "    <tr>\n",
              "      <th>2016-02-06 16:00:00</th>\n",
              "      <td>186.0</td>\n",
              "      <td>9</td>\n",
              "      <td>10.0</td>\n",
              "      <td>0.0</td>\n",
              "      <td>-1.7</td>\n",
              "      <td>0.0</td>\n",
              "      <td>1029.0</td>\n",
              "      <td>300.0</td>\n",
              "      <td>4.6</td>\n",
              "      <td>119262</td>\n",
              "      <td>0.0</td>\n",
              "    </tr>\n",
              "    <tr>\n",
              "      <th>2016-02-06 17:00:00</th>\n",
              "      <td>189.0</td>\n",
              "      <td>9</td>\n",
              "      <td>12.2</td>\n",
              "      <td>0.0</td>\n",
              "      <td>-3.9</td>\n",
              "      <td>0.0</td>\n",
              "      <td>1029.4</td>\n",
              "      <td>320.0</td>\n",
              "      <td>6.2</td>\n",
              "      <td>119262</td>\n",
              "      <td>0.0</td>\n",
              "    </tr>\n",
              "    <tr>\n",
              "      <th>2016-02-06 18:00:00</th>\n",
              "      <td>189.0</td>\n",
              "      <td>9</td>\n",
              "      <td>13.3</td>\n",
              "      <td>0.0</td>\n",
              "      <td>-3.9</td>\n",
              "      <td>0.0</td>\n",
              "      <td>1029.3</td>\n",
              "      <td>340.0</td>\n",
              "      <td>4.1</td>\n",
              "      <td>119262</td>\n",
              "      <td>0.0</td>\n",
              "    </tr>\n",
              "    <tr>\n",
              "      <th>2016-02-06 19:00:00</th>\n",
              "      <td>190.0</td>\n",
              "      <td>9</td>\n",
              "      <td>14.4</td>\n",
              "      <td>0.0</td>\n",
              "      <td>-3.9</td>\n",
              "      <td>0.0</td>\n",
              "      <td>1028.4</td>\n",
              "      <td>340.0</td>\n",
              "      <td>4.6</td>\n",
              "      <td>119262</td>\n",
              "      <td>0.0</td>\n",
              "    </tr>\n",
              "    <tr>\n",
              "      <th>2016-02-06 20:00:00</th>\n",
              "      <td>199.0</td>\n",
              "      <td>9</td>\n",
              "      <td>15.0</td>\n",
              "      <td>0.0</td>\n",
              "      <td>-2.8</td>\n",
              "      <td>0.0</td>\n",
              "      <td>1027.8</td>\n",
              "      <td>350.0</td>\n",
              "      <td>6.7</td>\n",
              "      <td>119262</td>\n",
              "      <td>0.0</td>\n",
              "    </tr>\n",
              "    <tr>\n",
              "      <th>2016-02-06 21:00:00</th>\n",
              "      <td>91.0</td>\n",
              "      <td>9</td>\n",
              "      <td>15.0</td>\n",
              "      <td>0.0</td>\n",
              "      <td>-3.3</td>\n",
              "      <td>0.0</td>\n",
              "      <td>1027.8</td>\n",
              "      <td>330.0</td>\n",
              "      <td>6.2</td>\n",
              "      <td>119262</td>\n",
              "      <td>0.0</td>\n",
              "    </tr>\n",
              "    <tr>\n",
              "      <th>2016-02-06 22:00:00</th>\n",
              "      <td>85.0</td>\n",
              "      <td>9</td>\n",
              "      <td>15.6</td>\n",
              "      <td>0.0</td>\n",
              "      <td>-2.8</td>\n",
              "      <td>0.0</td>\n",
              "      <td>1027.4</td>\n",
              "      <td>360.0</td>\n",
              "      <td>3.6</td>\n",
              "      <td>119262</td>\n",
              "      <td>0.0</td>\n",
              "    </tr>\n",
              "    <tr>\n",
              "      <th>2016-02-06 23:00:00</th>\n",
              "      <td>83.0</td>\n",
              "      <td>9</td>\n",
              "      <td>14.4</td>\n",
              "      <td>0.0</td>\n",
              "      <td>-2.8</td>\n",
              "      <td>0.0</td>\n",
              "      <td>1027.8</td>\n",
              "      <td>340.0</td>\n",
              "      <td>3.6</td>\n",
              "      <td>119262</td>\n",
              "      <td>0.0</td>\n",
              "    </tr>\n",
              "  </tbody>\n",
              "</table>\n",
              "</div>"
            ],
            "text/plain": [
              "                     meter_reading  site_id  ...  square_feet  year_built\n",
              "timestamp                                    ...                         \n",
              "2016-02-06 00:00:00          101.0        9  ...       119262         0.0\n",
              "2016-02-06 01:00:00           90.0        9  ...       119262         0.0\n",
              "2016-02-06 02:00:00           78.0        9  ...       119262         0.0\n",
              "2016-02-06 03:00:00           76.0        9  ...       119262         0.0\n",
              "2016-02-06 04:00:00           79.0        9  ...       119262         0.0\n",
              "2016-02-06 05:00:00           76.0        9  ...       119262         0.0\n",
              "2016-02-06 06:00:00           76.0        9  ...       119262         0.0\n",
              "2016-02-06 07:00:00           76.0        9  ...       119262         0.0\n",
              "2016-02-06 08:00:00          105.0        9  ...       119262         0.0\n",
              "2016-02-06 09:00:00          176.0        9  ...       119262         0.0\n",
              "2016-02-06 10:00:00          180.0        9  ...       119262         0.0\n",
              "2016-02-06 11:00:00          185.0        9  ...       119262         0.0\n",
              "2016-02-06 12:00:00          186.0        9  ...       119262         0.0\n",
              "2016-02-06 13:00:00          187.0        9  ...       119262         0.0\n",
              "2016-02-06 14:00:00          190.0        9  ...       119262         0.0\n",
              "2016-02-06 15:00:00          183.0        9  ...       119262         0.0\n",
              "2016-02-06 16:00:00          186.0        9  ...       119262         0.0\n",
              "2016-02-06 17:00:00          189.0        9  ...       119262         0.0\n",
              "2016-02-06 18:00:00          189.0        9  ...       119262         0.0\n",
              "2016-02-06 19:00:00          190.0        9  ...       119262         0.0\n",
              "2016-02-06 20:00:00          199.0        9  ...       119262         0.0\n",
              "2016-02-06 21:00:00           91.0        9  ...       119262         0.0\n",
              "2016-02-06 22:00:00           85.0        9  ...       119262         0.0\n",
              "2016-02-06 23:00:00           83.0        9  ...       119262         0.0\n",
              "\n",
              "[24 rows x 11 columns]"
            ]
          },
          "metadata": {},
          "execution_count": 170
        }
      ]
    },
    {
      "cell_type": "code",
      "metadata": {
        "colab": {
          "base_uri": "https://localhost:8080/"
        },
        "id": "GIleVg3M0Bq_",
        "outputId": "a7011599-1d2f-4310-8803-c0464e790d83"
      },
      "source": [
        "final3.loc[:, final3.columns != 'meter_reading'].sum().sum()"
      ],
      "execution_count": 174,
      "outputs": [
        {
          "output_type": "execute_result",
          "data": {
            "text/plain": [
              "2891617.8"
            ]
          },
          "metadata": {},
          "execution_count": 174
        }
      ]
    },
    {
      "cell_type": "markdown",
      "metadata": {
        "id": "g3pXfxlbdhNe"
      },
      "source": [
        "#### provide your answer here, drop the decimals"
      ]
    },
    {
      "cell_type": "code",
      "metadata": {
        "colab": {
          "base_uri": "https://localhost:8080/"
        },
        "id": "Hx9qb5ePdhNe",
        "outputId": "123a7eae-69c3-486c-fc59-96445e553179"
      },
      "source": [
        "# target variable sum\n",
        "sumY = final3.loc[:,'meter_reading'].sum()\n",
        "\n",
        "# input variables sum\n",
        "sumX =  final3.loc[:, final3.columns != 'meter_reading'].sum().sum()\n",
        "\n",
        "sumX, sumY"
      ],
      "execution_count": 175,
      "outputs": [
        {
          "output_type": "execute_result",
          "data": {
            "text/plain": [
              "(2891617.8, 3256.0)"
            ]
          },
          "metadata": {},
          "execution_count": 175
        }
      ]
    },
    {
      "cell_type": "code",
      "metadata": {
        "id": "E3uBPxspdhNf"
      },
      "source": [
        ""
      ],
      "execution_count": null,
      "outputs": []
    },
    {
      "cell_type": "code",
      "metadata": {
        "id": "TXf4xS-HdhNg"
      },
      "source": [
        ""
      ],
      "execution_count": null,
      "outputs": []
    },
    {
      "cell_type": "markdown",
      "metadata": {
        "id": "Hg5K_-BOdhNg"
      },
      "source": [
        "**submit your answer**"
      ]
    },
    {
      "cell_type": "code",
      "metadata": {
        "scrolled": true,
        "colab": {
          "base_uri": "https://localhost:8080/",
          "height": 124
        },
        "id": "TQwn5_pDdhNg",
        "outputId": "59070ac2-821c-479e-e5f8-91834ea8ff08"
      },
      "source": [
        "student.submit_task(globals(), task_id=\"task_01\");"
      ],
      "execution_count": 178,
      "outputs": [
        {
          "output_type": "display_data",
          "data": {
            "text/html": [
              "\n",
              "                    <b>task_01 submitted.</b> <b><font color=\"blue\">your grade is 5</font></b> \n",
              "                    <p/><pre>----- grader message -------</pre>checking for building_id=967 and date='2016-02-06'<br/><b>correct</b><pre>----------------------------</pre>\n",
              "                    <p/><p/>\n",
              "                    <div style=\"font-size:10px\"><b>SUBMISSION CODE</b> kcdhkrpaK4hvOBy2TKpLUw3WcGH/xHyfftMFjcr+1uXUbLFDIKlokFnMjv/LfQf3HvyehNAJhrkoD9KjSN1GEUwn9F1N4CS/G8yemSEPnqYsiCA/KgkUYUiQBDIKm2gY5g8bYHysWdvIJkbC8i3Eig==</div>\n",
              "                    "
            ],
            "text/plain": [
              "<IPython.core.display.HTML object>"
            ]
          },
          "metadata": {}
        }
      ]
    },
    {
      "cell_type": "code",
      "metadata": {
        "id": "3NyI4mUzdhNh"
      },
      "source": [
        ""
      ],
      "execution_count": null,
      "outputs": []
    },
    {
      "cell_type": "markdown",
      "metadata": {
        "id": "8YOTVKnvdhNh"
      },
      "source": [
        "## Task 2. Time series missing data fix\n",
        "\n",
        "Observe how we can fill in missing data in a time series, by simply repeating the last seen value in the missing places."
      ]
    },
    {
      "cell_type": "code",
      "metadata": {
        "id": "tCZBes1rdhNh",
        "outputId": "4d6e0509-6a33-4e32-abf3-fd0894fc7f25"
      },
      "source": [
        "Image(\"local/imgs/timeseries-ffill.png\")"
      ],
      "execution_count": null,
      "outputs": [
        {
          "data": {
            "image/png": "[encoded data removed]",
            "text/plain": [
              "<IPython.core.display.Image object>"
            ]
          },
          "execution_count": 40,
          "metadata": {},
          "output_type": "execute_result"
        }
      ]
    },
    {
      "cell_type": "markdown",
      "metadata": {
        "id": "2BmQGCCSdhNi"
      },
      "source": [
        "Using the weather data from the ASHRAE Kaggle competition that you must have downloaded in the previous task you will have to:\n",
        "\n",
        "1. Extract the time series for the variable `cloud_coverage` for **site_id=3** and for the **date assigned to you** (execute the cell below). This time series will have 24 values (including missing values).\n",
        "1. Fill in the missing data by repeating the last seen value as in the example above\n",
        "1. Report the time series as a Pyton list in the variable `fixed_ts` below\n",
        "\n",
        "Again, use any tool of your choice to generate your result"
      ]
    },
    {
      "cell_type": "code",
      "metadata": {
        "colab": {
          "base_uri": "https://localhost:8080/"
        },
        "id": "B8klw3lhdhNj",
        "outputId": "6d106e95-dc43-40e0-bafc-eb2efd93d2b4"
      },
      "source": [
        "from local.lib import labutils\n",
        "_, date = labutils.biddate_for_student(student.user_id)\n",
        "print (\"your date       \", date)"
      ],
      "execution_count": 179,
      "outputs": [
        {
          "output_type": "stream",
          "name": "stdout",
          "text": [
            "your date        2016-02-06\n"
          ]
        }
      ]
    },
    {
      "cell_type": "code",
      "metadata": {
        "colab": {
          "base_uri": "https://localhost:8080/"
        },
        "id": "6tabCMdI2kpq",
        "outputId": "d071bb7d-eb1a-4ca7-9e24-ee66c60a5c9b"
      },
      "source": [
        "weather = pd.read_csv('weather_train.csv',parse_dates=['timestamp'])\n",
        "weather2 = weather[(weather.site_id == 3)\n",
        "                  &(weather.timestamp.dt.date==pd.to_datetime(date))]\n",
        "\n",
        "weather2.loc[:,'cloud_coverage']"
      ],
      "execution_count": 190,
      "outputs": [
        {
          "output_type": "execute_result",
          "data": {
            "text/plain": [
              "27194    0.0\n",
              "27195    0.0\n",
              "27196    0.0\n",
              "27197    4.0\n",
              "27198    4.0\n",
              "27199    2.0\n",
              "27200    2.0\n",
              "27201    0.0\n",
              "27202    0.0\n",
              "27203    0.0\n",
              "27204    0.0\n",
              "27205    4.0\n",
              "27206    6.0\n",
              "27207    NaN\n",
              "27208    NaN\n",
              "27209    6.0\n",
              "27210    NaN\n",
              "27211    NaN\n",
              "27212    6.0\n",
              "27213    NaN\n",
              "27214    NaN\n",
              "27215    6.0\n",
              "27216    4.0\n",
              "27217    NaN\n",
              "Name: cloud_coverage, dtype: float64"
            ]
          },
          "metadata": {},
          "execution_count": 190
        }
      ]
    },
    {
      "cell_type": "markdown",
      "metadata": {
        "id": "X9gmMBc0dhNj"
      },
      "source": [
        "#### fill in your fixed time series"
      ]
    },
    {
      "cell_type": "code",
      "metadata": {
        "id": "RZYTdu6MdhNj"
      },
      "source": [
        "# for instance\n",
        "# fixed_ts = [6,6,6,4,4,5,6,7,7,7,6,6,6,5,4,3,2,2,1,1,1,2,3,4]\n",
        "fixed_ts = [0,0,0,4,4,2,2,0,0,0,0,4,6,6,6,6,6,6,6,6,6,6,4,4]\n"
      ],
      "execution_count": 248,
      "outputs": []
    },
    {
      "cell_type": "markdown",
      "metadata": {
        "id": "xY4xv7rndhNj"
      },
      "source": [
        "**submit your answer**"
      ]
    },
    {
      "cell_type": "code",
      "metadata": {
        "scrolled": false,
        "colab": {
          "base_uri": "https://localhost:8080/",
          "height": 124
        },
        "id": "p9NrRYhYdhNk",
        "outputId": "6360982c-0c1d-4053-d8b0-44a462a86aa3"
      },
      "source": [
        "student.submit_task(globals(), task_id=\"task_02\");"
      ],
      "execution_count": 194,
      "outputs": [
        {
          "output_type": "display_data",
          "data": {
            "text/html": [
              "\n",
              "                    <b>task_02 submitted.</b> <b><font color=\"blue\">your grade is 5</font></b> \n",
              "                    <p/><pre>----- grader message -------</pre>checking for date='2016-02-06'<br/><b>correct</b><pre>----------------------------</pre>\n",
              "                    <p/><p/>\n",
              "                    <div style=\"font-size:10px\"><b>SUBMISSION CODE</b> gmJMONz2gWTZDkPkD+NshqAaAEqxLhxOx60mFu58ZMKQQNfTG4g0jGKYk08XsmY5+q8HyZZP447reZg7NktjfNMvyJVpHXN0iBnv4t8HnPvbX0ZRFfILaMVWyLl+Sb3bVd59IUy4rmfmB/e+hKyrnQ==</div>\n",
              "                    "
            ],
            "text/plain": [
              "<IPython.core.display.HTML object>"
            ]
          },
          "metadata": {}
        }
      ]
    },
    {
      "cell_type": "code",
      "metadata": {
        "id": "ra7wwDjDdhNk"
      },
      "source": [
        ""
      ],
      "execution_count": null,
      "outputs": []
    },
    {
      "cell_type": "markdown",
      "metadata": {
        "id": "mVMACddUdhNk"
      },
      "source": [
        "## Task 3. Build a time series predictive dataset\n",
        "\n",
        "You will now build a predictive dataset for a single time series. This dataset can later be used with predictive models. The machine learning task we will try to adress is the following:\n",
        "\n",
        "> **Given three consecutive points of a time series, we want a model to predict the next one.**\n",
        "\n",
        "Starting from a time series (a list of of $n$ numbers) you will have to build a dataset such as in the following example\n",
        "\n"
      ]
    },
    {
      "cell_type": "code",
      "metadata": {
        "colab": {
          "base_uri": "https://localhost:8080/",
          "height": 174
        },
        "id": "RKhb0JhsdhNk",
        "outputId": "d0c37006-6d10-4830-cd16-14c1773ad7ad"
      },
      "source": [
        "\n",
        "import numpy as np\n",
        "import matplotlib.pyplot as plt\n",
        "%matplotlib inline\n",
        "\n",
        "ts = np.r_[44, 45, 42, 38, 47, 45, 46, 44, 47, 52, 53, 48, 46, 42, 42, 34, 30, 27, 24, 24]\n",
        "plt.figure(figsize=(10,2))\n",
        "plt.xticks(range(len(ts)), range(len(ts)))\n",
        "plt.grid();\n",
        "plt.plot(ts)\n",
        "print (ts)\n"
      ],
      "execution_count": 195,
      "outputs": [
        {
          "output_type": "stream",
          "name": "stdout",
          "text": [
            "[44 45 42 38 47 45 46 44 47 52 53 48 46 42 42 34 30 27 24 24]\n"
          ]
        },
        {
          "output_type": "display_data",
          "data": {
            "image/png": "[encoded data removed]",
            "text/plain": [
              "<Figure size 720x144 with 1 Axes>"
            ]
          },
          "metadata": {
            "needs_background": "light"
          }
        }
      ]
    },
    {
      "cell_type": "markdown",
      "metadata": {
        "id": "tYUaEI0ddhNk"
      },
      "source": [
        "dataset:\n",
        "\n",
        "    [[[44, 45, 42], 38],\n",
        "     [[45, 42, 38], 47],\n",
        "     [[42, 38, 47], 45],\n",
        "     [[38, 47, 45], 46],\n",
        "     [[47, 45, 46], 44],\n",
        "     [[45, 46, 44], 47],\n",
        "     [[46, 44, 47], 52],\n",
        "     [[44, 47, 52], 53],\n",
        "     [[47, 52, 53], 48],\n",
        "     [[52, 53, 48], 46],\n",
        "     [[53, 48, 46], 42],\n",
        "     [[48, 46, 42], 42],\n",
        "     [[46, 42, 42], 34],\n",
        "     [[42, 42, 34], 30],\n",
        "     [[42, 34, 30], 27],\n",
        "     [[34, 30, 27], 24]]"
      ]
    },
    {
      "cell_type": "markdown",
      "metadata": {
        "id": "uqzRW-VrdhNl"
      },
      "source": [
        "observe that each line in the dataset represents one input-output pair, like a sliding window over the time series. \n",
        "\n",
        "We created two components:\n",
        "\n",
        "- a matrix $X$ of dimensions `(len(ts)-n-1,3)` gathering all inputs, in the case above with dimensions `(17,3)`\n",
        "- a vector $y$ of dimension `(len(ts)-n-1)` gathering each corresponding expected output, in the case above with dimensions `(17)`.\n",
        "\n",
        "In this task, you will have to:\n",
        "\n",
        "1. Take the time series you created in the previous task, where you fixed the missing values.\n",
        "1. Build $X$, $y$ such as above with $n=3$. If your time series has 24 data points, then X dimensions will be (20,3) and y dimensions will be (20)\n",
        "\n",
        "Again, use any tool of your choice to generate your result."
      ]
    },
    {
      "cell_type": "code",
      "metadata": {
        "id": "bKuQ_FQz6dBT"
      },
      "source": [
        "fixed_ts = ts"
      ],
      "execution_count": 234,
      "outputs": []
    },
    {
      "cell_type": "code",
      "metadata": {
        "colab": {
          "base_uri": "https://localhost:8080/"
        },
        "id": "LWs4wdBedhNl",
        "outputId": "7a70c21a-23cc-49a3-d212-da12cc71b455"
      },
      "source": [
        "y=fixed_ts[3:-1]\n",
        "y"
      ],
      "execution_count": 249,
      "outputs": [
        {
          "output_type": "execute_result",
          "data": {
            "text/plain": [
              "[4, 4, 2, 2, 0, 0, 0, 0, 4, 6, 6, 6, 6, 6, 6, 6, 6, 6, 6, 4]"
            ]
          },
          "metadata": {},
          "execution_count": 249
        }
      ]
    },
    {
      "cell_type": "code",
      "metadata": {
        "id": "g0QtIlug5CBx",
        "outputId": "7f0d1b0f-7936-453f-d5dd-4b01bc600b25",
        "colab": {
          "base_uri": "https://localhost:8080/"
        }
      },
      "source": [
        "X=[]\n",
        "for i in range(len(fixed_ts)-3-1):\n",
        "  X.append([num for num in fixed_ts[i:3+i]])\n",
        "\n",
        "X"
      ],
      "execution_count": 250,
      "outputs": [
        {
          "output_type": "execute_result",
          "data": {
            "text/plain": [
              "[[0, 0, 0],\n",
              " [0, 0, 4],\n",
              " [0, 4, 4],\n",
              " [4, 4, 2],\n",
              " [4, 2, 2],\n",
              " [2, 2, 0],\n",
              " [2, 0, 0],\n",
              " [0, 0, 0],\n",
              " [0, 0, 0],\n",
              " [0, 0, 4],\n",
              " [0, 4, 6],\n",
              " [4, 6, 6],\n",
              " [6, 6, 6],\n",
              " [6, 6, 6],\n",
              " [6, 6, 6],\n",
              " [6, 6, 6],\n",
              " [6, 6, 6],\n",
              " [6, 6, 6],\n",
              " [6, 6, 6],\n",
              " [6, 6, 6]]"
            ]
          },
          "metadata": {},
          "execution_count": 250
        }
      ]
    },
    {
      "cell_type": "markdown",
      "metadata": {
        "id": "DRL6zW0FdhNl"
      },
      "source": [
        "#### fill in your answer\n"
      ]
    },
    {
      "cell_type": "code",
      "metadata": {
        "id": "L_7uMxA0dhNm"
      },
      "source": [
        "X = [ [  ,  ,  ],\n",
        "      [  ,  ,  ],\n",
        "      [  ,  ,  ] \n",
        "       ....\n",
        "    ]\n",
        "\n",
        "y = [ , , , , ... ]"
      ],
      "execution_count": null,
      "outputs": []
    },
    {
      "cell_type": "code",
      "metadata": {
        "colab": {
          "base_uri": "https://localhost:8080/"
        },
        "id": "U_PdCgFydhNm",
        "outputId": "cc54c129-a79a-489a-e921-869526c76e11"
      },
      "source": [
        "24-3-1"
      ],
      "execution_count": 229,
      "outputs": [
        {
          "output_type": "execute_result",
          "data": {
            "text/plain": [
              "20"
            ]
          },
          "metadata": {},
          "execution_count": 229
        }
      ]
    },
    {
      "cell_type": "code",
      "metadata": {
        "id": "Y-nyZgvndhNm"
      },
      "source": [
        ""
      ],
      "execution_count": null,
      "outputs": []
    },
    {
      "cell_type": "markdown",
      "metadata": {
        "id": "7owK-0PtdhNm"
      },
      "source": [
        "**submit your answer**"
      ]
    },
    {
      "cell_type": "code",
      "metadata": {
        "scrolled": false,
        "colab": {
          "base_uri": "https://localhost:8080/",
          "height": 124
        },
        "id": "5Ddv_3f9dhNn",
        "outputId": "8538d473-3820-4522-ecef-07d54a81d1f2"
      },
      "source": [
        "student.submit_task(globals(), task_id=\"task_03\");"
      ],
      "execution_count": 253,
      "outputs": [
        {
          "output_type": "display_data",
          "data": {
            "text/html": [
              "\n",
              "                    <b>task_03 submitted.</b> <b><font color=\"blue\">your grade is 5</font></b> \n",
              "                    <p/><pre>----- grader message -------</pre>checking for date='2016-02-06'<br/><b>correct</b><pre>----------------------------</pre>\n",
              "                    <p/><p/>\n",
              "                    <div style=\"font-size:10px\"><b>SUBMISSION CODE</b> e6737Vi6KPbinrHHDxCcw4j0Yu4mz0UWRx2R0jZXUfwMxBgnzX7fxZfW+VqCM0EW9JQSVlOE9hPCiP7DV8haUmjNb1MQyQOLLy/BVgv49eVU0HP4tl7K/vNZshUyKzvaRFkLoBmgR295QM9D8tLiTg==</div>\n",
              "                    "
            ],
            "text/plain": [
              "<IPython.core.display.HTML object>"
            ]
          },
          "metadata": {}
        }
      ]
    },
    {
      "cell_type": "code",
      "metadata": {
        "id": "eQM6KaGFdhNn"
      },
      "source": [
        ""
      ],
      "execution_count": null,
      "outputs": []
    }
  ]
}