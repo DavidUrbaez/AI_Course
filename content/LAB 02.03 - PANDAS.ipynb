{
  "nbformat": 4,
  "nbformat_minor": 0,
  "metadata": {
    "kernelspec": {
      "display_name": "Python 3",
      "language": "python",
      "name": "python3"
    },
    "language_info": {
      "codemirror_mode": {
        "name": "ipython",
        "version": 3
      },
      "file_extension": ".py",
      "mimetype": "text/x-python",
      "name": "python",
      "nbconvert_exporter": "python",
      "pygments_lexer": "ipython3",
      "version": "3.7.3"
    },
    "colab": {
      "name": "LAB 02.03 - PANDAS.ipynb",
      "provenance": [],
      "include_colab_link": true
    },
    "widgets": {
      "application/vnd.jupyter.widget-state+json": {
        "d876b57b8b0a4a228e70d4354602ee94": {
          "model_module": "@jupyter-widgets/controls",
          "model_name": "HBoxModel",
          "state": {
            "_view_name": "HBoxView",
            "_dom_classes": [],
            "_model_name": "HBoxModel",
            "_view_module": "@jupyter-widgets/controls",
            "_model_module_version": "1.5.0",
            "_view_count": null,
            "_view_module_version": "1.5.0",
            "box_style": "",
            "layout": "IPY_MODEL_9e8f551e5b0e4cbfa1eb1ddf2123fc01",
            "_model_module": "@jupyter-widgets/controls",
            "children": [
              "IPY_MODEL_94af127b84d24278aa52642ea48b98fe",
              "IPY_MODEL_1a3f1ef3cb484b86b332e78a8bd2e7a8",
              "IPY_MODEL_916875a69a8f458e8f5a3da3564a0fff",
              "IPY_MODEL_7498a22d7c3645fe88e52d4000edd7d4"
            ]
          }
        },
        "9e8f551e5b0e4cbfa1eb1ddf2123fc01": {
          "model_module": "@jupyter-widgets/base",
          "model_name": "LayoutModel",
          "state": {
            "_view_name": "LayoutView",
            "grid_template_rows": null,
            "right": null,
            "justify_content": null,
            "_view_module": "@jupyter-widgets/base",
            "overflow": null,
            "_model_module_version": "1.2.0",
            "_view_count": null,
            "flex_flow": null,
            "width": null,
            "min_width": null,
            "border": null,
            "align_items": null,
            "bottom": null,
            "_model_module": "@jupyter-widgets/base",
            "top": null,
            "grid_column": null,
            "overflow_y": null,
            "overflow_x": null,
            "grid_auto_flow": null,
            "grid_area": null,
            "grid_template_columns": null,
            "flex": null,
            "_model_name": "LayoutModel",
            "justify_items": null,
            "grid_row": null,
            "max_height": null,
            "align_content": null,
            "visibility": null,
            "align_self": null,
            "height": null,
            "min_height": null,
            "padding": null,
            "grid_auto_rows": null,
            "grid_gap": null,
            "max_width": null,
            "order": null,
            "_view_module_version": "1.2.0",
            "grid_template_areas": null,
            "object_position": null,
            "object_fit": null,
            "grid_auto_columns": null,
            "margin": null,
            "display": null,
            "left": null
          }
        },
        "94af127b84d24278aa52642ea48b98fe": {
          "model_module": "@jupyter-widgets/controls",
          "model_name": "VBoxModel",
          "state": {
            "_view_name": "VBoxView",
            "_dom_classes": [],
            "_model_name": "VBoxModel",
            "_view_module": "@jupyter-widgets/controls",
            "_model_module_version": "1.5.0",
            "_view_count": null,
            "_view_module_version": "1.5.0",
            "box_style": "",
            "layout": "IPY_MODEL_092078575a9542e098e2f702d686007a",
            "_model_module": "@jupyter-widgets/controls",
            "children": [
              "IPY_MODEL_a679bb657c184b5daf2c839f6cfe0def",
              "IPY_MODEL_7a3c0aca406945ff99460db2babad599"
            ]
          }
        },
        "1a3f1ef3cb484b86b332e78a8bd2e7a8": {
          "model_module": "@jupyter-widgets/controls",
          "model_name": "ButtonModel",
          "state": {
            "_view_name": "ButtonView",
            "style": "IPY_MODEL_0a683e8471e0470aac8f488de55031f9",
            "_dom_classes": [
              "login_button"
            ],
            "description": "Login with email",
            "_model_name": "ButtonModel",
            "button_style": "",
            "_view_module": "@jupyter-widgets/controls",
            "_model_module_version": "1.5.0",
            "tooltip": "",
            "_view_count": null,
            "disabled": false,
            "_view_module_version": "1.5.0",
            "layout": "IPY_MODEL_78a1fc37c34945429e7a35e524816183",
            "_model_module": "@jupyter-widgets/controls",
            "icon": ""
          }
        },
        "916875a69a8f458e8f5a3da3564a0fff": {
          "model_module": "@jupyter-widgets/controls",
          "model_name": "HTMLModel",
          "state": {
            "_view_name": "HTMLView",
            "style": "IPY_MODEL_123c1e030eb84cb38afd544dd163b42e",
            "_dom_classes": [],
            "description": "",
            "_model_name": "HTMLModel",
            "placeholder": "​",
            "_view_module": "@jupyter-widgets/controls",
            "_model_module_version": "1.5.0",
            "value": "<center><big>or</big></center>",
            "_view_count": null,
            "_view_module_version": "1.5.0",
            "description_tooltip": null,
            "_model_module": "@jupyter-widgets/controls",
            "layout": "IPY_MODEL_00a77c6da2e2450ea326ffaa8b0970c4"
          }
        },
        "7498a22d7c3645fe88e52d4000edd7d4": {
          "model_module": "@jupyter-widgets/controls",
          "model_name": "ButtonModel",
          "state": {
            "_view_name": "ButtonView",
            "style": "IPY_MODEL_aa9c32dd867c4c7ba3bb39c04d09098e",
            "_dom_classes": [
              "google_button"
            ],
            "description": "Login with Google",
            "_model_name": "ButtonModel",
            "button_style": "",
            "_view_module": "@jupyter-widgets/controls",
            "_model_module_version": "1.5.0",
            "tooltip": "",
            "_view_count": null,
            "disabled": false,
            "_view_module_version": "1.5.0",
            "layout": "IPY_MODEL_3bc5c4bd17d24bec962f06db67ff0273",
            "_model_module": "@jupyter-widgets/controls",
            "icon": ""
          }
        },
        "092078575a9542e098e2f702d686007a": {
          "model_module": "@jupyter-widgets/base",
          "model_name": "LayoutModel",
          "state": {
            "_view_name": "LayoutView",
            "grid_template_rows": null,
            "right": null,
            "justify_content": null,
            "_view_module": "@jupyter-widgets/base",
            "overflow": null,
            "_model_module_version": "1.2.0",
            "_view_count": null,
            "flex_flow": null,
            "width": null,
            "min_width": null,
            "border": null,
            "align_items": null,
            "bottom": null,
            "_model_module": "@jupyter-widgets/base",
            "top": null,
            "grid_column": null,
            "overflow_y": null,
            "overflow_x": null,
            "grid_auto_flow": null,
            "grid_area": null,
            "grid_template_columns": null,
            "flex": null,
            "_model_name": "LayoutModel",
            "justify_items": null,
            "grid_row": null,
            "max_height": null,
            "align_content": null,
            "visibility": null,
            "align_self": null,
            "height": null,
            "min_height": null,
            "padding": null,
            "grid_auto_rows": null,
            "grid_gap": null,
            "max_width": null,
            "order": null,
            "_view_module_version": "1.2.0",
            "grid_template_areas": null,
            "object_position": null,
            "object_fit": null,
            "grid_auto_columns": null,
            "margin": null,
            "display": null,
            "left": null
          }
        },
        "a679bb657c184b5daf2c839f6cfe0def": {
          "model_module": "@jupyter-widgets/controls",
          "model_name": "TextModel",
          "state": {
            "_view_name": "TextView",
            "style": "IPY_MODEL_08e9063bbc604d2c83e8e385ef7514a1",
            "_dom_classes": [],
            "description": "email",
            "_model_name": "TextModel",
            "placeholder": "​",
            "_view_module": "@jupyter-widgets/controls",
            "_model_module_version": "1.5.0",
            "value": "",
            "_view_count": null,
            "disabled": false,
            "_view_module_version": "1.5.0",
            "continuous_update": true,
            "description_tooltip": null,
            "_model_module": "@jupyter-widgets/controls",
            "layout": "IPY_MODEL_5086156a55f2451b936838ff088ea4cc"
          }
        },
        "7a3c0aca406945ff99460db2babad599": {
          "model_module": "@jupyter-widgets/controls",
          "model_name": "PasswordModel",
          "state": {
            "_view_name": "PasswordView",
            "style": "IPY_MODEL_8d890e322811400e8ebad7748c389437",
            "_dom_classes": [],
            "description": "password",
            "_model_name": "PasswordModel",
            "placeholder": "​",
            "_view_module": "@jupyter-widgets/controls",
            "_model_module_version": "1.5.0",
            "value": "",
            "_view_count": null,
            "disabled": false,
            "_view_module_version": "1.5.0",
            "continuous_update": true,
            "description_tooltip": null,
            "_model_module": "@jupyter-widgets/controls",
            "layout": "IPY_MODEL_cc73dc42d31946dca89c395d940ea291"
          }
        },
        "0a683e8471e0470aac8f488de55031f9": {
          "model_module": "@jupyter-widgets/controls",
          "model_name": "ButtonStyleModel",
          "state": {
            "_view_name": "StyleView",
            "_model_name": "ButtonStyleModel",
            "_view_module": "@jupyter-widgets/base",
            "_model_module_version": "1.5.0",
            "_view_count": null,
            "button_color": null,
            "font_weight": "",
            "_view_module_version": "1.2.0",
            "_model_module": "@jupyter-widgets/controls"
          }
        },
        "78a1fc37c34945429e7a35e524816183": {
          "model_module": "@jupyter-widgets/base",
          "model_name": "LayoutModel",
          "state": {
            "_view_name": "LayoutView",
            "grid_template_rows": null,
            "right": null,
            "justify_content": null,
            "_view_module": "@jupyter-widgets/base",
            "overflow": null,
            "_model_module_version": "1.2.0",
            "_view_count": null,
            "flex_flow": null,
            "width": "150px",
            "min_width": null,
            "border": null,
            "align_items": null,
            "bottom": null,
            "_model_module": "@jupyter-widgets/base",
            "top": null,
            "grid_column": null,
            "overflow_y": null,
            "overflow_x": null,
            "grid_auto_flow": null,
            "grid_area": null,
            "grid_template_columns": null,
            "flex": null,
            "_model_name": "LayoutModel",
            "justify_items": null,
            "grid_row": null,
            "max_height": null,
            "align_content": null,
            "visibility": null,
            "align_self": null,
            "height": "53px",
            "min_height": null,
            "padding": null,
            "grid_auto_rows": null,
            "grid_gap": null,
            "max_width": null,
            "order": null,
            "_view_module_version": "1.2.0",
            "grid_template_areas": null,
            "object_position": null,
            "object_fit": null,
            "grid_auto_columns": null,
            "margin": null,
            "display": null,
            "left": null
          }
        },
        "123c1e030eb84cb38afd544dd163b42e": {
          "model_module": "@jupyter-widgets/controls",
          "model_name": "DescriptionStyleModel",
          "state": {
            "_view_name": "StyleView",
            "_model_name": "DescriptionStyleModel",
            "description_width": "",
            "_view_module": "@jupyter-widgets/base",
            "_model_module_version": "1.5.0",
            "_view_count": null,
            "_view_module_version": "1.2.0",
            "_model_module": "@jupyter-widgets/controls"
          }
        },
        "00a77c6da2e2450ea326ffaa8b0970c4": {
          "model_module": "@jupyter-widgets/base",
          "model_name": "LayoutModel",
          "state": {
            "_view_name": "LayoutView",
            "grid_template_rows": null,
            "right": null,
            "justify_content": null,
            "_view_module": "@jupyter-widgets/base",
            "overflow": null,
            "_model_module_version": "1.2.0",
            "_view_count": null,
            "flex_flow": null,
            "width": "100px",
            "min_width": null,
            "border": null,
            "align_items": null,
            "bottom": null,
            "_model_module": "@jupyter-widgets/base",
            "top": null,
            "grid_column": null,
            "overflow_y": null,
            "overflow_x": null,
            "grid_auto_flow": null,
            "grid_area": null,
            "grid_template_columns": null,
            "flex": null,
            "_model_name": "LayoutModel",
            "justify_items": null,
            "grid_row": null,
            "max_height": null,
            "align_content": null,
            "visibility": null,
            "align_self": null,
            "height": null,
            "min_height": null,
            "padding": null,
            "grid_auto_rows": null,
            "grid_gap": null,
            "max_width": null,
            "order": null,
            "_view_module_version": "1.2.0",
            "grid_template_areas": null,
            "object_position": null,
            "object_fit": null,
            "grid_auto_columns": null,
            "margin": null,
            "display": null,
            "left": null
          }
        },
        "aa9c32dd867c4c7ba3bb39c04d09098e": {
          "model_module": "@jupyter-widgets/controls",
          "model_name": "ButtonStyleModel",
          "state": {
            "_view_name": "StyleView",
            "_model_name": "ButtonStyleModel",
            "_view_module": "@jupyter-widgets/base",
            "_model_module_version": "1.5.0",
            "_view_count": null,
            "button_color": null,
            "font_weight": "",
            "_view_module_version": "1.2.0",
            "_model_module": "@jupyter-widgets/controls"
          }
        },
        "3bc5c4bd17d24bec962f06db67ff0273": {
          "model_module": "@jupyter-widgets/base",
          "model_name": "LayoutModel",
          "state": {
            "_view_name": "LayoutView",
            "grid_template_rows": null,
            "right": null,
            "justify_content": null,
            "_view_module": "@jupyter-widgets/base",
            "overflow": null,
            "_model_module_version": "1.2.0",
            "_view_count": null,
            "flex_flow": null,
            "width": "200px",
            "min_width": null,
            "border": null,
            "align_items": null,
            "bottom": null,
            "_model_module": "@jupyter-widgets/base",
            "top": null,
            "grid_column": null,
            "overflow_y": null,
            "overflow_x": null,
            "grid_auto_flow": null,
            "grid_area": null,
            "grid_template_columns": null,
            "flex": null,
            "_model_name": "LayoutModel",
            "justify_items": null,
            "grid_row": null,
            "max_height": null,
            "align_content": null,
            "visibility": null,
            "align_self": null,
            "height": "53px",
            "min_height": null,
            "padding": null,
            "grid_auto_rows": null,
            "grid_gap": null,
            "max_width": null,
            "order": null,
            "_view_module_version": "1.2.0",
            "grid_template_areas": null,
            "object_position": null,
            "object_fit": null,
            "grid_auto_columns": null,
            "margin": null,
            "display": null,
            "left": null
          }
        },
        "08e9063bbc604d2c83e8e385ef7514a1": {
          "model_module": "@jupyter-widgets/controls",
          "model_name": "DescriptionStyleModel",
          "state": {
            "_view_name": "StyleView",
            "_model_name": "DescriptionStyleModel",
            "description_width": "",
            "_view_module": "@jupyter-widgets/base",
            "_model_module_version": "1.5.0",
            "_view_count": null,
            "_view_module_version": "1.2.0",
            "_model_module": "@jupyter-widgets/controls"
          }
        },
        "5086156a55f2451b936838ff088ea4cc": {
          "model_module": "@jupyter-widgets/base",
          "model_name": "LayoutModel",
          "state": {
            "_view_name": "LayoutView",
            "grid_template_rows": null,
            "right": null,
            "justify_content": null,
            "_view_module": "@jupyter-widgets/base",
            "overflow": null,
            "_model_module_version": "1.2.0",
            "_view_count": null,
            "flex_flow": null,
            "width": "300px",
            "min_width": null,
            "border": null,
            "align_items": null,
            "bottom": null,
            "_model_module": "@jupyter-widgets/base",
            "top": null,
            "grid_column": null,
            "overflow_y": null,
            "overflow_x": null,
            "grid_auto_flow": null,
            "grid_area": null,
            "grid_template_columns": null,
            "flex": null,
            "_model_name": "LayoutModel",
            "justify_items": null,
            "grid_row": null,
            "max_height": null,
            "align_content": null,
            "visibility": null,
            "align_self": null,
            "height": "25px",
            "min_height": null,
            "padding": null,
            "grid_auto_rows": null,
            "grid_gap": null,
            "max_width": null,
            "order": null,
            "_view_module_version": "1.2.0",
            "grid_template_areas": null,
            "object_position": null,
            "object_fit": null,
            "grid_auto_columns": null,
            "margin": null,
            "display": null,
            "left": null
          }
        },
        "8d890e322811400e8ebad7748c389437": {
          "model_module": "@jupyter-widgets/controls",
          "model_name": "DescriptionStyleModel",
          "state": {
            "_view_name": "StyleView",
            "_model_name": "DescriptionStyleModel",
            "description_width": "",
            "_view_module": "@jupyter-widgets/base",
            "_model_module_version": "1.5.0",
            "_view_count": null,
            "_view_module_version": "1.2.0",
            "_model_module": "@jupyter-widgets/controls"
          }
        },
        "cc73dc42d31946dca89c395d940ea291": {
          "model_module": "@jupyter-widgets/base",
          "model_name": "LayoutModel",
          "state": {
            "_view_name": "LayoutView",
            "grid_template_rows": null,
            "right": null,
            "justify_content": null,
            "_view_module": "@jupyter-widgets/base",
            "overflow": null,
            "_model_module_version": "1.2.0",
            "_view_count": null,
            "flex_flow": null,
            "width": "300px",
            "min_width": null,
            "border": null,
            "align_items": null,
            "bottom": null,
            "_model_module": "@jupyter-widgets/base",
            "top": null,
            "grid_column": null,
            "overflow_y": null,
            "overflow_x": null,
            "grid_auto_flow": null,
            "grid_area": null,
            "grid_template_columns": null,
            "flex": null,
            "_model_name": "LayoutModel",
            "justify_items": null,
            "grid_row": null,
            "max_height": null,
            "align_content": null,
            "visibility": null,
            "align_self": null,
            "height": "24px",
            "min_height": null,
            "padding": null,
            "grid_auto_rows": null,
            "grid_gap": null,
            "max_width": null,
            "order": null,
            "_view_module_version": "1.2.0",
            "grid_template_areas": null,
            "object_position": null,
            "object_fit": null,
            "grid_auto_columns": null,
            "margin": null,
            "display": null,
            "left": null
          }
        }
      }
    }
  },
  "cells": [
    {
      "cell_type": "markdown",
      "metadata": {
        "id": "view-in-github",
        "colab_type": "text"
      },
      "source": [
        "<a href=\"https://colab.research.google.com/github/DavidUrbaez/AI_Course/blob/main/content/LAB%2002.03%20-%20PANDAS.ipynb\" target=\"_parent\"><img src=\"https://colab.research.google.com/assets/colab-badge.svg\" alt=\"Open In Colab\"/></a>"
      ]
    },
    {
      "cell_type": "markdown",
      "metadata": {
        "id": "xyr1k3OnmDAk"
      },
      "source": [
        "# LAB 02.03 - Pandas"
      ]
    },
    {
      "cell_type": "code",
      "metadata": {
        "id": "qzgmXkRmmDAn",
        "outputId": "4547faef-e964-44de-e707-a1df9a7865a3",
        "colab": {
          "base_uri": "https://localhost:8080/",
          "height": 75
        }
      },
      "source": [
        "!wget --no-cache -O init.py -q https://raw.githubusercontent.com/rramosp/ai4eng.v1/main/content/init.py\n",
        "import init; init.init(force_download=False); init.get_weblink()\n"
      ],
      "execution_count": 1,
      "outputs": [
        {
          "output_type": "display_data",
          "data": {
            "text/html": [
              "\n",
              "<meta name=\"google-signin-client_id\"\n",
              "      content=\"461673936472-kdjosv61up3ac1ajeuq6qqu72upilmls.apps.googleusercontent.com\"/>\n",
              "<script src=\"https://apis.google.com/js/client:platform.js?onload=google_button_start\"></script>\n",
              "    "
            ],
            "text/plain": [
              "<IPython.core.display.HTML object>"
            ]
          },
          "metadata": {
            "tags": []
          }
        },
        {
          "output_type": "stream",
          "text": [
            "replicating local resources\n"
          ],
          "name": "stdout"
        },
        {
          "output_type": "execute_result",
          "data": {
            "text/html": [
              "<h3>See <a href='https://m5knaekxo6.execute-api.us-west-2.amazonaws.com/dev-v0001/rlxmooc/web/login' target='_blank'>my courses and progress</a></h2>"
            ],
            "text/plain": [
              "<IPython.core.display.HTML object>"
            ]
          },
          "metadata": {
            "tags": []
          },
          "execution_count": 1
        }
      ]
    },
    {
      "cell_type": "code",
      "metadata": {
        "id": "CpSKV6T_mDAo",
        "outputId": "67e755d7-392c-48ff-f4c1-ca9bbed2936b",
        "colab": {
          "base_uri": "https://localhost:8080/",
          "height": 117,
          "referenced_widgets": [
            "d876b57b8b0a4a228e70d4354602ee94",
            "9e8f551e5b0e4cbfa1eb1ddf2123fc01",
            "94af127b84d24278aa52642ea48b98fe",
            "1a3f1ef3cb484b86b332e78a8bd2e7a8",
            "916875a69a8f458e8f5a3da3564a0fff",
            "7498a22d7c3645fe88e52d4000edd7d4",
            "092078575a9542e098e2f702d686007a",
            "a679bb657c184b5daf2c839f6cfe0def",
            "7a3c0aca406945ff99460db2babad599",
            "0a683e8471e0470aac8f488de55031f9",
            "78a1fc37c34945429e7a35e524816183",
            "123c1e030eb84cb38afd544dd163b42e",
            "00a77c6da2e2450ea326ffaa8b0970c4",
            "aa9c32dd867c4c7ba3bb39c04d09098e",
            "3bc5c4bd17d24bec962f06db67ff0273",
            "08e9063bbc604d2c83e8e385ef7514a1",
            "5086156a55f2451b936838ff088ea4cc",
            "8d890e322811400e8ebad7748c389437",
            "cc73dc42d31946dca89c395d940ea291"
          ]
        }
      },
      "source": [
        "from local.lib.rlxmoocapi import submit, session\n",
        "session.LoginSequence(endpoint=init.endpoint, course_id=init.course_id, lab_id=\"L02.03\", varname=\"student\");"
      ],
      "execution_count": 2,
      "outputs": [
        {
          "output_type": "stream",
          "text": [
            "logging in as durbaezl@unal.edu.co... please wait\n",
            "using course session ai4eng.v1::open\n",
            "success!! you are logged in\n"
          ],
          "name": "stdout"
        }
      ]
    },
    {
      "cell_type": "code",
      "metadata": {
        "id": "lUkGTlzumDAp"
      },
      "source": [
        "import numpy as np\n",
        "import pandas as pd"
      ],
      "execution_count": 3,
      "outputs": []
    },
    {
      "cell_type": "markdown",
      "metadata": {
        "id": "uZjtMQeLmDAp"
      },
      "source": [
        "## Task 1: Extract data\n",
        "\n",
        "we have a dataframe of items with a price and, **sometimes**, with an extra column (`margin`).\n",
        "\n",
        "You will have to complete a function that will **filter** the dataframe selecting the rows:\n",
        "\n",
        "- whose price is > 100\n",
        "- **OR** whose margin is >10, if the column `margin` is present\n",
        "\n",
        "your function must return **A LIST** with the item ids of the selected rows\n",
        "\n",
        "For instance, with the following dataframe\n",
        "\n",
        "             price  category\n",
        "    itemid                  \n",
        "    56556   108.15       2.0\n",
        "    73065    83.54       2.0\n",
        "    36619   114.42       0.0\n",
        "    73414    82.94       0.0\n",
        "    13410   115.13       2.0\n",
        "    66153    91.50       1.0\n",
        "    77380    85.82       0.0\n",
        "    73249    95.95       0.0\n",
        "    11654   100.22       2.0\n",
        "    11972    77.16       1.0\n",
        "\n",
        "your must return the following list:\n",
        "\n",
        "     [56556, 36619, 13410, 11654]\n",
        "     \n",
        "But if you get the following dataframe\n",
        "\n",
        "             price  category  margin\n",
        "    itemid                          \n",
        "    39059    98.11       0.0   11.04\n",
        "    19526    98.11       1.0   11.25\n",
        "    78176    94.34       1.0   10.51\n",
        "    50948   102.37       1.0   10.77\n",
        "    12111    98.07       1.0    8.50\n",
        "    56191    98.53       1.0   11.65\n",
        "    38887    91.49       2.0   11.24\n",
        "    77915   117.30       0.0    8.64\n",
        "    55010    96.13       0.0    8.95\n",
        "    45925    98.59       1.0   10.45\n",
        "    \n",
        "you must return the following list\n",
        "\n",
        "    [39059, 19526, 78176, 50948, 56191, 38887, 77915, 45925]"
      ]
    },
    {
      "cell_type": "code",
      "metadata": {
        "id": "nKUr00C8mDAq"
      },
      "source": [
        "def create_df(missing=False, n=10):\n",
        "    itemid   = np.random.randint(100000, size=n)+1000\n",
        "    category = np.random.randint(3, size=n)\n",
        "    price    = np.round(np.random.normal(loc=100, scale=10, size=n),2)\n",
        "    margin   = np.round(np.random.normal(loc=10, scale=1, size=n),2)\n",
        "    \n",
        "    if missing:\n",
        "        nmissing = np.random.randint(len(price)//2)+2                                     \n",
        "        price[np.random.permutation(len(price))[:nmissing]] = np.nan\n",
        "    \n",
        "    d = pd.DataFrame(np.r_[[price, category, margin]].T, index=itemid, columns=[\"price\", \"category\", \"margin\"])\n",
        "    d.index.name=\"itemid\"\n",
        "    if np.random.random()>.5:\n",
        "        d = d[d.columns[:2]]\n",
        "        \n",
        "    return d"
      ],
      "execution_count": 4,
      "outputs": []
    },
    {
      "cell_type": "code",
      "metadata": {
        "id": "NLW_PVabmDAq",
        "outputId": "0c16e7ef-abd4-44b5-d2d7-b4c5fd16d013",
        "colab": {
          "base_uri": "https://localhost:8080/"
        }
      },
      "source": [
        "d = create_df()\n",
        "d\n"
      ],
      "execution_count": 13,
      "outputs": [
        {
          "output_type": "execute_result",
          "data": {
            "text/plain": [
              "[86655, 27497, 10942, 39703, 41858, 42222]"
            ]
          },
          "metadata": {
            "tags": []
          },
          "execution_count": 13
        }
      ]
    },
    {
      "cell_type": "code",
      "metadata": {
        "id": "CyYs3mvmmDAq"
      },
      "source": [
        "def select_items(d):\n",
        "    # make sure to make a copy in case you modify the original df\n",
        "    d = d.copy()\n",
        "    if len((d.columns.to_list()))==2:\n",
        "      result = d[d.price>100].index.tolist()\n",
        "    else:\n",
        "      result = d[(d.price>100) | (d.margin>10)].index.tolist()\n",
        "    \n",
        "    \n",
        "    return result"
      ],
      "execution_count": 43,
      "outputs": []
    },
    {
      "cell_type": "markdown",
      "metadata": {
        "id": "GLkhO0DXmDAr"
      },
      "source": [
        "**manually check your answer**"
      ]
    },
    {
      "cell_type": "code",
      "metadata": {
        "id": "PPJs2blwmDAr",
        "outputId": "de5db96d-66c8-449d-857e-5e19004fca68",
        "colab": {
          "base_uri": "https://localhost:8080/",
          "height": 393
        }
      },
      "source": [
        "d = create_df()\n",
        "d"
      ],
      "execution_count": 38,
      "outputs": [
        {
          "output_type": "execute_result",
          "data": {
            "text/html": [
              "<div>\n",
              "<style scoped>\n",
              "    .dataframe tbody tr th:only-of-type {\n",
              "        vertical-align: middle;\n",
              "    }\n",
              "\n",
              "    .dataframe tbody tr th {\n",
              "        vertical-align: top;\n",
              "    }\n",
              "\n",
              "    .dataframe thead th {\n",
              "        text-align: right;\n",
              "    }\n",
              "</style>\n",
              "<table border=\"1\" class=\"dataframe\">\n",
              "  <thead>\n",
              "    <tr style=\"text-align: right;\">\n",
              "      <th></th>\n",
              "      <th>price</th>\n",
              "      <th>category</th>\n",
              "    </tr>\n",
              "    <tr>\n",
              "      <th>itemid</th>\n",
              "      <th></th>\n",
              "      <th></th>\n",
              "    </tr>\n",
              "  </thead>\n",
              "  <tbody>\n",
              "    <tr>\n",
              "      <th>29173</th>\n",
              "      <td>99.47</td>\n",
              "      <td>2.0</td>\n",
              "    </tr>\n",
              "    <tr>\n",
              "      <th>69109</th>\n",
              "      <td>111.36</td>\n",
              "      <td>1.0</td>\n",
              "    </tr>\n",
              "    <tr>\n",
              "      <th>68939</th>\n",
              "      <td>100.84</td>\n",
              "      <td>2.0</td>\n",
              "    </tr>\n",
              "    <tr>\n",
              "      <th>100400</th>\n",
              "      <td>103.09</td>\n",
              "      <td>1.0</td>\n",
              "    </tr>\n",
              "    <tr>\n",
              "      <th>28139</th>\n",
              "      <td>108.21</td>\n",
              "      <td>0.0</td>\n",
              "    </tr>\n",
              "    <tr>\n",
              "      <th>96883</th>\n",
              "      <td>95.47</td>\n",
              "      <td>1.0</td>\n",
              "    </tr>\n",
              "    <tr>\n",
              "      <th>10797</th>\n",
              "      <td>103.38</td>\n",
              "      <td>1.0</td>\n",
              "    </tr>\n",
              "    <tr>\n",
              "      <th>68117</th>\n",
              "      <td>99.01</td>\n",
              "      <td>1.0</td>\n",
              "    </tr>\n",
              "    <tr>\n",
              "      <th>4178</th>\n",
              "      <td>121.41</td>\n",
              "      <td>0.0</td>\n",
              "    </tr>\n",
              "    <tr>\n",
              "      <th>7291</th>\n",
              "      <td>102.93</td>\n",
              "      <td>2.0</td>\n",
              "    </tr>\n",
              "  </tbody>\n",
              "</table>\n",
              "</div>"
            ],
            "text/plain": [
              "         price  category\n",
              "itemid                  \n",
              "29173    99.47       2.0\n",
              "69109   111.36       1.0\n",
              "68939   100.84       2.0\n",
              "100400  103.09       1.0\n",
              "28139   108.21       0.0\n",
              "96883    95.47       1.0\n",
              "10797   103.38       1.0\n",
              "68117    99.01       1.0\n",
              "4178    121.41       0.0\n",
              "7291    102.93       2.0"
            ]
          },
          "metadata": {
            "tags": []
          },
          "execution_count": 38
        }
      ]
    },
    {
      "cell_type": "code",
      "metadata": {
        "id": "y2UfiEPkmDAs",
        "outputId": "653d72a5-faaf-4f1d-8660-b686107713b4",
        "colab": {
          "base_uri": "https://localhost:8080/"
        }
      },
      "source": [
        "select_items(d)"
      ],
      "execution_count": 44,
      "outputs": [
        {
          "output_type": "execute_result",
          "data": {
            "text/plain": [
              "[69109, 68939, 100400, 28139, 10797, 4178, 7291]"
            ]
          },
          "metadata": {
            "tags": []
          },
          "execution_count": 44
        }
      ]
    },
    {
      "cell_type": "markdown",
      "metadata": {
        "id": "lIRVNXZ0mDAs"
      },
      "source": [
        "**submit your code**"
      ]
    },
    {
      "cell_type": "code",
      "metadata": {
        "scrolled": false,
        "id": "w_udfnvxmDAs",
        "outputId": "9a92f76d-461c-40a3-d9fd-ad120d934555",
        "colab": {
          "base_uri": "https://localhost:8080/",
          "height": 145
        }
      },
      "source": [
        "student.submit_task(globals(), task_id=\"task_01\");"
      ],
      "execution_count": 45,
      "outputs": [
        {
          "output_type": "display_data",
          "data": {
            "text/html": [
              "\n",
              "                    <b>task_01 submitted.</b> <b><font color=\"blue\">your grade is 5</font></b> \n",
              "                    <p/><pre>----- grader message -------</pre><br/>testing with 100 random calls<br/><b>correct</b><pre>----------------------------</pre>\n",
              "                    <p/><p/>\n",
              "                    <div style=\"font-size:10px\"><b>SUBMISSION CODE</b> zUgKTnZts/27hy1tskC2aR538ZNwSav1Gqrp2dhJiiN9lJ73jhHH++GscPoCy8BoClkfeLj2Oa7XCKPGN7XfMmaf0J4Zg4kWlMeQzvmvADEdZM+vpWrPLC6+Mgf+GD9eyjQR/qqHZkK6oFS/yb4Rkg==</div>\n",
              "                    "
            ],
            "text/plain": [
              "<IPython.core.display.HTML object>"
            ]
          },
          "metadata": {
            "tags": []
          }
        }
      ]
    },
    {
      "cell_type": "code",
      "metadata": {
        "id": "GA7yQ3uImDAs"
      },
      "source": [
        ""
      ],
      "execution_count": null,
      "outputs": []
    },
    {
      "cell_type": "code",
      "metadata": {
        "id": "dQm-BXxdmDAs"
      },
      "source": [
        ""
      ],
      "execution_count": null,
      "outputs": []
    },
    {
      "cell_type": "markdown",
      "metadata": {
        "id": "3j_gfVlAmDAt"
      },
      "source": [
        "## Task 2: Group statistics\n",
        "\n",
        "Complete the following function so that it returns a dataframe with the average, max and min **prices** per category. \n",
        "\n",
        "For instance, for the following dataframe\n",
        "\n",
        "             price  category  margin\n",
        "    itemid                          \n",
        "    17946    93.85       1.0   10.64\n",
        "    61190    91.72       1.0    9.76\n",
        "    39639   100.16       1.0   10.67\n",
        "    17791   110.44       2.0    9.65\n",
        "    7333    101.05       1.0    9.69\n",
        "    77362   122.33       0.0   11.14\n",
        "    92646   108.13       2.0   10.58\n",
        "    27797    85.52       2.0   10.88\n",
        "    31746    97.56       0.0    9.75\n",
        "    12355   101.04       2.0    9.51\n",
        "    \n",
        "you should return the following dataframe\n",
        "\n",
        "                 media  maximo  minimo\n",
        "    categoria                         \n",
        "    0         109.9450  122.33  97.56\n",
        "    1          96.6950  101.05  91.72\n",
        "    2         101.2825  110.44  85.52\n",
        "    \n",
        "observe that your result\n",
        "- must not be a **multilevel** columnset.\n",
        "- the column names and the index name must be **exactly** as in the example.\n",
        "- the **index** must be of type **int**."
      ]
    },
    {
      "cell_type": "code",
      "metadata": {
        "id": "yh9uHkGfmDAt"
      },
      "source": [
        "def get_stats(df):\n",
        "    # make sure to make a copy in case you modify the original df\n",
        "    df=df.copy()\n",
        "    df.rename(columns={'category':'categoria',\n",
        "                       'price':'price',\n",
        "                       'margin':'margin'},inplace=True)\n",
        "\n",
        "    df.loc[:,'categoria'] = df.categoria.apply(lambda x: round(x))\n",
        "\n",
        "    return pd.DataFrame({'media':df.groupby('categoria').mean().price,\n",
        "                         'maximo':df.groupby('categoria').max().price,\n",
        "                         'minimo':df.groupby('categoria').min().price}) \n",
        "    \n",
        "    # return pd.DataFrame({'media':df.groupby('category').max().price,\n",
        "    #                      'maximo':df.groupby('category').max().price,\n",
        "    #                      'minimo':df.groupby('category').min().price) #.reset_index(drop=True)\n",
        "\n",
        "  # df = pd.pivot_table(df, values='price', index='category',\n",
        "  #                   aggfunc={np.mean,\n",
        "  #                            np.max,\n",
        "  #                            np.min})\n",
        "  #   df.rename(columns={'amax': 'maximo','amin':'minimo','mean':'media'}, index={'category': 'categoria'},inplace=True)"
      ],
      "execution_count": 90,
      "outputs": []
    },
    {
      "cell_type": "markdown",
      "metadata": {
        "id": "aqeWXsdnmDAu"
      },
      "source": [
        "**manually check your answer**"
      ]
    },
    {
      "cell_type": "code",
      "metadata": {
        "id": "jsYTIsoPmDAu",
        "outputId": "361ec058-8492-45d6-b9b1-9a8e9ba208de",
        "colab": {
          "base_uri": "https://localhost:8080/",
          "height": 393
        }
      },
      "source": [
        "d = create_df()\n",
        "d\n"
      ],
      "execution_count": 74,
      "outputs": [
        {
          "output_type": "execute_result",
          "data": {
            "text/html": [
              "<div>\n",
              "<style scoped>\n",
              "    .dataframe tbody tr th:only-of-type {\n",
              "        vertical-align: middle;\n",
              "    }\n",
              "\n",
              "    .dataframe tbody tr th {\n",
              "        vertical-align: top;\n",
              "    }\n",
              "\n",
              "    .dataframe thead th {\n",
              "        text-align: right;\n",
              "    }\n",
              "</style>\n",
              "<table border=\"1\" class=\"dataframe\">\n",
              "  <thead>\n",
              "    <tr style=\"text-align: right;\">\n",
              "      <th></th>\n",
              "      <th>price</th>\n",
              "      <th>category</th>\n",
              "    </tr>\n",
              "    <tr>\n",
              "      <th>itemid</th>\n",
              "      <th></th>\n",
              "      <th></th>\n",
              "    </tr>\n",
              "  </thead>\n",
              "  <tbody>\n",
              "    <tr>\n",
              "      <th>94941</th>\n",
              "      <td>95.67</td>\n",
              "      <td>2.0</td>\n",
              "    </tr>\n",
              "    <tr>\n",
              "      <th>23543</th>\n",
              "      <td>75.55</td>\n",
              "      <td>0.0</td>\n",
              "    </tr>\n",
              "    <tr>\n",
              "      <th>46317</th>\n",
              "      <td>98.71</td>\n",
              "      <td>1.0</td>\n",
              "    </tr>\n",
              "    <tr>\n",
              "      <th>2225</th>\n",
              "      <td>106.48</td>\n",
              "      <td>1.0</td>\n",
              "    </tr>\n",
              "    <tr>\n",
              "      <th>79406</th>\n",
              "      <td>75.99</td>\n",
              "      <td>1.0</td>\n",
              "    </tr>\n",
              "    <tr>\n",
              "      <th>2510</th>\n",
              "      <td>101.02</td>\n",
              "      <td>1.0</td>\n",
              "    </tr>\n",
              "    <tr>\n",
              "      <th>100318</th>\n",
              "      <td>92.84</td>\n",
              "      <td>1.0</td>\n",
              "    </tr>\n",
              "    <tr>\n",
              "      <th>3329</th>\n",
              "      <td>108.88</td>\n",
              "      <td>0.0</td>\n",
              "    </tr>\n",
              "    <tr>\n",
              "      <th>27659</th>\n",
              "      <td>88.77</td>\n",
              "      <td>2.0</td>\n",
              "    </tr>\n",
              "    <tr>\n",
              "      <th>32483</th>\n",
              "      <td>98.59</td>\n",
              "      <td>2.0</td>\n",
              "    </tr>\n",
              "  </tbody>\n",
              "</table>\n",
              "</div>"
            ],
            "text/plain": [
              "         price  category\n",
              "itemid                  \n",
              "94941    95.67       2.0\n",
              "23543    75.55       0.0\n",
              "46317    98.71       1.0\n",
              "2225    106.48       1.0\n",
              "79406    75.99       1.0\n",
              "2510    101.02       1.0\n",
              "100318   92.84       1.0\n",
              "3329    108.88       0.0\n",
              "27659    88.77       2.0\n",
              "32483    98.59       2.0"
            ]
          },
          "metadata": {
            "tags": []
          },
          "execution_count": 74
        }
      ]
    },
    {
      "cell_type": "code",
      "metadata": {
        "id": "K12dnIwmmDAu",
        "outputId": "01559286-a89f-40ce-8d18-69af24468cd8",
        "colab": {
          "base_uri": "https://localhost:8080/",
          "height": 175
        }
      },
      "source": [
        "get_stats(d)"
      ],
      "execution_count": 91,
      "outputs": [
        {
          "output_type": "execute_result",
          "data": {
            "text/html": [
              "<div>\n",
              "<style scoped>\n",
              "    .dataframe tbody tr th:only-of-type {\n",
              "        vertical-align: middle;\n",
              "    }\n",
              "\n",
              "    .dataframe tbody tr th {\n",
              "        vertical-align: top;\n",
              "    }\n",
              "\n",
              "    .dataframe thead th {\n",
              "        text-align: right;\n",
              "    }\n",
              "</style>\n",
              "<table border=\"1\" class=\"dataframe\">\n",
              "  <thead>\n",
              "    <tr style=\"text-align: right;\">\n",
              "      <th></th>\n",
              "      <th>media</th>\n",
              "      <th>maximo</th>\n",
              "      <th>minimo</th>\n",
              "    </tr>\n",
              "    <tr>\n",
              "      <th>categoria</th>\n",
              "      <th></th>\n",
              "      <th></th>\n",
              "      <th></th>\n",
              "    </tr>\n",
              "  </thead>\n",
              "  <tbody>\n",
              "    <tr>\n",
              "      <th>0</th>\n",
              "      <td>92.215000</td>\n",
              "      <td>108.88</td>\n",
              "      <td>75.55</td>\n",
              "    </tr>\n",
              "    <tr>\n",
              "      <th>1</th>\n",
              "      <td>95.008000</td>\n",
              "      <td>106.48</td>\n",
              "      <td>75.99</td>\n",
              "    </tr>\n",
              "    <tr>\n",
              "      <th>2</th>\n",
              "      <td>94.343333</td>\n",
              "      <td>98.59</td>\n",
              "      <td>88.77</td>\n",
              "    </tr>\n",
              "  </tbody>\n",
              "</table>\n",
              "</div>"
            ],
            "text/plain": [
              "               media  maximo  minimo\n",
              "categoria                           \n",
              "0          92.215000  108.88   75.55\n",
              "1          95.008000  106.48   75.99\n",
              "2          94.343333   98.59   88.77"
            ]
          },
          "metadata": {
            "tags": []
          },
          "execution_count": 91
        }
      ]
    },
    {
      "cell_type": "markdown",
      "metadata": {
        "id": "xNxesKwJmDAu"
      },
      "source": [
        "**submit your code**"
      ]
    },
    {
      "cell_type": "code",
      "metadata": {
        "scrolled": true,
        "id": "rQshWzwXmDAu",
        "outputId": "4387a406-466b-4a8d-d445-6f2439a0e59e",
        "colab": {
          "base_uri": "https://localhost:8080/",
          "height": 162
        }
      },
      "source": [
        "student.submit_task(globals(), task_id=\"task_02\");"
      ],
      "execution_count": 92,
      "outputs": [
        {
          "output_type": "display_data",
          "data": {
            "text/html": [
              "\n",
              "                    <b>task_02 submitted.</b> <b><font color=\"blue\">your grade is 5</font></b> \n",
              "                    <p/><pre>----- grader message -------</pre><br/>testing with 100 random calls<br/><br/><b>correct</b><pre>----------------------------</pre>\n",
              "                    <p/><p/>\n",
              "                    <div style=\"font-size:10px\"><b>SUBMISSION CODE</b> ebtMLI6yEFzmkAcQDWoknzqwAw96DElU63HpMbqrWuuMJBwfRQAm9G9z+sobT0umKWyhqDswqvpCMV1+0WderjTPCckqSmBDrVnexJFOK4C9EzBha4KHivpyF2YO15ygJMleq8fqjadL1Ghw6GzogA==</div>\n",
              "                    "
            ],
            "text/plain": [
              "<IPython.core.display.HTML object>"
            ]
          },
          "metadata": {
            "tags": []
          }
        }
      ]
    },
    {
      "cell_type": "code",
      "metadata": {
        "id": "rKLuI8h9mDAv",
        "outputId": "2bfcef7c-5d0c-460a-8076-59fa835acd82",
        "colab": {
          "base_uri": "https://localhost:8080/"
        }
      },
      "source": [
        ""
      ],
      "execution_count": 84,
      "outputs": [
        {
          "output_type": "execute_result",
          "data": {
            "text/plain": [
              "itemid\n",
              "94941     2\n",
              "23543     0\n",
              "46317     1\n",
              "2225      1\n",
              "79406     1\n",
              "2510      1\n",
              "100318    1\n",
              "3329      0\n",
              "27659     2\n",
              "32483     2\n",
              "Name: categoria, dtype: int64"
            ]
          },
          "metadata": {
            "tags": []
          },
          "execution_count": 84
        }
      ]
    },
    {
      "cell_type": "code",
      "metadata": {
        "id": "esP2-iLfmDAv"
      },
      "source": [
        ""
      ],
      "execution_count": null,
      "outputs": []
    },
    {
      "cell_type": "markdown",
      "metadata": {
        "id": "fhmUYxmGmDAv"
      },
      "source": [
        "## Task 3: Fill in missing data\n",
        "\n",
        "Fill in the missing data in the **price** column with the following procedure:\n",
        "\n",
        "- compute the mean and std of the avaialable prices\n",
        "- sample from a normal distribution with the computed mean and std (see [`np.random.normal`])(https://numpy.org/doc/stable/reference/random/generated/numpy.random.normal.html), as many samples as missing data\n",
        "- substitute the missing values with the samples\n",
        "\n",
        "For instance, for this input dataframe:\n",
        "\n",
        "             price  category  margin\n",
        "    itemid                          \n",
        "    18922      NaN       1.0   10.32\n",
        "    69500   121.25       1.0   10.22\n",
        "    76442    90.25       1.0   12.60\n",
        "    33863   106.51       0.0   10.26\n",
        "    15904    95.87       1.0   11.51\n",
        "    41946   103.47       2.0    9.85\n",
        "    85451    93.08       2.0    9.56\n",
        "    70028   116.68       1.0    9.11\n",
        "    26860      NaN       2.0    9.71\n",
        "    12807    91.48       0.0    9.77\n",
        "    \n",
        "your solution might be similar to this (not exactly the same as you will be sampling data):\n",
        "\n",
        "\n",
        "                 price  category  margin\n",
        "    itemid                              \n",
        "    18922    97.441188       1.0   10.32\n",
        "    69500   121.250000       1.0   10.22\n",
        "    76442    90.250000       1.0   12.60\n",
        "    33863   106.510000       0.0   10.26\n",
        "    15904    95.870000       1.0   11.51\n",
        "    41946   103.470000       2.0    9.85\n",
        "    85451    93.080000       2.0    9.56\n",
        "    70028   116.680000       1.0    9.11\n",
        "    26860   103.294843       2.0    9.71\n",
        "    12807    91.480000       0.0    9.77\n",
        "    \n",
        "    \n",
        "**WARN**: your function must not modify the original dataframe, make a copy of the input dataframe, fill the values in the copy and return it.\n",
        "\n",
        "**HINT**: use the [`isna()`](https://pandas.pydata.org/pandas-docs/stable/reference/api/pandas.DataFrame.isna.html) method of a dataframe or a series."
      ]
    },
    {
      "cell_type": "code",
      "metadata": {
        "id": "WrEXqiQwmDAw",
        "outputId": "052835a8-0489-424b-aed5-2adc4940eac7",
        "colab": {
          "base_uri": "https://localhost:8080/",
          "height": 393
        }
      },
      "source": [
        "d = create_df(missing=True)\n",
        "d"
      ],
      "execution_count": 93,
      "outputs": [
        {
          "output_type": "execute_result",
          "data": {
            "text/html": [
              "<div>\n",
              "<style scoped>\n",
              "    .dataframe tbody tr th:only-of-type {\n",
              "        vertical-align: middle;\n",
              "    }\n",
              "\n",
              "    .dataframe tbody tr th {\n",
              "        vertical-align: top;\n",
              "    }\n",
              "\n",
              "    .dataframe thead th {\n",
              "        text-align: right;\n",
              "    }\n",
              "</style>\n",
              "<table border=\"1\" class=\"dataframe\">\n",
              "  <thead>\n",
              "    <tr style=\"text-align: right;\">\n",
              "      <th></th>\n",
              "      <th>price</th>\n",
              "      <th>category</th>\n",
              "      <th>margin</th>\n",
              "    </tr>\n",
              "    <tr>\n",
              "      <th>itemid</th>\n",
              "      <th></th>\n",
              "      <th></th>\n",
              "      <th></th>\n",
              "    </tr>\n",
              "  </thead>\n",
              "  <tbody>\n",
              "    <tr>\n",
              "      <th>28949</th>\n",
              "      <td>NaN</td>\n",
              "      <td>0.0</td>\n",
              "      <td>11.09</td>\n",
              "    </tr>\n",
              "    <tr>\n",
              "      <th>50721</th>\n",
              "      <td>NaN</td>\n",
              "      <td>0.0</td>\n",
              "      <td>11.03</td>\n",
              "    </tr>\n",
              "    <tr>\n",
              "      <th>82275</th>\n",
              "      <td>91.21</td>\n",
              "      <td>2.0</td>\n",
              "      <td>10.83</td>\n",
              "    </tr>\n",
              "    <tr>\n",
              "      <th>26886</th>\n",
              "      <td>98.25</td>\n",
              "      <td>0.0</td>\n",
              "      <td>9.97</td>\n",
              "    </tr>\n",
              "    <tr>\n",
              "      <th>1559</th>\n",
              "      <td>103.82</td>\n",
              "      <td>0.0</td>\n",
              "      <td>11.81</td>\n",
              "    </tr>\n",
              "    <tr>\n",
              "      <th>62049</th>\n",
              "      <td>NaN</td>\n",
              "      <td>2.0</td>\n",
              "      <td>9.69</td>\n",
              "    </tr>\n",
              "    <tr>\n",
              "      <th>19652</th>\n",
              "      <td>NaN</td>\n",
              "      <td>2.0</td>\n",
              "      <td>10.12</td>\n",
              "    </tr>\n",
              "    <tr>\n",
              "      <th>31533</th>\n",
              "      <td>87.62</td>\n",
              "      <td>2.0</td>\n",
              "      <td>9.26</td>\n",
              "    </tr>\n",
              "    <tr>\n",
              "      <th>21445</th>\n",
              "      <td>NaN</td>\n",
              "      <td>2.0</td>\n",
              "      <td>9.12</td>\n",
              "    </tr>\n",
              "    <tr>\n",
              "      <th>27416</th>\n",
              "      <td>NaN</td>\n",
              "      <td>1.0</td>\n",
              "      <td>10.59</td>\n",
              "    </tr>\n",
              "  </tbody>\n",
              "</table>\n",
              "</div>"
            ],
            "text/plain": [
              "         price  category  margin\n",
              "itemid                          \n",
              "28949      NaN       0.0   11.09\n",
              "50721      NaN       0.0   11.03\n",
              "82275    91.21       2.0   10.83\n",
              "26886    98.25       0.0    9.97\n",
              "1559    103.82       0.0   11.81\n",
              "62049      NaN       2.0    9.69\n",
              "19652      NaN       2.0   10.12\n",
              "31533    87.62       2.0    9.26\n",
              "21445      NaN       2.0    9.12\n",
              "27416      NaN       1.0   10.59"
            ]
          },
          "metadata": {
            "tags": []
          },
          "execution_count": 93
        }
      ]
    },
    {
      "cell_type": "code",
      "metadata": {
        "id": "tM6W3_axmDAw"
      },
      "source": [
        "def fillna(df):\n",
        "    # make sure to make a copy in case you modify the original df\n",
        "    df = df.copy()\n",
        "\n",
        "    u=np.mean(df.price)\n",
        "    s=np.std(df.price)\n",
        "     \n",
        "    df['price'][df.price.isna()]=np.random.normal(loc=u,scale=s,size=len(df.price.isna()))\n",
        "\n",
        "    return df"
      ],
      "execution_count": 143,
      "outputs": []
    },
    {
      "cell_type": "markdown",
      "metadata": {
        "id": "BIfRRS8HmDAw"
      },
      "source": [
        "**check manually your code**"
      ]
    },
    {
      "cell_type": "code",
      "metadata": {
        "id": "YWuTGxkvmDAw"
      },
      "source": [
        "d = create_df(missing=True)\n",
        "d"
      ],
      "execution_count": null,
      "outputs": []
    },
    {
      "cell_type": "code",
      "metadata": {
        "id": "INCNRPKNmDAw",
        "outputId": "d80a8bed-d3a8-476f-e932-698c26912b55",
        "colab": {
          "base_uri": "https://localhost:8080/",
          "height": 393
        }
      },
      "source": [
        "fillna(d)"
      ],
      "execution_count": 141,
      "outputs": [
        {
          "output_type": "execute_result",
          "data": {
            "text/html": [
              "<div>\n",
              "<style scoped>\n",
              "    .dataframe tbody tr th:only-of-type {\n",
              "        vertical-align: middle;\n",
              "    }\n",
              "\n",
              "    .dataframe tbody tr th {\n",
              "        vertical-align: top;\n",
              "    }\n",
              "\n",
              "    .dataframe thead th {\n",
              "        text-align: right;\n",
              "    }\n",
              "</style>\n",
              "<table border=\"1\" class=\"dataframe\">\n",
              "  <thead>\n",
              "    <tr style=\"text-align: right;\">\n",
              "      <th></th>\n",
              "      <th>price</th>\n",
              "      <th>category</th>\n",
              "      <th>margin</th>\n",
              "    </tr>\n",
              "    <tr>\n",
              "      <th>itemid</th>\n",
              "      <th></th>\n",
              "      <th></th>\n",
              "      <th></th>\n",
              "    </tr>\n",
              "  </thead>\n",
              "  <tbody>\n",
              "    <tr>\n",
              "      <th>55122</th>\n",
              "      <td>99.840000</td>\n",
              "      <td>0.0</td>\n",
              "      <td>11.29</td>\n",
              "    </tr>\n",
              "    <tr>\n",
              "      <th>93521</th>\n",
              "      <td>111.140000</td>\n",
              "      <td>2.0</td>\n",
              "      <td>10.74</td>\n",
              "    </tr>\n",
              "    <tr>\n",
              "      <th>47559</th>\n",
              "      <td>96.208795</td>\n",
              "      <td>2.0</td>\n",
              "      <td>8.93</td>\n",
              "    </tr>\n",
              "    <tr>\n",
              "      <th>70575</th>\n",
              "      <td>94.610000</td>\n",
              "      <td>2.0</td>\n",
              "      <td>9.37</td>\n",
              "    </tr>\n",
              "    <tr>\n",
              "      <th>49181</th>\n",
              "      <td>96.161273</td>\n",
              "      <td>0.0</td>\n",
              "      <td>11.68</td>\n",
              "    </tr>\n",
              "    <tr>\n",
              "      <th>31737</th>\n",
              "      <td>108.930000</td>\n",
              "      <td>2.0</td>\n",
              "      <td>9.98</td>\n",
              "    </tr>\n",
              "    <tr>\n",
              "      <th>24853</th>\n",
              "      <td>102.550000</td>\n",
              "      <td>2.0</td>\n",
              "      <td>11.67</td>\n",
              "    </tr>\n",
              "    <tr>\n",
              "      <th>50739</th>\n",
              "      <td>101.300000</td>\n",
              "      <td>1.0</td>\n",
              "      <td>11.66</td>\n",
              "    </tr>\n",
              "    <tr>\n",
              "      <th>100125</th>\n",
              "      <td>107.815273</td>\n",
              "      <td>0.0</td>\n",
              "      <td>9.84</td>\n",
              "    </tr>\n",
              "    <tr>\n",
              "      <th>90889</th>\n",
              "      <td>96.560000</td>\n",
              "      <td>2.0</td>\n",
              "      <td>8.78</td>\n",
              "    </tr>\n",
              "  </tbody>\n",
              "</table>\n",
              "</div>"
            ],
            "text/plain": [
              "             price  category  margin\n",
              "itemid                              \n",
              "55122    99.840000       0.0   11.29\n",
              "93521   111.140000       2.0   10.74\n",
              "47559    96.208795       2.0    8.93\n",
              "70575    94.610000       2.0    9.37\n",
              "49181    96.161273       0.0   11.68\n",
              "31737   108.930000       2.0    9.98\n",
              "24853   102.550000       2.0   11.67\n",
              "50739   101.300000       1.0   11.66\n",
              "100125  107.815273       0.0    9.84\n",
              "90889    96.560000       2.0    8.78"
            ]
          },
          "metadata": {
            "tags": []
          },
          "execution_count": 141
        }
      ]
    },
    {
      "cell_type": "code",
      "metadata": {
        "id": "u0m1GJL2mDAx",
        "outputId": "7cf116dc-ce8b-481e-f98a-4820117fcc4b",
        "colab": {
          "base_uri": "https://localhost:8080/"
        }
      },
      "source": [
        "u=np.mean(d.price)\n",
        "s=np.std(d.price)\n",
        "val=np.random.normal(loc=u,scale=s)\n",
        "u,s"
      ],
      "execution_count": 97,
      "outputs": [
        {
          "output_type": "execute_result",
          "data": {
            "text/plain": [
              "(95.225, 6.264600944992424)"
            ]
          },
          "metadata": {
            "tags": []
          },
          "execution_count": 97
        }
      ]
    },
    {
      "cell_type": "markdown",
      "metadata": {
        "id": "R20WtgCTmDAx"
      },
      "source": [
        "**submit your code**"
      ]
    },
    {
      "cell_type": "code",
      "metadata": {
        "scrolled": true,
        "id": "MUh-_MfimDAx",
        "outputId": "eb70db9f-cf83-41e6-fe77-8dd31405666b",
        "colab": {
          "base_uri": "https://localhost:8080/",
          "height": 162
        }
      },
      "source": [
        "student.submit_task(globals(), task_id=\"task_03\");"
      ],
      "execution_count": 144,
      "outputs": [
        {
          "output_type": "display_data",
          "data": {
            "text/html": [
              "\n",
              "                    <b>task_03 submitted.</b> <b><font color=\"blue\">your grade is 5</font></b> \n",
              "                    <p/><pre>----- grader message -------</pre><br/>testing with 100 random calls<br/><br/><b>correct</b><pre>----------------------------</pre>\n",
              "                    <p/><p/>\n",
              "                    <div style=\"font-size:10px\"><b>SUBMISSION CODE</b> pw3XvvtrU+5Z51/OpMf8qHp5byBQNrYg73/60wnAZbHTgDCM7yHz7b9KoOjdF2frW5R/b0nzp4d9KcwHgwHfrLv2bdT0wYzdWs9YOXSRokWZbGgHZ/8p7kKdlNOcg+NshffeMCDPKFPDNTf0kMSTdA==</div>\n",
              "                    "
            ],
            "text/plain": [
              "<IPython.core.display.HTML object>"
            ]
          },
          "metadata": {
            "tags": []
          }
        }
      ]
    },
    {
      "cell_type": "code",
      "metadata": {
        "id": "MjEkFbn0mDAx"
      },
      "source": [
        ""
      ],
      "execution_count": null,
      "outputs": []
    },
    {
      "cell_type": "code",
      "metadata": {
        "id": "K1Y40Fg8mDAx"
      },
      "source": [
        ""
      ],
      "execution_count": null,
      "outputs": []
    },
    {
      "cell_type": "code",
      "metadata": {
        "id": "WR_t9gy8mDAy"
      },
      "source": [
        ""
      ],
      "execution_count": null,
      "outputs": []
    }
  ]
}