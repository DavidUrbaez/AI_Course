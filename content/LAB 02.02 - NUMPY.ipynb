{
  "nbformat": 4,
  "nbformat_minor": 0,
  "metadata": {
    "kernelspec": {
      "display_name": "Python 3",
      "language": "python",
      "name": "python3"
    },
    "language_info": {
      "codemirror_mode": {
        "name": "ipython",
        "version": 3
      },
      "file_extension": ".py",
      "mimetype": "text/x-python",
      "name": "python",
      "nbconvert_exporter": "python",
      "pygments_lexer": "ipython3",
      "version": "3.7.3"
    },
    "colab": {
      "name": "LAB 02.02 - NUMPY.ipynb",
      "provenance": [],
      "include_colab_link": true
    },
    "widgets": {
      "application/vnd.jupyter.widget-state+json": {
        "da29063e08924b5bbbaacba3c6584273": {
          "model_module": "@jupyter-widgets/controls",
          "model_name": "HBoxModel",
          "state": {
            "_view_name": "HBoxView",
            "_dom_classes": [],
            "_model_name": "HBoxModel",
            "_view_module": "@jupyter-widgets/controls",
            "_model_module_version": "1.5.0",
            "_view_count": null,
            "_view_module_version": "1.5.0",
            "box_style": "",
            "layout": "IPY_MODEL_93540859b7f7464db1ed91837be04e43",
            "_model_module": "@jupyter-widgets/controls",
            "children": [
              "IPY_MODEL_c906161a592f461ab8dde28f89b96875",
              "IPY_MODEL_e1c94345e5724f3db716e16c1bbf2f4b",
              "IPY_MODEL_95fabe064e094241b4b0893d7af02e58",
              "IPY_MODEL_9625e71f7139415c9bf366c46194604c"
            ]
          }
        },
        "93540859b7f7464db1ed91837be04e43": {
          "model_module": "@jupyter-widgets/base",
          "model_name": "LayoutModel",
          "state": {
            "_view_name": "LayoutView",
            "grid_template_rows": null,
            "right": null,
            "justify_content": null,
            "_view_module": "@jupyter-widgets/base",
            "overflow": null,
            "_model_module_version": "1.2.0",
            "_view_count": null,
            "flex_flow": null,
            "width": null,
            "min_width": null,
            "border": null,
            "align_items": null,
            "bottom": null,
            "_model_module": "@jupyter-widgets/base",
            "top": null,
            "grid_column": null,
            "overflow_y": null,
            "overflow_x": null,
            "grid_auto_flow": null,
            "grid_area": null,
            "grid_template_columns": null,
            "flex": null,
            "_model_name": "LayoutModel",
            "justify_items": null,
            "grid_row": null,
            "max_height": null,
            "align_content": null,
            "visibility": null,
            "align_self": null,
            "height": null,
            "min_height": null,
            "padding": null,
            "grid_auto_rows": null,
            "grid_gap": null,
            "max_width": null,
            "order": null,
            "_view_module_version": "1.2.0",
            "grid_template_areas": null,
            "object_position": null,
            "object_fit": null,
            "grid_auto_columns": null,
            "margin": null,
            "display": null,
            "left": null
          }
        },
        "c906161a592f461ab8dde28f89b96875": {
          "model_module": "@jupyter-widgets/controls",
          "model_name": "VBoxModel",
          "state": {
            "_view_name": "VBoxView",
            "_dom_classes": [],
            "_model_name": "VBoxModel",
            "_view_module": "@jupyter-widgets/controls",
            "_model_module_version": "1.5.0",
            "_view_count": null,
            "_view_module_version": "1.5.0",
            "box_style": "",
            "layout": "IPY_MODEL_3e38f4d403b2462d959ef523ba433781",
            "_model_module": "@jupyter-widgets/controls",
            "children": [
              "IPY_MODEL_5ef2df57e0d64c7590480b30ce725ae1",
              "IPY_MODEL_d55bc9bab5bc45a2a12bd74346663c04"
            ]
          }
        },
        "e1c94345e5724f3db716e16c1bbf2f4b": {
          "model_module": "@jupyter-widgets/controls",
          "model_name": "ButtonModel",
          "state": {
            "_view_name": "ButtonView",
            "style": "IPY_MODEL_accd970994d54ff2a70252bee3f8f1d3",
            "_dom_classes": [
              "login_button"
            ],
            "description": "Login with email",
            "_model_name": "ButtonModel",
            "button_style": "",
            "_view_module": "@jupyter-widgets/controls",
            "_model_module_version": "1.5.0",
            "tooltip": "",
            "_view_count": null,
            "disabled": false,
            "_view_module_version": "1.5.0",
            "layout": "IPY_MODEL_455360b44bf14b99ae79a4b00e9fe5b3",
            "_model_module": "@jupyter-widgets/controls",
            "icon": ""
          }
        },
        "95fabe064e094241b4b0893d7af02e58": {
          "model_module": "@jupyter-widgets/controls",
          "model_name": "HTMLModel",
          "state": {
            "_view_name": "HTMLView",
            "style": "IPY_MODEL_bb86c9f012e841dfadcbd7b83c835010",
            "_dom_classes": [],
            "description": "",
            "_model_name": "HTMLModel",
            "placeholder": "​",
            "_view_module": "@jupyter-widgets/controls",
            "_model_module_version": "1.5.0",
            "value": "<center><big>or</big></center>",
            "_view_count": null,
            "_view_module_version": "1.5.0",
            "description_tooltip": null,
            "_model_module": "@jupyter-widgets/controls",
            "layout": "IPY_MODEL_aa11938715074ebebc8b892cbfe80158"
          }
        },
        "9625e71f7139415c9bf366c46194604c": {
          "model_module": "@jupyter-widgets/controls",
          "model_name": "ButtonModel",
          "state": {
            "_view_name": "ButtonView",
            "style": "IPY_MODEL_a0061f7caac54949a6778fe747de6f56",
            "_dom_classes": [
              "google_button"
            ],
            "description": "Login with Google",
            "_model_name": "ButtonModel",
            "button_style": "",
            "_view_module": "@jupyter-widgets/controls",
            "_model_module_version": "1.5.0",
            "tooltip": "",
            "_view_count": null,
            "disabled": false,
            "_view_module_version": "1.5.0",
            "layout": "IPY_MODEL_ed34de45c7944ab49b231e00a8bdc004",
            "_model_module": "@jupyter-widgets/controls",
            "icon": ""
          }
        },
        "3e38f4d403b2462d959ef523ba433781": {
          "model_module": "@jupyter-widgets/base",
          "model_name": "LayoutModel",
          "state": {
            "_view_name": "LayoutView",
            "grid_template_rows": null,
            "right": null,
            "justify_content": null,
            "_view_module": "@jupyter-widgets/base",
            "overflow": null,
            "_model_module_version": "1.2.0",
            "_view_count": null,
            "flex_flow": null,
            "width": null,
            "min_width": null,
            "border": null,
            "align_items": null,
            "bottom": null,
            "_model_module": "@jupyter-widgets/base",
            "top": null,
            "grid_column": null,
            "overflow_y": null,
            "overflow_x": null,
            "grid_auto_flow": null,
            "grid_area": null,
            "grid_template_columns": null,
            "flex": null,
            "_model_name": "LayoutModel",
            "justify_items": null,
            "grid_row": null,
            "max_height": null,
            "align_content": null,
            "visibility": null,
            "align_self": null,
            "height": null,
            "min_height": null,
            "padding": null,
            "grid_auto_rows": null,
            "grid_gap": null,
            "max_width": null,
            "order": null,
            "_view_module_version": "1.2.0",
            "grid_template_areas": null,
            "object_position": null,
            "object_fit": null,
            "grid_auto_columns": null,
            "margin": null,
            "display": null,
            "left": null
          }
        },
        "5ef2df57e0d64c7590480b30ce725ae1": {
          "model_module": "@jupyter-widgets/controls",
          "model_name": "TextModel",
          "state": {
            "_view_name": "TextView",
            "style": "IPY_MODEL_01757abf6a6748a296fde966f5c57a43",
            "_dom_classes": [],
            "description": "email",
            "_model_name": "TextModel",
            "placeholder": "​",
            "_view_module": "@jupyter-widgets/controls",
            "_model_module_version": "1.5.0",
            "value": "",
            "_view_count": null,
            "disabled": false,
            "_view_module_version": "1.5.0",
            "continuous_update": true,
            "description_tooltip": null,
            "_model_module": "@jupyter-widgets/controls",
            "layout": "IPY_MODEL_3377f37454c649038dd23716b1d3d7b4"
          }
        },
        "d55bc9bab5bc45a2a12bd74346663c04": {
          "model_module": "@jupyter-widgets/controls",
          "model_name": "PasswordModel",
          "state": {
            "_view_name": "PasswordView",
            "style": "IPY_MODEL_8267a6bcfaf047c9b1e25cc92d30e61f",
            "_dom_classes": [],
            "description": "password",
            "_model_name": "PasswordModel",
            "placeholder": "​",
            "_view_module": "@jupyter-widgets/controls",
            "_model_module_version": "1.5.0",
            "value": "",
            "_view_count": null,
            "disabled": false,
            "_view_module_version": "1.5.0",
            "continuous_update": true,
            "description_tooltip": null,
            "_model_module": "@jupyter-widgets/controls",
            "layout": "IPY_MODEL_e91c13598b6b45a68053225bf9f78e31"
          }
        },
        "accd970994d54ff2a70252bee3f8f1d3": {
          "model_module": "@jupyter-widgets/controls",
          "model_name": "ButtonStyleModel",
          "state": {
            "_view_name": "StyleView",
            "_model_name": "ButtonStyleModel",
            "_view_module": "@jupyter-widgets/base",
            "_model_module_version": "1.5.0",
            "_view_count": null,
            "button_color": null,
            "font_weight": "",
            "_view_module_version": "1.2.0",
            "_model_module": "@jupyter-widgets/controls"
          }
        },
        "455360b44bf14b99ae79a4b00e9fe5b3": {
          "model_module": "@jupyter-widgets/base",
          "model_name": "LayoutModel",
          "state": {
            "_view_name": "LayoutView",
            "grid_template_rows": null,
            "right": null,
            "justify_content": null,
            "_view_module": "@jupyter-widgets/base",
            "overflow": null,
            "_model_module_version": "1.2.0",
            "_view_count": null,
            "flex_flow": null,
            "width": "150px",
            "min_width": null,
            "border": null,
            "align_items": null,
            "bottom": null,
            "_model_module": "@jupyter-widgets/base",
            "top": null,
            "grid_column": null,
            "overflow_y": null,
            "overflow_x": null,
            "grid_auto_flow": null,
            "grid_area": null,
            "grid_template_columns": null,
            "flex": null,
            "_model_name": "LayoutModel",
            "justify_items": null,
            "grid_row": null,
            "max_height": null,
            "align_content": null,
            "visibility": null,
            "align_self": null,
            "height": "53px",
            "min_height": null,
            "padding": null,
            "grid_auto_rows": null,
            "grid_gap": null,
            "max_width": null,
            "order": null,
            "_view_module_version": "1.2.0",
            "grid_template_areas": null,
            "object_position": null,
            "object_fit": null,
            "grid_auto_columns": null,
            "margin": null,
            "display": null,
            "left": null
          }
        },
        "bb86c9f012e841dfadcbd7b83c835010": {
          "model_module": "@jupyter-widgets/controls",
          "model_name": "DescriptionStyleModel",
          "state": {
            "_view_name": "StyleView",
            "_model_name": "DescriptionStyleModel",
            "description_width": "",
            "_view_module": "@jupyter-widgets/base",
            "_model_module_version": "1.5.0",
            "_view_count": null,
            "_view_module_version": "1.2.0",
            "_model_module": "@jupyter-widgets/controls"
          }
        },
        "aa11938715074ebebc8b892cbfe80158": {
          "model_module": "@jupyter-widgets/base",
          "model_name": "LayoutModel",
          "state": {
            "_view_name": "LayoutView",
            "grid_template_rows": null,
            "right": null,
            "justify_content": null,
            "_view_module": "@jupyter-widgets/base",
            "overflow": null,
            "_model_module_version": "1.2.0",
            "_view_count": null,
            "flex_flow": null,
            "width": "100px",
            "min_width": null,
            "border": null,
            "align_items": null,
            "bottom": null,
            "_model_module": "@jupyter-widgets/base",
            "top": null,
            "grid_column": null,
            "overflow_y": null,
            "overflow_x": null,
            "grid_auto_flow": null,
            "grid_area": null,
            "grid_template_columns": null,
            "flex": null,
            "_model_name": "LayoutModel",
            "justify_items": null,
            "grid_row": null,
            "max_height": null,
            "align_content": null,
            "visibility": null,
            "align_self": null,
            "height": null,
            "min_height": null,
            "padding": null,
            "grid_auto_rows": null,
            "grid_gap": null,
            "max_width": null,
            "order": null,
            "_view_module_version": "1.2.0",
            "grid_template_areas": null,
            "object_position": null,
            "object_fit": null,
            "grid_auto_columns": null,
            "margin": null,
            "display": null,
            "left": null
          }
        },
        "a0061f7caac54949a6778fe747de6f56": {
          "model_module": "@jupyter-widgets/controls",
          "model_name": "ButtonStyleModel",
          "state": {
            "_view_name": "StyleView",
            "_model_name": "ButtonStyleModel",
            "_view_module": "@jupyter-widgets/base",
            "_model_module_version": "1.5.0",
            "_view_count": null,
            "button_color": null,
            "font_weight": "",
            "_view_module_version": "1.2.0",
            "_model_module": "@jupyter-widgets/controls"
          }
        },
        "ed34de45c7944ab49b231e00a8bdc004": {
          "model_module": "@jupyter-widgets/base",
          "model_name": "LayoutModel",
          "state": {
            "_view_name": "LayoutView",
            "grid_template_rows": null,
            "right": null,
            "justify_content": null,
            "_view_module": "@jupyter-widgets/base",
            "overflow": null,
            "_model_module_version": "1.2.0",
            "_view_count": null,
            "flex_flow": null,
            "width": "200px",
            "min_width": null,
            "border": null,
            "align_items": null,
            "bottom": null,
            "_model_module": "@jupyter-widgets/base",
            "top": null,
            "grid_column": null,
            "overflow_y": null,
            "overflow_x": null,
            "grid_auto_flow": null,
            "grid_area": null,
            "grid_template_columns": null,
            "flex": null,
            "_model_name": "LayoutModel",
            "justify_items": null,
            "grid_row": null,
            "max_height": null,
            "align_content": null,
            "visibility": null,
            "align_self": null,
            "height": "53px",
            "min_height": null,
            "padding": null,
            "grid_auto_rows": null,
            "grid_gap": null,
            "max_width": null,
            "order": null,
            "_view_module_version": "1.2.0",
            "grid_template_areas": null,
            "object_position": null,
            "object_fit": null,
            "grid_auto_columns": null,
            "margin": null,
            "display": null,
            "left": null
          }
        },
        "01757abf6a6748a296fde966f5c57a43": {
          "model_module": "@jupyter-widgets/controls",
          "model_name": "DescriptionStyleModel",
          "state": {
            "_view_name": "StyleView",
            "_model_name": "DescriptionStyleModel",
            "description_width": "",
            "_view_module": "@jupyter-widgets/base",
            "_model_module_version": "1.5.0",
            "_view_count": null,
            "_view_module_version": "1.2.0",
            "_model_module": "@jupyter-widgets/controls"
          }
        },
        "3377f37454c649038dd23716b1d3d7b4": {
          "model_module": "@jupyter-widgets/base",
          "model_name": "LayoutModel",
          "state": {
            "_view_name": "LayoutView",
            "grid_template_rows": null,
            "right": null,
            "justify_content": null,
            "_view_module": "@jupyter-widgets/base",
            "overflow": null,
            "_model_module_version": "1.2.0",
            "_view_count": null,
            "flex_flow": null,
            "width": "300px",
            "min_width": null,
            "border": null,
            "align_items": null,
            "bottom": null,
            "_model_module": "@jupyter-widgets/base",
            "top": null,
            "grid_column": null,
            "overflow_y": null,
            "overflow_x": null,
            "grid_auto_flow": null,
            "grid_area": null,
            "grid_template_columns": null,
            "flex": null,
            "_model_name": "LayoutModel",
            "justify_items": null,
            "grid_row": null,
            "max_height": null,
            "align_content": null,
            "visibility": null,
            "align_self": null,
            "height": "25px",
            "min_height": null,
            "padding": null,
            "grid_auto_rows": null,
            "grid_gap": null,
            "max_width": null,
            "order": null,
            "_view_module_version": "1.2.0",
            "grid_template_areas": null,
            "object_position": null,
            "object_fit": null,
            "grid_auto_columns": null,
            "margin": null,
            "display": null,
            "left": null
          }
        },
        "8267a6bcfaf047c9b1e25cc92d30e61f": {
          "model_module": "@jupyter-widgets/controls",
          "model_name": "DescriptionStyleModel",
          "state": {
            "_view_name": "StyleView",
            "_model_name": "DescriptionStyleModel",
            "description_width": "",
            "_view_module": "@jupyter-widgets/base",
            "_model_module_version": "1.5.0",
            "_view_count": null,
            "_view_module_version": "1.2.0",
            "_model_module": "@jupyter-widgets/controls"
          }
        },
        "e91c13598b6b45a68053225bf9f78e31": {
          "model_module": "@jupyter-widgets/base",
          "model_name": "LayoutModel",
          "state": {
            "_view_name": "LayoutView",
            "grid_template_rows": null,
            "right": null,
            "justify_content": null,
            "_view_module": "@jupyter-widgets/base",
            "overflow": null,
            "_model_module_version": "1.2.0",
            "_view_count": null,
            "flex_flow": null,
            "width": "300px",
            "min_width": null,
            "border": null,
            "align_items": null,
            "bottom": null,
            "_model_module": "@jupyter-widgets/base",
            "top": null,
            "grid_column": null,
            "overflow_y": null,
            "overflow_x": null,
            "grid_auto_flow": null,
            "grid_area": null,
            "grid_template_columns": null,
            "flex": null,
            "_model_name": "LayoutModel",
            "justify_items": null,
            "grid_row": null,
            "max_height": null,
            "align_content": null,
            "visibility": null,
            "align_self": null,
            "height": "24px",
            "min_height": null,
            "padding": null,
            "grid_auto_rows": null,
            "grid_gap": null,
            "max_width": null,
            "order": null,
            "_view_module_version": "1.2.0",
            "grid_template_areas": null,
            "object_position": null,
            "object_fit": null,
            "grid_auto_columns": null,
            "margin": null,
            "display": null,
            "left": null
          }
        }
      }
    }
  },
  "cells": [
    {
      "cell_type": "markdown",
      "metadata": {
        "id": "view-in-github",
        "colab_type": "text"
      },
      "source": [
        "<a href=\"https://colab.research.google.com/github/DavidUrbaez/AI_Course/blob/main/content/LAB%2002.02%20-%20NUMPY.ipynb\" target=\"_parent\"><img src=\"https://colab.research.google.com/assets/colab-badge.svg\" alt=\"Open In Colab\"/></a>"
      ]
    },
    {
      "cell_type": "markdown",
      "metadata": {
        "id": "f7MwdPswU1e9"
      },
      "source": [
        "# LAB 02.02 - Numpy"
      ]
    },
    {
      "cell_type": "code",
      "metadata": {
        "id": "c7PMjW23U1e-",
        "outputId": "714b9a42-517f-46cc-8ab6-fcf8c89cd64e",
        "colab": {
          "base_uri": "https://localhost:8080/",
          "height": 75
        }
      },
      "source": [
        "!wget --no-cache -O init.py -q https://raw.githubusercontent.com/rramosp/ai4eng.v1/main/content/init.py\n",
        "import init; init.init(force_download=False); init.get_weblink()\n"
      ],
      "execution_count": 1,
      "outputs": [
        {
          "output_type": "display_data",
          "data": {
            "text/html": [
              "\n",
              "<meta name=\"google-signin-client_id\"\n",
              "      content=\"461673936472-kdjosv61up3ac1ajeuq6qqu72upilmls.apps.googleusercontent.com\"/>\n",
              "<script src=\"https://apis.google.com/js/client:platform.js?onload=google_button_start\"></script>\n",
              "    "
            ],
            "text/plain": [
              "<IPython.core.display.HTML object>"
            ]
          },
          "metadata": {
            "tags": []
          }
        },
        {
          "output_type": "stream",
          "text": [
            "replicating local resources\n"
          ],
          "name": "stdout"
        },
        {
          "output_type": "execute_result",
          "data": {
            "text/html": [
              "<h3>See <a href='https://m5knaekxo6.execute-api.us-west-2.amazonaws.com/dev-v0001/rlxmooc/web/login' target='_blank'>my courses and progress</a></h2>"
            ],
            "text/plain": [
              "<IPython.core.display.HTML object>"
            ]
          },
          "metadata": {
            "tags": []
          },
          "execution_count": 1
        }
      ]
    },
    {
      "cell_type": "code",
      "metadata": {
        "id": "43--I0EZU1e_",
        "outputId": "5b550824-45c6-4e17-b01d-77fe2cb20ab1",
        "colab": {
          "base_uri": "https://localhost:8080/",
          "height": 117,
          "referenced_widgets": [
            "da29063e08924b5bbbaacba3c6584273",
            "93540859b7f7464db1ed91837be04e43",
            "c906161a592f461ab8dde28f89b96875",
            "e1c94345e5724f3db716e16c1bbf2f4b",
            "95fabe064e094241b4b0893d7af02e58",
            "9625e71f7139415c9bf366c46194604c",
            "3e38f4d403b2462d959ef523ba433781",
            "5ef2df57e0d64c7590480b30ce725ae1",
            "d55bc9bab5bc45a2a12bd74346663c04",
            "accd970994d54ff2a70252bee3f8f1d3",
            "455360b44bf14b99ae79a4b00e9fe5b3",
            "bb86c9f012e841dfadcbd7b83c835010",
            "aa11938715074ebebc8b892cbfe80158",
            "a0061f7caac54949a6778fe747de6f56",
            "ed34de45c7944ab49b231e00a8bdc004",
            "01757abf6a6748a296fde966f5c57a43",
            "3377f37454c649038dd23716b1d3d7b4",
            "8267a6bcfaf047c9b1e25cc92d30e61f",
            "e91c13598b6b45a68053225bf9f78e31"
          ]
        }
      },
      "source": [
        "from local.lib.rlxmoocapi import submit, session\n",
        "session.LoginSequence(endpoint=init.endpoint, course_id=init.course_id, lab_id=\"L02.02\", varname=\"student\");"
      ],
      "execution_count": 35,
      "outputs": [
        {
          "output_type": "stream",
          "text": [
            "logging in as durbaezl@unal.edu.co... please wait\n",
            "using course session ai4eng.v1::open\n",
            "success!! you are logged in\n"
          ],
          "name": "stdout"
        }
      ]
    },
    {
      "cell_type": "code",
      "metadata": {
        "id": "5Xv_8_S5U1e_"
      },
      "source": [
        "import numpy as np"
      ],
      "execution_count": 3,
      "outputs": []
    },
    {
      "cell_type": "markdown",
      "metadata": {
        "id": "RhP54apVU1fA"
      },
      "source": [
        "## Task 1: Cauchy Matrix\n",
        "\n",
        "\n",
        "Given two vectors (1D `numpy` arrays), $x$ and $y$, build the Cauchy Matrix:\n",
        "\n",
        "\n",
        "$$C_{ij}=\\:\\: \\frac{1}{x_i-y_j}$$\n",
        "\n",
        "See https://en.wikipedia.org/wiki/Cauchy_matrix, the elements of the matrix are the results of substracting the correpsonding positions in the $x$ and $y$ vectors where the rows correspond to $x$ and the columns to $y$.\n",
        "\n",
        "**NOTE**: if there is any division by zero, you must raise a `ValueError` exception.\n",
        "\n",
        "**HINT**: create a matrix with zeros with the desired output shape, use broadcasting of $x$ as row vector, and then broadcasting of $y$ as column vector with `reshape(-1,1)`\n",
        "\n",
        "**CHALLENGE**: build a function with maximum four lines of code, including checking for zeros and raising the exception.\n",
        "\n",
        "**Execution example**\n",
        "\n",
        "```python\n",
        ">> x = np.array([45, 31, 67, 75, 54])\n",
        ">> y = np.array([17,  7, 15, 15, 18])\n",
        ">> cauchy(c,y)\n",
        "array([[0.03571429, 0.02631579, 0.03333333, 0.03333333, 0.03703704],\n",
        "       [0.07142857, 0.04166667, 0.0625    , 0.0625    , 0.07692308],\n",
        "       [0.02      , 0.01666667, 0.01923077, 0.01923077, 0.02040816],\n",
        "       [0.01724138, 0.01470588, 0.01666667, 0.01666667, 0.01754386],\n",
        "       [0.02702703, 0.0212766 , 0.02564103, 0.02564103, 0.02777778]])\n",
        "```"
      ]
    },
    {
      "cell_type": "code",
      "metadata": {
        "id": "1SgV6FYGU1fA",
        "outputId": "b1127f6d-404d-4cc8-b800-056c9ff77904",
        "colab": {
          "base_uri": "https://localhost:8080/"
        }
      },
      "source": [
        "def cauchy(x, y):\n",
        "\n",
        "    r=np.zeros((x.shape[0],y.shape[0]))\n",
        "    for i,x_val in enumerate(x):\n",
        "      for j,y_val in enumerate(y):\n",
        "        if x_val==y_val:\n",
        "          raise ValueError(\"wtf r u ok?\")\n",
        "        r[i,j]=1/(x_val-y_val)\n",
        "    \n",
        "    return r\n",
        "x = np.array([45, 31, 67, 75, 54])\n",
        "y = np.array([17,  7, 15, 15, 18])\n",
        "cauchy(x,y)"
      ],
      "execution_count": 19,
      "outputs": [
        {
          "output_type": "execute_result",
          "data": {
            "text/plain": [
              "array([[0.03571429, 0.02631579, 0.03333333, 0.03333333, 0.03703704],\n",
              "       [0.07142857, 0.04166667, 0.0625    , 0.0625    , 0.07692308],\n",
              "       [0.02      , 0.01666667, 0.01923077, 0.01923077, 0.02040816],\n",
              "       [0.01724138, 0.01470588, 0.01666667, 0.01666667, 0.01754386],\n",
              "       [0.02702703, 0.0212766 , 0.02564103, 0.02564103, 0.02777778]])"
            ]
          },
          "metadata": {
            "tags": []
          },
          "execution_count": 19
        }
      ]
    },
    {
      "cell_type": "markdown",
      "metadata": {
        "id": "vlwE8l8QU1fB"
      },
      "source": [
        "**check your code manually**"
      ]
    },
    {
      "cell_type": "code",
      "metadata": {
        "id": "snntpCJ8U1fB",
        "outputId": "c35c4967-2f91-400e-bcd5-c01c8eccce80",
        "colab": {
          "base_uri": "https://localhost:8080/"
        }
      },
      "source": [
        ""
      ],
      "execution_count": 10,
      "outputs": [
        {
          "output_type": "execute_result",
          "data": {
            "text/plain": [
              "0.07142857142857142"
            ]
          },
          "metadata": {
            "tags": []
          },
          "execution_count": 10
        }
      ]
    },
    {
      "cell_type": "markdown",
      "metadata": {
        "id": "a_GG1VH4U1fC"
      },
      "source": [
        "this execution should raise a `ValueError` exception"
      ]
    },
    {
      "cell_type": "code",
      "metadata": {
        "id": "uBYnt0WPU1fC"
      },
      "source": [
        "x = np.array([45, 31, 67, 75, 54])\n",
        "y = np.array([17,  7, 15, 75, 18])\n",
        "cauchy(x,y)"
      ],
      "execution_count": null,
      "outputs": []
    },
    {
      "cell_type": "code",
      "metadata": {
        "id": "r8pPvSstU1fC"
      },
      "source": [
        ""
      ],
      "execution_count": null,
      "outputs": []
    },
    {
      "cell_type": "code",
      "metadata": {
        "id": "hnNWO5FnU1fC"
      },
      "source": [
        ""
      ],
      "execution_count": null,
      "outputs": []
    },
    {
      "cell_type": "markdown",
      "metadata": {
        "id": "WEoQeL9rU1fC"
      },
      "source": [
        "**submit your code**"
      ]
    },
    {
      "cell_type": "code",
      "metadata": {
        "scrolled": true,
        "id": "qv4YCDV8U1fD",
        "outputId": "8a667a11-9d33-4309-d933-7cde4f54d683",
        "colab": {
          "base_uri": "https://localhost:8080/",
          "height": 127
        }
      },
      "source": [
        "student.submit_task(globals(), task_id=\"task_01\");"
      ],
      "execution_count": 22,
      "outputs": [
        {
          "output_type": "display_data",
          "data": {
            "text/html": [
              "\n",
              "                    <b>task_01 submitted.</b> <b><font color=\"blue\">your grade is 5</font></b> \n",
              "                    <p/><pre>----- grader message -------</pre>testing with 100 random calls<br/><b>correct</b><pre>----------------------------</pre>\n",
              "                    <p/><p/>\n",
              "                    <div style=\"font-size:10px\"><b>SUBMISSION CODE</b> ntYrz19+6dIXO1KrcA5aQ8XEPmFU62c/RNdrbdQBDh0GppW4TzxQqg0Wke8CB0F1HnwHw3VXMEFUyr9qzj1vo2IjJCjelIKMncZGxY8uusDnN6qTcZhc6dJ3pwo1HR8IfcVqag++2rcMdsxFGArw1Q==</div>\n",
              "                    "
            ],
            "text/plain": [
              "<IPython.core.display.HTML object>"
            ]
          },
          "metadata": {
            "tags": []
          }
        }
      ]
    },
    {
      "cell_type": "markdown",
      "metadata": {
        "id": "Krm6WW4EU1fD"
      },
      "source": [
        "## Task 2: Position of closest scalar\n",
        "\n",
        "Given a 1D vector $x$, find the position of the closest element to $v$\n",
        "\n",
        "\n",
        "**Execution example**:\n",
        "\n",
        "```python\n",
        ">> x=np.arange(25,55,3)\n",
        ">> minimo(x,34)\n",
        "3\n",
        "```\n",
        "\n",
        "**HINT**: use [`np.argmin`](https://docs.scipy.org/doc/numpy/reference/generated/numpy.argmin.html)\n",
        "\n",
        "**CHALLENGE**: solve it with one line of code"
      ]
    },
    {
      "cell_type": "code",
      "metadata": {
        "id": "gutmIcJHU1fD",
        "outputId": "9813be59-8b0b-4b4b-a641-bf34699b8453",
        "colab": {
          "base_uri": "https://localhost:8080/"
        }
      },
      "source": [
        "def minimo(x,v):\n",
        "    return np.argmin(np.abs(x-v)) # your code here\n",
        "\n",
        "x = np.arange(25,55,3)\n",
        "v = 34\n",
        "minimo(x,v)\n"
      ],
      "execution_count": 33,
      "outputs": [
        {
          "output_type": "execute_result",
          "data": {
            "text/plain": [
              "3"
            ]
          },
          "metadata": {
            "tags": []
          },
          "execution_count": 33
        }
      ]
    },
    {
      "cell_type": "markdown",
      "metadata": {
        "id": "GcajKMgGU1fD"
      },
      "source": [
        "**check manually your code**"
      ]
    },
    {
      "cell_type": "code",
      "metadata": {
        "id": "pxLv0afqU1fD",
        "outputId": "b893bc33-3f5e-42a3-9fe2-7ccf06c03bce",
        "colab": {
          "base_uri": "https://localhost:8080/"
        }
      },
      "source": [
        ""
      ],
      "execution_count": 27,
      "outputs": [
        {
          "output_type": "stream",
          "text": [
            "[-9 -6 -3  0  3  6  9 12 15 18]\n"
          ],
          "name": "stdout"
        },
        {
          "output_type": "execute_result",
          "data": {
            "text/plain": [
              "0"
            ]
          },
          "metadata": {
            "tags": []
          },
          "execution_count": 27
        }
      ]
    },
    {
      "cell_type": "markdown",
      "metadata": {
        "id": "TuocTgwCU1fE"
      },
      "source": [
        "**submit your code**"
      ]
    },
    {
      "cell_type": "code",
      "metadata": {
        "scrolled": true,
        "id": "OxuKc_J-U1fE",
        "outputId": "67dcdf23-67f2-4e11-8426-642ac4663519",
        "colab": {
          "base_uri": "https://localhost:8080/",
          "height": 127
        }
      },
      "source": [
        "student.submit_task(globals(), task_id=\"task_02\");"
      ],
      "execution_count": 36,
      "outputs": [
        {
          "output_type": "display_data",
          "data": {
            "text/html": [
              "\n",
              "                    <b>task_02 submitted.</b> <b><font color=\"blue\">your grade is 5</font></b> \n",
              "                    <p/><pre>----- grader message -------</pre>testing with 100 random calls<br/><b>correct</b><pre>----------------------------</pre>\n",
              "                    <p/><p/>\n",
              "                    <div style=\"font-size:10px\"><b>SUBMISSION CODE</b> /Fzm8EQD9vKHwUXaTsyc+z9lYW4dHv7UQKPauzkzPgtQWY1JuiudgBgC0SgKZXeP3BIVjtKipkb7HF9zBR9j6FcXFtlkZoUdw9kMohRcGfuvpaigTxWA5YH4+DPymvCjfMf9w/ckmV5zERbIAhgwFA==</div>\n",
              "                    "
            ],
            "text/plain": [
              "<IPython.core.display.HTML object>"
            ]
          },
          "metadata": {
            "tags": []
          }
        }
      ]
    },
    {
      "cell_type": "markdown",
      "metadata": {
        "id": "g51MGBhVU1fE"
      },
      "source": [
        "## Task 3: Substracting row mean\n",
        "\n",
        "Given a matrix, your function must return a new one with the same dimensions in which each component is substracted the mean of its own row.\n",
        "\n",
        "\n",
        "**Execution example**\n",
        "```python\n",
        ">> X = np.array([[1, 2, 3], [4, 5, 6],[7,8,9]])\n",
        ">> media(X)\n",
        "array([[-1.,  0.,  1.],\n",
        "       [-1.,  0.,  1.],\n",
        "       [-1.,  0.,  1.]])\n",
        "```\n",
        "\n",
        "**HINT**: use broadcasting\n",
        "\n",
        "**CHALLENGE**: solve it with one line of code"
      ]
    },
    {
      "cell_type": "code",
      "metadata": {
        "id": "HPgaLERuU1fE",
        "outputId": "faa5b03b-90d7-40e8-a433-f3843cb320d2",
        "colab": {
          "base_uri": "https://localhost:8080/"
        }
      },
      "source": [
        "def media(X):\n",
        "    return X-np.mean(X,axis=1).reshape(-1,1) # your code here\n",
        "X = np.array([[1, 2, 3], [4, 5, 6],[7,8,9]])\n",
        "media(X)"
      ],
      "execution_count": 40,
      "outputs": [
        {
          "output_type": "execute_result",
          "data": {
            "text/plain": [
              "array([[-1.,  0.,  1.],\n",
              "       [-1.,  0.,  1.],\n",
              "       [-1.,  0.,  1.]])"
            ]
          },
          "metadata": {
            "tags": []
          },
          "execution_count": 40
        }
      ]
    },
    {
      "cell_type": "markdown",
      "metadata": {
        "id": "GJula-LiU1fE"
      },
      "source": [
        "**check your code manually**"
      ]
    },
    {
      "cell_type": "code",
      "metadata": {
        "id": "07XSfPyRU1fF"
      },
      "source": [
        ""
      ],
      "execution_count": null,
      "outputs": []
    },
    {
      "cell_type": "markdown",
      "metadata": {
        "id": "o4jVFfdVU1fF"
      },
      "source": [
        "**submit your code**"
      ]
    },
    {
      "cell_type": "code",
      "metadata": {
        "scrolled": false,
        "id": "jgpekpiYU1fF",
        "outputId": "b23db89e-9ab8-47ac-917a-9d8aab15d026",
        "colab": {
          "base_uri": "https://localhost:8080/",
          "height": 127
        }
      },
      "source": [
        "student.submit_task(globals(), task_id=\"task_03\");"
      ],
      "execution_count": 41,
      "outputs": [
        {
          "output_type": "display_data",
          "data": {
            "text/html": [
              "\n",
              "                    <b>task_03 submitted.</b> <b><font color=\"blue\">your grade is 5</font></b> \n",
              "                    <p/><pre>----- grader message -------</pre>testing with 100 random calls<br/><b>correct</b><pre>----------------------------</pre>\n",
              "                    <p/><p/>\n",
              "                    <div style=\"font-size:10px\"><b>SUBMISSION CODE</b> 2lXI/ii4MU2Je7hmTBBSkxvY25rsC5Rw55HSqYOBaRudCOjUujCVSbtnk15uRhQApd3EYnR7rDzBpswPk32QPx/DPySpXZddh+SdhITstNdS2g79kWKUG958HebRH7flyAnc28HfPCqbjUhdD7SK2Q==</div>\n",
              "                    "
            ],
            "text/plain": [
              "<IPython.core.display.HTML object>"
            ]
          },
          "metadata": {
            "tags": []
          }
        }
      ]
    },
    {
      "cell_type": "markdown",
      "metadata": {
        "id": "_sTAhYyWU1fF"
      },
      "source": [
        "## Task 4: Double the diagonal\n",
        "\n",
        "Complete the following function such that it returns the same matrix received in $X$ but with its diagonal multiplied by 2. Assume $X$ is a square matrix (with the same number of rows and columns).\n",
        "\n",
        "**Execution example**\n",
        "\n",
        "```python\n",
        ">> X = np.array([[79, 45, 67,  8, 37],\n",
        ">>               [47, 40,  5, 79, 86],\n",
        ">>               [72, 25, 44, 45, 22],\n",
        ">>               [12, 85,  8, 53, 28],\n",
        ">>               [ 4, 37, 36, 40, 16]])\n",
        ">> \n",
        ">> doublediag(X)\n",
        "\n",
        "array([[158.,  45.,  67.,   8.,  37.],\n",
        "       [ 47.,  80.,   5.,  79.,  86.],\n",
        "       [ 72.,  25.,  88.,  45.,  22.],\n",
        "       [ 12.,  85.,   8., 106.,  28.],\n",
        "       [  4.,  37.,  36.,  40.,  32.]])\n",
        "```\n",
        "\n",
        "**HINT**: use [`np.eye`](https://docs.scipy.org/doc/numpy/reference/generated/numpy.eye.html)\n",
        "\n",
        "**CHALLENGE**: solve with one line of code"
      ]
    },
    {
      "cell_type": "code",
      "metadata": {
        "id": "RJBTCMIMU1fF"
      },
      "source": [
        "def doublediag(X):\n",
        "    return X+np.diag(np.diag(X))# your code here"
      ],
      "execution_count": 53,
      "outputs": []
    },
    {
      "cell_type": "markdown",
      "metadata": {
        "id": "NPQQVrPSU1fF"
      },
      "source": [
        "**check manually your code**"
      ]
    },
    {
      "cell_type": "code",
      "metadata": {
        "id": "x2daLJbZU1fG",
        "outputId": "80fdb40c-8538-4869-d058-da8b7c41c820",
        "colab": {
          "base_uri": "https://localhost:8080/"
        }
      },
      "source": [
        "X = np.array([[79, 45, 67,  8, 37],\n",
        "              [47, 40,  5, 79, 86],\n",
        "              [72, 25, 44, 45, 22],\n",
        "              [12, 85,  8, 53, 28],\n",
        "              [ 4, 37, 36, 40, 16]])\n",
        "\n",
        "# doublediag(X)"
      ],
      "execution_count": 52,
      "outputs": [
        {
          "output_type": "execute_result",
          "data": {
            "text/plain": [
              "array([[158,  45,  67,   8,  37],\n",
              "       [ 47,  80,   5,  79,  86],\n",
              "       [ 72,  25,  88,  45,  22],\n",
              "       [ 12,  85,   8, 106,  28],\n",
              "       [  4,  37,  36,  40,  32]])"
            ]
          },
          "metadata": {
            "tags": []
          },
          "execution_count": 52
        }
      ]
    },
    {
      "cell_type": "markdown",
      "metadata": {
        "id": "ztqt-MQbU1fG"
      },
      "source": [
        "**submit your code**"
      ]
    },
    {
      "cell_type": "code",
      "metadata": {
        "scrolled": true,
        "id": "YBf23-75U1fG",
        "outputId": "f60e561f-14c5-4747-802d-3b610d8bfa02",
        "colab": {
          "base_uri": "https://localhost:8080/",
          "height": 127
        }
      },
      "source": [
        "student.submit_task(globals(), task_id=\"task_04\");"
      ],
      "execution_count": 54,
      "outputs": [
        {
          "output_type": "display_data",
          "data": {
            "text/html": [
              "\n",
              "                    <b>task_04 submitted.</b> <b><font color=\"blue\">your grade is 5</font></b> \n",
              "                    <p/><pre>----- grader message -------</pre>testing with 100 random calls<br/><b>correct</b><pre>----------------------------</pre>\n",
              "                    <p/><p/>\n",
              "                    <div style=\"font-size:10px\"><b>SUBMISSION CODE</b> UeQxhhElFqvQeuB48zHobUFtI4Q0E8ZLMyhxZyUPmYw6Qkedmz576Ge/2Wqf3iQvvKt8P0kK1P0/g76FxptCJqyBmpn3QsfKRAd7aDa+pRViUfoiCJSyTpGg+6ZOjthaSnbO5fTOYG5w1vLnFjS2+Q==</div>\n",
              "                    "
            ],
            "text/plain": [
              "<IPython.core.display.HTML object>"
            ]
          },
          "metadata": {
            "tags": []
          }
        }
      ]
    },
    {
      "cell_type": "code",
      "metadata": {
        "id": "mQPJE4eHU1fG"
      },
      "source": [
        ""
      ],
      "execution_count": null,
      "outputs": []
    }
  ]
}