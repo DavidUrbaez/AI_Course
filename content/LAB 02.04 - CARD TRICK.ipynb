{
  "nbformat": 4,
  "nbformat_minor": 0,
  "metadata": {
    "kernelspec": {
      "display_name": "p38",
      "language": "python",
      "name": "p38"
    },
    "language_info": {
      "codemirror_mode": {
        "name": "ipython",
        "version": 3
      },
      "file_extension": ".py",
      "mimetype": "text/x-python",
      "name": "python",
      "nbconvert_exporter": "python",
      "pygments_lexer": "ipython3",
      "version": "3.8.5"
    },
    "colab": {
      "name": "LAB 02.04 - CARD TRICK.ipynb",
      "provenance": [],
      "include_colab_link": true
    },
    "widgets": {
      "application/vnd.jupyter.widget-state+json": {
        "11b1be43db5149c48cc75a7659bf1483": {
          "model_module": "@jupyter-widgets/controls",
          "model_name": "HBoxModel",
          "state": {
            "_view_name": "HBoxView",
            "_dom_classes": [],
            "_model_name": "HBoxModel",
            "_view_module": "@jupyter-widgets/controls",
            "_model_module_version": "1.5.0",
            "_view_count": null,
            "_view_module_version": "1.5.0",
            "box_style": "",
            "layout": "IPY_MODEL_6386d30f7e3e4517a57059e615eb449b",
            "_model_module": "@jupyter-widgets/controls",
            "children": [
              "IPY_MODEL_495779a8577f4826b4be6cb67ee22761",
              "IPY_MODEL_1ee2bd2121714540a8abdf4f520f2c0e",
              "IPY_MODEL_f4ebc51ebb414779a14f25b466801adf",
              "IPY_MODEL_987cb334c1264b3a903c6304a064a590"
            ]
          }
        },
        "6386d30f7e3e4517a57059e615eb449b": {
          "model_module": "@jupyter-widgets/base",
          "model_name": "LayoutModel",
          "state": {
            "_view_name": "LayoutView",
            "grid_template_rows": null,
            "right": null,
            "justify_content": null,
            "_view_module": "@jupyter-widgets/base",
            "overflow": null,
            "_model_module_version": "1.2.0",
            "_view_count": null,
            "flex_flow": null,
            "width": null,
            "min_width": null,
            "border": null,
            "align_items": null,
            "bottom": null,
            "_model_module": "@jupyter-widgets/base",
            "top": null,
            "grid_column": null,
            "overflow_y": null,
            "overflow_x": null,
            "grid_auto_flow": null,
            "grid_area": null,
            "grid_template_columns": null,
            "flex": null,
            "_model_name": "LayoutModel",
            "justify_items": null,
            "grid_row": null,
            "max_height": null,
            "align_content": null,
            "visibility": null,
            "align_self": null,
            "height": null,
            "min_height": null,
            "padding": null,
            "grid_auto_rows": null,
            "grid_gap": null,
            "max_width": null,
            "order": null,
            "_view_module_version": "1.2.0",
            "grid_template_areas": null,
            "object_position": null,
            "object_fit": null,
            "grid_auto_columns": null,
            "margin": null,
            "display": null,
            "left": null
          }
        },
        "495779a8577f4826b4be6cb67ee22761": {
          "model_module": "@jupyter-widgets/controls",
          "model_name": "VBoxModel",
          "state": {
            "_view_name": "VBoxView",
            "_dom_classes": [],
            "_model_name": "VBoxModel",
            "_view_module": "@jupyter-widgets/controls",
            "_model_module_version": "1.5.0",
            "_view_count": null,
            "_view_module_version": "1.5.0",
            "box_style": "",
            "layout": "IPY_MODEL_ac5d597ec9964c488cd36dac35701c12",
            "_model_module": "@jupyter-widgets/controls",
            "children": [
              "IPY_MODEL_f2c322b5419d4ede9f4aa9d58e9bdde0",
              "IPY_MODEL_ebd25a69bee841b59a1ef5e5d0b379ed"
            ]
          }
        },
        "1ee2bd2121714540a8abdf4f520f2c0e": {
          "model_module": "@jupyter-widgets/controls",
          "model_name": "ButtonModel",
          "state": {
            "_view_name": "ButtonView",
            "style": "IPY_MODEL_f56b78dca4b24fec89817e7069bed4bc",
            "_dom_classes": [
              "login_button"
            ],
            "description": "Login with email",
            "_model_name": "ButtonModel",
            "button_style": "",
            "_view_module": "@jupyter-widgets/controls",
            "_model_module_version": "1.5.0",
            "tooltip": "",
            "_view_count": null,
            "disabled": false,
            "_view_module_version": "1.5.0",
            "layout": "IPY_MODEL_d74bb506b0b34fd18e7a766c97ae0192",
            "_model_module": "@jupyter-widgets/controls",
            "icon": ""
          }
        },
        "f4ebc51ebb414779a14f25b466801adf": {
          "model_module": "@jupyter-widgets/controls",
          "model_name": "HTMLModel",
          "state": {
            "_view_name": "HTMLView",
            "style": "IPY_MODEL_f71933a768a74ec781353e4bf2a855c0",
            "_dom_classes": [],
            "description": "",
            "_model_name": "HTMLModel",
            "placeholder": "​",
            "_view_module": "@jupyter-widgets/controls",
            "_model_module_version": "1.5.0",
            "value": "<center><big>or</big></center>",
            "_view_count": null,
            "_view_module_version": "1.5.0",
            "description_tooltip": null,
            "_model_module": "@jupyter-widgets/controls",
            "layout": "IPY_MODEL_b379bea83fc243d782aca30856631dd9"
          }
        },
        "987cb334c1264b3a903c6304a064a590": {
          "model_module": "@jupyter-widgets/controls",
          "model_name": "ButtonModel",
          "state": {
            "_view_name": "ButtonView",
            "style": "IPY_MODEL_554ca8bf8132432eb79ff8709dc2e489",
            "_dom_classes": [
              "google_button"
            ],
            "description": "Login with Google",
            "_model_name": "ButtonModel",
            "button_style": "",
            "_view_module": "@jupyter-widgets/controls",
            "_model_module_version": "1.5.0",
            "tooltip": "",
            "_view_count": null,
            "disabled": false,
            "_view_module_version": "1.5.0",
            "layout": "IPY_MODEL_ab3fd251d4594d2083020f418da9672e",
            "_model_module": "@jupyter-widgets/controls",
            "icon": ""
          }
        },
        "ac5d597ec9964c488cd36dac35701c12": {
          "model_module": "@jupyter-widgets/base",
          "model_name": "LayoutModel",
          "state": {
            "_view_name": "LayoutView",
            "grid_template_rows": null,
            "right": null,
            "justify_content": null,
            "_view_module": "@jupyter-widgets/base",
            "overflow": null,
            "_model_module_version": "1.2.0",
            "_view_count": null,
            "flex_flow": null,
            "width": null,
            "min_width": null,
            "border": null,
            "align_items": null,
            "bottom": null,
            "_model_module": "@jupyter-widgets/base",
            "top": null,
            "grid_column": null,
            "overflow_y": null,
            "overflow_x": null,
            "grid_auto_flow": null,
            "grid_area": null,
            "grid_template_columns": null,
            "flex": null,
            "_model_name": "LayoutModel",
            "justify_items": null,
            "grid_row": null,
            "max_height": null,
            "align_content": null,
            "visibility": null,
            "align_self": null,
            "height": null,
            "min_height": null,
            "padding": null,
            "grid_auto_rows": null,
            "grid_gap": null,
            "max_width": null,
            "order": null,
            "_view_module_version": "1.2.0",
            "grid_template_areas": null,
            "object_position": null,
            "object_fit": null,
            "grid_auto_columns": null,
            "margin": null,
            "display": null,
            "left": null
          }
        },
        "f2c322b5419d4ede9f4aa9d58e9bdde0": {
          "model_module": "@jupyter-widgets/controls",
          "model_name": "TextModel",
          "state": {
            "_view_name": "TextView",
            "style": "IPY_MODEL_0d64a44664884a34932386f663ea17ea",
            "_dom_classes": [],
            "description": "email",
            "_model_name": "TextModel",
            "placeholder": "​",
            "_view_module": "@jupyter-widgets/controls",
            "_model_module_version": "1.5.0",
            "value": "",
            "_view_count": null,
            "disabled": false,
            "_view_module_version": "1.5.0",
            "continuous_update": true,
            "description_tooltip": null,
            "_model_module": "@jupyter-widgets/controls",
            "layout": "IPY_MODEL_95297e9a2591403c9049b6aff1822407"
          }
        },
        "ebd25a69bee841b59a1ef5e5d0b379ed": {
          "model_module": "@jupyter-widgets/controls",
          "model_name": "PasswordModel",
          "state": {
            "_view_name": "PasswordView",
            "style": "IPY_MODEL_e6177a16ca9e46fe88a436d74817b933",
            "_dom_classes": [],
            "description": "password",
            "_model_name": "PasswordModel",
            "placeholder": "​",
            "_view_module": "@jupyter-widgets/controls",
            "_model_module_version": "1.5.0",
            "value": "",
            "_view_count": null,
            "disabled": false,
            "_view_module_version": "1.5.0",
            "continuous_update": true,
            "description_tooltip": null,
            "_model_module": "@jupyter-widgets/controls",
            "layout": "IPY_MODEL_35f3338e0771477fac97817984b1c968"
          }
        },
        "f56b78dca4b24fec89817e7069bed4bc": {
          "model_module": "@jupyter-widgets/controls",
          "model_name": "ButtonStyleModel",
          "state": {
            "_view_name": "StyleView",
            "_model_name": "ButtonStyleModel",
            "_view_module": "@jupyter-widgets/base",
            "_model_module_version": "1.5.0",
            "_view_count": null,
            "button_color": null,
            "font_weight": "",
            "_view_module_version": "1.2.0",
            "_model_module": "@jupyter-widgets/controls"
          }
        },
        "d74bb506b0b34fd18e7a766c97ae0192": {
          "model_module": "@jupyter-widgets/base",
          "model_name": "LayoutModel",
          "state": {
            "_view_name": "LayoutView",
            "grid_template_rows": null,
            "right": null,
            "justify_content": null,
            "_view_module": "@jupyter-widgets/base",
            "overflow": null,
            "_model_module_version": "1.2.0",
            "_view_count": null,
            "flex_flow": null,
            "width": "150px",
            "min_width": null,
            "border": null,
            "align_items": null,
            "bottom": null,
            "_model_module": "@jupyter-widgets/base",
            "top": null,
            "grid_column": null,
            "overflow_y": null,
            "overflow_x": null,
            "grid_auto_flow": null,
            "grid_area": null,
            "grid_template_columns": null,
            "flex": null,
            "_model_name": "LayoutModel",
            "justify_items": null,
            "grid_row": null,
            "max_height": null,
            "align_content": null,
            "visibility": null,
            "align_self": null,
            "height": "53px",
            "min_height": null,
            "padding": null,
            "grid_auto_rows": null,
            "grid_gap": null,
            "max_width": null,
            "order": null,
            "_view_module_version": "1.2.0",
            "grid_template_areas": null,
            "object_position": null,
            "object_fit": null,
            "grid_auto_columns": null,
            "margin": null,
            "display": null,
            "left": null
          }
        },
        "f71933a768a74ec781353e4bf2a855c0": {
          "model_module": "@jupyter-widgets/controls",
          "model_name": "DescriptionStyleModel",
          "state": {
            "_view_name": "StyleView",
            "_model_name": "DescriptionStyleModel",
            "description_width": "",
            "_view_module": "@jupyter-widgets/base",
            "_model_module_version": "1.5.0",
            "_view_count": null,
            "_view_module_version": "1.2.0",
            "_model_module": "@jupyter-widgets/controls"
          }
        },
        "b379bea83fc243d782aca30856631dd9": {
          "model_module": "@jupyter-widgets/base",
          "model_name": "LayoutModel",
          "state": {
            "_view_name": "LayoutView",
            "grid_template_rows": null,
            "right": null,
            "justify_content": null,
            "_view_module": "@jupyter-widgets/base",
            "overflow": null,
            "_model_module_version": "1.2.0",
            "_view_count": null,
            "flex_flow": null,
            "width": "100px",
            "min_width": null,
            "border": null,
            "align_items": null,
            "bottom": null,
            "_model_module": "@jupyter-widgets/base",
            "top": null,
            "grid_column": null,
            "overflow_y": null,
            "overflow_x": null,
            "grid_auto_flow": null,
            "grid_area": null,
            "grid_template_columns": null,
            "flex": null,
            "_model_name": "LayoutModel",
            "justify_items": null,
            "grid_row": null,
            "max_height": null,
            "align_content": null,
            "visibility": null,
            "align_self": null,
            "height": null,
            "min_height": null,
            "padding": null,
            "grid_auto_rows": null,
            "grid_gap": null,
            "max_width": null,
            "order": null,
            "_view_module_version": "1.2.0",
            "grid_template_areas": null,
            "object_position": null,
            "object_fit": null,
            "grid_auto_columns": null,
            "margin": null,
            "display": null,
            "left": null
          }
        },
        "554ca8bf8132432eb79ff8709dc2e489": {
          "model_module": "@jupyter-widgets/controls",
          "model_name": "ButtonStyleModel",
          "state": {
            "_view_name": "StyleView",
            "_model_name": "ButtonStyleModel",
            "_view_module": "@jupyter-widgets/base",
            "_model_module_version": "1.5.0",
            "_view_count": null,
            "button_color": null,
            "font_weight": "",
            "_view_module_version": "1.2.0",
            "_model_module": "@jupyter-widgets/controls"
          }
        },
        "ab3fd251d4594d2083020f418da9672e": {
          "model_module": "@jupyter-widgets/base",
          "model_name": "LayoutModel",
          "state": {
            "_view_name": "LayoutView",
            "grid_template_rows": null,
            "right": null,
            "justify_content": null,
            "_view_module": "@jupyter-widgets/base",
            "overflow": null,
            "_model_module_version": "1.2.0",
            "_view_count": null,
            "flex_flow": null,
            "width": "200px",
            "min_width": null,
            "border": null,
            "align_items": null,
            "bottom": null,
            "_model_module": "@jupyter-widgets/base",
            "top": null,
            "grid_column": null,
            "overflow_y": null,
            "overflow_x": null,
            "grid_auto_flow": null,
            "grid_area": null,
            "grid_template_columns": null,
            "flex": null,
            "_model_name": "LayoutModel",
            "justify_items": null,
            "grid_row": null,
            "max_height": null,
            "align_content": null,
            "visibility": null,
            "align_self": null,
            "height": "53px",
            "min_height": null,
            "padding": null,
            "grid_auto_rows": null,
            "grid_gap": null,
            "max_width": null,
            "order": null,
            "_view_module_version": "1.2.0",
            "grid_template_areas": null,
            "object_position": null,
            "object_fit": null,
            "grid_auto_columns": null,
            "margin": null,
            "display": null,
            "left": null
          }
        },
        "0d64a44664884a34932386f663ea17ea": {
          "model_module": "@jupyter-widgets/controls",
          "model_name": "DescriptionStyleModel",
          "state": {
            "_view_name": "StyleView",
            "_model_name": "DescriptionStyleModel",
            "description_width": "",
            "_view_module": "@jupyter-widgets/base",
            "_model_module_version": "1.5.0",
            "_view_count": null,
            "_view_module_version": "1.2.0",
            "_model_module": "@jupyter-widgets/controls"
          }
        },
        "95297e9a2591403c9049b6aff1822407": {
          "model_module": "@jupyter-widgets/base",
          "model_name": "LayoutModel",
          "state": {
            "_view_name": "LayoutView",
            "grid_template_rows": null,
            "right": null,
            "justify_content": null,
            "_view_module": "@jupyter-widgets/base",
            "overflow": null,
            "_model_module_version": "1.2.0",
            "_view_count": null,
            "flex_flow": null,
            "width": "300px",
            "min_width": null,
            "border": null,
            "align_items": null,
            "bottom": null,
            "_model_module": "@jupyter-widgets/base",
            "top": null,
            "grid_column": null,
            "overflow_y": null,
            "overflow_x": null,
            "grid_auto_flow": null,
            "grid_area": null,
            "grid_template_columns": null,
            "flex": null,
            "_model_name": "LayoutModel",
            "justify_items": null,
            "grid_row": null,
            "max_height": null,
            "align_content": null,
            "visibility": null,
            "align_self": null,
            "height": "25px",
            "min_height": null,
            "padding": null,
            "grid_auto_rows": null,
            "grid_gap": null,
            "max_width": null,
            "order": null,
            "_view_module_version": "1.2.0",
            "grid_template_areas": null,
            "object_position": null,
            "object_fit": null,
            "grid_auto_columns": null,
            "margin": null,
            "display": null,
            "left": null
          }
        },
        "e6177a16ca9e46fe88a436d74817b933": {
          "model_module": "@jupyter-widgets/controls",
          "model_name": "DescriptionStyleModel",
          "state": {
            "_view_name": "StyleView",
            "_model_name": "DescriptionStyleModel",
            "description_width": "",
            "_view_module": "@jupyter-widgets/base",
            "_model_module_version": "1.5.0",
            "_view_count": null,
            "_view_module_version": "1.2.0",
            "_model_module": "@jupyter-widgets/controls"
          }
        },
        "35f3338e0771477fac97817984b1c968": {
          "model_module": "@jupyter-widgets/base",
          "model_name": "LayoutModel",
          "state": {
            "_view_name": "LayoutView",
            "grid_template_rows": null,
            "right": null,
            "justify_content": null,
            "_view_module": "@jupyter-widgets/base",
            "overflow": null,
            "_model_module_version": "1.2.0",
            "_view_count": null,
            "flex_flow": null,
            "width": "300px",
            "min_width": null,
            "border": null,
            "align_items": null,
            "bottom": null,
            "_model_module": "@jupyter-widgets/base",
            "top": null,
            "grid_column": null,
            "overflow_y": null,
            "overflow_x": null,
            "grid_auto_flow": null,
            "grid_area": null,
            "grid_template_columns": null,
            "flex": null,
            "_model_name": "LayoutModel",
            "justify_items": null,
            "grid_row": null,
            "max_height": null,
            "align_content": null,
            "visibility": null,
            "align_self": null,
            "height": "24px",
            "min_height": null,
            "padding": null,
            "grid_auto_rows": null,
            "grid_gap": null,
            "max_width": null,
            "order": null,
            "_view_module_version": "1.2.0",
            "grid_template_areas": null,
            "object_position": null,
            "object_fit": null,
            "grid_auto_columns": null,
            "margin": null,
            "display": null,
            "left": null
          }
        }
      }
    }
  },
  "cells": [
    {
      "cell_type": "markdown",
      "metadata": {
        "id": "view-in-github",
        "colab_type": "text"
      },
      "source": [
        "<a href=\"https://colab.research.google.com/github/DavidUrbaez/AI_Course/blob/main/content/LAB%2002.04%20-%20CARD%20TRICK.ipynb\" target=\"_parent\"><img src=\"https://colab.research.google.com/assets/colab-badge.svg\" alt=\"Open In Colab\"/></a>"
      ]
    },
    {
      "cell_type": "markdown",
      "metadata": {
        "id": "qG9369JV48wS"
      },
      "source": [
        "# LAB 02.04 - Card trick"
      ]
    },
    {
      "cell_type": "code",
      "metadata": {
        "id": "eXM7RQql48wV",
        "outputId": "60aa00f9-d6f4-4720-ad00-76d46d51d830",
        "colab": {
          "base_uri": "https://localhost:8080/",
          "height": 75
        }
      },
      "source": [
        "!wget --no-cache -O init.py -q https://raw.githubusercontent.com/rramosp/ai4eng.v1/main/content/init.py\n",
        "import init; init.init(force_download=False); init.get_weblink()\n"
      ],
      "execution_count": 1,
      "outputs": [
        {
          "output_type": "display_data",
          "data": {
            "text/html": [
              "\n",
              "<meta name=\"google-signin-client_id\"\n",
              "      content=\"461673936472-kdjosv61up3ac1ajeuq6qqu72upilmls.apps.googleusercontent.com\"/>\n",
              "<script src=\"https://apis.google.com/js/client:platform.js?onload=google_button_start\"></script>\n",
              "    "
            ],
            "text/plain": [
              "<IPython.core.display.HTML object>"
            ]
          },
          "metadata": {
            "tags": []
          }
        },
        {
          "output_type": "stream",
          "text": [
            "replicating local resources\n"
          ],
          "name": "stdout"
        },
        {
          "output_type": "execute_result",
          "data": {
            "text/html": [
              "<h3>See <a href='https://m5knaekxo6.execute-api.us-west-2.amazonaws.com/dev-v0001/rlxmooc/web/login' target='_blank'>my courses and progress</a></h2>"
            ],
            "text/plain": [
              "<IPython.core.display.HTML object>"
            ]
          },
          "metadata": {
            "tags": []
          },
          "execution_count": 1
        }
      ]
    },
    {
      "cell_type": "code",
      "metadata": {
        "id": "wYbmRpwf48wW",
        "outputId": "ca13692e-92f5-4a62-ac87-9271d5ad3be4",
        "colab": {
          "base_uri": "https://localhost:8080/",
          "height": 117,
          "referenced_widgets": [
            "11b1be43db5149c48cc75a7659bf1483",
            "6386d30f7e3e4517a57059e615eb449b",
            "495779a8577f4826b4be6cb67ee22761",
            "1ee2bd2121714540a8abdf4f520f2c0e",
            "f4ebc51ebb414779a14f25b466801adf",
            "987cb334c1264b3a903c6304a064a590",
            "ac5d597ec9964c488cd36dac35701c12",
            "f2c322b5419d4ede9f4aa9d58e9bdde0",
            "ebd25a69bee841b59a1ef5e5d0b379ed",
            "f56b78dca4b24fec89817e7069bed4bc",
            "d74bb506b0b34fd18e7a766c97ae0192",
            "f71933a768a74ec781353e4bf2a855c0",
            "b379bea83fc243d782aca30856631dd9",
            "554ca8bf8132432eb79ff8709dc2e489",
            "ab3fd251d4594d2083020f418da9672e",
            "0d64a44664884a34932386f663ea17ea",
            "95297e9a2591403c9049b6aff1822407",
            "e6177a16ca9e46fe88a436d74817b933",
            "35f3338e0771477fac97817984b1c968"
          ]
        }
      },
      "source": [
        "from local.lib.rlxmoocapi import submit, session\n",
        "session.LoginSequence(endpoint=init.endpoint, course_id=init.course_id, lab_id=\"L02.04\", varname=\"student\");"
      ],
      "execution_count": 2,
      "outputs": [
        {
          "output_type": "stream",
          "text": [
            "logging in as durbaezl@unal.edu.co... please wait\n",
            "using course session ai4eng.v1::open\n",
            "success!! you are logged in\n"
          ],
          "name": "stdout"
        }
      ]
    },
    {
      "cell_type": "code",
      "metadata": {
        "id": "8ITwimuS48wW"
      },
      "source": [
        "import numpy as np\n",
        "import pandas as pd\n",
        "import itertools"
      ],
      "execution_count": 3,
      "outputs": []
    },
    {
      "cell_type": "markdown",
      "metadata": {
        "id": "aE4sMlBE48wW"
      },
      "source": [
        "## Setup \n",
        "\n",
        "make sure to **watch the corresponding video** to understand the card trick.\n",
        "\n",
        "### create a deck for a given configuration\n",
        "\n",
        "The following function returns a list of **card names**. The `shuffle` argument is self evident. We use two letters as an arbitrary card name so that we have enough names for large configurations."
      ]
    },
    {
      "cell_type": "code",
      "metadata": {
        "id": "w_TpK3fe48wX"
      },
      "source": [
        "\n",
        "def create_deck(n_heaps, cards_per_heap, shuffle=False):\n",
        "    n_cards = n_heaps * cards_per_heap\n",
        "    \n",
        "    chars = [chr(i) for i in np.arange(26)+65]\n",
        "    names = [i+j for i,j in itertools.product(chars, chars)]    \n",
        "\n",
        "    assert n_cards < len(names), \"cannot have more than %d cards\"%len(name)\n",
        "    \n",
        "    c = np.r_[names[:n_cards]]\n",
        "    if shuffle:\n",
        "        c = np.random.permutation(c)\n",
        "    return c"
      ],
      "execution_count": 5,
      "outputs": []
    },
    {
      "cell_type": "code",
      "metadata": {
        "id": "R-56I9X448wX",
        "outputId": "2c78ab71-d66d-489c-d57b-e28064891624",
        "colab": {
          "base_uri": "https://localhost:8080/"
        }
      },
      "source": [
        "create_deck(n_heaps=3, cards_per_heap=10, shuffle=False)"
      ],
      "execution_count": 10,
      "outputs": [
        {
          "output_type": "execute_result",
          "data": {
            "text/plain": [
              "array(['AA', 'AB', 'AC', 'AD', 'AE', 'AF', 'AG', 'AH', 'AI', 'AJ', 'AK',\n",
              "       'AL', 'AM', 'AN', 'AO', 'AP', 'AQ', 'AR', 'AS', 'AT', 'AU', 'AV',\n",
              "       'AW', 'AX', 'AY', 'AZ', 'BA', 'BB', 'BC', 'BD'], dtype='<U2')"
            ]
          },
          "metadata": {
            "tags": []
          },
          "execution_count": 10
        }
      ]
    },
    {
      "cell_type": "code",
      "metadata": {
        "id": "RlANe-tk48wX",
        "outputId": "79d61aee-5f55-46d6-f15c-a1aa40dac902",
        "colab": {
          "base_uri": "https://localhost:8080/"
        }
      },
      "source": [
        "create_deck(n_heaps=3, cards_per_heap=7, shuffle=True)"
      ],
      "execution_count": 7,
      "outputs": [
        {
          "output_type": "execute_result",
          "data": {
            "text/plain": [
              "array(['AS', 'AH', 'AE', 'AB', 'AF', 'AN', 'AC', 'AA', 'AU', 'AD', 'AG',\n",
              "       'AT', 'AM', 'AQ', 'AK', 'AJ', 'AP', 'AL', 'AO', 'AR', 'AI'],\n",
              "      dtype='<U2')"
            ]
          },
          "metadata": {
            "tags": []
          },
          "execution_count": 7
        }
      ]
    },
    {
      "cell_type": "code",
      "metadata": {
        "id": "igdON4QF48wY",
        "outputId": "97987317-1537-48c5-8c51-bfaeaa497ad6",
        "colab": {
          "base_uri": "https://localhost:8080/"
        }
      },
      "source": [
        "create_deck(n_heaps=3, cards_per_heap=10, shuffle=True)"
      ],
      "execution_count": 8,
      "outputs": [
        {
          "output_type": "execute_result",
          "data": {
            "text/plain": [
              "array(['AS', 'AX', 'AC', 'BB', 'AU', 'AP', 'AD', 'AJ', 'BD', 'AA', 'AT',\n",
              "       'AH', 'AN', 'AW', 'AF', 'AG', 'AI', 'AK', 'AM', 'AV', 'AZ', 'AL',\n",
              "       'AY', 'AQ', 'AR', 'AE', 'BC', 'AB', 'AO', 'BA'], dtype='<U2')"
            ]
          },
          "metadata": {
            "tags": []
          },
          "execution_count": 8
        }
      ]
    },
    {
      "cell_type": "markdown",
      "metadata": {
        "id": "Bo0wCkCs48wY"
      },
      "source": [
        "### pick a card\n",
        "\n",
        "the following function randomly picks a card from a deck"
      ]
    },
    {
      "cell_type": "code",
      "metadata": {
        "id": "Iv-N-k0w48wY"
      },
      "source": [
        "def pick_card(c):\n",
        "    return np.random.choice(c)"
      ],
      "execution_count": 12,
      "outputs": []
    },
    {
      "cell_type": "code",
      "metadata": {
        "id": "m4tuXgQG48wY",
        "outputId": "421068ea-3f92-4ae3-f0d8-804728ec70ac",
        "colab": {
          "base_uri": "https://localhost:8080/",
          "height": 35
        }
      },
      "source": [
        "c = create_deck(n_heaps=3, cards_per_heap=7, shuffle=True)\n",
        "n = pick_card(c)\n",
        "n"
      ],
      "execution_count": 13,
      "outputs": [
        {
          "output_type": "execute_result",
          "data": {
            "application/vnd.google.colaboratory.intrinsic+json": {
              "type": "string"
            },
            "text/plain": [
              "'AA'"
            ]
          },
          "metadata": {
            "tags": []
          },
          "execution_count": 13
        }
      ]
    },
    {
      "cell_type": "markdown",
      "metadata": {
        "id": "wo8RuM_I48wY"
      },
      "source": [
        "## Task 1. Make the heaps\n",
        "\n",
        "Complete the following funcion so that given desk (as a list returned by `create_deck`) distributes the cards in `n_heaps` according to the procedure of the card trick shown in the video.\n",
        "\n",
        "The heaps must be a list of `n_heaps` lists, each one with `len(c)/n_heaps` card names.\n",
        "\n",
        "`n_heaps` will be an odd number (so that later we can put the chosen heap in the middle of the others), and must be a divisor of the total number of cards in the deck (so that all heaps have the same number of cards)\n",
        "\n",
        "For instance, \n",
        "\n",
        "    >>> n_heaps = 3\n",
        "    >>> c = create_deck(n_heaps=n_heaps, cards_per_heap=7)\n",
        "    >>> h = make_heaps(c, n_heaps)\n",
        "    >>> print(\"deck\", c)\n",
        "    >>> print(\"heaps\")\n",
        "    >>> h   \n",
        "\n",
        "    deck ['AA' 'AB' 'AC' 'AD' 'AE' 'AF' 'AG' 'AH' 'AI' 'AJ' 'AK' 'AL' 'AM' 'AN'\n",
        "     'AO' 'AP' 'AQ' 'AR' 'AS' 'AT' 'AU']\n",
        "    heaps\n",
        "    [['AA', 'AD', 'AG', 'AJ', 'AM', 'AP', 'AS'],\n",
        "     ['AB', 'AE', 'AH', 'AK', 'AN', 'AQ', 'AT'],\n",
        "     ['AC', 'AF', 'AI', 'AL', 'AO', 'AR', 'AU']]\n",
        "  \n",
        "or also\n",
        "\n",
        "    >>> n_heaps = 5\n",
        "    >>> c = create_deck(n_heaps=n_heaps, cards_per_heap=3, shuffle=True)\n",
        "    >>> h = make_heaps(c, n_heaps)\n",
        "    >>> print(\"deck\", c)\n",
        "    >>> print(\"heaps\")\n",
        "    >>> h\n",
        "    \n",
        "    deck ['AA' 'AJ' 'AM' 'AK' 'AH' 'AF' 'AD' 'AN' 'AB' 'AC' 'AG' 'AE' 'AL' 'AI'\n",
        "     'AO']\n",
        "    heaps\n",
        "    [['AA', 'AF', 'AG'],\n",
        "     ['AJ', 'AD', 'AE'],\n",
        "     ['AM', 'AN', 'AL'],\n",
        "     ['AK', 'AB', 'AI'],\n",
        "     ['AH', 'AC', 'AO']]"
      ]
    },
    {
      "cell_type": "code",
      "metadata": {
        "id": "l_J8m9Vu48wZ"
      },
      "source": [
        "def make_heaps(c, n_heaps=3):\n",
        "    assert n_heaps%2==1, \"must have an odd number of heaps\"\n",
        "    assert len(c)%n_heaps==0, \"the length of the deck must be a multiple of the number of heaps\"\n",
        "    \n",
        "    return [list(heap) for heap in c.reshape(n_heaps,-1,order='F')]"
      ],
      "execution_count": 30,
      "outputs": []
    },
    {
      "cell_type": "code",
      "metadata": {
        "id": "mMfiMI1M7-8d",
        "outputId": "b55d940c-c0c2-4c1d-fccc-a000a102488f",
        "colab": {
          "base_uri": "https://localhost:8080/"
        }
      },
      "source": [
        "list(c.reshape(3,-1,order='F'))"
      ],
      "execution_count": 26,
      "outputs": [
        {
          "output_type": "execute_result",
          "data": {
            "text/plain": [
              "[array(['AA', 'AD', 'AG', 'AJ', 'AM', 'AP', 'AS'], dtype='<U2'),\n",
              " array(['AB', 'AE', 'AH', 'AK', 'AN', 'AQ', 'AT'], dtype='<U2'),\n",
              " array(['AC', 'AF', 'AI', 'AL', 'AO', 'AR', 'AU'], dtype='<U2')]"
            ]
          },
          "metadata": {
            "tags": []
          },
          "execution_count": 26
        }
      ]
    },
    {
      "cell_type": "markdown",
      "metadata": {
        "id": "Bg0NxmZj48wZ"
      },
      "source": [
        "manually check your code"
      ]
    },
    {
      "cell_type": "code",
      "metadata": {
        "id": "pNFPA4Kl48wZ",
        "outputId": "4104c63d-5b38-4b95-f4b4-2b14c020a93e",
        "colab": {
          "base_uri": "https://localhost:8080/"
        }
      },
      "source": [
        "n_heaps = 3\n",
        "c = create_deck(n_heaps=n_heaps, cards_per_heap=7)\n",
        "h = make_heaps(c, n_heaps)\n",
        "\n",
        "print(\"deck\", c)\n",
        "print(\"heaps\")\n",
        "h\n"
      ],
      "execution_count": 31,
      "outputs": [
        {
          "output_type": "stream",
          "text": [
            "deck ['AA' 'AB' 'AC' 'AD' 'AE' 'AF' 'AG' 'AH' 'AI' 'AJ' 'AK' 'AL' 'AM' 'AN'\n",
            " 'AO' 'AP' 'AQ' 'AR' 'AS' 'AT' 'AU']\n",
            "heaps\n"
          ],
          "name": "stdout"
        },
        {
          "output_type": "execute_result",
          "data": {
            "text/plain": [
              "[['AA', 'AD', 'AG', 'AJ', 'AM', 'AP', 'AS'],\n",
              " ['AB', 'AE', 'AH', 'AK', 'AN', 'AQ', 'AT'],\n",
              " ['AC', 'AF', 'AI', 'AL', 'AO', 'AR', 'AU']]"
            ]
          },
          "metadata": {
            "tags": []
          },
          "execution_count": 31
        }
      ]
    },
    {
      "cell_type": "code",
      "metadata": {
        "id": "mGaK2iqA48wa",
        "outputId": "1a5cbc4b-d861-4522-977d-b4ca77ad3cf5",
        "colab": {
          "base_uri": "https://localhost:8080/"
        }
      },
      "source": [
        "n_heaps = 5\n",
        "c = create_deck(n_heaps=n_heaps, cards_per_heap=3, shuffle=True)\n",
        "h = make_heaps(c, n_heaps)\n",
        "\n",
        "print(\"deck\", c)\n",
        "print(\"heaps\")\n",
        "h\n"
      ],
      "execution_count": 32,
      "outputs": [
        {
          "output_type": "stream",
          "text": [
            "deck ['AJ' 'AM' 'AD' 'AN' 'AC' 'AE' 'AB' 'AG' 'AO' 'AL' 'AA' 'AH' 'AK' 'AI'\n",
            " 'AF']\n",
            "heaps\n"
          ],
          "name": "stdout"
        },
        {
          "output_type": "execute_result",
          "data": {
            "text/plain": [
              "[['AJ', 'AE', 'AA'],\n",
              " ['AM', 'AB', 'AH'],\n",
              " ['AD', 'AG', 'AK'],\n",
              " ['AN', 'AO', 'AI'],\n",
              " ['AC', 'AL', 'AF']]"
            ]
          },
          "metadata": {
            "tags": []
          },
          "execution_count": 32
        }
      ]
    },
    {
      "cell_type": "markdown",
      "metadata": {
        "id": "iPY6_3dH48wa"
      },
      "source": [
        "**submit your code**"
      ]
    },
    {
      "cell_type": "code",
      "metadata": {
        "scrolled": false,
        "id": "wXygVkJu48wa",
        "outputId": "784501fd-b063-4ea9-e4cf-67640408c0b7",
        "colab": {
          "base_uri": "https://localhost:8080/",
          "height": 174
        }
      },
      "source": [
        "student.submit_task(globals(), task_id=\"task_01\");"
      ],
      "execution_count": 33,
      "outputs": [
        {
          "output_type": "display_data",
          "data": {
            "text/html": [
              "\n",
              "                    <b>task_01 submitted.</b> <b><font color=\"blue\">your grade is 5</font></b> \n",
              "                    <p/><pre>----- grader message -------</pre><br/>testing with 20 random calls<br/><font color='green'><h2>correct</h2></font><pre>----------------------------</pre>\n",
              "                    <p/><p/>\n",
              "                    <div style=\"font-size:10px\"><b>SUBMISSION CODE</b> a/1D6DcLZSHE8zaTPtyMGvFfunO8xcBTg3mzki+33Tx0r2wdo7HThMVI28MAb0mEeY8afvJdsSw425m/MULDKys/xsvXRwFnadBE6DFHWNO5To11OYrVVQIhxqU3InGLWeEjNVKOdw1N9fsndqyq9g==</div>\n",
              "                    "
            ],
            "text/plain": [
              "<IPython.core.display.HTML object>"
            ]
          },
          "metadata": {
            "tags": []
          }
        }
      ]
    },
    {
      "cell_type": "code",
      "metadata": {
        "id": "Fcm3D12748wa"
      },
      "source": [
        ""
      ],
      "execution_count": null,
      "outputs": []
    },
    {
      "cell_type": "markdown",
      "metadata": {
        "id": "L1N0zmtv48wa"
      },
      "source": [
        "## Task 2: Organize the heaps\n",
        "\n",
        "Complete the following funcion so that given a set of heaps (such as the ones returned by the function of the previous task) and a card name:\n",
        "\n",
        "1. Finds what is the heap that contains the card\n",
        "1. Makes randomly two groups of `n_heaps//2` heaps of the remaining heaps\n",
        "   - if `n_heaps=3` this will be two groups of one heap each, since `3//2=1`\n",
        "   - if `n_heaps=5`, it will be two groups of two heaps each, since `5//2=2`\n",
        "   - etc. (observe `//` is the integer division)\n",
        "1. Concatenates the cards in one group with the cards in the heap containing the given card name. with the cards of the second group\n",
        "\n",
        "For example\n",
        "\n",
        "    >>> n_heaps = 3\n",
        "    >>> c = create_deck(n_heaps=n_heaps, cards_per_heap=7, shuffle=True)\n",
        "    >>> n = pick_card(c)\n",
        "    >>> print (\"card picked\", n)\n",
        "    >>> h = make_heaps(c, n_heaps)\n",
        "    >>> h\n",
        "    \n",
        "    card picked AD\n",
        "    [['AP', 'AC', 'AE', 'AO', 'AQ', 'AF', 'AM'],\n",
        "     ['AN', 'AT', 'AB', 'AJ', 'AU', 'AI', 'AS'],\n",
        "     ['AR', 'AD', 'AA', 'AG', 'AH', 'AL', 'AK']]\n",
        "    \n",
        "    \n",
        "    >>> new_c = collect_heaps(h, n)\n",
        "    >>> print (new_c)\n",
        "    \n",
        "    ['AP', 'AC', 'AE', 'AO', 'AQ', 'AF', 'AM', 'AR', 'AD', 'AA', 'AG', 'AH', 'AL', 'AK', 'AN', 'AT', 'AB', 'AJ', 'AU', 'AI', 'AS']"
      ]
    },
    {
      "cell_type": "code",
      "metadata": {
        "id": "0NWBS0hS48wb"
      },
      "source": [
        "def collect_heaps(h, n):\n",
        "    print(n)\n",
        "    r = [index for index, x in enumerate(h) if n in x][0]\n",
        "    \n",
        "    dis= len(h)//2\n",
        "\n",
        "    other_heaps=h.copy()\n",
        "    important_heap = other_heaps.pop(r)\n",
        "\n",
        "\n",
        "    # output = other_heaps[:dis]\n",
        "    # output.append(important_heap)\n",
        "    # output.append(other_heaps[dis:])\n",
        "    return important_heap "
      ],
      "execution_count": 123,
      "outputs": []
    },
    {
      "cell_type": "markdown",
      "metadata": {
        "id": "o4Ak1Sgy48wb"
      },
      "source": [
        "manually check your code"
      ]
    },
    {
      "cell_type": "code",
      "metadata": {
        "id": "u-z3MHyf48wc",
        "outputId": "cbce7665-f8f4-4548-bd60-dcf9248708a2",
        "colab": {
          "base_uri": "https://localhost:8080/"
        }
      },
      "source": [
        "n_heaps = 3\n",
        "c = create_deck(n_heaps=n_heaps, cards_per_heap=7, shuffle=True)\n",
        "n = pick_card(c)\n",
        "print (\"card picked\", n)\n",
        "h = make_heaps(c, n_heaps)\n",
        "h"
      ],
      "execution_count": 118,
      "outputs": [
        {
          "output_type": "stream",
          "text": [
            "card picked AN\n"
          ],
          "name": "stdout"
        },
        {
          "output_type": "execute_result",
          "data": {
            "text/plain": [
              "[['AO', 'AU', 'AD', 'AK', 'AP', 'AH', 'AS'],\n",
              " ['AR', 'AQ', 'AJ', 'AF', 'AN', 'AA', 'AM'],\n",
              " ['AL', 'AI', 'AT', 'AC', 'AE', 'AB', 'AG']]"
            ]
          },
          "metadata": {
            "tags": []
          },
          "execution_count": 118
        }
      ]
    },
    {
      "cell_type": "code",
      "metadata": {
        "id": "6AVZ3o_H48wc",
        "outputId": "1711454b-01c0-4558-defd-13fd8fa55ce4",
        "colab": {
          "base_uri": "https://localhost:8080/"
        }
      },
      "source": [
        "new_c = collect_heaps(h, n)\n",
        "print (new_c)\n"
      ],
      "execution_count": 119,
      "outputs": [
        {
          "output_type": "stream",
          "text": [
            "AN\n",
            "['AR', 'AQ', 'AJ', 'AF', 'AN', 'AA', 'AM']\n"
          ],
          "name": "stdout"
        }
      ]
    },
    {
      "cell_type": "markdown",
      "metadata": {
        "id": "BlS0Pcfp48wc"
      },
      "source": [
        "**submit your code**"
      ]
    },
    {
      "cell_type": "code",
      "metadata": {
        "scrolled": false,
        "id": "42QmrBQi48wd",
        "outputId": "49eaaea0-42a6-4c1d-f495-67e7e7f3071e",
        "colab": {
          "base_uri": "https://localhost:8080/",
          "height": 404
        }
      },
      "source": [
        "student.submit_task(globals(), task_id=\"task_02\");"
      ],
      "execution_count": 124,
      "outputs": [
        {
          "output_type": "display_data",
          "data": {
            "text/html": [
              "\n",
              "                    <b>task_02 submitted.</b> <b><font color=\"blue\">your grade is 0</font></b> \n",
              "                    <p/><pre>----- grader message -------</pre><b>incorrect:</b> <br/>testing with 20 random calls<br/><br/><b>heaps</b><pre>[['AC', 'AD', 'AH', 'AF'], ['AK', 'AA', 'AI', 'AL'], ['AJ', 'AE', 'AG', 'AB']]</pre><br/><pre>card_picked = AC</pre><br/>expected heap on the middle containing the card picked was <pre>['AC', 'AD', 'AH', 'AF']</pre><br/>but your answer returned <pre>['AC', 'AD', 'AH', 'AF']</pre><br/><br/>whose center heap is <pre>[]</pre><br/><pre>----------------------------</pre>\n",
              "                    <p/><p/>\n",
              "                    <div style=\"font-size:10px\"><b>SUBMISSION CODE</b> mZPXV7tDtsACJyMwq/QZKNzSDlP9CghO7RDYDPnSDNcBXKQVudyyY+ow07qwzPT8/+I0WG4UlkKXP6WkXCpjX+x/2fhgkFx849QDuYAjEfVVMNdJz9qCh7xN2G8alsHioTwIayB5R+25a8BCD4MPFg==</div>\n",
              "                    "
            ],
            "text/plain": [
              "<IPython.core.display.HTML object>"
            ]
          },
          "metadata": {
            "tags": []
          }
        }
      ]
    },
    {
      "cell_type": "code",
      "metadata": {
        "id": "RAdVrDN348wd"
      },
      "source": [
        ""
      ],
      "execution_count": null,
      "outputs": []
    },
    {
      "cell_type": "code",
      "metadata": {
        "id": "y2azzIF148wd"
      },
      "source": [
        ""
      ],
      "execution_count": null,
      "outputs": []
    },
    {
      "cell_type": "markdown",
      "metadata": {
        "id": "mmLzZnIh48wd"
      },
      "source": [
        "## Task 3: Run the card trick\n",
        "\n",
        "Complete the following function such that, when given a a deck of cards `c`, and picked card `n` and a number of heaps `n_heaps`, returns the position of the picked card after doing three times the collect. The position number **must start at zero**.\n",
        "\n",
        "For instance:\n",
        "\n",
        "- For `n_heaps=3` and `cards_per_heap=7`, the final position will always be 10 (which is 11 if you start counting at 1)\n",
        "- For `n_heaps=3` and `cards_per_heap=4`, the final position will be sometimes 5 and sometimes 6 depending on the position of the picked card on the initial deck.\n",
        "- For `n_heaps=5` and `cards_per_heap=3`, the final position will always be 7\n",
        "\n",
        "**You must return an `int`**"
      ]
    },
    {
      "cell_type": "code",
      "metadata": {
        "id": "yNBLYXD248we"
      },
      "source": [
        "def run(c, n, n_heaps=3):\n",
        "    r = ... # YOUR ANSWER HERE\n",
        "    return r"
      ],
      "execution_count": null,
      "outputs": []
    },
    {
      "cell_type": "markdown",
      "metadata": {
        "id": "XDRu_hCh48we"
      },
      "source": [
        "manually check your code"
      ]
    },
    {
      "cell_type": "code",
      "metadata": {
        "id": "R10j6xY048we"
      },
      "source": [
        "n_heaps = 3\n",
        "c = create_deck(n_heaps=n_heaps, cards_per_heap=7)\n",
        "picked = \"AA\"\n",
        "print (\"desk\", c)\n",
        "pos = run(c, picked, n_heaps=n_heaps)\n",
        "print (\"position of card %s is %d\"%(picked, pos))"
      ],
      "execution_count": null,
      "outputs": []
    },
    {
      "cell_type": "code",
      "metadata": {
        "id": "BUtjFiTj48we"
      },
      "source": [
        "n_heaps = 3\n",
        "c = create_deck(n_heaps=n_heaps, cards_per_heap=4)\n",
        "picked = \"AI\"\n",
        "print (\"deck\", c)\n",
        "pos = run(c, picked, n_heaps=n_heaps)\n",
        "print (\"position of card %s is %d\"%(picked, pos))"
      ],
      "execution_count": null,
      "outputs": []
    },
    {
      "cell_type": "markdown",
      "metadata": {
        "id": "TW6ihxbS48we"
      },
      "source": [
        "**submit your code**"
      ]
    },
    {
      "cell_type": "code",
      "metadata": {
        "scrolled": false,
        "id": "WwmVLuHK48we"
      },
      "source": [
        "student.submit_task(globals(), task_id=\"task_03\");"
      ],
      "execution_count": null,
      "outputs": []
    },
    {
      "cell_type": "code",
      "metadata": {
        "id": "21l0Hguw48wf"
      },
      "source": [
        ""
      ],
      "execution_count": null,
      "outputs": []
    },
    {
      "cell_type": "code",
      "metadata": {
        "id": "5on-WuYF48wf"
      },
      "source": [
        ""
      ],
      "execution_count": null,
      "outputs": []
    },
    {
      "cell_type": "code",
      "metadata": {
        "id": "a6XOEmON48wf"
      },
      "source": [
        ""
      ],
      "execution_count": null,
      "outputs": []
    },
    {
      "cell_type": "code",
      "metadata": {
        "id": "fv9sNJJr48wf"
      },
      "source": [
        ""
      ],
      "execution_count": null,
      "outputs": []
    },
    {
      "cell_type": "markdown",
      "metadata": {
        "id": "cednCgxe48wf"
      },
      "source": [
        "## Task 4: Run the trick using the math\n",
        "\n",
        "Given:\n",
        "\n",
        "- $n_h$: A number of heaps\n",
        "- $c_h$: the number of cards per heap\n",
        "- $i$: the position of a card \n",
        "\n",
        "The new position of the card after one cycle of making and collecting the heaps will be:\n",
        "\n",
        "$$c_h(n_h\\div2)+i\\div n_h$$\n",
        "\n",
        "Complete the following function so that it has the same functionality of the previous task, but applying only this formula without using the simulation above. You **MUST NOT ADD** or remove lines from the function skeleton below, **ONLY** fill in the `...`\n",
        "\n",
        "You must get the same results as the previous task.\n",
        "\n",
        "**HINT**: Use `np.argwhere` to get the initial position of the card in the deck"
      ]
    },
    {
      "cell_type": "code",
      "metadata": {
        "id": "4_x8ObW748wf"
      },
      "source": [
        "def mrun(c, picked_card, n_heaps=3):\n",
        "    assert len(c)%n_heaps==0, \"the number of heaps must be a divisor of the deck length\"\n",
        "    \n",
        "    ch = len(c)//n_heaps # cards per heap\n",
        "    nh = n_heaps\n",
        "    \n",
        "    i = ... # initial position of the card on the deck c\n",
        "    p1 = ...  # the position of the card after the first round\n",
        "    p2 = ...  # the position of the card after the second round\n",
        "    p3 = ...  # the position of the card after the last round\n",
        "    \n",
        "    return p3"
      ],
      "execution_count": null,
      "outputs": []
    },
    {
      "cell_type": "code",
      "metadata": {
        "id": "YNSbS5PP48wg"
      },
      "source": [
        ""
      ],
      "execution_count": null,
      "outputs": []
    },
    {
      "cell_type": "code",
      "metadata": {
        "id": "Rh7QIIpe48wg"
      },
      "source": [
        "n_heaps = 3\n",
        "c = create_deck(n_heaps=n_heaps, cards_per_heap=4)\n",
        "picked = \"AI\"\n",
        "print (\"deck\", c)\n",
        "pos = mrun(c, picked, n_heaps=n_heaps)\n",
        "print (\"position of card %s is %d\"%(picked, pos))"
      ],
      "execution_count": null,
      "outputs": []
    },
    {
      "cell_type": "code",
      "metadata": {
        "id": "FCP7qgAs48wg"
      },
      "source": [
        ""
      ],
      "execution_count": null,
      "outputs": []
    },
    {
      "cell_type": "markdown",
      "metadata": {
        "id": "7QOn6NGL48wg"
      },
      "source": [
        "**submit your code**"
      ]
    },
    {
      "cell_type": "code",
      "metadata": {
        "scrolled": false,
        "id": "maeiW3Yo48wg"
      },
      "source": [
        "student.submit_task(globals(), task_id=\"task_04\");"
      ],
      "execution_count": null,
      "outputs": []
    },
    {
      "cell_type": "code",
      "metadata": {
        "id": "0GaWFWXu48wg"
      },
      "source": [
        ""
      ],
      "execution_count": null,
      "outputs": []
    },
    {
      "cell_type": "code",
      "metadata": {
        "id": "fSUcPSKF48wg"
      },
      "source": [
        ""
      ],
      "execution_count": null,
      "outputs": []
    },
    {
      "cell_type": "code",
      "metadata": {
        "id": "vLosJT8b48wg"
      },
      "source": [
        ""
      ],
      "execution_count": null,
      "outputs": []
    },
    {
      "cell_type": "markdown",
      "metadata": {
        "id": "c1dn2S2W48wg"
      },
      "source": [
        "## You are done. Now, some considerations\n",
        "\n",
        "### using the math is always faster!!!\n",
        "\n"
      ]
    },
    {
      "cell_type": "code",
      "metadata": {
        "id": "l58CmCJD48wh"
      },
      "source": [
        "n_heaps = 3\n",
        "c = create_deck(n_heaps=n_heaps, cards_per_heap=4)\n",
        "picked = \"AI\"\n",
        "print (\"deck\", c)"
      ],
      "execution_count": null,
      "outputs": []
    },
    {
      "cell_type": "code",
      "metadata": {
        "id": "vTLAglxV48wh"
      },
      "source": [
        "%timeit run(c, picked, n_heaps=n_heaps)"
      ],
      "execution_count": null,
      "outputs": []
    },
    {
      "cell_type": "code",
      "metadata": {
        "id": "7fx3SG8f48wh"
      },
      "source": [
        "%timeit mrun(c, picked, n_heaps=n_heaps)"
      ],
      "execution_count": null,
      "outputs": []
    },
    {
      "cell_type": "markdown",
      "metadata": {
        "id": "HfecBCyN48wh"
      },
      "source": [
        "### you can check if the trick works for a specific configuration"
      ]
    },
    {
      "cell_type": "code",
      "metadata": {
        "id": "w1VUAQaK48wh"
      },
      "source": [
        "n_heaps = 3\n",
        "cards_per_heap = 7\n",
        "\n",
        "c = create_deck(n_heaps, cards_per_heap)\n",
        "\n",
        "r = [[n, mrun(c,n, n_heaps=n_heaps)] for n in c]\n",
        "print (\"deck\", c)\n",
        "pd.DataFrame(r, columns=[\"card picked\", \"final position\"])"
      ],
      "execution_count": null,
      "outputs": []
    },
    {
      "cell_type": "code",
      "metadata": {
        "id": "COmDrG3y48wh"
      },
      "source": [
        "n_heaps = 3\n",
        "cards_per_heap = 4\n",
        "\n",
        "c = create_deck(n_heaps, cards_per_heap)\n",
        "\n",
        "r = [[n, mrun(c,n, n_heaps=n_heaps)] for n in c]\n",
        "print (\"deck\", c)\n",
        "pd.DataFrame(r, columns=[\"card picked\", \"final position\"])"
      ],
      "execution_count": null,
      "outputs": []
    },
    {
      "cell_type": "code",
      "metadata": {
        "id": "0M5Lo3Gp48wh"
      },
      "source": [
        ""
      ],
      "execution_count": null,
      "outputs": []
    }
  ]
}