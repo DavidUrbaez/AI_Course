{
  "nbformat": 4,
  "nbformat_minor": 0,
  "metadata": {
    "kernelspec": {
      "display_name": "p38",
      "language": "python",
      "name": "p38"
    },
    "language_info": {
      "codemirror_mode": {
        "name": "ipython",
        "version": 3
      },
      "file_extension": ".py",
      "mimetype": "text/x-python",
      "name": "python",
      "nbconvert_exporter": "python",
      "pygments_lexer": "ipython3",
      "version": "3.8.5"
    },
    "colab": {
      "name": "LAB 02.04 - CARD TRICK.ipynb",
      "provenance": [],
      "include_colab_link": true
    },
    "widgets": {
      "application/vnd.jupyter.widget-state+json": {
        "7ec6b6613f89459085489377bb20985d": {
          "model_module": "@jupyter-widgets/controls",
          "model_name": "HBoxModel",
          "state": {
            "_view_name": "HBoxView",
            "_dom_classes": [],
            "_model_name": "HBoxModel",
            "_view_module": "@jupyter-widgets/controls",
            "_model_module_version": "1.5.0",
            "_view_count": null,
            "_view_module_version": "1.5.0",
            "box_style": "",
            "layout": "IPY_MODEL_4ff84da2206f4816973bc799e31b0880",
            "_model_module": "@jupyter-widgets/controls",
            "children": [
              "IPY_MODEL_a21e9a0a22324d31b161580c2051aa61",
              "IPY_MODEL_127e3e2e09394cbb9e2e38ef1c06a384",
              "IPY_MODEL_36aa70a2dffe4a24a760ce4b4e75dc4e",
              "IPY_MODEL_a61f13e2d47641a39a8b7ff1b01ea503"
            ]
          }
        },
        "4ff84da2206f4816973bc799e31b0880": {
          "model_module": "@jupyter-widgets/base",
          "model_name": "LayoutModel",
          "state": {
            "_view_name": "LayoutView",
            "grid_template_rows": null,
            "right": null,
            "justify_content": null,
            "_view_module": "@jupyter-widgets/base",
            "overflow": null,
            "_model_module_version": "1.2.0",
            "_view_count": null,
            "flex_flow": null,
            "width": null,
            "min_width": null,
            "border": null,
            "align_items": null,
            "bottom": null,
            "_model_module": "@jupyter-widgets/base",
            "top": null,
            "grid_column": null,
            "overflow_y": null,
            "overflow_x": null,
            "grid_auto_flow": null,
            "grid_area": null,
            "grid_template_columns": null,
            "flex": null,
            "_model_name": "LayoutModel",
            "justify_items": null,
            "grid_row": null,
            "max_height": null,
            "align_content": null,
            "visibility": null,
            "align_self": null,
            "height": null,
            "min_height": null,
            "padding": null,
            "grid_auto_rows": null,
            "grid_gap": null,
            "max_width": null,
            "order": null,
            "_view_module_version": "1.2.0",
            "grid_template_areas": null,
            "object_position": null,
            "object_fit": null,
            "grid_auto_columns": null,
            "margin": null,
            "display": null,
            "left": null
          }
        },
        "a21e9a0a22324d31b161580c2051aa61": {
          "model_module": "@jupyter-widgets/controls",
          "model_name": "VBoxModel",
          "state": {
            "_view_name": "VBoxView",
            "_dom_classes": [],
            "_model_name": "VBoxModel",
            "_view_module": "@jupyter-widgets/controls",
            "_model_module_version": "1.5.0",
            "_view_count": null,
            "_view_module_version": "1.5.0",
            "box_style": "",
            "layout": "IPY_MODEL_a6bcdff87d7a488a9baeebfa566d7ec1",
            "_model_module": "@jupyter-widgets/controls",
            "children": [
              "IPY_MODEL_59c273ea2d15462b89223eeba0380ab5",
              "IPY_MODEL_b4c58b7fe4a24efb84c4da0e234321c6"
            ]
          }
        },
        "127e3e2e09394cbb9e2e38ef1c06a384": {
          "model_module": "@jupyter-widgets/controls",
          "model_name": "ButtonModel",
          "state": {
            "_view_name": "ButtonView",
            "style": "IPY_MODEL_9934bc9a891f46df9eac43a418435e7a",
            "_dom_classes": [
              "login_button"
            ],
            "description": "Login with email",
            "_model_name": "ButtonModel",
            "button_style": "",
            "_view_module": "@jupyter-widgets/controls",
            "_model_module_version": "1.5.0",
            "tooltip": "",
            "_view_count": null,
            "disabled": false,
            "_view_module_version": "1.5.0",
            "layout": "IPY_MODEL_c427df79597d465483092e4d74bfa484",
            "_model_module": "@jupyter-widgets/controls",
            "icon": ""
          }
        },
        "36aa70a2dffe4a24a760ce4b4e75dc4e": {
          "model_module": "@jupyter-widgets/controls",
          "model_name": "HTMLModel",
          "state": {
            "_view_name": "HTMLView",
            "style": "IPY_MODEL_70695ed6167748798c1b43929aab6ce1",
            "_dom_classes": [],
            "description": "",
            "_model_name": "HTMLModel",
            "placeholder": "​",
            "_view_module": "@jupyter-widgets/controls",
            "_model_module_version": "1.5.0",
            "value": "<center><big>or</big></center>",
            "_view_count": null,
            "_view_module_version": "1.5.0",
            "description_tooltip": null,
            "_model_module": "@jupyter-widgets/controls",
            "layout": "IPY_MODEL_3ebe61ca1be74078a6cec1806300502c"
          }
        },
        "a61f13e2d47641a39a8b7ff1b01ea503": {
          "model_module": "@jupyter-widgets/controls",
          "model_name": "ButtonModel",
          "state": {
            "_view_name": "ButtonView",
            "style": "IPY_MODEL_ebf19dbc09f240d78da994489dae6de1",
            "_dom_classes": [
              "google_button"
            ],
            "description": "Login with Google",
            "_model_name": "ButtonModel",
            "button_style": "",
            "_view_module": "@jupyter-widgets/controls",
            "_model_module_version": "1.5.0",
            "tooltip": "",
            "_view_count": null,
            "disabled": false,
            "_view_module_version": "1.5.0",
            "layout": "IPY_MODEL_0bc18d95bbc14db8b5dc4380a3eeadb0",
            "_model_module": "@jupyter-widgets/controls",
            "icon": ""
          }
        },
        "a6bcdff87d7a488a9baeebfa566d7ec1": {
          "model_module": "@jupyter-widgets/base",
          "model_name": "LayoutModel",
          "state": {
            "_view_name": "LayoutView",
            "grid_template_rows": null,
            "right": null,
            "justify_content": null,
            "_view_module": "@jupyter-widgets/base",
            "overflow": null,
            "_model_module_version": "1.2.0",
            "_view_count": null,
            "flex_flow": null,
            "width": null,
            "min_width": null,
            "border": null,
            "align_items": null,
            "bottom": null,
            "_model_module": "@jupyter-widgets/base",
            "top": null,
            "grid_column": null,
            "overflow_y": null,
            "overflow_x": null,
            "grid_auto_flow": null,
            "grid_area": null,
            "grid_template_columns": null,
            "flex": null,
            "_model_name": "LayoutModel",
            "justify_items": null,
            "grid_row": null,
            "max_height": null,
            "align_content": null,
            "visibility": null,
            "align_self": null,
            "height": null,
            "min_height": null,
            "padding": null,
            "grid_auto_rows": null,
            "grid_gap": null,
            "max_width": null,
            "order": null,
            "_view_module_version": "1.2.0",
            "grid_template_areas": null,
            "object_position": null,
            "object_fit": null,
            "grid_auto_columns": null,
            "margin": null,
            "display": null,
            "left": null
          }
        },
        "59c273ea2d15462b89223eeba0380ab5": {
          "model_module": "@jupyter-widgets/controls",
          "model_name": "TextModel",
          "state": {
            "_view_name": "TextView",
            "style": "IPY_MODEL_0ac014bcbbc54beca5666462ebcc2094",
            "_dom_classes": [],
            "description": "email",
            "_model_name": "TextModel",
            "placeholder": "​",
            "_view_module": "@jupyter-widgets/controls",
            "_model_module_version": "1.5.0",
            "value": "",
            "_view_count": null,
            "disabled": false,
            "_view_module_version": "1.5.0",
            "continuous_update": true,
            "description_tooltip": null,
            "_model_module": "@jupyter-widgets/controls",
            "layout": "IPY_MODEL_eea3a8e9d92d4244b1fd81f65f1162f0"
          }
        },
        "b4c58b7fe4a24efb84c4da0e234321c6": {
          "model_module": "@jupyter-widgets/controls",
          "model_name": "PasswordModel",
          "state": {
            "_view_name": "PasswordView",
            "style": "IPY_MODEL_a944bd64613d45e990314fce07233a79",
            "_dom_classes": [],
            "description": "password",
            "_model_name": "PasswordModel",
            "placeholder": "​",
            "_view_module": "@jupyter-widgets/controls",
            "_model_module_version": "1.5.0",
            "value": "",
            "_view_count": null,
            "disabled": false,
            "_view_module_version": "1.5.0",
            "continuous_update": true,
            "description_tooltip": null,
            "_model_module": "@jupyter-widgets/controls",
            "layout": "IPY_MODEL_28483ad021ae4c8ca901d1d2369c6f18"
          }
        },
        "9934bc9a891f46df9eac43a418435e7a": {
          "model_module": "@jupyter-widgets/controls",
          "model_name": "ButtonStyleModel",
          "state": {
            "_view_name": "StyleView",
            "_model_name": "ButtonStyleModel",
            "_view_module": "@jupyter-widgets/base",
            "_model_module_version": "1.5.0",
            "_view_count": null,
            "button_color": null,
            "font_weight": "",
            "_view_module_version": "1.2.0",
            "_model_module": "@jupyter-widgets/controls"
          }
        },
        "c427df79597d465483092e4d74bfa484": {
          "model_module": "@jupyter-widgets/base",
          "model_name": "LayoutModel",
          "state": {
            "_view_name": "LayoutView",
            "grid_template_rows": null,
            "right": null,
            "justify_content": null,
            "_view_module": "@jupyter-widgets/base",
            "overflow": null,
            "_model_module_version": "1.2.0",
            "_view_count": null,
            "flex_flow": null,
            "width": "150px",
            "min_width": null,
            "border": null,
            "align_items": null,
            "bottom": null,
            "_model_module": "@jupyter-widgets/base",
            "top": null,
            "grid_column": null,
            "overflow_y": null,
            "overflow_x": null,
            "grid_auto_flow": null,
            "grid_area": null,
            "grid_template_columns": null,
            "flex": null,
            "_model_name": "LayoutModel",
            "justify_items": null,
            "grid_row": null,
            "max_height": null,
            "align_content": null,
            "visibility": null,
            "align_self": null,
            "height": "53px",
            "min_height": null,
            "padding": null,
            "grid_auto_rows": null,
            "grid_gap": null,
            "max_width": null,
            "order": null,
            "_view_module_version": "1.2.0",
            "grid_template_areas": null,
            "object_position": null,
            "object_fit": null,
            "grid_auto_columns": null,
            "margin": null,
            "display": null,
            "left": null
          }
        },
        "70695ed6167748798c1b43929aab6ce1": {
          "model_module": "@jupyter-widgets/controls",
          "model_name": "DescriptionStyleModel",
          "state": {
            "_view_name": "StyleView",
            "_model_name": "DescriptionStyleModel",
            "description_width": "",
            "_view_module": "@jupyter-widgets/base",
            "_model_module_version": "1.5.0",
            "_view_count": null,
            "_view_module_version": "1.2.0",
            "_model_module": "@jupyter-widgets/controls"
          }
        },
        "3ebe61ca1be74078a6cec1806300502c": {
          "model_module": "@jupyter-widgets/base",
          "model_name": "LayoutModel",
          "state": {
            "_view_name": "LayoutView",
            "grid_template_rows": null,
            "right": null,
            "justify_content": null,
            "_view_module": "@jupyter-widgets/base",
            "overflow": null,
            "_model_module_version": "1.2.0",
            "_view_count": null,
            "flex_flow": null,
            "width": "100px",
            "min_width": null,
            "border": null,
            "align_items": null,
            "bottom": null,
            "_model_module": "@jupyter-widgets/base",
            "top": null,
            "grid_column": null,
            "overflow_y": null,
            "overflow_x": null,
            "grid_auto_flow": null,
            "grid_area": null,
            "grid_template_columns": null,
            "flex": null,
            "_model_name": "LayoutModel",
            "justify_items": null,
            "grid_row": null,
            "max_height": null,
            "align_content": null,
            "visibility": null,
            "align_self": null,
            "height": null,
            "min_height": null,
            "padding": null,
            "grid_auto_rows": null,
            "grid_gap": null,
            "max_width": null,
            "order": null,
            "_view_module_version": "1.2.0",
            "grid_template_areas": null,
            "object_position": null,
            "object_fit": null,
            "grid_auto_columns": null,
            "margin": null,
            "display": null,
            "left": null
          }
        },
        "ebf19dbc09f240d78da994489dae6de1": {
          "model_module": "@jupyter-widgets/controls",
          "model_name": "ButtonStyleModel",
          "state": {
            "_view_name": "StyleView",
            "_model_name": "ButtonStyleModel",
            "_view_module": "@jupyter-widgets/base",
            "_model_module_version": "1.5.0",
            "_view_count": null,
            "button_color": null,
            "font_weight": "",
            "_view_module_version": "1.2.0",
            "_model_module": "@jupyter-widgets/controls"
          }
        },
        "0bc18d95bbc14db8b5dc4380a3eeadb0": {
          "model_module": "@jupyter-widgets/base",
          "model_name": "LayoutModel",
          "state": {
            "_view_name": "LayoutView",
            "grid_template_rows": null,
            "right": null,
            "justify_content": null,
            "_view_module": "@jupyter-widgets/base",
            "overflow": null,
            "_model_module_version": "1.2.0",
            "_view_count": null,
            "flex_flow": null,
            "width": "200px",
            "min_width": null,
            "border": null,
            "align_items": null,
            "bottom": null,
            "_model_module": "@jupyter-widgets/base",
            "top": null,
            "grid_column": null,
            "overflow_y": null,
            "overflow_x": null,
            "grid_auto_flow": null,
            "grid_area": null,
            "grid_template_columns": null,
            "flex": null,
            "_model_name": "LayoutModel",
            "justify_items": null,
            "grid_row": null,
            "max_height": null,
            "align_content": null,
            "visibility": null,
            "align_self": null,
            "height": "53px",
            "min_height": null,
            "padding": null,
            "grid_auto_rows": null,
            "grid_gap": null,
            "max_width": null,
            "order": null,
            "_view_module_version": "1.2.0",
            "grid_template_areas": null,
            "object_position": null,
            "object_fit": null,
            "grid_auto_columns": null,
            "margin": null,
            "display": null,
            "left": null
          }
        },
        "0ac014bcbbc54beca5666462ebcc2094": {
          "model_module": "@jupyter-widgets/controls",
          "model_name": "DescriptionStyleModel",
          "state": {
            "_view_name": "StyleView",
            "_model_name": "DescriptionStyleModel",
            "description_width": "",
            "_view_module": "@jupyter-widgets/base",
            "_model_module_version": "1.5.0",
            "_view_count": null,
            "_view_module_version": "1.2.0",
            "_model_module": "@jupyter-widgets/controls"
          }
        },
        "eea3a8e9d92d4244b1fd81f65f1162f0": {
          "model_module": "@jupyter-widgets/base",
          "model_name": "LayoutModel",
          "state": {
            "_view_name": "LayoutView",
            "grid_template_rows": null,
            "right": null,
            "justify_content": null,
            "_view_module": "@jupyter-widgets/base",
            "overflow": null,
            "_model_module_version": "1.2.0",
            "_view_count": null,
            "flex_flow": null,
            "width": "300px",
            "min_width": null,
            "border": null,
            "align_items": null,
            "bottom": null,
            "_model_module": "@jupyter-widgets/base",
            "top": null,
            "grid_column": null,
            "overflow_y": null,
            "overflow_x": null,
            "grid_auto_flow": null,
            "grid_area": null,
            "grid_template_columns": null,
            "flex": null,
            "_model_name": "LayoutModel",
            "justify_items": null,
            "grid_row": null,
            "max_height": null,
            "align_content": null,
            "visibility": null,
            "align_self": null,
            "height": "25px",
            "min_height": null,
            "padding": null,
            "grid_auto_rows": null,
            "grid_gap": null,
            "max_width": null,
            "order": null,
            "_view_module_version": "1.2.0",
            "grid_template_areas": null,
            "object_position": null,
            "object_fit": null,
            "grid_auto_columns": null,
            "margin": null,
            "display": null,
            "left": null
          }
        },
        "a944bd64613d45e990314fce07233a79": {
          "model_module": "@jupyter-widgets/controls",
          "model_name": "DescriptionStyleModel",
          "state": {
            "_view_name": "StyleView",
            "_model_name": "DescriptionStyleModel",
            "description_width": "",
            "_view_module": "@jupyter-widgets/base",
            "_model_module_version": "1.5.0",
            "_view_count": null,
            "_view_module_version": "1.2.0",
            "_model_module": "@jupyter-widgets/controls"
          }
        },
        "28483ad021ae4c8ca901d1d2369c6f18": {
          "model_module": "@jupyter-widgets/base",
          "model_name": "LayoutModel",
          "state": {
            "_view_name": "LayoutView",
            "grid_template_rows": null,
            "right": null,
            "justify_content": null,
            "_view_module": "@jupyter-widgets/base",
            "overflow": null,
            "_model_module_version": "1.2.0",
            "_view_count": null,
            "flex_flow": null,
            "width": "300px",
            "min_width": null,
            "border": null,
            "align_items": null,
            "bottom": null,
            "_model_module": "@jupyter-widgets/base",
            "top": null,
            "grid_column": null,
            "overflow_y": null,
            "overflow_x": null,
            "grid_auto_flow": null,
            "grid_area": null,
            "grid_template_columns": null,
            "flex": null,
            "_model_name": "LayoutModel",
            "justify_items": null,
            "grid_row": null,
            "max_height": null,
            "align_content": null,
            "visibility": null,
            "align_self": null,
            "height": "24px",
            "min_height": null,
            "padding": null,
            "grid_auto_rows": null,
            "grid_gap": null,
            "max_width": null,
            "order": null,
            "_view_module_version": "1.2.0",
            "grid_template_areas": null,
            "object_position": null,
            "object_fit": null,
            "grid_auto_columns": null,
            "margin": null,
            "display": null,
            "left": null
          }
        }
      }
    }
  },
  "cells": [
    {
      "cell_type": "markdown",
      "metadata": {
        "id": "view-in-github",
        "colab_type": "text"
      },
      "source": [
        "<a href=\"https://colab.research.google.com/github/DavidUrbaez/AI_Course/blob/main/content/LAB%2002.04%20-%20CARD%20TRICK.ipynb\" target=\"_parent\"><img src=\"https://colab.research.google.com/assets/colab-badge.svg\" alt=\"Open In Colab\"/></a>"
      ]
    },
    {
      "cell_type": "markdown",
      "metadata": {
        "id": "qG9369JV48wS"
      },
      "source": [
        "# LAB 02.04 - Card trick"
      ]
    },
    {
      "cell_type": "code",
      "metadata": {
        "colab": {
          "base_uri": "https://localhost:8080/",
          "height": 75
        },
        "id": "eXM7RQql48wV",
        "outputId": "60aa00f9-d6f4-4720-ad00-76d46d51d830"
      },
      "source": [
        "!wget --no-cache -O init.py -q https://raw.githubusercontent.com/rramosp/ai4eng.v1/main/content/init.py\n",
        "import init; init.init(force_download=False); init.get_weblink()\n"
      ],
      "execution_count": 1,
      "outputs": [
        {
          "output_type": "display_data",
          "data": {
            "text/html": [
              "\n",
              "<meta name=\"google-signin-client_id\"\n",
              "      content=\"461673936472-kdjosv61up3ac1ajeuq6qqu72upilmls.apps.googleusercontent.com\"/>\n",
              "<script src=\"https://apis.google.com/js/client:platform.js?onload=google_button_start\"></script>\n",
              "    "
            ],
            "text/plain": [
              "<IPython.core.display.HTML object>"
            ]
          },
          "metadata": {
            "tags": []
          }
        },
        {
          "output_type": "stream",
          "text": [
            "replicating local resources\n"
          ],
          "name": "stdout"
        },
        {
          "output_type": "execute_result",
          "data": {
            "text/html": [
              "<h3>See <a href='https://m5knaekxo6.execute-api.us-west-2.amazonaws.com/dev-v0001/rlxmooc/web/login' target='_blank'>my courses and progress</a></h2>"
            ],
            "text/plain": [
              "<IPython.core.display.HTML object>"
            ]
          },
          "metadata": {
            "tags": []
          },
          "execution_count": 1
        }
      ]
    },
    {
      "cell_type": "code",
      "metadata": {
        "colab": {
          "base_uri": "https://localhost:8080/",
          "height": 117,
          "referenced_widgets": [
            "7ec6b6613f89459085489377bb20985d",
            "4ff84da2206f4816973bc799e31b0880",
            "a21e9a0a22324d31b161580c2051aa61",
            "127e3e2e09394cbb9e2e38ef1c06a384",
            "36aa70a2dffe4a24a760ce4b4e75dc4e",
            "a61f13e2d47641a39a8b7ff1b01ea503",
            "a6bcdff87d7a488a9baeebfa566d7ec1",
            "59c273ea2d15462b89223eeba0380ab5",
            "b4c58b7fe4a24efb84c4da0e234321c6",
            "9934bc9a891f46df9eac43a418435e7a",
            "c427df79597d465483092e4d74bfa484",
            "70695ed6167748798c1b43929aab6ce1",
            "3ebe61ca1be74078a6cec1806300502c",
            "ebf19dbc09f240d78da994489dae6de1",
            "0bc18d95bbc14db8b5dc4380a3eeadb0",
            "0ac014bcbbc54beca5666462ebcc2094",
            "eea3a8e9d92d4244b1fd81f65f1162f0",
            "a944bd64613d45e990314fce07233a79",
            "28483ad021ae4c8ca901d1d2369c6f18"
          ]
        },
        "id": "wYbmRpwf48wW",
        "outputId": "64e0cb3b-e289-4db4-b9d4-6cf715978c6e"
      },
      "source": [
        "from local.lib.rlxmoocapi import submit, session\n",
        "session.LoginSequence(endpoint=init.endpoint, course_id=init.course_id, lab_id=\"L02.04\", varname=\"student\");"
      ],
      "execution_count": 132,
      "outputs": [
        {
          "output_type": "stream",
          "text": [
            "logging in as durbaezl@unal.edu.co... please wait\n",
            "using course session ai4eng.v1::open\n",
            "success!! you are logged in\n"
          ],
          "name": "stdout"
        }
      ]
    },
    {
      "cell_type": "code",
      "metadata": {
        "id": "8ITwimuS48wW"
      },
      "source": [
        "import numpy as np\n",
        "import pandas as pd\n",
        "import itertools"
      ],
      "execution_count": 3,
      "outputs": []
    },
    {
      "cell_type": "markdown",
      "metadata": {
        "id": "aE4sMlBE48wW"
      },
      "source": [
        "## Setup \n",
        "\n",
        "make sure to **watch the corresponding video** to understand the card trick.\n",
        "\n",
        "### create a deck for a given configuration\n",
        "\n",
        "The following function returns a list of **card names**. The `shuffle` argument is self evident. We use two letters as an arbitrary card name so that we have enough names for large configurations."
      ]
    },
    {
      "cell_type": "code",
      "metadata": {
        "id": "w_TpK3fe48wX"
      },
      "source": [
        "\n",
        "def create_deck(n_heaps, cards_per_heap, shuffle=False):\n",
        "    n_cards = n_heaps * cards_per_heap\n",
        "    \n",
        "    chars = [chr(i) for i in np.arange(26)+65]\n",
        "    names = [i+j for i,j in itertools.product(chars, chars)]    \n",
        "\n",
        "    assert n_cards < len(names), \"cannot have more than %d cards\"%len(name)\n",
        "    \n",
        "    c = np.r_[names[:n_cards]]\n",
        "    if shuffle:\n",
        "        c = np.random.permutation(c)\n",
        "    return c"
      ],
      "execution_count": 5,
      "outputs": []
    },
    {
      "cell_type": "code",
      "metadata": {
        "colab": {
          "base_uri": "https://localhost:8080/"
        },
        "id": "R-56I9X448wX",
        "outputId": "2c78ab71-d66d-489c-d57b-e28064891624"
      },
      "source": [
        "create_deck(n_heaps=3, cards_per_heap=10, shuffle=False)"
      ],
      "execution_count": 10,
      "outputs": [
        {
          "output_type": "execute_result",
          "data": {
            "text/plain": [
              "array(['AA', 'AB', 'AC', 'AD', 'AE', 'AF', 'AG', 'AH', 'AI', 'AJ', 'AK',\n",
              "       'AL', 'AM', 'AN', 'AO', 'AP', 'AQ', 'AR', 'AS', 'AT', 'AU', 'AV',\n",
              "       'AW', 'AX', 'AY', 'AZ', 'BA', 'BB', 'BC', 'BD'], dtype='<U2')"
            ]
          },
          "metadata": {
            "tags": []
          },
          "execution_count": 10
        }
      ]
    },
    {
      "cell_type": "code",
      "metadata": {
        "colab": {
          "base_uri": "https://localhost:8080/"
        },
        "id": "RlANe-tk48wX",
        "outputId": "79d61aee-5f55-46d6-f15c-a1aa40dac902"
      },
      "source": [
        "create_deck(n_heaps=3, cards_per_heap=7, shuffle=True)"
      ],
      "execution_count": 7,
      "outputs": [
        {
          "output_type": "execute_result",
          "data": {
            "text/plain": [
              "array(['AS', 'AH', 'AE', 'AB', 'AF', 'AN', 'AC', 'AA', 'AU', 'AD', 'AG',\n",
              "       'AT', 'AM', 'AQ', 'AK', 'AJ', 'AP', 'AL', 'AO', 'AR', 'AI'],\n",
              "      dtype='<U2')"
            ]
          },
          "metadata": {
            "tags": []
          },
          "execution_count": 7
        }
      ]
    },
    {
      "cell_type": "code",
      "metadata": {
        "colab": {
          "base_uri": "https://localhost:8080/"
        },
        "id": "igdON4QF48wY",
        "outputId": "97987317-1537-48c5-8c51-bfaeaa497ad6"
      },
      "source": [
        "create_deck(n_heaps=3, cards_per_heap=10, shuffle=True)"
      ],
      "execution_count": 8,
      "outputs": [
        {
          "output_type": "execute_result",
          "data": {
            "text/plain": [
              "array(['AS', 'AX', 'AC', 'BB', 'AU', 'AP', 'AD', 'AJ', 'BD', 'AA', 'AT',\n",
              "       'AH', 'AN', 'AW', 'AF', 'AG', 'AI', 'AK', 'AM', 'AV', 'AZ', 'AL',\n",
              "       'AY', 'AQ', 'AR', 'AE', 'BC', 'AB', 'AO', 'BA'], dtype='<U2')"
            ]
          },
          "metadata": {
            "tags": []
          },
          "execution_count": 8
        }
      ]
    },
    {
      "cell_type": "markdown",
      "metadata": {
        "id": "Bo0wCkCs48wY"
      },
      "source": [
        "### pick a card\n",
        "\n",
        "the following function randomly picks a card from a deck"
      ]
    },
    {
      "cell_type": "code",
      "metadata": {
        "id": "Iv-N-k0w48wY"
      },
      "source": [
        "def pick_card(c):\n",
        "    return np.random.choice(c)"
      ],
      "execution_count": 12,
      "outputs": []
    },
    {
      "cell_type": "code",
      "metadata": {
        "colab": {
          "base_uri": "https://localhost:8080/",
          "height": 35
        },
        "id": "m4tuXgQG48wY",
        "outputId": "421068ea-3f92-4ae3-f0d8-804728ec70ac"
      },
      "source": [
        "c = create_deck(n_heaps=3, cards_per_heap=7, shuffle=True)\n",
        "n = pick_card(c)\n",
        "n"
      ],
      "execution_count": 13,
      "outputs": [
        {
          "output_type": "execute_result",
          "data": {
            "application/vnd.google.colaboratory.intrinsic+json": {
              "type": "string"
            },
            "text/plain": [
              "'AA'"
            ]
          },
          "metadata": {
            "tags": []
          },
          "execution_count": 13
        }
      ]
    },
    {
      "cell_type": "markdown",
      "metadata": {
        "id": "wo8RuM_I48wY"
      },
      "source": [
        "## Task 1. Make the heaps\n",
        "\n",
        "Complete the following funcion so that given desk (as a list returned by `create_deck`) distributes the cards in `n_heaps` according to the procedure of the card trick shown in the video.\n",
        "\n",
        "The heaps must be a list of `n_heaps` lists, each one with `len(c)/n_heaps` card names.\n",
        "\n",
        "`n_heaps` will be an odd number (so that later we can put the chosen heap in the middle of the others), and must be a divisor of the total number of cards in the deck (so that all heaps have the same number of cards)\n",
        "\n",
        "For instance, \n",
        "\n",
        "    >>> n_heaps = 3\n",
        "    >>> c = create_deck(n_heaps=n_heaps, cards_per_heap=7)\n",
        "    >>> h = make_heaps(c, n_heaps)\n",
        "    >>> print(\"deck\", c)\n",
        "    >>> print(\"heaps\")\n",
        "    >>> h   \n",
        "\n",
        "    deck ['AA' 'AB' 'AC' 'AD' 'AE' 'AF' 'AG' 'AH' 'AI' 'AJ' 'AK' 'AL' 'AM' 'AN'\n",
        "     'AO' 'AP' 'AQ' 'AR' 'AS' 'AT' 'AU']\n",
        "    heaps\n",
        "    [['AA', 'AD', 'AG', 'AJ', 'AM', 'AP', 'AS'],\n",
        "     ['AB', 'AE', 'AH', 'AK', 'AN', 'AQ', 'AT'],\n",
        "     ['AC', 'AF', 'AI', 'AL', 'AO', 'AR', 'AU']]\n",
        "  \n",
        "or also\n",
        "\n",
        "    >>> n_heaps = 5\n",
        "    >>> c = create_deck(n_heaps=n_heaps, cards_per_heap=3, shuffle=True)\n",
        "    >>> h = make_heaps(c, n_heaps)\n",
        "    >>> print(\"deck\", c)\n",
        "    >>> print(\"heaps\")\n",
        "    >>> h\n",
        "    \n",
        "    deck ['AA' 'AJ' 'AM' 'AK' 'AH' 'AF' 'AD' 'AN' 'AB' 'AC' 'AG' 'AE' 'AL' 'AI'\n",
        "     'AO']\n",
        "    heaps\n",
        "    [['AA', 'AF', 'AG'],\n",
        "     ['AJ', 'AD', 'AE'],\n",
        "     ['AM', 'AN', 'AL'],\n",
        "     ['AK', 'AB', 'AI'],\n",
        "     ['AH', 'AC', 'AO']]"
      ]
    },
    {
      "cell_type": "code",
      "metadata": {
        "id": "l_J8m9Vu48wZ"
      },
      "source": [
        "def make_heaps(c, n_heaps=3):\n",
        "    assert n_heaps%2==1, \"must have an odd number of heaps\"\n",
        "    assert len(c)%n_heaps==0, \"the length of the deck must be a multiple of the number of heaps\"\n",
        "    \n",
        "    return [list(heap) for heap in c.reshape(n_heaps,-1,order='F')]"
      ],
      "execution_count": 30,
      "outputs": []
    },
    {
      "cell_type": "code",
      "metadata": {
        "colab": {
          "base_uri": "https://localhost:8080/"
        },
        "id": "mMfiMI1M7-8d",
        "outputId": "b55d940c-c0c2-4c1d-fccc-a000a102488f"
      },
      "source": [
        "list(c.reshape(3,-1,order='F'))"
      ],
      "execution_count": 26,
      "outputs": [
        {
          "output_type": "execute_result",
          "data": {
            "text/plain": [
              "[array(['AA', 'AD', 'AG', 'AJ', 'AM', 'AP', 'AS'], dtype='<U2'),\n",
              " array(['AB', 'AE', 'AH', 'AK', 'AN', 'AQ', 'AT'], dtype='<U2'),\n",
              " array(['AC', 'AF', 'AI', 'AL', 'AO', 'AR', 'AU'], dtype='<U2')]"
            ]
          },
          "metadata": {
            "tags": []
          },
          "execution_count": 26
        }
      ]
    },
    {
      "cell_type": "markdown",
      "metadata": {
        "id": "Bg0NxmZj48wZ"
      },
      "source": [
        "manually check your code"
      ]
    },
    {
      "cell_type": "code",
      "metadata": {
        "colab": {
          "base_uri": "https://localhost:8080/"
        },
        "id": "pNFPA4Kl48wZ",
        "outputId": "4104c63d-5b38-4b95-f4b4-2b14c020a93e"
      },
      "source": [
        "n_heaps = 3\n",
        "c = create_deck(n_heaps=n_heaps, cards_per_heap=7)\n",
        "h = make_heaps(c, n_heaps)\n",
        "\n",
        "print(\"deck\", c)\n",
        "print(\"heaps\")\n",
        "h\n"
      ],
      "execution_count": 31,
      "outputs": [
        {
          "output_type": "stream",
          "text": [
            "deck ['AA' 'AB' 'AC' 'AD' 'AE' 'AF' 'AG' 'AH' 'AI' 'AJ' 'AK' 'AL' 'AM' 'AN'\n",
            " 'AO' 'AP' 'AQ' 'AR' 'AS' 'AT' 'AU']\n",
            "heaps\n"
          ],
          "name": "stdout"
        },
        {
          "output_type": "execute_result",
          "data": {
            "text/plain": [
              "[['AA', 'AD', 'AG', 'AJ', 'AM', 'AP', 'AS'],\n",
              " ['AB', 'AE', 'AH', 'AK', 'AN', 'AQ', 'AT'],\n",
              " ['AC', 'AF', 'AI', 'AL', 'AO', 'AR', 'AU']]"
            ]
          },
          "metadata": {
            "tags": []
          },
          "execution_count": 31
        }
      ]
    },
    {
      "cell_type": "code",
      "metadata": {
        "colab": {
          "base_uri": "https://localhost:8080/"
        },
        "id": "mGaK2iqA48wa",
        "outputId": "1a5cbc4b-d861-4522-977d-b4ca77ad3cf5"
      },
      "source": [
        "n_heaps = 5\n",
        "c = create_deck(n_heaps=n_heaps, cards_per_heap=3, shuffle=True)\n",
        "h = make_heaps(c, n_heaps)\n",
        "\n",
        "print(\"deck\", c)\n",
        "print(\"heaps\")\n",
        "h\n"
      ],
      "execution_count": 32,
      "outputs": [
        {
          "output_type": "stream",
          "text": [
            "deck ['AJ' 'AM' 'AD' 'AN' 'AC' 'AE' 'AB' 'AG' 'AO' 'AL' 'AA' 'AH' 'AK' 'AI'\n",
            " 'AF']\n",
            "heaps\n"
          ],
          "name": "stdout"
        },
        {
          "output_type": "execute_result",
          "data": {
            "text/plain": [
              "[['AJ', 'AE', 'AA'],\n",
              " ['AM', 'AB', 'AH'],\n",
              " ['AD', 'AG', 'AK'],\n",
              " ['AN', 'AO', 'AI'],\n",
              " ['AC', 'AL', 'AF']]"
            ]
          },
          "metadata": {
            "tags": []
          },
          "execution_count": 32
        }
      ]
    },
    {
      "cell_type": "markdown",
      "metadata": {
        "id": "iPY6_3dH48wa"
      },
      "source": [
        "**submit your code**"
      ]
    },
    {
      "cell_type": "code",
      "metadata": {
        "scrolled": false,
        "colab": {
          "base_uri": "https://localhost:8080/",
          "height": 174
        },
        "id": "wXygVkJu48wa",
        "outputId": "784501fd-b063-4ea9-e4cf-67640408c0b7"
      },
      "source": [
        "student.submit_task(globals(), task_id=\"task_01\");"
      ],
      "execution_count": 33,
      "outputs": [
        {
          "output_type": "display_data",
          "data": {
            "text/html": [
              "\n",
              "                    <b>task_01 submitted.</b> <b><font color=\"blue\">your grade is 5</font></b> \n",
              "                    <p/><pre>----- grader message -------</pre><br/>testing with 20 random calls<br/><font color='green'><h2>correct</h2></font><pre>----------------------------</pre>\n",
              "                    <p/><p/>\n",
              "                    <div style=\"font-size:10px\"><b>SUBMISSION CODE</b> a/1D6DcLZSHE8zaTPtyMGvFfunO8xcBTg3mzki+33Tx0r2wdo7HThMVI28MAb0mEeY8afvJdsSw425m/MULDKys/xsvXRwFnadBE6DFHWNO5To11OYrVVQIhxqU3InGLWeEjNVKOdw1N9fsndqyq9g==</div>\n",
              "                    "
            ],
            "text/plain": [
              "<IPython.core.display.HTML object>"
            ]
          },
          "metadata": {
            "tags": []
          }
        }
      ]
    },
    {
      "cell_type": "code",
      "metadata": {
        "id": "Fcm3D12748wa"
      },
      "source": [
        ""
      ],
      "execution_count": null,
      "outputs": []
    },
    {
      "cell_type": "markdown",
      "metadata": {
        "id": "L1N0zmtv48wa"
      },
      "source": [
        "## Task 2: Organize the heaps\n",
        "\n",
        "Complete the following funcion so that given a set of heaps (such as the ones returned by the function of the previous task) and a card name:\n",
        "\n",
        "1. Finds what is the heap that contains the card\n",
        "1. Makes randomly two groups of `n_heaps//2` heaps of the remaining heaps\n",
        "   - if `n_heaps=3` this will be two groups of one heap each, since `3//2=1`\n",
        "   - if `n_heaps=5`, it will be two groups of two heaps each, since `5//2=2`\n",
        "   - etc. (observe `//` is the integer division)\n",
        "1. Concatenates the cards in one group with the cards in the heap containing the given card name. with the cards of the second group\n",
        "\n",
        "For example\n",
        "\n",
        "    >>> n_heaps = 3\n",
        "    >>> c = create_deck(n_heaps=n_heaps, cards_per_heap=7, shuffle=True)\n",
        "    >>> n = pick_card(c)\n",
        "    >>> print (\"card picked\", n)\n",
        "    >>> h = make_heaps(c, n_heaps)\n",
        "    >>> h\n",
        "    \n",
        "    card picked AD\n",
        "    [['AP', 'AC', 'AE', 'AO', 'AQ', 'AF', 'AM'],\n",
        "     ['AN', 'AT', 'AB', 'AJ', 'AU', 'AI', 'AS'],\n",
        "     ['AR', 'AD', 'AA', 'AG', 'AH', 'AL', 'AK']]\n",
        "    \n",
        "    \n",
        "    >>> new_c = collect_heaps(h, n)\n",
        "    >>> print (new_c)\n",
        "    \n",
        "    ['AP', 'AC', 'AE', 'AO', 'AQ', 'AF', 'AM', 'AR', 'AD', 'AA', 'AG', 'AH', 'AL', 'AK', 'AN', 'AT', 'AB', 'AJ', 'AU', 'AI', 'AS']"
      ]
    },
    {
      "cell_type": "code",
      "metadata": {
        "id": "0NWBS0hS48wb"
      },
      "source": [
        "def collect_heaps(h, n):\n",
        "    print(n)\n",
        "    r = [index for index, x in enumerate(h) if n in x][0]\n",
        "    \n",
        "    dis= len(h)//2\n",
        "\n",
        "    other_heaps=h.copy()\n",
        "    important_heap = other_heaps.pop(r)\n",
        "\n",
        "    output =[]\n",
        "    \n",
        "    for index in range(dis):\n",
        "      output = output + other_heaps[:dis][index]\n",
        "    \n",
        "    output= output+important_heap\n",
        "    \n",
        "    for index in range(dis):\n",
        "      output = output + other_heaps[dis:][index]\n",
        "\n",
        "    return output"
      ],
      "execution_count": 189,
      "outputs": []
    },
    {
      "cell_type": "markdown",
      "metadata": {
        "id": "o4Ak1Sgy48wb"
      },
      "source": [
        "manually check your code"
      ]
    },
    {
      "cell_type": "code",
      "metadata": {
        "colab": {
          "base_uri": "https://localhost:8080/"
        },
        "id": "u-z3MHyf48wc",
        "outputId": "b1275ec8-ad64-4974-a1f8-f85edce56a57"
      },
      "source": [
        "n_heaps = 5\n",
        "c = create_deck(n_heaps=n_heaps, cards_per_heap=7, shuffle=True)\n",
        "n = pick_card(c)\n",
        "print (\"card picked\", n)\n",
        "h = make_heaps(c, n_heaps)\n",
        "h"
      ],
      "execution_count": 156,
      "outputs": [
        {
          "output_type": "stream",
          "text": [
            "card picked AE\n"
          ],
          "name": "stdout"
        },
        {
          "output_type": "execute_result",
          "data": {
            "text/plain": [
              "[['AH', 'AY', 'AV', 'AX', 'BA', 'AM', 'AB'],\n",
              " ['AP', 'AL', 'AQ', 'BB', 'AC', 'AG', 'BC'],\n",
              " ['AE', 'AS', 'BH', 'AA', 'AJ', 'AR', 'AF'],\n",
              " ['BI', 'AI', 'AT', 'AD', 'BE', 'AN', 'AZ'],\n",
              " ['AK', 'AO', 'AU', 'BG', 'BD', 'AW', 'BF']]"
            ]
          },
          "metadata": {
            "tags": []
          },
          "execution_count": 156
        }
      ]
    },
    {
      "cell_type": "code",
      "metadata": {
        "colab": {
          "base_uri": "https://localhost:8080/"
        },
        "id": "6AVZ3o_H48wc",
        "outputId": "670da8e4-4fcf-4996-f636-42ed3894de3b"
      },
      "source": [
        "new_c = collect_heaps(h, n)\n",
        "print (new_c)\n"
      ],
      "execution_count": 168,
      "outputs": [
        {
          "output_type": "stream",
          "text": [
            "AE\n",
            "['AH', 'AY', 'AV', 'AX', 'BA', 'AM', 'AB', 'AP', 'AL', 'AQ', 'BB', 'AC', 'AG', 'BC', 'AE', 'AS', 'BH', 'AA', 'AJ', 'AR', 'AF', 'BI', 'AI', 'AT', 'AD', 'BE', 'AN', 'AZ', 'AK', 'AO', 'AU', 'BG', 'BD', 'AW', 'BF']\n"
          ],
          "name": "stdout"
        }
      ]
    },
    {
      "cell_type": "markdown",
      "metadata": {
        "id": "BlS0Pcfp48wc"
      },
      "source": [
        "**submit your code**"
      ]
    },
    {
      "cell_type": "code",
      "metadata": {
        "scrolled": false,
        "colab": {
          "base_uri": "https://localhost:8080/",
          "height": 174
        },
        "id": "42QmrBQi48wd",
        "outputId": "2da721ee-be63-4fc7-ed3f-d6817c4f87e9"
      },
      "source": [
        "student.submit_task(globals(), task_id=\"task_02\");"
      ],
      "execution_count": 190,
      "outputs": [
        {
          "output_type": "display_data",
          "data": {
            "text/html": [
              "\n",
              "                    <b>task_02 submitted.</b> <b><font color=\"blue\">your grade is 5</font></b> \n",
              "                    <p/><pre>----- grader message -------</pre><br/>testing with 20 random calls<br/><font color='green'><h2>correct</h2></font><pre>----------------------------</pre>\n",
              "                    <p/><p/>\n",
              "                    <div style=\"font-size:10px\"><b>SUBMISSION CODE</b> B66fwpqqN6fs+ZvqZjqt1aomwKCsfDLHg4SXYyREQXq9Bd5MgPzzUL3z+nTBZ8Nxl4EjUkSlgjT1kJn1TahxrVUrwbXIHsQ7jzb72jbZLeXR/Xy0bA6MBoFc4+ndg1M7yUjPxSxPr6J5y0hDtNUzZg==</div>\n",
              "                    "
            ],
            "text/plain": [
              "<IPython.core.display.HTML object>"
            ]
          },
          "metadata": {
            "tags": []
          }
        }
      ]
    },
    {
      "cell_type": "code",
      "metadata": {
        "id": "RAdVrDN348wd"
      },
      "source": [
        ""
      ],
      "execution_count": 169,
      "outputs": []
    },
    {
      "cell_type": "code",
      "metadata": {
        "id": "y2azzIF148wd"
      },
      "source": [
        ""
      ],
      "execution_count": 169,
      "outputs": []
    },
    {
      "cell_type": "markdown",
      "metadata": {
        "id": "mmLzZnIh48wd"
      },
      "source": [
        "## Task 3: Run the card trick\n",
        "\n",
        "Complete the following function such that, when given a a deck of cards `c`, and picked card `n` and a number of heaps `n_heaps`, returns the position of the picked card after doing three times the collect. The position number **must start at zero**.\n",
        "\n",
        "For instance:\n",
        "\n",
        "- For `n_heaps=3` and `cards_per_heap=7`, the final position will always be 10 (which is 11 if you start counting at 1)\n",
        "- For `n_heaps=3` and `cards_per_heap=4`, the final position will be sometimes 5 and sometimes 6 depending on the position of the picked card on the initial deck.\n",
        "- For `n_heaps=5` and `cards_per_heap=3`, the final position will always be 7\n",
        "\n",
        "**You must return an `int`**"
      ]
    },
    {
      "cell_type": "code",
      "metadata": {
        "id": "yNBLYXD248we"
      },
      "source": [
        "def run(c, n, n_heaps=3):\n",
        "    for _ in range(n_heaps):\n",
        "      h = make_heaps(c, n_heaps)\n",
        "      c = np.array(collect_heaps(h, n))\n",
        "    return c"
      ],
      "execution_count": 200,
      "outputs": []
    },
    {
      "cell_type": "markdown",
      "metadata": {
        "id": "XDRu_hCh48we"
      },
      "source": [
        "manually check your code"
      ]
    },
    {
      "cell_type": "code",
      "metadata": {
        "colab": {
          "base_uri": "https://localhost:8080/"
        },
        "id": "R10j6xY048we",
        "outputId": "991adf17-5248-4ef5-fc86-076effdd2f8d"
      },
      "source": [
        "n_heaps = 5\n",
        "c = create_deck(n_heaps=n_heaps, cards_per_heap=7)\n",
        "picked = \"AA\"\n",
        "print (\"desk\", c)\n",
        "pos = run(c, picked, n_heaps=n_heaps)\n",
        "# list(pos).index(picked)\n",
        "# print (\"position of card %s is %d\"%(picked, pos))"
      ],
      "execution_count": 203,
      "outputs": [
        {
          "output_type": "stream",
          "text": [
            "desk ['AA' 'AB' 'AC' 'AD' 'AE' 'AF' 'AG' 'AH' 'AI' 'AJ' 'AK' 'AL' 'AM' 'AN'\n",
            " 'AO' 'AP' 'AQ' 'AR' 'AS' 'AT' 'AU' 'AV' 'AW' 'AX' 'AY' 'AZ' 'BA' 'BB'\n",
            " 'BC' 'BD' 'BE' 'BF' 'BG' 'BH' 'BI']\n"
          ],
          "name": "stdout"
        }
      ]
    },
    {
      "cell_type": "code",
      "metadata": {
        "id": "BUtjFiTj48we"
      },
      "source": [
        "n_heaps = 3\n",
        "c = create_deck(n_heaps=n_heaps, cards_per_heap=4)\n",
        "picked = \"AI\"\n",
        "print (\"deck\", c)\n",
        "pos = run(c, picked, n_heaps=n_heaps)\n",
        "print (\"position of card %s is %d\"%(picked, pos))"
      ],
      "execution_count": null,
      "outputs": []
    },
    {
      "cell_type": "markdown",
      "metadata": {
        "id": "TW6ihxbS48we"
      },
      "source": [
        "**submit your code**"
      ]
    },
    {
      "cell_type": "code",
      "metadata": {
        "scrolled": false,
        "id": "WwmVLuHK48we"
      },
      "source": [
        "student.submit_task(globals(), task_id=\"task_03\");"
      ],
      "execution_count": null,
      "outputs": []
    },
    {
      "cell_type": "code",
      "metadata": {
        "id": "21l0Hguw48wf"
      },
      "source": [
        ""
      ],
      "execution_count": null,
      "outputs": []
    },
    {
      "cell_type": "code",
      "metadata": {
        "id": "5on-WuYF48wf"
      },
      "source": [
        ""
      ],
      "execution_count": null,
      "outputs": []
    },
    {
      "cell_type": "code",
      "metadata": {
        "id": "a6XOEmON48wf"
      },
      "source": [
        ""
      ],
      "execution_count": null,
      "outputs": []
    },
    {
      "cell_type": "code",
      "metadata": {
        "id": "fv9sNJJr48wf"
      },
      "source": [
        ""
      ],
      "execution_count": null,
      "outputs": []
    },
    {
      "cell_type": "markdown",
      "metadata": {
        "id": "cednCgxe48wf"
      },
      "source": [
        "## Task 4: Run the trick using the math\n",
        "\n",
        "Given:\n",
        "\n",
        "- $n_h$: A number of heaps\n",
        "- $c_h$: the number of cards per heap\n",
        "- $i$: the position of a card \n",
        "\n",
        "The new position of the card after one cycle of making and collecting the heaps will be:\n",
        "\n",
        "$$c_h(n_h\\div2)+i\\div n_h$$\n",
        "\n",
        "Complete the following function so that it has the same functionality of the previous task, but applying only this formula without using the simulation above. You **MUST NOT ADD** or remove lines from the function skeleton below, **ONLY** fill in the `...`\n",
        "\n",
        "You must get the same results as the previous task.\n",
        "\n",
        "**HINT**: Use `np.argwhere` to get the initial position of the card in the deck"
      ]
    },
    {
      "cell_type": "code",
      "metadata": {
        "id": "4_x8ObW748wf"
      },
      "source": [
        "def mrun(c, picked_card, n_heaps=3):\n",
        "    assert len(c)%n_heaps==0, \"the number of heaps must be a divisor of the deck length\"\n",
        "    \n",
        "    ch = len(c)//n_heaps # cards per heap\n",
        "    nh = n_heaps\n",
        "    \n",
        "    i = ... # initial position of the card on the deck c\n",
        "    p1 = ...  # the position of the card after the first round\n",
        "    p2 = ...  # the position of the card after the second round\n",
        "    p3 = ...  # the position of the card after the last round\n",
        "    \n",
        "    return p3"
      ],
      "execution_count": 125,
      "outputs": []
    },
    {
      "cell_type": "code",
      "metadata": {
        "id": "YNSbS5PP48wg"
      },
      "source": [
        ""
      ],
      "execution_count": 125,
      "outputs": []
    },
    {
      "cell_type": "code",
      "metadata": {
        "colab": {
          "base_uri": "https://localhost:8080/",
          "height": 225
        },
        "id": "Rh7QIIpe48wg",
        "outputId": "4a09af83-f0ad-4890-e5b0-294597343097"
      },
      "source": [
        "n_heaps = 3\n",
        "c = create_deck(n_heaps=n_heaps, cards_per_heap=4)\n",
        "picked = \"AI\"\n",
        "print (\"deck\", c)\n",
        "pos = mrun(c, picked, n_heaps=n_heaps)\n",
        "print (\"position of card %s is %d\"%(picked, pos))"
      ],
      "execution_count": 126,
      "outputs": [
        {
          "output_type": "stream",
          "text": [
            "deck ['AA' 'AB' 'AC' 'AD' 'AE' 'AF' 'AG' 'AH' 'AI' 'AJ' 'AK' 'AL']\n"
          ],
          "name": "stdout"
        },
        {
          "output_type": "error",
          "ename": "TypeError",
          "evalue": "ignored",
          "traceback": [
            "\u001b[0;31m---------------------------------------------------------------------------\u001b[0m",
            "\u001b[0;31mTypeError\u001b[0m                                 Traceback (most recent call last)",
            "\u001b[0;32m<ipython-input-126-6ba1e0e13ed6>\u001b[0m in \u001b[0;36m<module>\u001b[0;34m()\u001b[0m\n\u001b[1;32m      4\u001b[0m \u001b[0mprint\u001b[0m \u001b[0;34m(\u001b[0m\u001b[0;34m\"deck\"\u001b[0m\u001b[0;34m,\u001b[0m \u001b[0mc\u001b[0m\u001b[0;34m)\u001b[0m\u001b[0;34m\u001b[0m\u001b[0;34m\u001b[0m\u001b[0m\n\u001b[1;32m      5\u001b[0m \u001b[0mpos\u001b[0m \u001b[0;34m=\u001b[0m \u001b[0mmrun\u001b[0m\u001b[0;34m(\u001b[0m\u001b[0mc\u001b[0m\u001b[0;34m,\u001b[0m \u001b[0mpicked\u001b[0m\u001b[0;34m,\u001b[0m \u001b[0mn_heaps\u001b[0m\u001b[0;34m=\u001b[0m\u001b[0mn_heaps\u001b[0m\u001b[0;34m)\u001b[0m\u001b[0;34m\u001b[0m\u001b[0;34m\u001b[0m\u001b[0m\n\u001b[0;32m----> 6\u001b[0;31m \u001b[0mprint\u001b[0m \u001b[0;34m(\u001b[0m\u001b[0;34m\"position of card %s is %d\"\u001b[0m\u001b[0;34m%\u001b[0m\u001b[0;34m(\u001b[0m\u001b[0mpicked\u001b[0m\u001b[0;34m,\u001b[0m \u001b[0mpos\u001b[0m\u001b[0;34m)\u001b[0m\u001b[0;34m)\u001b[0m\u001b[0;34m\u001b[0m\u001b[0;34m\u001b[0m\u001b[0m\n\u001b[0m",
            "\u001b[0;31mTypeError\u001b[0m: %d format: a number is required, not ellipsis"
          ]
        }
      ]
    },
    {
      "cell_type": "code",
      "metadata": {
        "id": "FCP7qgAs48wg"
      },
      "source": [
        ""
      ],
      "execution_count": null,
      "outputs": []
    },
    {
      "cell_type": "markdown",
      "metadata": {
        "id": "7QOn6NGL48wg"
      },
      "source": [
        "**submit your code**"
      ]
    },
    {
      "cell_type": "code",
      "metadata": {
        "scrolled": false,
        "id": "maeiW3Yo48wg"
      },
      "source": [
        "student.submit_task(globals(), task_id=\"task_04\");"
      ],
      "execution_count": null,
      "outputs": []
    },
    {
      "cell_type": "code",
      "metadata": {
        "id": "0GaWFWXu48wg"
      },
      "source": [
        ""
      ],
      "execution_count": null,
      "outputs": []
    },
    {
      "cell_type": "code",
      "metadata": {
        "id": "fSUcPSKF48wg"
      },
      "source": [
        ""
      ],
      "execution_count": null,
      "outputs": []
    },
    {
      "cell_type": "code",
      "metadata": {
        "id": "vLosJT8b48wg"
      },
      "source": [
        ""
      ],
      "execution_count": null,
      "outputs": []
    },
    {
      "cell_type": "markdown",
      "metadata": {
        "id": "c1dn2S2W48wg"
      },
      "source": [
        "## You are done. Now, some considerations\n",
        "\n",
        "### using the math is always faster!!!\n",
        "\n"
      ]
    },
    {
      "cell_type": "code",
      "metadata": {
        "id": "l58CmCJD48wh"
      },
      "source": [
        "n_heaps = 3\n",
        "c = create_deck(n_heaps=n_heaps, cards_per_heap=4)\n",
        "picked = \"AI\"\n",
        "print (\"deck\", c)"
      ],
      "execution_count": null,
      "outputs": []
    },
    {
      "cell_type": "code",
      "metadata": {
        "id": "vTLAglxV48wh"
      },
      "source": [
        "%timeit run(c, picked, n_heaps=n_heaps)"
      ],
      "execution_count": null,
      "outputs": []
    },
    {
      "cell_type": "code",
      "metadata": {
        "id": "7fx3SG8f48wh"
      },
      "source": [
        "%timeit mrun(c, picked, n_heaps=n_heaps)"
      ],
      "execution_count": null,
      "outputs": []
    },
    {
      "cell_type": "markdown",
      "metadata": {
        "id": "HfecBCyN48wh"
      },
      "source": [
        "### you can check if the trick works for a specific configuration"
      ]
    },
    {
      "cell_type": "code",
      "metadata": {
        "id": "w1VUAQaK48wh"
      },
      "source": [
        "n_heaps = 3\n",
        "cards_per_heap = 7\n",
        "\n",
        "c = create_deck(n_heaps, cards_per_heap)\n",
        "\n",
        "r = [[n, mrun(c,n, n_heaps=n_heaps)] for n in c]\n",
        "print (\"deck\", c)\n",
        "pd.DataFrame(r, columns=[\"card picked\", \"final position\"])"
      ],
      "execution_count": null,
      "outputs": []
    },
    {
      "cell_type": "code",
      "metadata": {
        "id": "COmDrG3y48wh"
      },
      "source": [
        "n_heaps = 3\n",
        "cards_per_heap = 4\n",
        "\n",
        "c = create_deck(n_heaps, cards_per_heap)\n",
        "\n",
        "r = [[n, mrun(c,n, n_heaps=n_heaps)] for n in c]\n",
        "print (\"deck\", c)\n",
        "pd.DataFrame(r, columns=[\"card picked\", \"final position\"])"
      ],
      "execution_count": null,
      "outputs": []
    },
    {
      "cell_type": "code",
      "metadata": {
        "id": "0M5Lo3Gp48wh"
      },
      "source": [
        ""
      ],
      "execution_count": null,
      "outputs": []
    }
  ]
}