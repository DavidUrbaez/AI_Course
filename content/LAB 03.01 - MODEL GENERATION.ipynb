{
  "nbformat": 4,
  "nbformat_minor": 0,
  "metadata": {
    "kernelspec": {
      "display_name": "Python 3",
      "language": "python",
      "name": "python3"
    },
    "language_info": {
      "codemirror_mode": {
        "name": "ipython",
        "version": 3
      },
      "file_extension": ".py",
      "mimetype": "text/x-python",
      "name": "python",
      "nbconvert_exporter": "python",
      "pygments_lexer": "ipython3",
      "version": "3.7.3"
    },
    "colab": {
      "name": "LAB 03.01 - MODEL GENERATION.ipynb",
      "provenance": [],
      "include_colab_link": true
    },
    "widgets": {
      "application/vnd.jupyter.widget-state+json": {
        "7baa798ed13f4c6aa9974b4dd3c9d5ac": {
          "model_module": "@jupyter-widgets/controls",
          "model_name": "HBoxModel",
          "state": {
            "_view_name": "HBoxView",
            "_dom_classes": [],
            "_model_name": "HBoxModel",
            "_view_module": "@jupyter-widgets/controls",
            "_model_module_version": "1.5.0",
            "_view_count": null,
            "_view_module_version": "1.5.0",
            "box_style": "",
            "layout": "IPY_MODEL_ee80d0ec3c8b443eba0c6aab00289ce0",
            "_model_module": "@jupyter-widgets/controls",
            "children": [
              "IPY_MODEL_497acd64fbf945118c4b520d0987bb6e",
              "IPY_MODEL_5e2a9b74b6df4895b798dff4ff139b22",
              "IPY_MODEL_707af0ecd3e5476b8be0c945cfae10fc",
              "IPY_MODEL_918969b5ca104a8eb7075c9941279cc0"
            ]
          }
        },
        "ee80d0ec3c8b443eba0c6aab00289ce0": {
          "model_module": "@jupyter-widgets/base",
          "model_name": "LayoutModel",
          "state": {
            "_view_name": "LayoutView",
            "grid_template_rows": null,
            "right": null,
            "justify_content": null,
            "_view_module": "@jupyter-widgets/base",
            "overflow": null,
            "_model_module_version": "1.2.0",
            "_view_count": null,
            "flex_flow": null,
            "width": null,
            "min_width": null,
            "border": null,
            "align_items": null,
            "bottom": null,
            "_model_module": "@jupyter-widgets/base",
            "top": null,
            "grid_column": null,
            "overflow_y": null,
            "overflow_x": null,
            "grid_auto_flow": null,
            "grid_area": null,
            "grid_template_columns": null,
            "flex": null,
            "_model_name": "LayoutModel",
            "justify_items": null,
            "grid_row": null,
            "max_height": null,
            "align_content": null,
            "visibility": null,
            "align_self": null,
            "height": null,
            "min_height": null,
            "padding": null,
            "grid_auto_rows": null,
            "grid_gap": null,
            "max_width": null,
            "order": null,
            "_view_module_version": "1.2.0",
            "grid_template_areas": null,
            "object_position": null,
            "object_fit": null,
            "grid_auto_columns": null,
            "margin": null,
            "display": null,
            "left": null
          }
        },
        "497acd64fbf945118c4b520d0987bb6e": {
          "model_module": "@jupyter-widgets/controls",
          "model_name": "VBoxModel",
          "state": {
            "_view_name": "VBoxView",
            "_dom_classes": [],
            "_model_name": "VBoxModel",
            "_view_module": "@jupyter-widgets/controls",
            "_model_module_version": "1.5.0",
            "_view_count": null,
            "_view_module_version": "1.5.0",
            "box_style": "",
            "layout": "IPY_MODEL_b929fc749d2f48a4a0dac5ce8ee2a768",
            "_model_module": "@jupyter-widgets/controls",
            "children": [
              "IPY_MODEL_1341e75102ac4913963b471f63f6c8a7",
              "IPY_MODEL_a12374a0b1f748e593d3df4a0af43cdc"
            ]
          }
        },
        "5e2a9b74b6df4895b798dff4ff139b22": {
          "model_module": "@jupyter-widgets/controls",
          "model_name": "ButtonModel",
          "state": {
            "_view_name": "ButtonView",
            "style": "IPY_MODEL_06b4023994c44a04b06cf9773953f098",
            "_dom_classes": [
              "login_button"
            ],
            "description": "Login with email",
            "_model_name": "ButtonModel",
            "button_style": "",
            "_view_module": "@jupyter-widgets/controls",
            "_model_module_version": "1.5.0",
            "tooltip": "",
            "_view_count": null,
            "disabled": false,
            "_view_module_version": "1.5.0",
            "layout": "IPY_MODEL_2c55766a96914336beb27dab7f93bc82",
            "_model_module": "@jupyter-widgets/controls",
            "icon": ""
          }
        },
        "707af0ecd3e5476b8be0c945cfae10fc": {
          "model_module": "@jupyter-widgets/controls",
          "model_name": "HTMLModel",
          "state": {
            "_view_name": "HTMLView",
            "style": "IPY_MODEL_1e2c62e4f5d542ecbe87640396c64231",
            "_dom_classes": [],
            "description": "",
            "_model_name": "HTMLModel",
            "placeholder": "​",
            "_view_module": "@jupyter-widgets/controls",
            "_model_module_version": "1.5.0",
            "value": "<center><big>or</big></center>",
            "_view_count": null,
            "_view_module_version": "1.5.0",
            "description_tooltip": null,
            "_model_module": "@jupyter-widgets/controls",
            "layout": "IPY_MODEL_ba8481dc3d49407582e4dadf4155b735"
          }
        },
        "918969b5ca104a8eb7075c9941279cc0": {
          "model_module": "@jupyter-widgets/controls",
          "model_name": "ButtonModel",
          "state": {
            "_view_name": "ButtonView",
            "style": "IPY_MODEL_423858ac4b50440ba6a755a5d30c13eb",
            "_dom_classes": [
              "google_button"
            ],
            "description": "Login with Google",
            "_model_name": "ButtonModel",
            "button_style": "",
            "_view_module": "@jupyter-widgets/controls",
            "_model_module_version": "1.5.0",
            "tooltip": "",
            "_view_count": null,
            "disabled": false,
            "_view_module_version": "1.5.0",
            "layout": "IPY_MODEL_3594705cc3c54fff8232abcc9a8c2a8e",
            "_model_module": "@jupyter-widgets/controls",
            "icon": ""
          }
        },
        "b929fc749d2f48a4a0dac5ce8ee2a768": {
          "model_module": "@jupyter-widgets/base",
          "model_name": "LayoutModel",
          "state": {
            "_view_name": "LayoutView",
            "grid_template_rows": null,
            "right": null,
            "justify_content": null,
            "_view_module": "@jupyter-widgets/base",
            "overflow": null,
            "_model_module_version": "1.2.0",
            "_view_count": null,
            "flex_flow": null,
            "width": null,
            "min_width": null,
            "border": null,
            "align_items": null,
            "bottom": null,
            "_model_module": "@jupyter-widgets/base",
            "top": null,
            "grid_column": null,
            "overflow_y": null,
            "overflow_x": null,
            "grid_auto_flow": null,
            "grid_area": null,
            "grid_template_columns": null,
            "flex": null,
            "_model_name": "LayoutModel",
            "justify_items": null,
            "grid_row": null,
            "max_height": null,
            "align_content": null,
            "visibility": null,
            "align_self": null,
            "height": null,
            "min_height": null,
            "padding": null,
            "grid_auto_rows": null,
            "grid_gap": null,
            "max_width": null,
            "order": null,
            "_view_module_version": "1.2.0",
            "grid_template_areas": null,
            "object_position": null,
            "object_fit": null,
            "grid_auto_columns": null,
            "margin": null,
            "display": null,
            "left": null
          }
        },
        "1341e75102ac4913963b471f63f6c8a7": {
          "model_module": "@jupyter-widgets/controls",
          "model_name": "TextModel",
          "state": {
            "_view_name": "TextView",
            "style": "IPY_MODEL_0a1ffffd842c44bbb5c97c7d1db8cd52",
            "_dom_classes": [],
            "description": "email",
            "_model_name": "TextModel",
            "placeholder": "​",
            "_view_module": "@jupyter-widgets/controls",
            "_model_module_version": "1.5.0",
            "value": "",
            "_view_count": null,
            "disabled": false,
            "_view_module_version": "1.5.0",
            "continuous_update": true,
            "description_tooltip": null,
            "_model_module": "@jupyter-widgets/controls",
            "layout": "IPY_MODEL_76b757a00f1641f7bdb5cbbfd85962ae"
          }
        },
        "a12374a0b1f748e593d3df4a0af43cdc": {
          "model_module": "@jupyter-widgets/controls",
          "model_name": "PasswordModel",
          "state": {
            "_view_name": "PasswordView",
            "style": "IPY_MODEL_2a4877a9346b42ffb69784f0f109ea14",
            "_dom_classes": [],
            "description": "password",
            "_model_name": "PasswordModel",
            "placeholder": "​",
            "_view_module": "@jupyter-widgets/controls",
            "_model_module_version": "1.5.0",
            "value": "",
            "_view_count": null,
            "disabled": false,
            "_view_module_version": "1.5.0",
            "continuous_update": true,
            "description_tooltip": null,
            "_model_module": "@jupyter-widgets/controls",
            "layout": "IPY_MODEL_4067b96d1e2b4c40b5427c02de7433e2"
          }
        },
        "06b4023994c44a04b06cf9773953f098": {
          "model_module": "@jupyter-widgets/controls",
          "model_name": "ButtonStyleModel",
          "state": {
            "_view_name": "StyleView",
            "_model_name": "ButtonStyleModel",
            "_view_module": "@jupyter-widgets/base",
            "_model_module_version": "1.5.0",
            "_view_count": null,
            "button_color": null,
            "font_weight": "",
            "_view_module_version": "1.2.0",
            "_model_module": "@jupyter-widgets/controls"
          }
        },
        "2c55766a96914336beb27dab7f93bc82": {
          "model_module": "@jupyter-widgets/base",
          "model_name": "LayoutModel",
          "state": {
            "_view_name": "LayoutView",
            "grid_template_rows": null,
            "right": null,
            "justify_content": null,
            "_view_module": "@jupyter-widgets/base",
            "overflow": null,
            "_model_module_version": "1.2.0",
            "_view_count": null,
            "flex_flow": null,
            "width": "150px",
            "min_width": null,
            "border": null,
            "align_items": null,
            "bottom": null,
            "_model_module": "@jupyter-widgets/base",
            "top": null,
            "grid_column": null,
            "overflow_y": null,
            "overflow_x": null,
            "grid_auto_flow": null,
            "grid_area": null,
            "grid_template_columns": null,
            "flex": null,
            "_model_name": "LayoutModel",
            "justify_items": null,
            "grid_row": null,
            "max_height": null,
            "align_content": null,
            "visibility": null,
            "align_self": null,
            "height": "53px",
            "min_height": null,
            "padding": null,
            "grid_auto_rows": null,
            "grid_gap": null,
            "max_width": null,
            "order": null,
            "_view_module_version": "1.2.0",
            "grid_template_areas": null,
            "object_position": null,
            "object_fit": null,
            "grid_auto_columns": null,
            "margin": null,
            "display": null,
            "left": null
          }
        },
        "1e2c62e4f5d542ecbe87640396c64231": {
          "model_module": "@jupyter-widgets/controls",
          "model_name": "DescriptionStyleModel",
          "state": {
            "_view_name": "StyleView",
            "_model_name": "DescriptionStyleModel",
            "description_width": "",
            "_view_module": "@jupyter-widgets/base",
            "_model_module_version": "1.5.0",
            "_view_count": null,
            "_view_module_version": "1.2.0",
            "_model_module": "@jupyter-widgets/controls"
          }
        },
        "ba8481dc3d49407582e4dadf4155b735": {
          "model_module": "@jupyter-widgets/base",
          "model_name": "LayoutModel",
          "state": {
            "_view_name": "LayoutView",
            "grid_template_rows": null,
            "right": null,
            "justify_content": null,
            "_view_module": "@jupyter-widgets/base",
            "overflow": null,
            "_model_module_version": "1.2.0",
            "_view_count": null,
            "flex_flow": null,
            "width": "100px",
            "min_width": null,
            "border": null,
            "align_items": null,
            "bottom": null,
            "_model_module": "@jupyter-widgets/base",
            "top": null,
            "grid_column": null,
            "overflow_y": null,
            "overflow_x": null,
            "grid_auto_flow": null,
            "grid_area": null,
            "grid_template_columns": null,
            "flex": null,
            "_model_name": "LayoutModel",
            "justify_items": null,
            "grid_row": null,
            "max_height": null,
            "align_content": null,
            "visibility": null,
            "align_self": null,
            "height": null,
            "min_height": null,
            "padding": null,
            "grid_auto_rows": null,
            "grid_gap": null,
            "max_width": null,
            "order": null,
            "_view_module_version": "1.2.0",
            "grid_template_areas": null,
            "object_position": null,
            "object_fit": null,
            "grid_auto_columns": null,
            "margin": null,
            "display": null,
            "left": null
          }
        },
        "423858ac4b50440ba6a755a5d30c13eb": {
          "model_module": "@jupyter-widgets/controls",
          "model_name": "ButtonStyleModel",
          "state": {
            "_view_name": "StyleView",
            "_model_name": "ButtonStyleModel",
            "_view_module": "@jupyter-widgets/base",
            "_model_module_version": "1.5.0",
            "_view_count": null,
            "button_color": null,
            "font_weight": "",
            "_view_module_version": "1.2.0",
            "_model_module": "@jupyter-widgets/controls"
          }
        },
        "3594705cc3c54fff8232abcc9a8c2a8e": {
          "model_module": "@jupyter-widgets/base",
          "model_name": "LayoutModel",
          "state": {
            "_view_name": "LayoutView",
            "grid_template_rows": null,
            "right": null,
            "justify_content": null,
            "_view_module": "@jupyter-widgets/base",
            "overflow": null,
            "_model_module_version": "1.2.0",
            "_view_count": null,
            "flex_flow": null,
            "width": "200px",
            "min_width": null,
            "border": null,
            "align_items": null,
            "bottom": null,
            "_model_module": "@jupyter-widgets/base",
            "top": null,
            "grid_column": null,
            "overflow_y": null,
            "overflow_x": null,
            "grid_auto_flow": null,
            "grid_area": null,
            "grid_template_columns": null,
            "flex": null,
            "_model_name": "LayoutModel",
            "justify_items": null,
            "grid_row": null,
            "max_height": null,
            "align_content": null,
            "visibility": null,
            "align_self": null,
            "height": "53px",
            "min_height": null,
            "padding": null,
            "grid_auto_rows": null,
            "grid_gap": null,
            "max_width": null,
            "order": null,
            "_view_module_version": "1.2.0",
            "grid_template_areas": null,
            "object_position": null,
            "object_fit": null,
            "grid_auto_columns": null,
            "margin": null,
            "display": null,
            "left": null
          }
        },
        "0a1ffffd842c44bbb5c97c7d1db8cd52": {
          "model_module": "@jupyter-widgets/controls",
          "model_name": "DescriptionStyleModel",
          "state": {
            "_view_name": "StyleView",
            "_model_name": "DescriptionStyleModel",
            "description_width": "",
            "_view_module": "@jupyter-widgets/base",
            "_model_module_version": "1.5.0",
            "_view_count": null,
            "_view_module_version": "1.2.0",
            "_model_module": "@jupyter-widgets/controls"
          }
        },
        "76b757a00f1641f7bdb5cbbfd85962ae": {
          "model_module": "@jupyter-widgets/base",
          "model_name": "LayoutModel",
          "state": {
            "_view_name": "LayoutView",
            "grid_template_rows": null,
            "right": null,
            "justify_content": null,
            "_view_module": "@jupyter-widgets/base",
            "overflow": null,
            "_model_module_version": "1.2.0",
            "_view_count": null,
            "flex_flow": null,
            "width": "300px",
            "min_width": null,
            "border": null,
            "align_items": null,
            "bottom": null,
            "_model_module": "@jupyter-widgets/base",
            "top": null,
            "grid_column": null,
            "overflow_y": null,
            "overflow_x": null,
            "grid_auto_flow": null,
            "grid_area": null,
            "grid_template_columns": null,
            "flex": null,
            "_model_name": "LayoutModel",
            "justify_items": null,
            "grid_row": null,
            "max_height": null,
            "align_content": null,
            "visibility": null,
            "align_self": null,
            "height": "25px",
            "min_height": null,
            "padding": null,
            "grid_auto_rows": null,
            "grid_gap": null,
            "max_width": null,
            "order": null,
            "_view_module_version": "1.2.0",
            "grid_template_areas": null,
            "object_position": null,
            "object_fit": null,
            "grid_auto_columns": null,
            "margin": null,
            "display": null,
            "left": null
          }
        },
        "2a4877a9346b42ffb69784f0f109ea14": {
          "model_module": "@jupyter-widgets/controls",
          "model_name": "DescriptionStyleModel",
          "state": {
            "_view_name": "StyleView",
            "_model_name": "DescriptionStyleModel",
            "description_width": "",
            "_view_module": "@jupyter-widgets/base",
            "_model_module_version": "1.5.0",
            "_view_count": null,
            "_view_module_version": "1.2.0",
            "_model_module": "@jupyter-widgets/controls"
          }
        },
        "4067b96d1e2b4c40b5427c02de7433e2": {
          "model_module": "@jupyter-widgets/base",
          "model_name": "LayoutModel",
          "state": {
            "_view_name": "LayoutView",
            "grid_template_rows": null,
            "right": null,
            "justify_content": null,
            "_view_module": "@jupyter-widgets/base",
            "overflow": null,
            "_model_module_version": "1.2.0",
            "_view_count": null,
            "flex_flow": null,
            "width": "300px",
            "min_width": null,
            "border": null,
            "align_items": null,
            "bottom": null,
            "_model_module": "@jupyter-widgets/base",
            "top": null,
            "grid_column": null,
            "overflow_y": null,
            "overflow_x": null,
            "grid_auto_flow": null,
            "grid_area": null,
            "grid_template_columns": null,
            "flex": null,
            "_model_name": "LayoutModel",
            "justify_items": null,
            "grid_row": null,
            "max_height": null,
            "align_content": null,
            "visibility": null,
            "align_self": null,
            "height": "24px",
            "min_height": null,
            "padding": null,
            "grid_auto_rows": null,
            "grid_gap": null,
            "max_width": null,
            "order": null,
            "_view_module_version": "1.2.0",
            "grid_template_areas": null,
            "object_position": null,
            "object_fit": null,
            "grid_auto_columns": null,
            "margin": null,
            "display": null,
            "left": null
          }
        }
      }
    }
  },
  "cells": [
    {
      "cell_type": "markdown",
      "metadata": {
        "id": "view-in-github",
        "colab_type": "text"
      },
      "source": [
        "<a href=\"https://colab.research.google.com/github/DavidUrbaez/AI_Course/blob/main/content/LAB%2003.01%20-%20MODEL%20GENERATION.ipynb\" target=\"_parent\"><img src=\"https://colab.research.google.com/assets/colab-badge.svg\" alt=\"Open In Colab\"/></a>"
      ]
    },
    {
      "cell_type": "markdown",
      "metadata": {
        "id": "4hL7mNInxi94"
      },
      "source": [
        "# LAB 03.01 - Model Generation"
      ]
    },
    {
      "cell_type": "code",
      "metadata": {
        "colab": {
          "base_uri": "https://localhost:8080/",
          "height": 52
        },
        "id": "5Z8FXHmkxi97",
        "outputId": "66a2361a-685b-45c6-854b-565449bc40f6"
      },
      "source": [
        "!wget --no-cache -O init.py -q https://raw.githubusercontent.com/rramosp/ai4eng.v1/main/content/init.py\n",
        "import init; init.init(force_download=False); init.get_weblink()\n",
        "init.endpoint"
      ],
      "execution_count": 1,
      "outputs": [
        {
          "output_type": "display_data",
          "data": {
            "text/html": [
              "\n",
              "<meta name=\"google-signin-client_id\"\n",
              "      content=\"461673936472-kdjosv61up3ac1ajeuq6qqu72upilmls.apps.googleusercontent.com\"/>\n",
              "<script src=\"https://apis.google.com/js/client:platform.js?onload=google_button_start\"></script>\n",
              "    "
            ],
            "text/plain": [
              "<IPython.core.display.HTML object>"
            ]
          },
          "metadata": {
            "tags": []
          }
        },
        {
          "output_type": "stream",
          "text": [
            "replicating local resources\n"
          ],
          "name": "stdout"
        },
        {
          "output_type": "execute_result",
          "data": {
            "application/vnd.google.colaboratory.intrinsic+json": {
              "type": "string"
            },
            "text/plain": [
              "'https://m5knaekxo6.execute-api.us-west-2.amazonaws.com/dev-v0001/rlxmooc'"
            ]
          },
          "metadata": {
            "tags": []
          },
          "execution_count": 1
        }
      ]
    },
    {
      "cell_type": "code",
      "metadata": {
        "colab": {
          "base_uri": "https://localhost:8080/",
          "height": 115,
          "referenced_widgets": [
            "7baa798ed13f4c6aa9974b4dd3c9d5ac",
            "ee80d0ec3c8b443eba0c6aab00289ce0",
            "497acd64fbf945118c4b520d0987bb6e",
            "5e2a9b74b6df4895b798dff4ff139b22",
            "707af0ecd3e5476b8be0c945cfae10fc",
            "918969b5ca104a8eb7075c9941279cc0",
            "b929fc749d2f48a4a0dac5ce8ee2a768",
            "1341e75102ac4913963b471f63f6c8a7",
            "a12374a0b1f748e593d3df4a0af43cdc",
            "06b4023994c44a04b06cf9773953f098",
            "2c55766a96914336beb27dab7f93bc82",
            "1e2c62e4f5d542ecbe87640396c64231",
            "ba8481dc3d49407582e4dadf4155b735",
            "423858ac4b50440ba6a755a5d30c13eb",
            "3594705cc3c54fff8232abcc9a8c2a8e",
            "0a1ffffd842c44bbb5c97c7d1db8cd52",
            "76b757a00f1641f7bdb5cbbfd85962ae",
            "2a4877a9346b42ffb69784f0f109ea14",
            "4067b96d1e2b4c40b5427c02de7433e2"
          ]
        },
        "id": "gyOIBpNvxi98",
        "outputId": "11ad27b0-c3f0-4cb2-e043-0335b9e0ae75"
      },
      "source": [
        "from local.lib.rlxmoocapi import submit, session\n",
        "session.LoginSequence(endpoint=init.endpoint, course_id=init.course_id, lab_id=\"L03.01\", varname=\"student\");"
      ],
      "execution_count": 2,
      "outputs": [
        {
          "output_type": "stream",
          "text": [
            "logging in as durbaezl@unal.edu.co... please wait\n",
            "using course session ai4eng.v1::open\n",
            "success!! you are logged in\n"
          ],
          "name": "stdout"
        }
      ]
    },
    {
      "cell_type": "code",
      "metadata": {
        "id": "353IJ-31xi98"
      },
      "source": [
        "import numpy as np\n",
        "import pandas as pd\n",
        "import matplotlib.pyplot as plt\n",
        "from sklearn.datasets import make_moons\n",
        "from local.lib import mlutils\n",
        "from IPython.display import Image\n",
        "%matplotlib inline"
      ],
      "execution_count": 3,
      "outputs": []
    },
    {
      "cell_type": "markdown",
      "metadata": {
        "id": "qn4QcF0ixi99"
      },
      "source": [
        "## A machine learning task\n",
        "\n",
        "We have two species of bugs (**X bugs** and **Z bugs**), for each bug we have measured its **width** and **length**. Once we have a bug, determining if is of  **species X** or **species Z** is very costly (lab analysis, etc.)\n",
        "\n",
        "**Machine learning goal**: We want to create a model so that, when given the width and length of a bug, will tell us whether it belongs to  **species X** or **species Z**. If the model performs well, we might use it insted of the lab analysis.\n",
        "\n",
        "**To train a machine learning model** we built a **training dataset** where we have **annotated** 20 bugs with their **confirmed** species. The training dataset has:\n",
        "\n",
        "- 20 data items\n",
        "- two data columns (**width** and **length**)\n",
        "- one label column, with two unique values: **0 for species X**, and **1 for species Z**.\n"
      ]
    },
    {
      "cell_type": "code",
      "metadata": {
        "colab": {
          "base_uri": "https://localhost:8080/",
          "height": 321
        },
        "id": "ly8Gw1Klxi99",
        "outputId": "502832b3-9948-44f2-9189-748dda52a678"
      },
      "source": [
        "\n",
        "d = pd.read_csv(\"local/data/trilotropicos_small.csv\")\n",
        "X,y = d.values[:,:2], d.values[:,-1]\n",
        "print (d.shape, X.shape, y.shape)\n",
        "print (X[:5])\n",
        "print (y[:5])\n",
        "d.head()\n"
      ],
      "execution_count": 4,
      "outputs": [
        {
          "output_type": "stream",
          "text": [
            "(20, 3) (20, 2) (20,)\n",
            "[[0.5  0.65]\n",
            " [0.75 0.34]\n",
            " [0.37 0.5 ]\n",
            " [0.57 0.74]\n",
            " [1.   0.69]]\n",
            "[0. 1. 1. 0. 1.]\n"
          ],
          "name": "stdout"
        },
        {
          "output_type": "execute_result",
          "data": {
            "text/html": [
              "<div>\n",
              "<style scoped>\n",
              "    .dataframe tbody tr th:only-of-type {\n",
              "        vertical-align: middle;\n",
              "    }\n",
              "\n",
              "    .dataframe tbody tr th {\n",
              "        vertical-align: top;\n",
              "    }\n",
              "\n",
              "    .dataframe thead th {\n",
              "        text-align: right;\n",
              "    }\n",
              "</style>\n",
              "<table border=\"1\" class=\"dataframe\">\n",
              "  <thead>\n",
              "    <tr style=\"text-align: right;\">\n",
              "      <th></th>\n",
              "      <th>width</th>\n",
              "      <th>height</th>\n",
              "      <th>y</th>\n",
              "    </tr>\n",
              "  </thead>\n",
              "  <tbody>\n",
              "    <tr>\n",
              "      <th>0</th>\n",
              "      <td>0.50</td>\n",
              "      <td>0.65</td>\n",
              "      <td>0.0</td>\n",
              "    </tr>\n",
              "    <tr>\n",
              "      <th>1</th>\n",
              "      <td>0.75</td>\n",
              "      <td>0.34</td>\n",
              "      <td>1.0</td>\n",
              "    </tr>\n",
              "    <tr>\n",
              "      <th>2</th>\n",
              "      <td>0.37</td>\n",
              "      <td>0.50</td>\n",
              "      <td>1.0</td>\n",
              "    </tr>\n",
              "    <tr>\n",
              "      <th>3</th>\n",
              "      <td>0.57</td>\n",
              "      <td>0.74</td>\n",
              "      <td>0.0</td>\n",
              "    </tr>\n",
              "    <tr>\n",
              "      <th>4</th>\n",
              "      <td>1.00</td>\n",
              "      <td>0.69</td>\n",
              "      <td>1.0</td>\n",
              "    </tr>\n",
              "  </tbody>\n",
              "</table>\n",
              "</div>"
            ],
            "text/plain": [
              "   width  height    y\n",
              "0   0.50    0.65  0.0\n",
              "1   0.75    0.34  1.0\n",
              "2   0.37    0.50  1.0\n",
              "3   0.57    0.74  0.0\n",
              "4   1.00    0.69  1.0"
            ]
          },
          "metadata": {
            "tags": []
          },
          "execution_count": 4
        }
      ]
    },
    {
      "cell_type": "markdown",
      "metadata": {
        "id": "J6WHHAINxi9-"
      },
      "source": [
        "Since it is just two columns, we can visualize it"
      ]
    },
    {
      "cell_type": "code",
      "metadata": {
        "colab": {
          "base_uri": "https://localhost:8080/",
          "height": 279
        },
        "id": "EfVeX7UIxi9-",
        "outputId": "91aa776f-3d41-4272-d43a-6a70b7f46586"
      },
      "source": [
        "\n",
        "plt.scatter(X[y==0][:,0], X[y==0][:,1], color=\"blue\", label=\"X bug\")\n",
        "plt.scatter(X[y==1][:,0], X[y==1][:,1], color=\"red\", label=\"Z bug\")\n",
        "plt.xlabel(\"width\");plt.ylabel(\"length\"); plt.legend(); plt.grid();\n"
      ],
      "execution_count": 5,
      "outputs": [
        {
          "output_type": "display_data",
          "data": {
            "image/png": "[encoded data removed]",
            "text/plain": [
              "<Figure size 432x288 with 1 Axes>"
            ]
          },
          "metadata": {
            "tags": [],
            "needs_background": "light"
          }
        }
      ]
    },
    {
      "cell_type": "markdown",
      "metadata": {
        "id": "hSGo_PiTxi9_"
      },
      "source": [
        "## Task 1. Manually use a predictive model\n",
        "\n",
        "We give you a procedure somewhat calibrated so that, given a new bug, it produces a prediction. The procedure depends on two parameters $\\theta_0$ and $\\theta_1$. Given the width $w^{(i)}$ and height $h^{(i)}$ of bug number $i$, the prediction $\\hat{y}^{(i)} \\in \\{0, 1\\}$ is computed as follows:\n",
        "\n",
        "$$\\hat{y}^{(i)} = 0\\text{ if }w^{(i)}<\\theta_0\\text{ AND }h^{(i)}>\\theta_1;\\;\\;\\;\\;\\;\\text{otherwise }\\hat{y}^{(i)}=1$$\n"
      ]
    },
    {
      "cell_type": "markdown",
      "metadata": {
        "id": "UyF2ZZ7_xi9_"
      },
      "source": [
        "This can be considered as a **model template**, depending on two parameters.\n",
        "\n",
        "\n",
        "Complete **the following function** so that whenever given a `numpy` array `X` $\\in \\mathbb{R}^m \\times \\mathbb{R}^2$ containing the width and height of $m$ bugs, returns a vector $\\in \\mathbb{R}^m$ with the predictions of the $m$ bugs as described in the expression above. The parameter `t` $\\in \\mathbb{R}^2$ contains, in this order, $\\theta_0$ and $\\theta_1$\n",
        "\n",
        "Observe that your function must return a `numpy` vector of **integers** (not booleans). \n",
        "\n",
        "**CHALLENGE**: solve it with one single line of code\n",
        "\n",
        "**HINT**: use `.astype(int)` to convert a `numpy` array of booleans to integers."
      ]
    },
    {
      "cell_type": "code",
      "metadata": {
        "colab": {
          "base_uri": "https://localhost:8080/"
        },
        "id": "CWQj3R5ixi-A",
        "outputId": "3c5b6b69-0fce-4406-8741-f8ba09938520"
      },
      "source": [
        "def predict(X, t):\n",
        "  # return np.array([ (1-((h<t[0]) and (w>t[1]))).astype(int)      for h,w in zip(X[:,0],X[:,1])]).astype(int)\n",
        "  return np.array(1 - ( X[:,0] < t[0] )*( X[:,1] > t[1] ).astype(int))\n",
        "t = np.r_[.5,.3]\n",
        "predict(X, t)"
      ],
      "execution_count": 120,
      "outputs": [
        {
          "output_type": "execute_result",
          "data": {
            "text/plain": [
              "array([1, 1, 0, 1, 1, 0, 0, 1, 1, 0, 0, 1, 0, 1, 0, 1, 1, 1, 0, 0])"
            ]
          },
          "metadata": {
            "tags": []
          },
          "execution_count": 120
        }
      ]
    },
    {
      "cell_type": "markdown",
      "metadata": {
        "id": "L-YPgkDoxi-A"
      },
      "source": [
        "check manually your code, your predictions with the following `t` must be \n",
        "\n",
        "       [1, 1, 0, 1, 1, 0, 0, 1, 1, 0, 0, 1, 0, 1, 0, 1, 1, 1, 0, 0]\n",
        "       \n",
        "with an accuracy of 0.75"
      ]
    },
    {
      "cell_type": "code",
      "metadata": {
        "colab": {
          "base_uri": "https://localhost:8080/"
        },
        "id": "iMtNBIjzxi-A",
        "outputId": "3858fb68-7e17-4649-d345-129b3d121e56"
      },
      "source": [
        "t = np.r_[.5,.3]\n",
        "y_hat = predict(X, t)\n",
        "y_hat"
      ],
      "execution_count": 66,
      "outputs": [
        {
          "output_type": "execute_result",
          "data": {
            "text/plain": [
              "array([1, 1, 0, 1, 1, 0, 0, 1, 1, 0, 0, 1, 0, 1, 0, 1, 1, 1, 0, 0])"
            ]
          },
          "metadata": {
            "tags": []
          },
          "execution_count": 66
        }
      ]
    },
    {
      "cell_type": "code",
      "metadata": {
        "colab": {
          "base_uri": "https://localhost:8080/"
        },
        "id": "W59FvfNbxi-A",
        "outputId": "4b3fb02e-adb8-4ff9-f35f-9fc124a0b88a"
      },
      "source": [
        "np.mean(y==y_hat)"
      ],
      "execution_count": 55,
      "outputs": [
        {
          "output_type": "execute_result",
          "data": {
            "text/plain": [
              "0.75"
            ]
          },
          "metadata": {
            "tags": []
          },
          "execution_count": 55
        }
      ]
    },
    {
      "cell_type": "markdown",
      "metadata": {
        "id": "L0jGUHXAxi-B"
      },
      "source": [
        "observe the classification boundary that the model generates"
      ]
    },
    {
      "cell_type": "code",
      "metadata": {
        "colab": {
          "base_uri": "https://localhost:8080/",
          "height": 269
        },
        "id": "mWIciPcMxi-B",
        "outputId": "5eb3dec8-7d83-44b1-b227-1c69411762e8"
      },
      "source": [
        "mlutils.plot_2Ddata_with_boundary(lambda X: predict(X,t), X, y); plt.grid();"
      ],
      "execution_count": 67,
      "outputs": [
        {
          "output_type": "display_data",
          "data": {
            "image/png": "[encoded data removed]",
            "text/plain": [
              "<Figure size 432x288 with 1 Axes>"
            ]
          },
          "metadata": {
            "tags": [],
            "needs_background": "light"
          }
        }
      ]
    },
    {
      "cell_type": "markdown",
      "metadata": {
        "id": "ge0ws2oWxi-B"
      },
      "source": [
        "and with other `t` ... which is better?"
      ]
    },
    {
      "cell_type": "code",
      "metadata": {
        "colab": {
          "base_uri": "https://localhost:8080/",
          "height": 286
        },
        "id": "SaLjIJo0xi-B",
        "outputId": "f9746ca2-33b2-46e4-d6f1-3b7f8d804c28"
      },
      "source": [
        "t = np.r_[.6,.3]\n",
        "mlutils.plot_2Ddata_with_boundary(lambda X: predict(X,t), X, y); plt.grid();\n",
        "np.mean(y==predict(X,t))"
      ],
      "execution_count": 72,
      "outputs": [
        {
          "output_type": "execute_result",
          "data": {
            "text/plain": [
              "0.9"
            ]
          },
          "metadata": {
            "tags": []
          },
          "execution_count": 72
        },
        {
          "output_type": "display_data",
          "data": {
            "image/png": "[encoded data removed]",
            "text/plain": [
              "<Figure size 432x288 with 1 Axes>"
            ]
          },
          "metadata": {
            "tags": [],
            "needs_background": "light"
          }
        }
      ]
    },
    {
      "cell_type": "markdown",
      "metadata": {
        "id": "a6xwyt3Hxi-B"
      },
      "source": [
        "observe the prediction boundaries of other models. Change the `max_depth` of the decision tree to 2. Does it look familiar?"
      ]
    },
    {
      "cell_type": "code",
      "metadata": {
        "colab": {
          "base_uri": "https://localhost:8080/",
          "height": 269
        },
        "id": "oE_0662fxi-B",
        "outputId": "8152a5ce-229a-495a-dcc1-dee8d32f0134"
      },
      "source": [
        "from sklearn.linear_model import LogisticRegression\n",
        "mlutils.plot_2Ddata_with_boundary(LogisticRegression().fit(X,y).predict, X, y); plt.grid();"
      ],
      "execution_count": 73,
      "outputs": [
        {
          "output_type": "display_data",
          "data": {
            "image/png": "[encoded data removed]",
            "text/plain": [
              "<Figure size 432x288 with 1 Axes>"
            ]
          },
          "metadata": {
            "tags": [],
            "needs_background": "light"
          }
        }
      ]
    },
    {
      "cell_type": "code",
      "metadata": {
        "colab": {
          "base_uri": "https://localhost:8080/",
          "height": 269
        },
        "id": "8aW6giyIxi-B",
        "outputId": "93ca447e-72db-4ff9-bad0-7399b0b47c4c"
      },
      "source": [
        "from sklearn.tree import DecisionTreeClassifier\n",
        "mlutils.plot_2Ddata_with_boundary(DecisionTreeClassifier(max_depth=5).fit(X,y).predict, X, y); plt.grid();"
      ],
      "execution_count": 79,
      "outputs": [
        {
          "output_type": "display_data",
          "data": {
            "image/png": "[encoded data removed]",
            "text/plain": [
              "<Figure size 432x288 with 1 Axes>"
            ]
          },
          "metadata": {
            "tags": [],
            "needs_background": "light"
          }
        }
      ]
    },
    {
      "cell_type": "code",
      "metadata": {
        "colab": {
          "base_uri": "https://localhost:8080/",
          "height": 269
        },
        "id": "h_-Z5a8wxi-C",
        "outputId": "b1f340c2-cd3f-498d-b60d-22cef06260d3"
      },
      "source": [
        "from sklearn.svm import SVC\n",
        "mlutils.plot_2Ddata_with_boundary(SVC(gamma=50).fit(X,y).predict, X, y); plt.grid();"
      ],
      "execution_count": 77,
      "outputs": [
        {
          "output_type": "display_data",
          "data": {
            "image/png": "[encoded data removed]",
            "text/plain": [
              "<Figure size 432x288 with 1 Axes>"
            ]
          },
          "metadata": {
            "tags": [],
            "needs_background": "light"
          }
        }
      ]
    },
    {
      "cell_type": "code",
      "metadata": {
        "id": "AetKWzahxi-C"
      },
      "source": [
        ""
      ],
      "execution_count": null,
      "outputs": []
    },
    {
      "cell_type": "markdown",
      "metadata": {
        "id": "mJKhHScRxi-C"
      },
      "source": [
        "**submit your answer**"
      ]
    },
    {
      "cell_type": "code",
      "metadata": {
        "colab": {
          "base_uri": "https://localhost:8080/",
          "height": 108
        },
        "id": "vog8jHH7xi-C",
        "outputId": "46a3eccd-4458-4c4b-f7ec-f18b2e7d4191"
      },
      "source": [
        "student.submit_task(globals(), task_id=\"task_01\");"
      ],
      "execution_count": 78,
      "outputs": [
        {
          "output_type": "display_data",
          "data": {
            "text/html": [
              "\n",
              "                    <b>task_01 submitted.</b> <b><font color=\"blue\">your grade is 5</font></b> \n",
              "                    <p/><pre>----- grader message -------</pre><b>correct</b><pre>----------------------------</pre>\n",
              "                    <p/><p/>\n",
              "                    <div style=\"font-size:10px\"><b>SUBMISSION CODE</b> v3NFlkxEWXi0/Kv/eNUt5SWf+YKtiWmpItT8ECgfOh4IUIbd6yGxVJyozyYgwtCz7q7kaDV7urGpsvyroDScKiTt3j4knVNWUbtqN26TZXnOakc/XM6EqZRWxyyQF+n17Wn6Jv3WAtfWVql0MhEe4g==</div>\n",
              "                    "
            ],
            "text/plain": [
              "<IPython.core.display.HTML object>"
            ]
          },
          "metadata": {
            "tags": []
          }
        }
      ]
    },
    {
      "cell_type": "markdown",
      "metadata": {
        "id": "WmpnbAvkxi-C"
      },
      "source": [
        "## Task 2. Fit the model\n",
        "\n",
        "Given a set of annotated data $X$, $y$ and the **model template** of the previous exercise, complete the following function that returns $\\theta_0$ and $\\theta_1$ that produce the **best accuracy** on the given `X` and `y`. Consider only $\\theta_0$ and $\\theta_1$ with **one decimal number between 0 and 1**.\n",
        "\n",
        "**Hint**: use a brute force approach, consider all combinations of $\\theta_0$ and $\\theta_1 \\in$ [0.0, 0.1, 0.2, 0.3, 0.4, 0.5, 0.6, 0.7, 0.8, 0.9, 1.0]. Use [`np.linspace`](https://numpy.org/doc/stable/reference/generated/numpy.linspace.html) and [`itertools.product`](https://docs.python.org/3/library/itertools.html#itertools.product)\n",
        "\n",
        "Your function must return an `numpy` array with two elements, the resulting $\\theta_0$ and $\\theta_1$"
      ]
    },
    {
      "cell_type": "code",
      "metadata": {
        "colab": {
          "base_uri": "https://localhost:8080/"
        },
        "id": "gg8HDUC8xi-D",
        "outputId": "de88de1c-fb11-400b-cfd9-ea79fa2dc748"
      },
      "source": [
        "import itertools\n",
        "\n",
        "\n",
        "def fit(X,y):\n",
        "    def predict(X, t):\n",
        "        return 1 - ( X[:,0] < t[0] )*( X[:,1] > t[1] ).astype(int)\n",
        "\n",
        "    best_ac=0\n",
        "    theta0=np.linspace(0,1,11)\n",
        "    theta1=np.linspace(0,1,11)\n",
        "    for t0, t1 in itertools.product(theta0,theta1):\n",
        "\n",
        "      ac = np.mean(y==predict(X,np.r_[t0,t1]))\n",
        "\n",
        "      if ac > best_ac:\n",
        "\n",
        "        best_ac = ac\n",
        "        t_final=np.array([t0,t1])\n",
        "\n",
        "        print(ac)\n",
        "\n",
        "    return  t_final\n",
        "fit(X,y)"
      ],
      "execution_count": 131,
      "outputs": [
        {
          "output_type": "stream",
          "text": [
            "0.5\n",
            "0.6\n",
            "0.7\n",
            "0.75\n",
            "0.85\n",
            "0.9\n"
          ],
          "name": "stdout"
        },
        {
          "output_type": "execute_result",
          "data": {
            "text/plain": [
              "array([0.6, 0.2])"
            ]
          },
          "metadata": {
            "tags": []
          },
          "execution_count": 131
        }
      ]
    },
    {
      "cell_type": "code",
      "metadata": {
        "colab": {
          "base_uri": "https://localhost:8080/"
        },
        "id": "QPMTRxy3xi-D",
        "outputId": "a8c5a2ec-6fdb-46a1-b0ed-81d92feaef71"
      },
      "source": [
        "t = fit(X,y)"
      ],
      "execution_count": 122,
      "outputs": [
        {
          "output_type": "stream",
          "text": [
            "0.5\n",
            "0.6\n",
            "0.7\n",
            "0.75\n",
            "0.85\n",
            "0.9\n"
          ],
          "name": "stdout"
        }
      ]
    },
    {
      "cell_type": "markdown",
      "metadata": {
        "id": "XhQOlbmuxi-D"
      },
      "source": [
        "Check your solution with the code below. The `t` returned by your function should produce an accuracy of 0.9 with the example data `X`, `y`. There might be several `t` producing the same accuracy, you just have to return any of those. "
      ]
    },
    {
      "cell_type": "code",
      "metadata": {
        "colab": {
          "base_uri": "https://localhost:8080/",
          "height": 286
        },
        "id": "R2LSMsBpxi-D",
        "outputId": "80250be7-8c46-4d01-cce6-57c8d48143b8"
      },
      "source": [
        "mlutils.plot_2Ddata_with_boundary(lambda X: predict(X,t), X, y); plt.grid();\n",
        "np.mean(y==predict(X,t))"
      ],
      "execution_count": 123,
      "outputs": [
        {
          "output_type": "execute_result",
          "data": {
            "text/plain": [
              "0.9"
            ]
          },
          "metadata": {
            "tags": []
          },
          "execution_count": 123
        },
        {
          "output_type": "display_data",
          "data": {
            "image/png": "[encoded data removed]",
            "text/plain": [
              "<Figure size 432x288 with 1 Axes>"
            ]
          },
          "metadata": {
            "tags": [],
            "needs_background": "light"
          }
        }
      ]
    },
    {
      "cell_type": "markdown",
      "metadata": {
        "id": "v3EhQ3vRxi-D"
      },
      "source": [
        "you can also use your model on different data. Execute the next cells several times to see the effect on different datasets."
      ]
    },
    {
      "cell_type": "code",
      "metadata": {
        "id": "jnllq7Chxi-E"
      },
      "source": [
        "from sklearn.datasets import make_blobs\n",
        "from sklearn.preprocessing import MinMaxScaler\n",
        "\n",
        "bX, by = make_blobs(100,n_features=2, centers=2)\n",
        "bX = MinMaxScaler(feature_range=(0.1,.9)).fit_transform(bX)"
      ],
      "execution_count": 127,
      "outputs": []
    },
    {
      "cell_type": "code",
      "metadata": {
        "colab": {
          "base_uri": "https://localhost:8080/"
        },
        "id": "6yohFa4bxi-E",
        "outputId": "e006a4f5-d5d1-44b2-d0ee-bb6f6b8e06df"
      },
      "source": [
        "bt = fit(bX, by)"
      ],
      "execution_count": 128,
      "outputs": [
        {
          "output_type": "stream",
          "text": [
            "0.5\n",
            "0.51\n",
            "0.54\n",
            "0.55\n",
            "0.58\n",
            "0.73\n",
            "0.76\n",
            "0.77\n",
            "0.92\n",
            "0.95\n",
            "0.98\n",
            "0.99\n"
          ],
          "name": "stdout"
        }
      ]
    },
    {
      "cell_type": "code",
      "metadata": {
        "colab": {
          "base_uri": "https://localhost:8080/",
          "height": 282
        },
        "id": "rZK6Bw3Mxi-E",
        "outputId": "833bd45d-26ca-42f1-b199-320264a87aa4"
      },
      "source": [
        "mlutils.plot_2Ddata_with_boundary(lambda X: predict(X,bt), bX, by); plt.grid();\n",
        "np.mean(by==predict(bX,bt))"
      ],
      "execution_count": 129,
      "outputs": [
        {
          "output_type": "execute_result",
          "data": {
            "text/plain": [
              "0.99"
            ]
          },
          "metadata": {
            "tags": []
          },
          "execution_count": 129
        },
        {
          "output_type": "display_data",
          "data": {
            "image/png": "[encoded data removed]",
            "text/plain": [
              "<Figure size 432x288 with 1 Axes>"
            ]
          },
          "metadata": {
            "tags": [],
            "needs_background": "light"
          }
        }
      ]
    },
    {
      "cell_type": "markdown",
      "metadata": {
        "id": "CT2lntbDxi-E"
      },
      "source": [
        "**submit your answer**"
      ]
    },
    {
      "cell_type": "code",
      "metadata": {
        "colab": {
          "base_uri": "https://localhost:8080/",
          "height": 108
        },
        "id": "cDO-oc__xi-E",
        "outputId": "b753ec56-30eb-47d7-9249-a0826261b7d1"
      },
      "source": [
        "student.submit_task(globals(), task_id=\"task_02\");"
      ],
      "execution_count": 132,
      "outputs": [
        {
          "output_type": "display_data",
          "data": {
            "text/html": [
              "\n",
              "                    <b>task_02 submitted.</b> <b><font color=\"blue\">your grade is 5</font></b> \n",
              "                    <p/><pre>----- grader message -------</pre><b>correct</b><pre>----------------------------</pre>\n",
              "                    <p/><p/>\n",
              "                    <div style=\"font-size:10px\"><b>SUBMISSION CODE</b> vCuHKBQWi8U/1lv7AIeAo/DVTzQDPX/v8dJIujhjrWa9v9Gl2+r2wVX3nN08Fkhu80t+6t2fzOtGsxjRuL1sVvcKx6fgYrc4nndvavoiFYW5z8KrvcphTTenxgSrb4C2sPRHQ38yOUdsjcfLEkHeZg==</div>\n",
              "                    "
            ],
            "text/plain": [
              "<IPython.core.display.HTML object>"
            ]
          },
          "metadata": {
            "tags": []
          }
        }
      ]
    },
    {
      "cell_type": "code",
      "metadata": {
        "id": "gkDZHpB-xi-E"
      },
      "source": [
        ""
      ],
      "execution_count": null,
      "outputs": []
    },
    {
      "cell_type": "markdown",
      "metadata": {
        "id": "OEp1mkgexi-E"
      },
      "source": [
        "## Task 3: Make an `sklearn` compatible class with your model\n",
        "\n",
        "organize the previous methods in the following class structure. Bear in mind that:\n",
        "\n",
        "- the `fit` method now does not return `t`, which is now stored in an instance variable `self.t`\n",
        "- the `fit` method must now return `self`.\n",
        "- the `predict` method now does not accept `t` as argument, it must use the one stored in `self.t`"
      ]
    },
    {
      "cell_type": "code",
      "metadata": {
        "colab": {
          "base_uri": "https://localhost:8080/"
        },
        "id": "errmUi8Hxi-F",
        "outputId": "26ea8144-90b7-4879-afd9-047d903cae90"
      },
      "source": [
        "def SimpleModel():\n",
        "    class _SimpleModel:\n",
        "\n",
        "        def __init__(self):\n",
        "            pass\n",
        "\n",
        "        def fit(self, X, y):        \n",
        "\n",
        "            best_ac=0\n",
        "            theta0=np.linspace(0,1,11)\n",
        "            theta1=np.linspace(0,1,11)\n",
        "\n",
        "            for t0, t1 in itertools.product(theta0,theta1):\n",
        "\n",
        "              self.t = np.array([t0,t1])\n",
        "\n",
        "              ac = np.mean(y==self.predict(X))\n",
        "\n",
        "              if ac > best_ac:\n",
        "\n",
        "                best_ac = ac\n",
        "                t_final=np.array([t0,t1])\n",
        "\n",
        "                # print(ac)\n",
        "            \n",
        "            self.t=t_final\n",
        "\n",
        "            return self\n",
        "\n",
        "        def predict(self, X):\n",
        "            t=self.t\n",
        "            return 1 - ( X[:,0] < t[0] )*( X[:,1] > t[1] ).astype(int)\n",
        "        \n",
        "    return _SimpleModel()\n",
        "\n",
        "m = SimpleModel()\n",
        "m.fit(X,y)\n",
        "m.predict(X)"
      ],
      "execution_count": 139,
      "outputs": [
        {
          "output_type": "execute_result",
          "data": {
            "text/plain": [
              "array([0, 1, 0, 0, 1, 0, 0, 0, 1, 0, 0, 1, 0, 1, 0, 1, 1, 1, 0, 0])"
            ]
          },
          "metadata": {
            "tags": []
          },
          "execution_count": 139
        }
      ]
    },
    {
      "cell_type": "code",
      "metadata": {
        "colab": {
          "base_uri": "https://localhost:8080/"
        },
        "id": "UcQfY5gQxi-F",
        "outputId": "f7180f1d-f557-4f21-859f-012a61575e9e"
      },
      "source": [
        "m = SimpleModel()\n",
        "m.fit(X,y)\n",
        "m.predict(X)"
      ],
      "execution_count": 140,
      "outputs": [
        {
          "output_type": "execute_result",
          "data": {
            "text/plain": [
              "array([0, 1, 0, 0, 1, 0, 0, 0, 1, 0, 0, 1, 0, 1, 0, 1, 1, 1, 0, 0])"
            ]
          },
          "metadata": {
            "tags": []
          },
          "execution_count": 140
        }
      ]
    },
    {
      "cell_type": "code",
      "metadata": {
        "colab": {
          "base_uri": "https://localhost:8080/",
          "height": 286
        },
        "id": "5B8DBk04xi-F",
        "outputId": "2fb92beb-d634-470a-aa42-190dd0b622f1"
      },
      "source": [
        "mlutils.plot_2Ddata_with_boundary(m.predict, X, y); plt.grid();\n",
        "np.mean(y==m.predict(X))"
      ],
      "execution_count": 141,
      "outputs": [
        {
          "output_type": "execute_result",
          "data": {
            "text/plain": [
              "0.9"
            ]
          },
          "metadata": {
            "tags": []
          },
          "execution_count": 141
        },
        {
          "output_type": "display_data",
          "data": {
            "image/png": "[encoded data removed]",
            "text/plain": [
              "<Figure size 432x288 with 1 Axes>"
            ]
          },
          "metadata": {
            "tags": [],
            "needs_background": "light"
          }
        }
      ]
    },
    {
      "cell_type": "markdown",
      "metadata": {
        "id": "nhDAE6ilxi-F"
      },
      "source": [
        "check your model with different parametrizations of the `moons` dataset (more and less data points, more and less noise)"
      ]
    },
    {
      "cell_type": "code",
      "metadata": {
        "colab": {
          "base_uri": "https://localhost:8080/",
          "height": 283
        },
        "id": "f4UrTomgxi-F",
        "outputId": "93017910-b970-4786-b8ed-e264da957298"
      },
      "source": [
        "from sklearn.datasets import make_moons\n",
        "\n",
        "mX, my = make_moons(100, noise=.1)\n",
        "m = SimpleModel()\n",
        "m.fit(mX,my)\n",
        "\n",
        "mlutils.plot_2Ddata_with_boundary(m.predict, mX, my); plt.grid();\n",
        "np.mean(my==m.predict(mX))"
      ],
      "execution_count": 142,
      "outputs": [
        {
          "output_type": "execute_result",
          "data": {
            "text/plain": [
              "0.87"
            ]
          },
          "metadata": {
            "tags": []
          },
          "execution_count": 142
        },
        {
          "output_type": "display_data",
          "data": {
            "image/png": "[encoded data removed]",
            "text/plain": [
              "<Figure size 432x288 with 1 Axes>"
            ]
          },
          "metadata": {
            "tags": [],
            "needs_background": "light"
          }
        }
      ]
    },
    {
      "cell_type": "markdown",
      "metadata": {
        "id": "Hibkh4Pjxi-F"
      },
      "source": [
        "**submit your answer**"
      ]
    },
    {
      "cell_type": "code",
      "metadata": {
        "colab": {
          "base_uri": "https://localhost:8080/",
          "height": 108
        },
        "id": "r2_AJv5Fxi-F",
        "outputId": "83a87b2a-02d8-411b-d595-302606c99f5e"
      },
      "source": [
        "student.submit_task(globals(), task_id=\"task_03\");"
      ],
      "execution_count": 143,
      "outputs": [
        {
          "output_type": "display_data",
          "data": {
            "text/html": [
              "\n",
              "                    <b>task_03 submitted.</b> <b><font color=\"blue\">your grade is 5</font></b> \n",
              "                    <p/><pre>----- grader message -------</pre><b>correct</b><pre>----------------------------</pre>\n",
              "                    <p/><p/>\n",
              "                    <div style=\"font-size:10px\"><b>SUBMISSION CODE</b> XPptdw0ufZcBU1QGINAAJ8P4oH4Tv0E+LUwJWLA2Pko68dnFapubVQJZkY+dhXl4zUlmZVefygI01oomIm/ZAKdqYa+nnuKlYgzZWoceEdRX/xKSCFDVnY5VIQpr9b1nCksTzzB9sz5MjKjnW1HmZg==</div>\n",
              "                    "
            ],
            "text/plain": [
              "<IPython.core.display.HTML object>"
            ]
          },
          "metadata": {
            "tags": []
          }
        }
      ]
    },
    {
      "cell_type": "code",
      "metadata": {
        "id": "VUvHPJeHxi-G"
      },
      "source": [
        ""
      ],
      "execution_count": null,
      "outputs": []
    }
  ]
}